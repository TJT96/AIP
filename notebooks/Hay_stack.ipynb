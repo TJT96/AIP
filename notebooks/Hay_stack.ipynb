{
  "nbformat": 4,
  "nbformat_minor": 0,
  "metadata": {
    "colab": {
      "name": "Haystack.ipynb",
      "provenance": [],
      "collapsed_sections": [],
      "authorship_tag": "ABX9TyPGh8IJ0+7xhS1ZnhJ+Zjar",
      "include_colab_link": true
    },
    "kernelspec": {
      "name": "python3",
      "display_name": "Python 3"
    },
    "widgets": {
      "application/vnd.jupyter.widget-state+json": {
        "7b1b9ba2ce33468a9f0f514a919175a9": {
          "model_module": "@jupyter-widgets/controls",
          "model_name": "HBoxModel",
          "state": {
            "_view_name": "HBoxView",
            "_dom_classes": [],
            "_model_name": "HBoxModel",
            "_view_module": "@jupyter-widgets/controls",
            "_model_module_version": "1.5.0",
            "_view_count": null,
            "_view_module_version": "1.5.0",
            "box_style": "",
            "layout": "IPY_MODEL_6e06e5291a764c08ae1c97aa3b5eef50",
            "_model_module": "@jupyter-widgets/controls",
            "children": [
              "IPY_MODEL_d5a3670e649f45979f16e4983e126b53",
              "IPY_MODEL_ce723f5353434543b469545c6f4b9f53"
            ]
          }
        },
        "6e06e5291a764c08ae1c97aa3b5eef50": {
          "model_module": "@jupyter-widgets/base",
          "model_name": "LayoutModel",
          "state": {
            "_view_name": "LayoutView",
            "grid_template_rows": null,
            "right": null,
            "justify_content": null,
            "_view_module": "@jupyter-widgets/base",
            "overflow": null,
            "_model_module_version": "1.2.0",
            "_view_count": null,
            "flex_flow": null,
            "width": null,
            "min_width": null,
            "border": null,
            "align_items": null,
            "bottom": null,
            "_model_module": "@jupyter-widgets/base",
            "top": null,
            "grid_column": null,
            "overflow_y": null,
            "overflow_x": null,
            "grid_auto_flow": null,
            "grid_area": null,
            "grid_template_columns": null,
            "flex": null,
            "_model_name": "LayoutModel",
            "justify_items": null,
            "grid_row": null,
            "max_height": null,
            "align_content": null,
            "visibility": null,
            "align_self": null,
            "height": null,
            "min_height": null,
            "padding": null,
            "grid_auto_rows": null,
            "grid_gap": null,
            "max_width": null,
            "order": null,
            "_view_module_version": "1.2.0",
            "grid_template_areas": null,
            "object_position": null,
            "object_fit": null,
            "grid_auto_columns": null,
            "margin": null,
            "display": null,
            "left": null
          }
        },
        "d5a3670e649f45979f16e4983e126b53": {
          "model_module": "@jupyter-widgets/controls",
          "model_name": "FloatProgressModel",
          "state": {
            "_view_name": "ProgressView",
            "style": "IPY_MODEL_1c93732fe760403ca3a43abc3af6777f",
            "_dom_classes": [],
            "description": "Downloading: 100%",
            "_model_name": "FloatProgressModel",
            "bar_style": "success",
            "max": 540,
            "_view_module": "@jupyter-widgets/controls",
            "_model_module_version": "1.5.0",
            "value": 540,
            "_view_count": null,
            "_view_module_version": "1.5.0",
            "orientation": "horizontal",
            "min": 0,
            "description_tooltip": null,
            "_model_module": "@jupyter-widgets/controls",
            "layout": "IPY_MODEL_d3174f0bf16546dba319fb44b4b8da62"
          }
        },
        "ce723f5353434543b469545c6f4b9f53": {
          "model_module": "@jupyter-widgets/controls",
          "model_name": "HTMLModel",
          "state": {
            "_view_name": "HTMLView",
            "style": "IPY_MODEL_e8bc7195cbca497fb90b0dc15a177741",
            "_dom_classes": [],
            "description": "",
            "_model_name": "HTMLModel",
            "placeholder": "​",
            "_view_module": "@jupyter-widgets/controls",
            "_model_module_version": "1.5.0",
            "value": " 540/540 [00:42&lt;00:00, 12.7B/s]",
            "_view_count": null,
            "_view_module_version": "1.5.0",
            "description_tooltip": null,
            "_model_module": "@jupyter-widgets/controls",
            "layout": "IPY_MODEL_99ced49a590b43cb8052f7b4d9fe89f4"
          }
        },
        "1c93732fe760403ca3a43abc3af6777f": {
          "model_module": "@jupyter-widgets/controls",
          "model_name": "ProgressStyleModel",
          "state": {
            "_view_name": "StyleView",
            "_model_name": "ProgressStyleModel",
            "description_width": "initial",
            "_view_module": "@jupyter-widgets/base",
            "_model_module_version": "1.5.0",
            "_view_count": null,
            "_view_module_version": "1.2.0",
            "bar_color": null,
            "_model_module": "@jupyter-widgets/controls"
          }
        },
        "d3174f0bf16546dba319fb44b4b8da62": {
          "model_module": "@jupyter-widgets/base",
          "model_name": "LayoutModel",
          "state": {
            "_view_name": "LayoutView",
            "grid_template_rows": null,
            "right": null,
            "justify_content": null,
            "_view_module": "@jupyter-widgets/base",
            "overflow": null,
            "_model_module_version": "1.2.0",
            "_view_count": null,
            "flex_flow": null,
            "width": null,
            "min_width": null,
            "border": null,
            "align_items": null,
            "bottom": null,
            "_model_module": "@jupyter-widgets/base",
            "top": null,
            "grid_column": null,
            "overflow_y": null,
            "overflow_x": null,
            "grid_auto_flow": null,
            "grid_area": null,
            "grid_template_columns": null,
            "flex": null,
            "_model_name": "LayoutModel",
            "justify_items": null,
            "grid_row": null,
            "max_height": null,
            "align_content": null,
            "visibility": null,
            "align_self": null,
            "height": null,
            "min_height": null,
            "padding": null,
            "grid_auto_rows": null,
            "grid_gap": null,
            "max_width": null,
            "order": null,
            "_view_module_version": "1.2.0",
            "grid_template_areas": null,
            "object_position": null,
            "object_fit": null,
            "grid_auto_columns": null,
            "margin": null,
            "display": null,
            "left": null
          }
        },
        "e8bc7195cbca497fb90b0dc15a177741": {
          "model_module": "@jupyter-widgets/controls",
          "model_name": "DescriptionStyleModel",
          "state": {
            "_view_name": "StyleView",
            "_model_name": "DescriptionStyleModel",
            "description_width": "",
            "_view_module": "@jupyter-widgets/base",
            "_model_module_version": "1.5.0",
            "_view_count": null,
            "_view_module_version": "1.2.0",
            "_model_module": "@jupyter-widgets/controls"
          }
        },
        "99ced49a590b43cb8052f7b4d9fe89f4": {
          "model_module": "@jupyter-widgets/base",
          "model_name": "LayoutModel",
          "state": {
            "_view_name": "LayoutView",
            "grid_template_rows": null,
            "right": null,
            "justify_content": null,
            "_view_module": "@jupyter-widgets/base",
            "overflow": null,
            "_model_module_version": "1.2.0",
            "_view_count": null,
            "flex_flow": null,
            "width": null,
            "min_width": null,
            "border": null,
            "align_items": null,
            "bottom": null,
            "_model_module": "@jupyter-widgets/base",
            "top": null,
            "grid_column": null,
            "overflow_y": null,
            "overflow_x": null,
            "grid_auto_flow": null,
            "grid_area": null,
            "grid_template_columns": null,
            "flex": null,
            "_model_name": "LayoutModel",
            "justify_items": null,
            "grid_row": null,
            "max_height": null,
            "align_content": null,
            "visibility": null,
            "align_self": null,
            "height": null,
            "min_height": null,
            "padding": null,
            "grid_auto_rows": null,
            "grid_gap": null,
            "max_width": null,
            "order": null,
            "_view_module_version": "1.2.0",
            "grid_template_areas": null,
            "object_position": null,
            "object_fit": null,
            "grid_auto_columns": null,
            "margin": null,
            "display": null,
            "left": null
          }
        },
        "ab8517e53c074e809c7d6bfd36ab312e": {
          "model_module": "@jupyter-widgets/controls",
          "model_name": "HBoxModel",
          "state": {
            "_view_name": "HBoxView",
            "_dom_classes": [],
            "_model_name": "HBoxModel",
            "_view_module": "@jupyter-widgets/controls",
            "_model_module_version": "1.5.0",
            "_view_count": null,
            "_view_module_version": "1.5.0",
            "box_style": "",
            "layout": "IPY_MODEL_0054b44057404bca9f85bc5f9fb6ad69",
            "_model_module": "@jupyter-widgets/controls",
            "children": [
              "IPY_MODEL_cd74bc9c5e2d4ed7b6cd01beb74d600f",
              "IPY_MODEL_09c659ad94874ef387011614a2bc7f82"
            ]
          }
        },
        "0054b44057404bca9f85bc5f9fb6ad69": {
          "model_module": "@jupyter-widgets/base",
          "model_name": "LayoutModel",
          "state": {
            "_view_name": "LayoutView",
            "grid_template_rows": null,
            "right": null,
            "justify_content": null,
            "_view_module": "@jupyter-widgets/base",
            "overflow": null,
            "_model_module_version": "1.2.0",
            "_view_count": null,
            "flex_flow": null,
            "width": null,
            "min_width": null,
            "border": null,
            "align_items": null,
            "bottom": null,
            "_model_module": "@jupyter-widgets/base",
            "top": null,
            "grid_column": null,
            "overflow_y": null,
            "overflow_x": null,
            "grid_auto_flow": null,
            "grid_area": null,
            "grid_template_columns": null,
            "flex": null,
            "_model_name": "LayoutModel",
            "justify_items": null,
            "grid_row": null,
            "max_height": null,
            "align_content": null,
            "visibility": null,
            "align_self": null,
            "height": null,
            "min_height": null,
            "padding": null,
            "grid_auto_rows": null,
            "grid_gap": null,
            "max_width": null,
            "order": null,
            "_view_module_version": "1.2.0",
            "grid_template_areas": null,
            "object_position": null,
            "object_fit": null,
            "grid_auto_columns": null,
            "margin": null,
            "display": null,
            "left": null
          }
        },
        "cd74bc9c5e2d4ed7b6cd01beb74d600f": {
          "model_module": "@jupyter-widgets/controls",
          "model_name": "FloatProgressModel",
          "state": {
            "_view_name": "ProgressView",
            "style": "IPY_MODEL_c4238803e5394364931b59e186301b4c",
            "_dom_classes": [],
            "description": "Downloading: 100%",
            "_model_name": "FloatProgressModel",
            "bar_style": "success",
            "max": 1340669807,
            "_view_module": "@jupyter-widgets/controls",
            "_model_module_version": "1.5.0",
            "value": 1340669807,
            "_view_count": null,
            "_view_module_version": "1.5.0",
            "orientation": "horizontal",
            "min": 0,
            "description_tooltip": null,
            "_model_module": "@jupyter-widgets/controls",
            "layout": "IPY_MODEL_83a5aaf29b2942248c354851215ade98"
          }
        },
        "09c659ad94874ef387011614a2bc7f82": {
          "model_module": "@jupyter-widgets/controls",
          "model_name": "HTMLModel",
          "state": {
            "_view_name": "HTMLView",
            "style": "IPY_MODEL_2799d5a6193549e9b6a2277e5d7aea73",
            "_dom_classes": [],
            "description": "",
            "_model_name": "HTMLModel",
            "placeholder": "​",
            "_view_module": "@jupyter-widgets/controls",
            "_model_module_version": "1.5.0",
            "value": " 1.34G/1.34G [00:35&lt;00:00, 37.9MB/s]",
            "_view_count": null,
            "_view_module_version": "1.5.0",
            "description_tooltip": null,
            "_model_module": "@jupyter-widgets/controls",
            "layout": "IPY_MODEL_3e148684a65d4d10a7702ca32ecfc842"
          }
        },
        "c4238803e5394364931b59e186301b4c": {
          "model_module": "@jupyter-widgets/controls",
          "model_name": "ProgressStyleModel",
          "state": {
            "_view_name": "StyleView",
            "_model_name": "ProgressStyleModel",
            "description_width": "initial",
            "_view_module": "@jupyter-widgets/base",
            "_model_module_version": "1.5.0",
            "_view_count": null,
            "_view_module_version": "1.2.0",
            "bar_color": null,
            "_model_module": "@jupyter-widgets/controls"
          }
        },
        "83a5aaf29b2942248c354851215ade98": {
          "model_module": "@jupyter-widgets/base",
          "model_name": "LayoutModel",
          "state": {
            "_view_name": "LayoutView",
            "grid_template_rows": null,
            "right": null,
            "justify_content": null,
            "_view_module": "@jupyter-widgets/base",
            "overflow": null,
            "_model_module_version": "1.2.0",
            "_view_count": null,
            "flex_flow": null,
            "width": null,
            "min_width": null,
            "border": null,
            "align_items": null,
            "bottom": null,
            "_model_module": "@jupyter-widgets/base",
            "top": null,
            "grid_column": null,
            "overflow_y": null,
            "overflow_x": null,
            "grid_auto_flow": null,
            "grid_area": null,
            "grid_template_columns": null,
            "flex": null,
            "_model_name": "LayoutModel",
            "justify_items": null,
            "grid_row": null,
            "max_height": null,
            "align_content": null,
            "visibility": null,
            "align_self": null,
            "height": null,
            "min_height": null,
            "padding": null,
            "grid_auto_rows": null,
            "grid_gap": null,
            "max_width": null,
            "order": null,
            "_view_module_version": "1.2.0",
            "grid_template_areas": null,
            "object_position": null,
            "object_fit": null,
            "grid_auto_columns": null,
            "margin": null,
            "display": null,
            "left": null
          }
        },
        "2799d5a6193549e9b6a2277e5d7aea73": {
          "model_module": "@jupyter-widgets/controls",
          "model_name": "DescriptionStyleModel",
          "state": {
            "_view_name": "StyleView",
            "_model_name": "DescriptionStyleModel",
            "description_width": "",
            "_view_module": "@jupyter-widgets/base",
            "_model_module_version": "1.5.0",
            "_view_count": null,
            "_view_module_version": "1.2.0",
            "_model_module": "@jupyter-widgets/controls"
          }
        },
        "3e148684a65d4d10a7702ca32ecfc842": {
          "model_module": "@jupyter-widgets/base",
          "model_name": "LayoutModel",
          "state": {
            "_view_name": "LayoutView",
            "grid_template_rows": null,
            "right": null,
            "justify_content": null,
            "_view_module": "@jupyter-widgets/base",
            "overflow": null,
            "_model_module_version": "1.2.0",
            "_view_count": null,
            "flex_flow": null,
            "width": null,
            "min_width": null,
            "border": null,
            "align_items": null,
            "bottom": null,
            "_model_module": "@jupyter-widgets/base",
            "top": null,
            "grid_column": null,
            "overflow_y": null,
            "overflow_x": null,
            "grid_auto_flow": null,
            "grid_area": null,
            "grid_template_columns": null,
            "flex": null,
            "_model_name": "LayoutModel",
            "justify_items": null,
            "grid_row": null,
            "max_height": null,
            "align_content": null,
            "visibility": null,
            "align_self": null,
            "height": null,
            "min_height": null,
            "padding": null,
            "grid_auto_rows": null,
            "grid_gap": null,
            "max_width": null,
            "order": null,
            "_view_module_version": "1.2.0",
            "grid_template_areas": null,
            "object_position": null,
            "object_fit": null,
            "grid_auto_columns": null,
            "margin": null,
            "display": null,
            "left": null
          }
        },
        "af2250406f864f28a9866104a52fa3e0": {
          "model_module": "@jupyter-widgets/controls",
          "model_name": "HBoxModel",
          "state": {
            "_view_name": "HBoxView",
            "_dom_classes": [],
            "_model_name": "HBoxModel",
            "_view_module": "@jupyter-widgets/controls",
            "_model_module_version": "1.5.0",
            "_view_count": null,
            "_view_module_version": "1.5.0",
            "box_style": "",
            "layout": "IPY_MODEL_512579279d3f4ddda311499dcc652d40",
            "_model_module": "@jupyter-widgets/controls",
            "children": [
              "IPY_MODEL_651f59b4bb744d48af974fa5e5b5cd67",
              "IPY_MODEL_4101bc1c71be4a6c8f04080c7a23d7b0"
            ]
          }
        },
        "512579279d3f4ddda311499dcc652d40": {
          "model_module": "@jupyter-widgets/base",
          "model_name": "LayoutModel",
          "state": {
            "_view_name": "LayoutView",
            "grid_template_rows": null,
            "right": null,
            "justify_content": null,
            "_view_module": "@jupyter-widgets/base",
            "overflow": null,
            "_model_module_version": "1.2.0",
            "_view_count": null,
            "flex_flow": null,
            "width": null,
            "min_width": null,
            "border": null,
            "align_items": null,
            "bottom": null,
            "_model_module": "@jupyter-widgets/base",
            "top": null,
            "grid_column": null,
            "overflow_y": null,
            "overflow_x": null,
            "grid_auto_flow": null,
            "grid_area": null,
            "grid_template_columns": null,
            "flex": null,
            "_model_name": "LayoutModel",
            "justify_items": null,
            "grid_row": null,
            "max_height": null,
            "align_content": null,
            "visibility": null,
            "align_self": null,
            "height": null,
            "min_height": null,
            "padding": null,
            "grid_auto_rows": null,
            "grid_gap": null,
            "max_width": null,
            "order": null,
            "_view_module_version": "1.2.0",
            "grid_template_areas": null,
            "object_position": null,
            "object_fit": null,
            "grid_auto_columns": null,
            "margin": null,
            "display": null,
            "left": null
          }
        },
        "651f59b4bb744d48af974fa5e5b5cd67": {
          "model_module": "@jupyter-widgets/controls",
          "model_name": "FloatProgressModel",
          "state": {
            "_view_name": "ProgressView",
            "style": "IPY_MODEL_70d6d34e78bf44aa9e97ade2cfaaa79c",
            "_dom_classes": [],
            "description": "Downloading: 100%",
            "_model_name": "FloatProgressModel",
            "bar_style": "success",
            "max": 231508,
            "_view_module": "@jupyter-widgets/controls",
            "_model_module_version": "1.5.0",
            "value": 231508,
            "_view_count": null,
            "_view_module_version": "1.5.0",
            "orientation": "horizontal",
            "min": 0,
            "description_tooltip": null,
            "_model_module": "@jupyter-widgets/controls",
            "layout": "IPY_MODEL_4991fb71e52b43ffa8696d66b479d820"
          }
        },
        "4101bc1c71be4a6c8f04080c7a23d7b0": {
          "model_module": "@jupyter-widgets/controls",
          "model_name": "HTMLModel",
          "state": {
            "_view_name": "HTMLView",
            "style": "IPY_MODEL_bc5428db5e404c84b1fc31ba76eb5dcf",
            "_dom_classes": [],
            "description": "",
            "_model_name": "HTMLModel",
            "placeholder": "​",
            "_view_module": "@jupyter-widgets/controls",
            "_model_module_version": "1.5.0",
            "value": " 232k/232k [00:00&lt;00:00, 292kB/s]",
            "_view_count": null,
            "_view_module_version": "1.5.0",
            "description_tooltip": null,
            "_model_module": "@jupyter-widgets/controls",
            "layout": "IPY_MODEL_3d67971bf919481daf6c7e8654b385ad"
          }
        },
        "70d6d34e78bf44aa9e97ade2cfaaa79c": {
          "model_module": "@jupyter-widgets/controls",
          "model_name": "ProgressStyleModel",
          "state": {
            "_view_name": "StyleView",
            "_model_name": "ProgressStyleModel",
            "description_width": "initial",
            "_view_module": "@jupyter-widgets/base",
            "_model_module_version": "1.5.0",
            "_view_count": null,
            "_view_module_version": "1.2.0",
            "bar_color": null,
            "_model_module": "@jupyter-widgets/controls"
          }
        },
        "4991fb71e52b43ffa8696d66b479d820": {
          "model_module": "@jupyter-widgets/base",
          "model_name": "LayoutModel",
          "state": {
            "_view_name": "LayoutView",
            "grid_template_rows": null,
            "right": null,
            "justify_content": null,
            "_view_module": "@jupyter-widgets/base",
            "overflow": null,
            "_model_module_version": "1.2.0",
            "_view_count": null,
            "flex_flow": null,
            "width": null,
            "min_width": null,
            "border": null,
            "align_items": null,
            "bottom": null,
            "_model_module": "@jupyter-widgets/base",
            "top": null,
            "grid_column": null,
            "overflow_y": null,
            "overflow_x": null,
            "grid_auto_flow": null,
            "grid_area": null,
            "grid_template_columns": null,
            "flex": null,
            "_model_name": "LayoutModel",
            "justify_items": null,
            "grid_row": null,
            "max_height": null,
            "align_content": null,
            "visibility": null,
            "align_self": null,
            "height": null,
            "min_height": null,
            "padding": null,
            "grid_auto_rows": null,
            "grid_gap": null,
            "max_width": null,
            "order": null,
            "_view_module_version": "1.2.0",
            "grid_template_areas": null,
            "object_position": null,
            "object_fit": null,
            "grid_auto_columns": null,
            "margin": null,
            "display": null,
            "left": null
          }
        },
        "bc5428db5e404c84b1fc31ba76eb5dcf": {
          "model_module": "@jupyter-widgets/controls",
          "model_name": "DescriptionStyleModel",
          "state": {
            "_view_name": "StyleView",
            "_model_name": "DescriptionStyleModel",
            "description_width": "",
            "_view_module": "@jupyter-widgets/base",
            "_model_module_version": "1.5.0",
            "_view_count": null,
            "_view_module_version": "1.2.0",
            "_model_module": "@jupyter-widgets/controls"
          }
        },
        "3d67971bf919481daf6c7e8654b385ad": {
          "model_module": "@jupyter-widgets/base",
          "model_name": "LayoutModel",
          "state": {
            "_view_name": "LayoutView",
            "grid_template_rows": null,
            "right": null,
            "justify_content": null,
            "_view_module": "@jupyter-widgets/base",
            "overflow": null,
            "_model_module_version": "1.2.0",
            "_view_count": null,
            "flex_flow": null,
            "width": null,
            "min_width": null,
            "border": null,
            "align_items": null,
            "bottom": null,
            "_model_module": "@jupyter-widgets/base",
            "top": null,
            "grid_column": null,
            "overflow_y": null,
            "overflow_x": null,
            "grid_auto_flow": null,
            "grid_area": null,
            "grid_template_columns": null,
            "flex": null,
            "_model_name": "LayoutModel",
            "justify_items": null,
            "grid_row": null,
            "max_height": null,
            "align_content": null,
            "visibility": null,
            "align_self": null,
            "height": null,
            "min_height": null,
            "padding": null,
            "grid_auto_rows": null,
            "grid_gap": null,
            "max_width": null,
            "order": null,
            "_view_module_version": "1.2.0",
            "grid_template_areas": null,
            "object_position": null,
            "object_fit": null,
            "grid_auto_columns": null,
            "margin": null,
            "display": null,
            "left": null
          }
        },
        "245d61a09523414f9cc5e34807b80a19": {
          "model_module": "@jupyter-widgets/controls",
          "model_name": "HBoxModel",
          "state": {
            "_view_name": "HBoxView",
            "_dom_classes": [],
            "_model_name": "HBoxModel",
            "_view_module": "@jupyter-widgets/controls",
            "_model_module_version": "1.5.0",
            "_view_count": null,
            "_view_module_version": "1.5.0",
            "box_style": "",
            "layout": "IPY_MODEL_f6f83945b4e34982b121c4d0daf5fb3f",
            "_model_module": "@jupyter-widgets/controls",
            "children": [
              "IPY_MODEL_c3660b7c1e92487aa5042edb27a4ac02",
              "IPY_MODEL_80449910de0b47489b30cdddce194e4c"
            ]
          }
        },
        "f6f83945b4e34982b121c4d0daf5fb3f": {
          "model_module": "@jupyter-widgets/base",
          "model_name": "LayoutModel",
          "state": {
            "_view_name": "LayoutView",
            "grid_template_rows": null,
            "right": null,
            "justify_content": null,
            "_view_module": "@jupyter-widgets/base",
            "overflow": null,
            "_model_module_version": "1.2.0",
            "_view_count": null,
            "flex_flow": null,
            "width": null,
            "min_width": null,
            "border": null,
            "align_items": null,
            "bottom": null,
            "_model_module": "@jupyter-widgets/base",
            "top": null,
            "grid_column": null,
            "overflow_y": null,
            "overflow_x": null,
            "grid_auto_flow": null,
            "grid_area": null,
            "grid_template_columns": null,
            "flex": null,
            "_model_name": "LayoutModel",
            "justify_items": null,
            "grid_row": null,
            "max_height": null,
            "align_content": null,
            "visibility": null,
            "align_self": null,
            "height": null,
            "min_height": null,
            "padding": null,
            "grid_auto_rows": null,
            "grid_gap": null,
            "max_width": null,
            "order": null,
            "_view_module_version": "1.2.0",
            "grid_template_areas": null,
            "object_position": null,
            "object_fit": null,
            "grid_auto_columns": null,
            "margin": null,
            "display": null,
            "left": null
          }
        },
        "c3660b7c1e92487aa5042edb27a4ac02": {
          "model_module": "@jupyter-widgets/controls",
          "model_name": "FloatProgressModel",
          "state": {
            "_view_name": "ProgressView",
            "style": "IPY_MODEL_93ba688bc2cb4cbb8b133f8a27120968",
            "_dom_classes": [],
            "description": "Downloading: 100%",
            "_model_name": "FloatProgressModel",
            "bar_style": "success",
            "max": 2,
            "_view_module": "@jupyter-widgets/controls",
            "_model_module_version": "1.5.0",
            "value": 2,
            "_view_count": null,
            "_view_module_version": "1.5.0",
            "orientation": "horizontal",
            "min": 0,
            "description_tooltip": null,
            "_model_module": "@jupyter-widgets/controls",
            "layout": "IPY_MODEL_be982f1fccab44a3b18cdb5f7d937ea5"
          }
        },
        "80449910de0b47489b30cdddce194e4c": {
          "model_module": "@jupyter-widgets/controls",
          "model_name": "HTMLModel",
          "state": {
            "_view_name": "HTMLView",
            "style": "IPY_MODEL_e1654463c94d4671a18446095cac3174",
            "_dom_classes": [],
            "description": "",
            "_model_name": "HTMLModel",
            "placeholder": "​",
            "_view_module": "@jupyter-widgets/controls",
            "_model_module_version": "1.5.0",
            "value": " 2.00/2.00 [00:00&lt;00:00, 5.47B/s]",
            "_view_count": null,
            "_view_module_version": "1.5.0",
            "description_tooltip": null,
            "_model_module": "@jupyter-widgets/controls",
            "layout": "IPY_MODEL_85133b7e7e2d41948268fb2c1c2912c8"
          }
        },
        "93ba688bc2cb4cbb8b133f8a27120968": {
          "model_module": "@jupyter-widgets/controls",
          "model_name": "ProgressStyleModel",
          "state": {
            "_view_name": "StyleView",
            "_model_name": "ProgressStyleModel",
            "description_width": "initial",
            "_view_module": "@jupyter-widgets/base",
            "_model_module_version": "1.5.0",
            "_view_count": null,
            "_view_module_version": "1.2.0",
            "bar_color": null,
            "_model_module": "@jupyter-widgets/controls"
          }
        },
        "be982f1fccab44a3b18cdb5f7d937ea5": {
          "model_module": "@jupyter-widgets/base",
          "model_name": "LayoutModel",
          "state": {
            "_view_name": "LayoutView",
            "grid_template_rows": null,
            "right": null,
            "justify_content": null,
            "_view_module": "@jupyter-widgets/base",
            "overflow": null,
            "_model_module_version": "1.2.0",
            "_view_count": null,
            "flex_flow": null,
            "width": null,
            "min_width": null,
            "border": null,
            "align_items": null,
            "bottom": null,
            "_model_module": "@jupyter-widgets/base",
            "top": null,
            "grid_column": null,
            "overflow_y": null,
            "overflow_x": null,
            "grid_auto_flow": null,
            "grid_area": null,
            "grid_template_columns": null,
            "flex": null,
            "_model_name": "LayoutModel",
            "justify_items": null,
            "grid_row": null,
            "max_height": null,
            "align_content": null,
            "visibility": null,
            "align_self": null,
            "height": null,
            "min_height": null,
            "padding": null,
            "grid_auto_rows": null,
            "grid_gap": null,
            "max_width": null,
            "order": null,
            "_view_module_version": "1.2.0",
            "grid_template_areas": null,
            "object_position": null,
            "object_fit": null,
            "grid_auto_columns": null,
            "margin": null,
            "display": null,
            "left": null
          }
        },
        "e1654463c94d4671a18446095cac3174": {
          "model_module": "@jupyter-widgets/controls",
          "model_name": "DescriptionStyleModel",
          "state": {
            "_view_name": "StyleView",
            "_model_name": "DescriptionStyleModel",
            "description_width": "",
            "_view_module": "@jupyter-widgets/base",
            "_model_module_version": "1.5.0",
            "_view_count": null,
            "_view_module_version": "1.2.0",
            "_model_module": "@jupyter-widgets/controls"
          }
        },
        "85133b7e7e2d41948268fb2c1c2912c8": {
          "model_module": "@jupyter-widgets/base",
          "model_name": "LayoutModel",
          "state": {
            "_view_name": "LayoutView",
            "grid_template_rows": null,
            "right": null,
            "justify_content": null,
            "_view_module": "@jupyter-widgets/base",
            "overflow": null,
            "_model_module_version": "1.2.0",
            "_view_count": null,
            "flex_flow": null,
            "width": null,
            "min_width": null,
            "border": null,
            "align_items": null,
            "bottom": null,
            "_model_module": "@jupyter-widgets/base",
            "top": null,
            "grid_column": null,
            "overflow_y": null,
            "overflow_x": null,
            "grid_auto_flow": null,
            "grid_area": null,
            "grid_template_columns": null,
            "flex": null,
            "_model_name": "LayoutModel",
            "justify_items": null,
            "grid_row": null,
            "max_height": null,
            "align_content": null,
            "visibility": null,
            "align_self": null,
            "height": null,
            "min_height": null,
            "padding": null,
            "grid_auto_rows": null,
            "grid_gap": null,
            "max_width": null,
            "order": null,
            "_view_module_version": "1.2.0",
            "grid_template_areas": null,
            "object_position": null,
            "object_fit": null,
            "grid_auto_columns": null,
            "margin": null,
            "display": null,
            "left": null
          }
        },
        "9c74c96867d1450cb432ac6673f900e1": {
          "model_module": "@jupyter-widgets/controls",
          "model_name": "HBoxModel",
          "state": {
            "_view_name": "HBoxView",
            "_dom_classes": [],
            "_model_name": "HBoxModel",
            "_view_module": "@jupyter-widgets/controls",
            "_model_module_version": "1.5.0",
            "_view_count": null,
            "_view_module_version": "1.5.0",
            "box_style": "",
            "layout": "IPY_MODEL_af0618faa47a40d0a15eaae049608c72",
            "_model_module": "@jupyter-widgets/controls",
            "children": [
              "IPY_MODEL_b29ce6f900044c17a5c5d25485d14ffa",
              "IPY_MODEL_a7e6f6d4b58e4c4781865ebca76e2dac"
            ]
          }
        },
        "af0618faa47a40d0a15eaae049608c72": {
          "model_module": "@jupyter-widgets/base",
          "model_name": "LayoutModel",
          "state": {
            "_view_name": "LayoutView",
            "grid_template_rows": null,
            "right": null,
            "justify_content": null,
            "_view_module": "@jupyter-widgets/base",
            "overflow": null,
            "_model_module_version": "1.2.0",
            "_view_count": null,
            "flex_flow": null,
            "width": null,
            "min_width": null,
            "border": null,
            "align_items": null,
            "bottom": null,
            "_model_module": "@jupyter-widgets/base",
            "top": null,
            "grid_column": null,
            "overflow_y": null,
            "overflow_x": null,
            "grid_auto_flow": null,
            "grid_area": null,
            "grid_template_columns": null,
            "flex": null,
            "_model_name": "LayoutModel",
            "justify_items": null,
            "grid_row": null,
            "max_height": null,
            "align_content": null,
            "visibility": null,
            "align_self": null,
            "height": null,
            "min_height": null,
            "padding": null,
            "grid_auto_rows": null,
            "grid_gap": null,
            "max_width": null,
            "order": null,
            "_view_module_version": "1.2.0",
            "grid_template_areas": null,
            "object_position": null,
            "object_fit": null,
            "grid_auto_columns": null,
            "margin": null,
            "display": null,
            "left": null
          }
        },
        "b29ce6f900044c17a5c5d25485d14ffa": {
          "model_module": "@jupyter-widgets/controls",
          "model_name": "FloatProgressModel",
          "state": {
            "_view_name": "ProgressView",
            "style": "IPY_MODEL_0f163af2002e4015bc307f952e239b3e",
            "_dom_classes": [],
            "description": "Downloading: 100%",
            "_model_name": "FloatProgressModel",
            "bar_style": "success",
            "max": 112,
            "_view_module": "@jupyter-widgets/controls",
            "_model_module_version": "1.5.0",
            "value": 112,
            "_view_count": null,
            "_view_module_version": "1.5.0",
            "orientation": "horizontal",
            "min": 0,
            "description_tooltip": null,
            "_model_module": "@jupyter-widgets/controls",
            "layout": "IPY_MODEL_f9184938711f4f87be8902b635261013"
          }
        },
        "a7e6f6d4b58e4c4781865ebca76e2dac": {
          "model_module": "@jupyter-widgets/controls",
          "model_name": "HTMLModel",
          "state": {
            "_view_name": "HTMLView",
            "style": "IPY_MODEL_d4004c224b614724afde1f350b677fed",
            "_dom_classes": [],
            "description": "",
            "_model_name": "HTMLModel",
            "placeholder": "​",
            "_view_module": "@jupyter-widgets/controls",
            "_model_module_version": "1.5.0",
            "value": " 112/112 [00:00&lt;00:00, 197B/s]",
            "_view_count": null,
            "_view_module_version": "1.5.0",
            "description_tooltip": null,
            "_model_module": "@jupyter-widgets/controls",
            "layout": "IPY_MODEL_6a73cf113c4246c581c0bb3f92d57b14"
          }
        },
        "0f163af2002e4015bc307f952e239b3e": {
          "model_module": "@jupyter-widgets/controls",
          "model_name": "ProgressStyleModel",
          "state": {
            "_view_name": "StyleView",
            "_model_name": "ProgressStyleModel",
            "description_width": "initial",
            "_view_module": "@jupyter-widgets/base",
            "_model_module_version": "1.5.0",
            "_view_count": null,
            "_view_module_version": "1.2.0",
            "bar_color": null,
            "_model_module": "@jupyter-widgets/controls"
          }
        },
        "f9184938711f4f87be8902b635261013": {
          "model_module": "@jupyter-widgets/base",
          "model_name": "LayoutModel",
          "state": {
            "_view_name": "LayoutView",
            "grid_template_rows": null,
            "right": null,
            "justify_content": null,
            "_view_module": "@jupyter-widgets/base",
            "overflow": null,
            "_model_module_version": "1.2.0",
            "_view_count": null,
            "flex_flow": null,
            "width": null,
            "min_width": null,
            "border": null,
            "align_items": null,
            "bottom": null,
            "_model_module": "@jupyter-widgets/base",
            "top": null,
            "grid_column": null,
            "overflow_y": null,
            "overflow_x": null,
            "grid_auto_flow": null,
            "grid_area": null,
            "grid_template_columns": null,
            "flex": null,
            "_model_name": "LayoutModel",
            "justify_items": null,
            "grid_row": null,
            "max_height": null,
            "align_content": null,
            "visibility": null,
            "align_self": null,
            "height": null,
            "min_height": null,
            "padding": null,
            "grid_auto_rows": null,
            "grid_gap": null,
            "max_width": null,
            "order": null,
            "_view_module_version": "1.2.0",
            "grid_template_areas": null,
            "object_position": null,
            "object_fit": null,
            "grid_auto_columns": null,
            "margin": null,
            "display": null,
            "left": null
          }
        },
        "d4004c224b614724afde1f350b677fed": {
          "model_module": "@jupyter-widgets/controls",
          "model_name": "DescriptionStyleModel",
          "state": {
            "_view_name": "StyleView",
            "_model_name": "DescriptionStyleModel",
            "description_width": "",
            "_view_module": "@jupyter-widgets/base",
            "_model_module_version": "1.5.0",
            "_view_count": null,
            "_view_module_version": "1.2.0",
            "_model_module": "@jupyter-widgets/controls"
          }
        },
        "6a73cf113c4246c581c0bb3f92d57b14": {
          "model_module": "@jupyter-widgets/base",
          "model_name": "LayoutModel",
          "state": {
            "_view_name": "LayoutView",
            "grid_template_rows": null,
            "right": null,
            "justify_content": null,
            "_view_module": "@jupyter-widgets/base",
            "overflow": null,
            "_model_module_version": "1.2.0",
            "_view_count": null,
            "flex_flow": null,
            "width": null,
            "min_width": null,
            "border": null,
            "align_items": null,
            "bottom": null,
            "_model_module": "@jupyter-widgets/base",
            "top": null,
            "grid_column": null,
            "overflow_y": null,
            "overflow_x": null,
            "grid_auto_flow": null,
            "grid_area": null,
            "grid_template_columns": null,
            "flex": null,
            "_model_name": "LayoutModel",
            "justify_items": null,
            "grid_row": null,
            "max_height": null,
            "align_content": null,
            "visibility": null,
            "align_self": null,
            "height": null,
            "min_height": null,
            "padding": null,
            "grid_auto_rows": null,
            "grid_gap": null,
            "max_width": null,
            "order": null,
            "_view_module_version": "1.2.0",
            "grid_template_areas": null,
            "object_position": null,
            "object_fit": null,
            "grid_auto_columns": null,
            "margin": null,
            "display": null,
            "left": null
          }
        },
        "dc077f1d8a0a4c28a646305e6119663a": {
          "model_module": "@jupyter-widgets/controls",
          "model_name": "HBoxModel",
          "state": {
            "_view_name": "HBoxView",
            "_dom_classes": [],
            "_model_name": "HBoxModel",
            "_view_module": "@jupyter-widgets/controls",
            "_model_module_version": "1.5.0",
            "_view_count": null,
            "_view_module_version": "1.5.0",
            "box_style": "",
            "layout": "IPY_MODEL_08fe721cfe08421aa667c567813f2064",
            "_model_module": "@jupyter-widgets/controls",
            "children": [
              "IPY_MODEL_bde5847025c942fbbd882a104b75696a",
              "IPY_MODEL_7d7f125fc13943448b79072ccf77a96d"
            ]
          }
        },
        "08fe721cfe08421aa667c567813f2064": {
          "model_module": "@jupyter-widgets/base",
          "model_name": "LayoutModel",
          "state": {
            "_view_name": "LayoutView",
            "grid_template_rows": null,
            "right": null,
            "justify_content": null,
            "_view_module": "@jupyter-widgets/base",
            "overflow": null,
            "_model_module_version": "1.2.0",
            "_view_count": null,
            "flex_flow": null,
            "width": null,
            "min_width": null,
            "border": null,
            "align_items": null,
            "bottom": null,
            "_model_module": "@jupyter-widgets/base",
            "top": null,
            "grid_column": null,
            "overflow_y": null,
            "overflow_x": null,
            "grid_auto_flow": null,
            "grid_area": null,
            "grid_template_columns": null,
            "flex": null,
            "_model_name": "LayoutModel",
            "justify_items": null,
            "grid_row": null,
            "max_height": null,
            "align_content": null,
            "visibility": null,
            "align_self": null,
            "height": null,
            "min_height": null,
            "padding": null,
            "grid_auto_rows": null,
            "grid_gap": null,
            "max_width": null,
            "order": null,
            "_view_module_version": "1.2.0",
            "grid_template_areas": null,
            "object_position": null,
            "object_fit": null,
            "grid_auto_columns": null,
            "margin": null,
            "display": null,
            "left": null
          }
        },
        "bde5847025c942fbbd882a104b75696a": {
          "model_module": "@jupyter-widgets/controls",
          "model_name": "FloatProgressModel",
          "state": {
            "_view_name": "ProgressView",
            "style": "IPY_MODEL_e98d2e6d68864467b019b17fcbb40bd3",
            "_dom_classes": [],
            "description": "Downloading: 100%",
            "_model_name": "FloatProgressModel",
            "bar_style": "success",
            "max": 19,
            "_view_module": "@jupyter-widgets/controls",
            "_model_module_version": "1.5.0",
            "value": 19,
            "_view_count": null,
            "_view_module_version": "1.5.0",
            "orientation": "horizontal",
            "min": 0,
            "description_tooltip": null,
            "_model_module": "@jupyter-widgets/controls",
            "layout": "IPY_MODEL_ac5415adfed74739883d9a452536ccae"
          }
        },
        "7d7f125fc13943448b79072ccf77a96d": {
          "model_module": "@jupyter-widgets/controls",
          "model_name": "HTMLModel",
          "state": {
            "_view_name": "HTMLView",
            "style": "IPY_MODEL_027b772402714ff5b32cd8de1b846d89",
            "_dom_classes": [],
            "description": "",
            "_model_name": "HTMLModel",
            "placeholder": "​",
            "_view_module": "@jupyter-widgets/controls",
            "_model_module_version": "1.5.0",
            "value": " 19.0/19.0 [00:00&lt;00:00, 85.4B/s]",
            "_view_count": null,
            "_view_module_version": "1.5.0",
            "description_tooltip": null,
            "_model_module": "@jupyter-widgets/controls",
            "layout": "IPY_MODEL_4d844adc7e014bdb8b109f2b563ab8eb"
          }
        },
        "e98d2e6d68864467b019b17fcbb40bd3": {
          "model_module": "@jupyter-widgets/controls",
          "model_name": "ProgressStyleModel",
          "state": {
            "_view_name": "StyleView",
            "_model_name": "ProgressStyleModel",
            "description_width": "initial",
            "_view_module": "@jupyter-widgets/base",
            "_model_module_version": "1.5.0",
            "_view_count": null,
            "_view_module_version": "1.2.0",
            "bar_color": null,
            "_model_module": "@jupyter-widgets/controls"
          }
        },
        "ac5415adfed74739883d9a452536ccae": {
          "model_module": "@jupyter-widgets/base",
          "model_name": "LayoutModel",
          "state": {
            "_view_name": "LayoutView",
            "grid_template_rows": null,
            "right": null,
            "justify_content": null,
            "_view_module": "@jupyter-widgets/base",
            "overflow": null,
            "_model_module_version": "1.2.0",
            "_view_count": null,
            "flex_flow": null,
            "width": null,
            "min_width": null,
            "border": null,
            "align_items": null,
            "bottom": null,
            "_model_module": "@jupyter-widgets/base",
            "top": null,
            "grid_column": null,
            "overflow_y": null,
            "overflow_x": null,
            "grid_auto_flow": null,
            "grid_area": null,
            "grid_template_columns": null,
            "flex": null,
            "_model_name": "LayoutModel",
            "justify_items": null,
            "grid_row": null,
            "max_height": null,
            "align_content": null,
            "visibility": null,
            "align_self": null,
            "height": null,
            "min_height": null,
            "padding": null,
            "grid_auto_rows": null,
            "grid_gap": null,
            "max_width": null,
            "order": null,
            "_view_module_version": "1.2.0",
            "grid_template_areas": null,
            "object_position": null,
            "object_fit": null,
            "grid_auto_columns": null,
            "margin": null,
            "display": null,
            "left": null
          }
        },
        "027b772402714ff5b32cd8de1b846d89": {
          "model_module": "@jupyter-widgets/controls",
          "model_name": "DescriptionStyleModel",
          "state": {
            "_view_name": "StyleView",
            "_model_name": "DescriptionStyleModel",
            "description_width": "",
            "_view_module": "@jupyter-widgets/base",
            "_model_module_version": "1.5.0",
            "_view_count": null,
            "_view_module_version": "1.2.0",
            "_model_module": "@jupyter-widgets/controls"
          }
        },
        "4d844adc7e014bdb8b109f2b563ab8eb": {
          "model_module": "@jupyter-widgets/base",
          "model_name": "LayoutModel",
          "state": {
            "_view_name": "LayoutView",
            "grid_template_rows": null,
            "right": null,
            "justify_content": null,
            "_view_module": "@jupyter-widgets/base",
            "overflow": null,
            "_model_module_version": "1.2.0",
            "_view_count": null,
            "flex_flow": null,
            "width": null,
            "min_width": null,
            "border": null,
            "align_items": null,
            "bottom": null,
            "_model_module": "@jupyter-widgets/base",
            "top": null,
            "grid_column": null,
            "overflow_y": null,
            "overflow_x": null,
            "grid_auto_flow": null,
            "grid_area": null,
            "grid_template_columns": null,
            "flex": null,
            "_model_name": "LayoutModel",
            "justify_items": null,
            "grid_row": null,
            "max_height": null,
            "align_content": null,
            "visibility": null,
            "align_self": null,
            "height": null,
            "min_height": null,
            "padding": null,
            "grid_auto_rows": null,
            "grid_gap": null,
            "max_width": null,
            "order": null,
            "_view_module_version": "1.2.0",
            "grid_template_areas": null,
            "object_position": null,
            "object_fit": null,
            "grid_auto_columns": null,
            "margin": null,
            "display": null,
            "left": null
          }
        }
      }
    },
    "accelerator": "GPU"
  },
  "cells": [
    {
      "cell_type": "markdown",
      "metadata": {
        "id": "view-in-github",
        "colab_type": "text"
      },
      "source": [
        "<a href=\"https://colab.research.google.com/github/TanJiaTing/AIP/blob/master/Hay_stack.ipynb\" target=\"_parent\"><img src=\"https://colab.research.google.com/assets/colab-badge.svg\" alt=\"Open In Colab\"/></a>"
      ]
    },
    {
      "cell_type": "code",
      "metadata": {
        "id": "B1NZAaJIXETZ",
        "colab_type": "code",
        "colab": {
          "base_uri": "https://localhost:8080/",
          "height": 1000
        },
        "outputId": "84969e9b-bf40-40b2-e319-91eec14a1588"
      },
      "source": [
        "! pip install git+https://github.com/deepset-ai/haystack.git"
      ],
      "execution_count": 1,
      "outputs": [
        {
          "output_type": "stream",
          "text": [
            "Collecting git+https://github.com/deepset-ai/haystack.git\n",
            "  Cloning https://github.com/deepset-ai/haystack.git to /tmp/pip-req-build-gre5bnbk\n",
            "  Running command git clone -q https://github.com/deepset-ai/haystack.git /tmp/pip-req-build-gre5bnbk\n",
            "Collecting farm==0.4.6\n",
            "\u001b[?25l  Downloading https://files.pythonhosted.org/packages/e2/93/1beb613753a9845b689eee4571ba4a7f3210b60b4bd90f024fc324c96785/farm-0.4.6-py3-none-any.whl (184kB)\n",
            "\u001b[K     |████████████████████████████████| 194kB 3.6MB/s \n",
            "\u001b[?25hCollecting fastapi\n",
            "\u001b[?25l  Downloading https://files.pythonhosted.org/packages/f7/c8/fa9ef0711be4f38dd8f381ee3e610330aaf5dfe26c880bf18565d7b1753e/fastapi-0.60.1-py3-none-any.whl (49kB)\n",
            "\u001b[K     |████████████████████████████████| 51kB 5.4MB/s \n",
            "\u001b[?25hCollecting uvicorn\n",
            "\u001b[?25l  Downloading https://files.pythonhosted.org/packages/39/d4/0fd737be8895667d263e9e4a4e8ef267f1cff0243f25ee558265dac704ae/uvicorn-0.11.6-py3-none-any.whl (43kB)\n",
            "\u001b[K     |████████████████████████████████| 51kB 4.4MB/s \n",
            "\u001b[?25hCollecting gunicorn\n",
            "\u001b[?25l  Downloading https://files.pythonhosted.org/packages/69/ca/926f7cd3a2014b16870086b2d0fdc84a9e49473c68a8dff8b57f7c156f43/gunicorn-20.0.4-py2.py3-none-any.whl (77kB)\n",
            "\u001b[K     |████████████████████████████████| 81kB 5.4MB/s \n",
            "\u001b[?25hRequirement already satisfied: pandas in /usr/local/lib/python3.6/dist-packages (from farm-haystack==0.3.0) (1.0.5)\n",
            "Collecting psycopg2-binary\n",
            "\u001b[?25l  Downloading https://files.pythonhosted.org/packages/d3/8a/a7ed55c2c55bd4f5844d72734fedc0cef8a74518a0a19105a21c15628f1e/psycopg2_binary-2.8.5-cp36-cp36m-manylinux1_x86_64.whl (2.9MB)\n",
            "\u001b[K     |████████████████████████████████| 2.9MB 11.4MB/s \n",
            "\u001b[?25hRequirement already satisfied: sklearn in /usr/local/lib/python3.6/dist-packages (from farm-haystack==0.3.0) (0.0)\n",
            "Collecting elasticsearch\n",
            "\u001b[?25l  Downloading https://files.pythonhosted.org/packages/34/4e/8d4190b41c72ee04b03c2404c7ac39e671a95616a6e6a4260d2098f3c7b2/elasticsearch-7.8.0-py2.py3-none-any.whl (188kB)\n",
            "\u001b[K     |████████████████████████████████| 194kB 38.4MB/s \n",
            "\u001b[?25hCollecting elastic-apm\n",
            "\u001b[?25l  Downloading https://files.pythonhosted.org/packages/c3/8c/ff87dc49bd0464693ded0c33a5399eca00a12d46e5d1b53b78274598786d/elastic_apm-5.8.1-cp36-cp36m-manylinux2010_x86_64.whl (516kB)\n",
            "\u001b[K     |████████████████████████████████| 522kB 31.6MB/s \n",
            "\u001b[?25hCollecting tox\n",
            "\u001b[?25l  Downloading https://files.pythonhosted.org/packages/8e/ee/0ad37329c8be5d436c22cc445ed6b81575f917f8e938137bb50ba0469b5f/tox-3.18.0-py2.py3-none-any.whl (82kB)\n",
            "\u001b[K     |████████████████████████████████| 92kB 9.3MB/s \n",
            "\u001b[?25hRequirement already satisfied: coverage in /usr/local/lib/python3.6/dist-packages (from farm-haystack==0.3.0) (3.7.1)\n",
            "Collecting langdetect\n",
            "\u001b[?25l  Downloading https://files.pythonhosted.org/packages/56/a3/8407c1e62d5980188b4acc45ef3d94b933d14a2ebc9ef3505f22cf772570/langdetect-1.0.8.tar.gz (981kB)\n",
            "\u001b[K     |████████████████████████████████| 983kB 40.4MB/s \n",
            "\u001b[?25hCollecting wget\n",
            "  Downloading https://files.pythonhosted.org/packages/47/6a/62e288da7bcda82b935ff0c6cfe542970f04e29c756b0e147251b2fb251f/wget-3.2.zip\n",
            "Collecting python-multipart\n",
            "  Downloading https://files.pythonhosted.org/packages/46/40/a933ac570bf7aad12a298fc53458115cc74053474a72fbb8201d7dc06d3d/python-multipart-0.0.5.tar.gz\n",
            "Collecting python-docx\n",
            "\u001b[?25l  Downloading https://files.pythonhosted.org/packages/e4/83/c66a1934ed5ed8ab1dbb9931f1779079f8bca0f6bbc5793c06c4b5e7d671/python-docx-0.8.10.tar.gz (5.5MB)\n",
            "\u001b[K     |████████████████████████████████| 5.5MB 20.1MB/s \n",
            "\u001b[?25hCollecting dotmap==1.3.0\n",
            "  Downloading https://files.pythonhosted.org/packages/fa/eb/ee5f0358a9e0ede90308d8f34e697e122f191c2702dc4f614eca7770b1eb/dotmap-1.3.0-py3-none-any.whl\n",
            "Requirement already satisfied: setuptools in /usr/local/lib/python3.6/dist-packages (from farm==0.4.6->farm-haystack==0.3.0) (49.1.0)\n",
            "Collecting transformers==3.0.2\n",
            "\u001b[?25l  Downloading https://files.pythonhosted.org/packages/27/3c/91ed8f5c4e7ef3227b4119200fc0ed4b4fd965b1f0172021c25701087825/transformers-3.0.2-py3-none-any.whl (769kB)\n",
            "\u001b[K     |████████████████████████████████| 778kB 39.7MB/s \n",
            "\u001b[?25hRequirement already satisfied: boto3 in /usr/local/lib/python3.6/dist-packages (from farm==0.4.6->farm-haystack==0.3.0) (1.14.24)\n",
            "Requirement already satisfied: tqdm in /usr/local/lib/python3.6/dist-packages (from farm==0.4.6->farm-haystack==0.3.0) (4.41.1)\n",
            "Requirement already satisfied: scipy>=1.3.2 in /usr/local/lib/python3.6/dist-packages (from farm==0.4.6->farm-haystack==0.3.0) (1.4.1)\n",
            "Collecting Werkzeug==0.16.1\n",
            "\u001b[?25l  Downloading https://files.pythonhosted.org/packages/c2/e4/a859d2fe516f466642fa5c6054fd9646271f9da26b0cac0d2f37fc858c8f/Werkzeug-0.16.1-py2.py3-none-any.whl (327kB)\n",
            "\u001b[K     |████████████████████████████████| 327kB 31.3MB/s \n",
            "\u001b[?25hRequirement already satisfied: requests in /usr/local/lib/python3.6/dist-packages (from farm==0.4.6->farm-haystack==0.3.0) (2.23.0)\n",
            "Collecting flask-cors\n",
            "  Downloading https://files.pythonhosted.org/packages/78/38/e68b11daa5d613e3a91e4bf3da76c94ac9ee0d9cd515af9c1ab80d36f709/Flask_Cors-3.0.8-py2.py3-none-any.whl\n",
            "Requirement already satisfied: dill in /usr/local/lib/python3.6/dist-packages (from farm==0.4.6->farm-haystack==0.3.0) (0.3.2)\n",
            "Requirement already satisfied: wheel in /usr/local/lib/python3.6/dist-packages (from farm==0.4.6->farm-haystack==0.3.0) (0.34.2)\n",
            "Collecting flask-restplus\n",
            "\u001b[?25l  Downloading https://files.pythonhosted.org/packages/c2/a6/b17c848771f96ad039ad9e3ea275e842a16c39c4f3eb9f60ee330b20b6c2/flask_restplus-0.13.0-py2.py3-none-any.whl (2.5MB)\n",
            "\u001b[K     |████████████████████████████████| 2.5MB 39.5MB/s \n",
            "\u001b[?25hRequirement already satisfied: flask in /usr/local/lib/python3.6/dist-packages (from farm==0.4.6->farm-haystack==0.3.0) (1.1.2)\n",
            "Collecting seqeval\n",
            "  Downloading https://files.pythonhosted.org/packages/34/91/068aca8d60ce56dd9ba4506850e876aba5e66a6f2f29aa223224b50df0de/seqeval-0.0.12.tar.gz\n",
            "Collecting mlflow==1.0.0\n",
            "\u001b[?25l  Downloading https://files.pythonhosted.org/packages/01/ec/8c9448968d4662e8354b9c3a62e635f8929ed507a45af3d9fdb84be51270/mlflow-1.0.0-py3-none-any.whl (47.7MB)\n",
            "\u001b[K     |████████████████████████████████| 47.7MB 66kB/s \n",
            "\u001b[?25hRequirement already satisfied: psutil in /usr/local/lib/python3.6/dist-packages (from farm==0.4.6->farm-haystack==0.3.0) (5.4.8)\n",
            "Requirement already satisfied: torch==1.5.* in /usr/local/lib/python3.6/dist-packages (from farm==0.4.6->farm-haystack==0.3.0) (1.5.1+cu101)\n",
            "Collecting starlette==0.13.6\n",
            "\u001b[?25l  Downloading https://files.pythonhosted.org/packages/c5/a4/c9e228d7d47044ce4c83ba002f28ff479e542455f0499198a3f77c94f564/starlette-0.13.6-py3-none-any.whl (59kB)\n",
            "\u001b[K     |████████████████████████████████| 61kB 6.0MB/s \n",
            "\u001b[?25hCollecting pydantic<2.0.0,>=0.32.2\n",
            "\u001b[?25l  Downloading https://files.pythonhosted.org/packages/aa/5f/855412ad12817ae87f1c77d3af2fc384eaed3adfb8f3994816d75483fa20/pydantic-1.6.1-cp36-cp36m-manylinux2014_x86_64.whl (8.7MB)\n",
            "\u001b[K     |████████████████████████████████| 8.7MB 37.1MB/s \n",
            "\u001b[?25hRequirement already satisfied: click==7.* in /usr/local/lib/python3.6/dist-packages (from uvicorn->farm-haystack==0.3.0) (7.1.2)\n",
            "Collecting uvloop>=0.14.0; sys_platform != \"win32\" and sys_platform != \"cygwin\" and platform_python_implementation != \"PyPy\"\n",
            "\u001b[?25l  Downloading https://files.pythonhosted.org/packages/41/48/586225bbb02d3bdca475b17e4be5ce5b3f09da2d6979f359916c1592a687/uvloop-0.14.0-cp36-cp36m-manylinux2010_x86_64.whl (3.9MB)\n",
            "\u001b[K     |████████████████████████████████| 3.9MB 30.9MB/s \n",
            "\u001b[?25hCollecting websockets==8.*\n",
            "\u001b[?25l  Downloading https://files.pythonhosted.org/packages/bb/d9/856af84843912e2853b1b6e898ac8b802989fcf9ecf8e8445a1da263bf3b/websockets-8.1-cp36-cp36m-manylinux2010_x86_64.whl (78kB)\n",
            "\u001b[K     |████████████████████████████████| 81kB 8.6MB/s \n",
            "\u001b[?25hCollecting httptools==0.1.*; sys_platform != \"win32\" and sys_platform != \"cygwin\" and platform_python_implementation != \"PyPy\"\n",
            "\u001b[?25l  Downloading https://files.pythonhosted.org/packages/b1/a6/dc1e7e8f4049ab70d52c9690ec10652e268ab2542853033cc1d539594102/httptools-0.1.1-cp36-cp36m-manylinux1_x86_64.whl (216kB)\n",
            "\u001b[K     |████████████████████████████████| 225kB 41.1MB/s \n",
            "\u001b[?25hCollecting h11<0.10,>=0.8\n",
            "\u001b[?25l  Downloading https://files.pythonhosted.org/packages/5a/fd/3dad730b0f95e78aeeb742f96fa7bbecbdd56a58e405d3da440d5bfb90c6/h11-0.9.0-py2.py3-none-any.whl (53kB)\n",
            "\u001b[K     |████████████████████████████████| 61kB 6.0MB/s \n",
            "\u001b[?25hRequirement already satisfied: pytz>=2017.2 in /usr/local/lib/python3.6/dist-packages (from pandas->farm-haystack==0.3.0) (2018.9)\n",
            "Requirement already satisfied: numpy>=1.13.3 in /usr/local/lib/python3.6/dist-packages (from pandas->farm-haystack==0.3.0) (1.18.5)\n",
            "Requirement already satisfied: python-dateutil>=2.6.1 in /usr/local/lib/python3.6/dist-packages (from pandas->farm-haystack==0.3.0) (2.8.1)\n",
            "Requirement already satisfied: scikit-learn in /usr/local/lib/python3.6/dist-packages (from sklearn->farm-haystack==0.3.0) (0.22.2.post1)\n",
            "Requirement already satisfied: certifi in /usr/local/lib/python3.6/dist-packages (from elasticsearch->farm-haystack==0.3.0) (2020.6.20)\n",
            "Requirement already satisfied: urllib3>=1.21.1 in /usr/local/lib/python3.6/dist-packages (from elasticsearch->farm-haystack==0.3.0) (1.24.3)\n",
            "Requirement already satisfied: importlib-metadata<2,>=0.12; python_version < \"3.8\" in /usr/local/lib/python3.6/dist-packages (from tox->farm-haystack==0.3.0) (1.7.0)\n",
            "Collecting toml>=0.9.4\n",
            "  Downloading https://files.pythonhosted.org/packages/9f/e1/1b40b80f2e1663a6b9f497123c11d7d988c0919abbf3c3f2688e448c5363/toml-0.10.1-py2.py3-none-any.whl\n",
            "Requirement already satisfied: filelock>=3.0.0 in /usr/local/lib/python3.6/dist-packages (from tox->farm-haystack==0.3.0) (3.0.12)\n",
            "Requirement already satisfied: six>=1.14.0 in /usr/local/lib/python3.6/dist-packages (from tox->farm-haystack==0.3.0) (1.15.0)\n",
            "Requirement already satisfied: py>=1.4.17 in /usr/local/lib/python3.6/dist-packages (from tox->farm-haystack==0.3.0) (1.9.0)\n",
            "Collecting pluggy>=0.12.0\n",
            "  Downloading https://files.pythonhosted.org/packages/a0/28/85c7aa31b80d150b772fbe4a229487bc6644da9ccb7e427dd8cc60cb8a62/pluggy-0.13.1-py2.py3-none-any.whl\n",
            "Requirement already satisfied: packaging>=14 in /usr/local/lib/python3.6/dist-packages (from tox->farm-haystack==0.3.0) (20.4)\n",
            "Collecting virtualenv!=20.0.0,!=20.0.1,!=20.0.2,!=20.0.3,!=20.0.4,!=20.0.5,!=20.0.6,!=20.0.7,>=16.0.0\n",
            "\u001b[?25l  Downloading https://files.pythonhosted.org/packages/6f/a9/aec24edff88c204bb20b94ced8fd890176209aee20b4e701b796a6824e15/virtualenv-20.0.28-py2.py3-none-any.whl (4.9MB)\n",
            "\u001b[K     |████████████████████████████████| 4.9MB 37.2MB/s \n",
            "\u001b[?25hRequirement already satisfied: lxml>=2.3.2 in /usr/local/lib/python3.6/dist-packages (from python-docx->farm-haystack==0.3.0) (4.2.6)\n",
            "Requirement already satisfied: dataclasses; python_version < \"3.7\" in /usr/local/lib/python3.6/dist-packages (from transformers==3.0.2->farm==0.4.6->farm-haystack==0.3.0) (0.7)\n",
            "Requirement already satisfied: regex!=2019.12.17 in /usr/local/lib/python3.6/dist-packages (from transformers==3.0.2->farm==0.4.6->farm-haystack==0.3.0) (2019.12.20)\n",
            "Collecting sacremoses\n",
            "\u001b[?25l  Downloading https://files.pythonhosted.org/packages/7d/34/09d19aff26edcc8eb2a01bed8e98f13a1537005d31e95233fd48216eed10/sacremoses-0.0.43.tar.gz (883kB)\n",
            "\u001b[K     |████████████████████████████████| 890kB 34.2MB/s \n",
            "\u001b[?25hCollecting sentencepiece!=0.1.92\n",
            "\u001b[?25l  Downloading https://files.pythonhosted.org/packages/d4/a4/d0a884c4300004a78cca907a6ff9a5e9fe4f090f5d95ab341c53d28cbc58/sentencepiece-0.1.91-cp36-cp36m-manylinux1_x86_64.whl (1.1MB)\n",
            "\u001b[K     |████████████████████████████████| 1.1MB 32.3MB/s \n",
            "\u001b[?25hCollecting tokenizers==0.8.1.rc1\n",
            "\u001b[?25l  Downloading https://files.pythonhosted.org/packages/40/d0/30d5f8d221a0ed981a186c8eb986ce1c94e3a6e87f994eae9f4aa5250217/tokenizers-0.8.1rc1-cp36-cp36m-manylinux1_x86_64.whl (3.0MB)\n",
            "\u001b[K     |████████████████████████████████| 3.0MB 29.8MB/s \n",
            "\u001b[?25hRequirement already satisfied: s3transfer<0.4.0,>=0.3.0 in /usr/local/lib/python3.6/dist-packages (from boto3->farm==0.4.6->farm-haystack==0.3.0) (0.3.3)\n",
            "Requirement already satisfied: jmespath<1.0.0,>=0.7.1 in /usr/local/lib/python3.6/dist-packages (from boto3->farm==0.4.6->farm-haystack==0.3.0) (0.10.0)\n",
            "Requirement already satisfied: botocore<1.18.0,>=1.17.24 in /usr/local/lib/python3.6/dist-packages (from boto3->farm==0.4.6->farm-haystack==0.3.0) (1.17.24)\n",
            "Requirement already satisfied: idna<3,>=2.5 in /usr/local/lib/python3.6/dist-packages (from requests->farm==0.4.6->farm-haystack==0.3.0) (2.10)\n",
            "Requirement already satisfied: chardet<4,>=3.0.2 in /usr/local/lib/python3.6/dist-packages (from requests->farm==0.4.6->farm-haystack==0.3.0) (3.0.4)\n",
            "Requirement already satisfied: jsonschema in /usr/local/lib/python3.6/dist-packages (from flask-restplus->farm==0.4.6->farm-haystack==0.3.0) (2.6.0)\n",
            "Collecting aniso8601>=0.82\n",
            "\u001b[?25l  Downloading https://files.pythonhosted.org/packages/eb/e4/787e104b58eadc1a710738d4e418d7e599e4e778e52cb8e5d5ef6ddd5833/aniso8601-8.0.0-py2.py3-none-any.whl (43kB)\n",
            "\u001b[K     |████████████████████████████████| 51kB 6.0MB/s \n",
            "\u001b[?25hRequirement already satisfied: itsdangerous>=0.24 in /usr/local/lib/python3.6/dist-packages (from flask->farm==0.4.6->farm-haystack==0.3.0) (1.1.0)\n",
            "Requirement already satisfied: Jinja2>=2.10.1 in /usr/local/lib/python3.6/dist-packages (from flask->farm==0.4.6->farm-haystack==0.3.0) (2.11.2)\n",
            "Requirement already satisfied: Keras>=2.2.4 in /usr/local/lib/python3.6/dist-packages (from seqeval->farm==0.4.6->farm-haystack==0.3.0) (2.3.1)\n",
            "Requirement already satisfied: sqlalchemy in /usr/local/lib/python3.6/dist-packages (from mlflow==1.0.0->farm==0.4.6->farm-haystack==0.3.0) (1.3.18)\n",
            "Requirement already satisfied: entrypoints in /usr/local/lib/python3.6/dist-packages (from mlflow==1.0.0->farm==0.4.6->farm-haystack==0.3.0) (0.3)\n",
            "Requirement already satisfied: cloudpickle in /usr/local/lib/python3.6/dist-packages (from mlflow==1.0.0->farm==0.4.6->farm-haystack==0.3.0) (1.3.0)\n",
            "Collecting databricks-cli>=0.8.0\n",
            "\u001b[?25l  Downloading https://files.pythonhosted.org/packages/1e/57/5c2d6b83cb8753d12f548e89f91037632baa8289677c1b2ab2adf14bf6b2/databricks-cli-0.11.0.tar.gz (49kB)\n",
            "\u001b[K     |████████████████████████████████| 51kB 6.2MB/s \n",
            "\u001b[?25hRequirement already satisfied: pyyaml in /usr/local/lib/python3.6/dist-packages (from mlflow==1.0.0->farm==0.4.6->farm-haystack==0.3.0) (3.13)\n",
            "Collecting simplejson\n",
            "\u001b[?25l  Downloading https://files.pythonhosted.org/packages/73/96/1e6b19045375890068d7342cbe280dd64ae73fd90b9735b5efb8d1e044a1/simplejson-3.17.2-cp36-cp36m-manylinux2010_x86_64.whl (127kB)\n",
            "\u001b[K     |████████████████████████████████| 133kB 36.4MB/s \n",
            "\u001b[?25hCollecting querystring-parser\n",
            "  Downloading https://files.pythonhosted.org/packages/4a/fa/f54f5662e0eababf0c49e92fd94bf178888562c0e7b677c8941bbbcd1bd6/querystring_parser-1.2.4.tar.gz\n",
            "Requirement already satisfied: sqlparse in /usr/local/lib/python3.6/dist-packages (from mlflow==1.0.0->farm==0.4.6->farm-haystack==0.3.0) (0.3.1)\n",
            "Collecting docker>=3.6.0\n",
            "\u001b[?25l  Downloading https://files.pythonhosted.org/packages/3c/15/7a2f095a3b8b0fff9a0a5f56bd941e05fa958d4ca31105541001a5f7d3eb/docker-4.2.2-py2.py3-none-any.whl (144kB)\n",
            "\u001b[K     |████████████████████████████████| 153kB 39.2MB/s \n",
            "\u001b[?25hRequirement already satisfied: protobuf>=3.6.0 in /usr/local/lib/python3.6/dist-packages (from mlflow==1.0.0->farm==0.4.6->farm-haystack==0.3.0) (3.12.2)\n",
            "Collecting alembic\n",
            "\u001b[?25l  Downloading https://files.pythonhosted.org/packages/60/1e/cabc75a189de0fbb2841d0975243e59bde8b7822bacbb95008ac6fe9ad47/alembic-1.4.2.tar.gz (1.1MB)\n",
            "\u001b[K     |████████████████████████████████| 1.1MB 33.9MB/s \n",
            "\u001b[?25h  Installing build dependencies ... \u001b[?25l\u001b[?25hdone\n",
            "  Getting requirements to build wheel ... \u001b[?25l\u001b[?25hdone\n",
            "    Preparing wheel metadata ... \u001b[?25l\u001b[?25hdone\n",
            "Collecting gitpython>=2.1.0\n",
            "\u001b[?25l  Downloading https://files.pythonhosted.org/packages/f9/1e/a45320cab182bf1c8656107b3d4c042e659742822fc6bff150d769a984dd/GitPython-3.1.7-py3-none-any.whl (158kB)\n",
            "\u001b[K     |████████████████████████████████| 163kB 37.8MB/s \n",
            "\u001b[?25hRequirement already satisfied: future in /usr/local/lib/python3.6/dist-packages (from torch==1.5.*->farm==0.4.6->farm-haystack==0.3.0) (0.16.0)\n",
            "Requirement already satisfied: joblib>=0.11 in /usr/local/lib/python3.6/dist-packages (from scikit-learn->sklearn->farm-haystack==0.3.0) (0.16.0)\n",
            "Requirement already satisfied: zipp>=0.5 in /usr/local/lib/python3.6/dist-packages (from importlib-metadata<2,>=0.12; python_version < \"3.8\"->tox->farm-haystack==0.3.0) (3.1.0)\n",
            "Requirement already satisfied: pyparsing>=2.0.2 in /usr/local/lib/python3.6/dist-packages (from packaging>=14->tox->farm-haystack==0.3.0) (2.4.7)\n",
            "Collecting importlib-resources>=1.0; python_version < \"3.7\"\n",
            "  Downloading https://files.pythonhosted.org/packages/ba/03/0f9595c0c2ef12590877f3c47e5f579759ce5caf817f8256d5dcbd8a1177/importlib_resources-3.0.0-py2.py3-none-any.whl\n",
            "Collecting distlib<1,>=0.3.1\n",
            "\u001b[?25l  Downloading https://files.pythonhosted.org/packages/f5/0a/490fa011d699bb5a5f3a0cf57de82237f52a6db9d40f33c53b2736c9a1f9/distlib-0.3.1-py2.py3-none-any.whl (335kB)\n",
            "\u001b[K     |████████████████████████████████| 337kB 38.7MB/s \n",
            "\u001b[?25hCollecting appdirs<2,>=1.4.3\n",
            "  Downloading https://files.pythonhosted.org/packages/3b/00/2344469e2084fb287c2e0b57b72910309874c3245463acd6cf5e3db69324/appdirs-1.4.4-py2.py3-none-any.whl\n",
            "Requirement already satisfied: docutils<0.16,>=0.10 in /usr/local/lib/python3.6/dist-packages (from botocore<1.18.0,>=1.17.24->boto3->farm==0.4.6->farm-haystack==0.3.0) (0.15.2)\n",
            "Requirement already satisfied: MarkupSafe>=0.23 in /usr/local/lib/python3.6/dist-packages (from Jinja2>=2.10.1->flask->farm==0.4.6->farm-haystack==0.3.0) (1.1.1)\n",
            "Requirement already satisfied: h5py in /usr/local/lib/python3.6/dist-packages (from Keras>=2.2.4->seqeval->farm==0.4.6->farm-haystack==0.3.0) (2.10.0)\n",
            "Requirement already satisfied: keras-preprocessing>=1.0.5 in /usr/local/lib/python3.6/dist-packages (from Keras>=2.2.4->seqeval->farm==0.4.6->farm-haystack==0.3.0) (1.1.2)\n",
            "Requirement already satisfied: keras-applications>=1.0.6 in /usr/local/lib/python3.6/dist-packages (from Keras>=2.2.4->seqeval->farm==0.4.6->farm-haystack==0.3.0) (1.0.8)\n",
            "Requirement already satisfied: tabulate>=0.7.7 in /usr/local/lib/python3.6/dist-packages (from databricks-cli>=0.8.0->mlflow==1.0.0->farm==0.4.6->farm-haystack==0.3.0) (0.8.7)\n",
            "Collecting websocket-client>=0.32.0\n",
            "\u001b[?25l  Downloading https://files.pythonhosted.org/packages/4c/5f/f61b420143ed1c8dc69f9eaec5ff1ac36109d52c80de49d66e0c36c3dfdf/websocket_client-0.57.0-py2.py3-none-any.whl (200kB)\n",
            "\u001b[K     |████████████████████████████████| 204kB 29.0MB/s \n",
            "\u001b[?25hCollecting Mako\n",
            "\u001b[?25l  Downloading https://files.pythonhosted.org/packages/a6/37/0e706200d22172eb8fa17d68a7ae22dec7631a0a92266634fb518a88a5b2/Mako-1.1.3-py2.py3-none-any.whl (75kB)\n",
            "\u001b[K     |████████████████████████████████| 81kB 9.0MB/s \n",
            "\u001b[?25hCollecting python-editor>=0.3\n",
            "  Downloading https://files.pythonhosted.org/packages/c6/d3/201fc3abe391bbae6606e6f1d598c15d367033332bd54352b12f35513717/python_editor-1.0.4-py3-none-any.whl\n",
            "Collecting gitdb<5,>=4.0.1\n",
            "\u001b[?25l  Downloading https://files.pythonhosted.org/packages/48/11/d1800bca0a3bae820b84b7d813ad1eff15a48a64caea9c823fc8c1b119e8/gitdb-4.0.5-py3-none-any.whl (63kB)\n",
            "\u001b[K     |████████████████████████████████| 71kB 8.2MB/s \n",
            "\u001b[?25hCollecting smmap<4,>=3.0.1\n",
            "  Downloading https://files.pythonhosted.org/packages/b0/9a/4d409a6234eb940e6a78dfdfc66156e7522262f5f2fecca07dc55915952d/smmap-3.0.4-py2.py3-none-any.whl\n",
            "Building wheels for collected packages: alembic\n",
            "  Building wheel for alembic (PEP 517) ... \u001b[?25l\u001b[?25hdone\n",
            "  Created wheel for alembic: filename=alembic-1.4.2-cp36-none-any.whl size=159543 sha256=27c9491ad7c4975ce890d4a6a1cd3091ab27e6828b83c5c31e292aee22f3d227\n",
            "  Stored in directory: /root/.cache/pip/wheels/1f/04/83/76023f7a4c14688c0b5c2682a96392cfdd3ee4449eaaa287ef\n",
            "Successfully built alembic\n",
            "Building wheels for collected packages: farm-haystack, langdetect, wget, python-multipart, python-docx, seqeval, sacremoses, databricks-cli, querystring-parser\n",
            "  Building wheel for farm-haystack (setup.py) ... \u001b[?25l\u001b[?25hdone\n",
            "  Created wheel for farm-haystack: filename=farm_haystack-0.3.0-cp36-none-any.whl size=83268 sha256=247ed13b5dd554d7f7a6c8ac70747f0601de49752b3b1222c0a328994645203d\n",
            "  Stored in directory: /tmp/pip-ephem-wheel-cache-2fh_q6ha/wheels/ab/41/a4/4fbf362de283352078ecb6705c08b6525347aaea2eead2a60c\n",
            "  Building wheel for langdetect (setup.py) ... \u001b[?25l\u001b[?25hdone\n",
            "  Created wheel for langdetect: filename=langdetect-1.0.8-cp36-none-any.whl size=993193 sha256=20bbdc5a20c0983d553f08890351cb314de33949eb4f43d9789807dbfcb25f2b\n",
            "  Stored in directory: /root/.cache/pip/wheels/8d/b3/aa/6d99de9f3841d7d3d40a60ea06e6d669e8e5012e6c8b947a57\n",
            "  Building wheel for wget (setup.py) ... \u001b[?25l\u001b[?25hdone\n",
            "  Created wheel for wget: filename=wget-3.2-cp36-none-any.whl size=9682 sha256=e0b8467c28a92621a4361a80b02685b46917bce05b4a631e3db9ca92c9f2ce0a\n",
            "  Stored in directory: /root/.cache/pip/wheels/40/15/30/7d8f7cea2902b4db79e3fea550d7d7b85ecb27ef992b618f3f\n",
            "  Building wheel for python-multipart (setup.py) ... \u001b[?25l\u001b[?25hdone\n",
            "  Created wheel for python-multipart: filename=python_multipart-0.0.5-cp36-none-any.whl size=31671 sha256=5a81a9cd8c647ebe8aa9918f59f6aeb36df4889fef844d3be4cf87cd69de041c\n",
            "  Stored in directory: /root/.cache/pip/wheels/f0/e6/66/14a866a3cbd6a0cabfbef91f7edf40aa03595ef6c88d6d1be4\n",
            "  Building wheel for python-docx (setup.py) ... \u001b[?25l\u001b[?25hdone\n",
            "  Created wheel for python-docx: filename=python_docx-0.8.10-cp36-none-any.whl size=184491 sha256=8051e8488b9606446bc4e7aeb8b070aab2d2f1c55e2521fe64fa2bf779ab79f1\n",
            "  Stored in directory: /root/.cache/pip/wheels/18/0b/a0/1dd62ff812c857c9e487f27d80d53d2b40531bec1acecfa47b\n",
            "  Building wheel for seqeval (setup.py) ... \u001b[?25l\u001b[?25hdone\n",
            "  Created wheel for seqeval: filename=seqeval-0.0.12-cp36-none-any.whl size=7424 sha256=dac5276e475e873df56349a170be1506ea7e1d760488711c19a9499f776c263e\n",
            "  Stored in directory: /root/.cache/pip/wheels/4f/32/0a/df3b340a82583566975377d65e724895b3fad101a3fb729f68\n",
            "  Building wheel for sacremoses (setup.py) ... \u001b[?25l\u001b[?25hdone\n",
            "  Created wheel for sacremoses: filename=sacremoses-0.0.43-cp36-none-any.whl size=893260 sha256=fba64d78f779299d83caea03f5ee2e779e3db7042d16701426cf82f3d1a1e0a8\n",
            "  Stored in directory: /root/.cache/pip/wheels/29/3c/fd/7ce5c3f0666dab31a50123635e6fb5e19ceb42ce38d4e58f45\n",
            "  Building wheel for databricks-cli (setup.py) ... \u001b[?25l\u001b[?25hdone\n",
            "  Created wheel for databricks-cli: filename=databricks_cli-0.11.0-cp36-none-any.whl size=90300 sha256=52a1f943dadaed6bc69937808f13cbbe687000de269046431eaf9d656a7fe39b\n",
            "  Stored in directory: /root/.cache/pip/wheels/63/d0/4f/3deeca1f4c47a6aca7c2c6a6e2bf272391565dc86a7718a59b\n",
            "  Building wheel for querystring-parser (setup.py) ... \u001b[?25l\u001b[?25hdone\n",
            "  Created wheel for querystring-parser: filename=querystring_parser-1.2.4-cp36-none-any.whl size=7079 sha256=406f764af53ff62f197086c9eeb9779092663e3e678f561e271bca1cb7555cd2\n",
            "  Stored in directory: /root/.cache/pip/wheels/1e/41/34/23ebf5d1089a9aed847951e0ee375426eb4ad0a7079d88d41e\n",
            "Successfully built farm-haystack langdetect wget python-multipart python-docx seqeval sacremoses databricks-cli querystring-parser\n",
            "\u001b[31mERROR: pytest 3.6.4 has requirement pluggy<0.8,>=0.5, but you'll have pluggy 0.13.1 which is incompatible.\u001b[0m\n",
            "\u001b[31mERROR: datascience 0.10.6 has requirement folium==0.2.1, but you'll have folium 0.8.3 which is incompatible.\u001b[0m\n",
            "Installing collected packages: dotmap, sacremoses, sentencepiece, tokenizers, transformers, Werkzeug, flask-cors, aniso8601, flask-restplus, seqeval, gunicorn, databricks-cli, simplejson, querystring-parser, websocket-client, docker, Mako, python-editor, alembic, smmap, gitdb, gitpython, mlflow, farm, starlette, pydantic, fastapi, uvloop, websockets, httptools, h11, uvicorn, psycopg2-binary, elasticsearch, elastic-apm, toml, pluggy, importlib-resources, distlib, appdirs, virtualenv, tox, langdetect, wget, python-multipart, python-docx, farm-haystack\n",
            "  Found existing installation: Werkzeug 1.0.1\n",
            "    Uninstalling Werkzeug-1.0.1:\n",
            "      Successfully uninstalled Werkzeug-1.0.1\n",
            "  Found existing installation: pluggy 0.7.1\n",
            "    Uninstalling pluggy-0.7.1:\n",
            "      Successfully uninstalled pluggy-0.7.1\n",
            "Successfully installed Mako-1.1.3 Werkzeug-0.16.1 alembic-1.4.2 aniso8601-8.0.0 appdirs-1.4.4 databricks-cli-0.11.0 distlib-0.3.1 docker-4.2.2 dotmap-1.3.0 elastic-apm-5.8.1 elasticsearch-7.8.0 farm-0.4.6 farm-haystack-0.3.0 fastapi-0.60.1 flask-cors-3.0.8 flask-restplus-0.13.0 gitdb-4.0.5 gitpython-3.1.7 gunicorn-20.0.4 h11-0.9.0 httptools-0.1.1 importlib-resources-3.0.0 langdetect-1.0.8 mlflow-1.0.0 pluggy-0.13.1 psycopg2-binary-2.8.5 pydantic-1.6.1 python-docx-0.8.10 python-editor-1.0.4 python-multipart-0.0.5 querystring-parser-1.2.4 sacremoses-0.0.43 sentencepiece-0.1.91 seqeval-0.0.12 simplejson-3.17.2 smmap-3.0.4 starlette-0.13.6 tokenizers-0.8.1rc1 toml-0.10.1 tox-3.18.0 transformers-3.0.2 uvicorn-0.11.6 uvloop-0.14.0 virtualenv-20.0.28 websocket-client-0.57.0 websockets-8.1 wget-3.2\n"
          ],
          "name": "stdout"
        }
      ]
    },
    {
      "cell_type": "code",
      "metadata": {
        "id": "HV3WZD6GjKuh",
        "colab_type": "code",
        "colab": {}
      },
      "source": [
        "\n",
        "from haystack import Finder\n",
        "from haystack.indexing.cleaning import clean_wiki_text\n",
        "from haystack.indexing.utils import convert_files_to_dicts, fetch_archive_from_http\n",
        "from haystack.reader.farm import FARMReader\n",
        "from haystack.reader.transformers import TransformersReader\n",
        "from haystack.utils import print_answers\n"
      ],
      "execution_count": 2,
      "outputs": []
    },
    {
      "cell_type": "code",
      "metadata": {
        "id": "0Rk99pvbjPnQ",
        "colab_type": "code",
        "colab": {}
      },
      "source": [
        "\n",
        "# In-Memory Document Store\n",
        "#from haystack.database.memory import InMemoryDocumentStore\n",
        "#document_store = InMemoryDocumentStore()\n",
        "# In Colab / No Docker environments: Start Elasticsearch from source\n",
        "! wget https://artifacts.elastic.co/downloads/elasticsearch/elasticsearch-7.6.2-linux-x86_64.tar.gz -q\n",
        "! tar -xzf elasticsearch-7.6.2-linux-x86_64.tar.gz\n",
        "! chown -R daemon:daemon elasticsearch-7.6.2\n",
        "\n",
        "import os\n",
        "from subprocess import Popen, PIPE, STDOUT\n",
        "es_server = Popen(['elasticsearch-7.6.2/bin/elasticsearch'],\n",
        "                   stdout=PIPE, stderr=STDOUT,\n",
        "                   preexec_fn=lambda: os.setuid(1)  # as daemon\n",
        "                  )\n",
        "# wait until ES has started\n",
        "! sleep 30"
      ],
      "execution_count": 3,
      "outputs": []
    },
    {
      "cell_type": "code",
      "metadata": {
        "id": "P1CRsYEFIczK",
        "colab_type": "code",
        "colab": {
          "base_uri": "https://localhost:8080/",
          "height": 33
        },
        "outputId": "4e96a344-1af2-4757-bc7f-f43880f2b53d"
      },
      "source": [
        "# Connect to Elasticsearch\n",
        "from haystack.database.elasticsearch import ElasticsearchDocumentStore\n",
        "\n",
        "# We need to set `embedding_field` and `embedding_dim`, when we plan to use a dense retriever\n",
        "document_store = ElasticsearchDocumentStore(host=\"localhost\", username=\"\", password=\"\", index=\"document\", \n",
        "                                            embedding_field=\"embedding\", embedding_dim=768)"
      ],
      "execution_count": 38,
      "outputs": [
        {
          "output_type": "stream",
          "text": [
            "07/26/2020 09:15:02 - INFO - elasticsearch -   PUT http://localhost:9200/document [status:400 request:0.021s]\n"
          ],
          "name": "stderr"
        }
      ]
    },
    {
      "cell_type": "code",
      "metadata": {
        "id": "N9XrMgVyjqk5",
        "colab_type": "code",
        "colab": {
          "base_uri": "https://localhost:8080/",
          "height": 179
        },
        "outputId": "64de08df-c0b3-4d74-e48f-6192c7da2e3d"
      },
      "source": [
        "\n",
        "# Let's first get some documents that we want to query\n",
        "# Here: 517 Wikipedia articles for Game of Thrones\n",
        "doc_dir = \"data/article_txt_got\"\n",
        "s3_url = \"https://s3.eu-central-1.amazonaws.com/deepset.ai-farm-qa/datasets/documents/wiki_gameofthrones_txt.zip\"\n",
        "fetch_archive_from_http(url=s3_url, output_dir=doc_dir)\n",
        "\n",
        "# Convert files to dicts\n",
        "# You can optionally supply a cleaning function that is applied to each doc (e.g. to remove footers)\n",
        "# It must take a str as input, and return a str.\n",
        "dicts = convert_files_to_dicts(dir_path=doc_dir, clean_func=clean_wiki_text, split_paragraphs=True)\n",
        "\n",
        "# We now have a list of dictionaries that we can write to our document store.\n",
        "# If your texts come from a different source (e.g. a DB), you can of course skip convert_files_to_dicts() and create the dictionaries yourself.\n",
        "# The default format here is: {\"name\": \"<some-document-name>, \"text\": \"<the-actual-text>\"}\n",
        "# (Optionally: you can also add more key-value-pairs here, that will be indexed as fields in Elasticsearch and\n",
        "# can be accessed later for filtering or shown in the responses of the Finder)\n",
        "\n",
        "# Let's have a look at the first 3 entries:\n",
        "print(dicts[:15])\n",
        "\n",
        "# Now, let's write the dicts containing documents to our DB.\n",
        "document_store.write_documents(dicts)"
      ],
      "execution_count": null,
      "outputs": [
        {
          "output_type": "stream",
          "text": [
            "07/24/2020 11:21:10 - INFO - haystack.indexing.utils -   Found data stored in `data/article_txt_got`. Delete this first if you really want to fetch new data.\n"
          ],
          "name": "stderr"
        },
        {
          "output_type": "stream",
          "text": [
            "[{'text': '#REDIRECT List of A Song of Ice and Fire characters#R', 'meta': {'name': '486_Ronnet_Connington.txt'}}, {'text': '#REDIRECT List of A Song of Ice and Fire characters#Brynden Rivers', 'meta': {'name': '414_Leaf__character_.txt'}}, {'text': '#REDIRECT World of A Song of Ice and Fire#The Dothraki Sea', 'meta': {'name': '117_Dothraki.txt'}}, {'text': '#REDIRECT List of A Song of Ice and Fire characters#Edmure Tully', 'meta': {'name': '412_Roslin_Tully.txt'}}, {'text': '#REDIRECT World of A Song of Ice and Fire#Oldtown', 'meta': {'name': '113_Oldtown__A_Song_of_Ice_and_Fire_.txt'}}, {'text': '\"\\'\\'\\'Oathkeeper\\'\\'\\'\" is the fourth episode of the fourth season of HBO\\'s fantasy television series \\'\\'Game of Thrones\\'\\', and the 34th overall.\\nThe episode was written by Bryan Cogman, and directed by Michelle MacLaren. It aired on April 27, 2014. The title refers to the new sword gifted to Brienne of Tarth by Jaime Lannister and the themes of duty that propel the episode. The episode focuses on the aftermath of Joffrey\\'s wedding, the Night\\'s Watch\\'s attempt to deal with the mutineers, and Daenerys\\'s continued conquest of Meereen. \"Oathkeeper\" also featured the debut appearance of the Night King, the leader of the White Walkers, though he was not identified as such until the following year.', 'meta': {'name': '485_Oathkeeper.txt'}}, {'text': \"\\n===In King's Landing===\\nJaime visits Tyrion in his cell and tells him that Cersei is searching for Sansa. Olenna prepares to return to Highgarden and implies to Margaery that she had a hand in Joffrey's death to protect Margaery from his cruelty. Margaery talks with Tommen about their marriage. Jaime sends Brienne to find and protect Sansa and gives her his Valyrian steel sword, which she names Oathkeeper and service of Podrick as a squire.\", 'meta': {'name': '485_Oathkeeper.txt'}}, {'text': \"\\n===In the Narrow Sea===\\nOn the way to the Eyrie, Petyr tells Sansa that he plans to marry Lysa. Petyr tells her that Joffrey's death will help him and his new powerful allies grow strong, referring to the House Tyrell and that the missing stone in her necklace was\\xa0the poison used for Joffrey's murder.\", 'meta': {'name': '485_Oathkeeper.txt'}}, {'text': \"\\n===At the Wall===\\nJon trains Locke and Olly. Thorne sends Jon to kill the group at Craster's Keep and Edd, Grenn and Locke volunteer to help him.\", 'meta': {'name': '485_Oathkeeper.txt'}}, {'text': '\\n===In Meereen===\\nMissandei teaches Grey Worm the Common Tongue, the language of Westeros. Grey Worm and other Unsullied infiltrate the city, arm the slaves and incite a slave uprising that leaves Daenerys in control of the city. Daenerys orders 163 masters crucified, as justice for the slave children crucified along the road to Meereen.', 'meta': {'name': '485_Oathkeeper.txt'}}, {'text': \"\\n===Beyond the Wall===\\nKarl orders Rast to dispose Craster's last son to the White Walkers. Bran's group is captured by Karl's group. White Walker retrieves Craster's son, travels to the White Walkers' fortress in the Lands of Always Winter and the leader of the White Walkers, the\\xa0Night King transforms the boy into a White Walker.\", 'meta': {'name': '485_Oathkeeper.txt'}}, {'text': '\\n== Production ==\\nSeries veteran Bryan Cogman wrote this episode.\\n\"Oathkeeper\" was written by Bryan Cogman based on \\'\\'A Storm of Swords\\'\\'. Reviewer Walt Hickey of FiveThirtyEight notes that the episode \"contained the final scene of Jaime Lannister’s ninth \\'\\'\"Storm of Swords\"\\'\\' chapter. But lots of material from that chapter hasn\\'t been on the show yet, so I reasoned that he has completed only eight.\" In addition to chapter 72 (Jaime IX), some of the content from this episode is also found in \\'\\'A Storm of Swords\\'\\' chapters 61, 68, and 71 (Sansa V, Sansa VI, Daenerys VI).\\nTheresa DeLucci, a reviewer for \\'\\'Tor.com\\'\\', notes that the episode \"didn\\'t even take liberties with the books; it completely made up whole new stories\" that do not appear in \\'\\'A Storm of Swords\\'\\', including conversations between Missandei and Grey Worm, Bran\\'s appearance at Craster\\'s keep, and the final White Walker scene. Reviewers from IGN applauded the new material, noting that the scenes at Craster\\'s keep \"give Bran something to do\" and hint at the nature of the White Walkers. Erik Kain, of \\'\\'Forbes\\'\\' magazine, notes these departures from the books as well, stating that the episode departed as much from the books as any episode thus far in the HBO adaptation of Martin\\'s book series. These deviations, notes Kain, \"leave both readers and newcomers to the story of Westeros and its motley band of heroes and villains entirely uncertain as to what\\'s coming next.\"', 'meta': {'name': '485_Oathkeeper.txt'}}, {'text': '\\n=== Ratings ===\\n\"Oathkeeper\" established a new series high in ratings, with 6.95 million people watching the premiere. In the United Kingdom, the episode was viewed by 1.598 million viewers, making it the highest-rated broadcast that week. It also received 0.112 million timeshift viewers.', 'meta': {'name': '485_Oathkeeper.txt'}}, {'text': '\\n=== Critical reception ===\\nLike the season\\'s other episodes, \"Oathkeeper\" received acclaim from critics, with Rotten Tomatoes counting 97% positive reviews from among 36. The site\\'s consensus is that \"If it\\'s a bit more subdued than its predecessors, \\'Oathkeeper\\' is nonetheless a rock-solid installment of Game of Thrones – one that features assured direction, strong action scenes, and intriguing plot developments.\"\\nEric Goldman and Roth Cornet of IGN commented on the episode being a \"game changer\" because it diverges from the book series more than any other \\'\\'Game of Thrones\\'\\' episode; a few of the changes include Jon\\'s and Bran\\'s storylines, how Daenerys conquered Meereen, and new information with regard to how White Walkers multiply their army. Goldman and Cornet stated that much of the episode feels like a spoiler for readers of the series because of the changes, including the show creators, who know how the ongoing book series will end, possibly having incorporated aspects that happen later in the books. Though Goldman and Cornet indicated that significantly diverging from the books could be detrimental to the show, they credited \"Oathkeeper\" with adding an element of surprise and intrigue for all viewers.\\nWriting for \\'\\'The A.V. Club\\'\\', Emily VanDerWerff (writing for viewers who have read the books) and Erik Adams (writing for viewers who have not) both gave the episode a B. VanDerWerff commented that the scenes between Jamie and Cersei \"seems to truly want us to think that what happened last week wasn\\'t, in any way, rape\" and wondered \"whether the show is going to acknowledge it at all.\" Adams notes how the episode serves as a \"bridge\" between episodes and plotlines well under way, but that there are \"thematic riches\" to be found; namely, the multiple searches for justice.', 'meta': {'name': '485_Oathkeeper.txt'}}, {'text': '\\n=== Accolades ===\\n Outstanding Makeup for a Single-Camera Series (Non-Prosthetic)\\n Canadian Society of Cinematographers', 'meta': {'name': '485_Oathkeeper.txt'}}]\n"
          ],
          "name": "stdout"
        },
        {
          "output_type": "stream",
          "text": [
            "07/24/2020 11:21:11 - INFO - elasticsearch -   POST http://localhost:9200/_bulk [status:200 request:0.187s]\n",
            "07/24/2020 11:21:11 - INFO - elasticsearch -   POST http://localhost:9200/_bulk [status:200 request:0.152s]\n",
            "07/24/2020 11:21:11 - INFO - elasticsearch -   POST http://localhost:9200/_bulk [status:200 request:0.222s]\n",
            "07/24/2020 11:21:11 - INFO - elasticsearch -   POST http://localhost:9200/_bulk [status:200 request:0.204s]\n",
            "07/24/2020 11:21:12 - INFO - elasticsearch -   POST http://localhost:9200/_bulk [status:200 request:0.165s]\n",
            "07/24/2020 11:21:12 - INFO - elasticsearch -   POST http://localhost:9200/_bulk [status:200 request:0.085s]\n"
          ],
          "name": "stderr"
        }
      ]
    },
    {
      "cell_type": "code",
      "metadata": {
        "id": "2ITXz8g4jrgL",
        "colab_type": "code",
        "colab": {
          "base_uri": "https://localhost:8080/",
          "height": 120
        },
        "outputId": "a0f682ca-a6d9-4a77-a694-0427edaa95f9"
      },
      "source": [
        "from google.colab import drive\n",
        "drive.mount('/drive')\n",
        "#temp = convert_files_to_dicts(dir_path=\"data/custom\", clean_func=clean_wiki_text, split_paragraphs=True)"
      ],
      "execution_count": 5,
      "outputs": [
        {
          "output_type": "stream",
          "text": [
            "Go to this URL in a browser: https://accounts.google.com/o/oauth2/auth?client_id=947318989803-6bn6qk8qdgf4n4g3pfee6491hc0brc4i.apps.googleusercontent.com&redirect_uri=urn%3aietf%3awg%3aoauth%3a2.0%3aoob&response_type=code&scope=email%20https%3a%2f%2fwww.googleapis.com%2fauth%2fdocs.test%20https%3a%2f%2fwww.googleapis.com%2fauth%2fdrive%20https%3a%2f%2fwww.googleapis.com%2fauth%2fdrive.photos.readonly%20https%3a%2f%2fwww.googleapis.com%2fauth%2fpeopleapi.readonly\n",
            "\n",
            "Enter your authorization code:\n",
            "··········\n",
            "Mounted at /drive\n"
          ],
          "name": "stdout"
        }
      ]
    },
    {
      "cell_type": "code",
      "metadata": {
        "id": "n4BPXWdDj-Yc",
        "colab_type": "code",
        "colab": {
          "base_uri": "https://localhost:8080/",
          "height": 70
        },
        "outputId": "464707b0-1f41-4116-df5e-9763d5eeb6be"
      },
      "source": [
        "dicts = convert_files_to_dicts(dir_path='data', clean_func=clean_wiki_text, split_paragraphs=True)\n",
        "dicts"
      ],
      "execution_count": 12,
      "outputs": [
        {
          "output_type": "execute_result",
          "data": {
            "text/plain": [
              "[{'meta': {'name': 'summary.txt'},\n",
              "  'text': \"4.1.2 PART 2 — EN-ROUTE (ENR) Part 2 consists of seven sections containing information briefly described hereafter\\nGEN 1.1 DESIGNATED AUTHORITIES The authority responsible for civil aviation in Singapore is the Civil Aviation Authority of Singapore under the Ministry of Transport\\n1.2 Aircraft flying into or departing from Singapore territory shall make their first landing at, or final departure from an international aerodrome (see AIP Singapore page AD 1.3-1 and section AD 2)\\n1.3 Notwithstanding the regulations relating to civil aviation over Singapore territory, aircraft operators should consult the respective AIPs for other documentary and / or permit requirements for flights intending to enter, depart, and / or overfly the sovereign airspaces of States along the planned flight routes\\n2 APPLICATION FOR SLOTS AT SINGAPORE CHANGI AIRPORT 2.1 Singapore Changi Airport is a slot coordinated airport, with Changi Airport Group (CAG) as the Slot Coordinator\\nTo ensure efficiency of aircraft operations and optimisation of airport resources, all operators of scheduled and non-scheduled (commercial and non-commercial) flights must obtain slots from the Changi Slot Coordinator prior to the operation of such flights\\n2.2 To apply for slots for access to Singapore Changi Airport, all operators or agents of non-scheduled, commercial and non-commercial flights shall submit applications for slots via either a Slot Clearance Request (SCR) to the Changi Slot Coordinator, or for operators without a 2-letter IATA airline code, a General (Aviation) Clearance Request (GCR) through the Online Coordination System (OCS) (at www.online-coordination.com)\\nChangi Slot Coordinator c/o Changi Airport Group (Singapore) Pte Ltd Singapore Changi Airport P.O. Box 168 Singapore 918146 Email: csc@changiairport.com Tel: +65 6541 2378 or +65 6541 3064  2.3 Operators or agents of non-scheduled, commercial and non-commercial flights shall submit their slot requests to the Changi Slot Coordinator no earlier than 7 calendar days and but no later than 24 hours prior to the operation of the flight, for which the slot will be utilized\\n2.4 To facilitate the optimisation of aircraft parking resources at Singapore Changi Airport, operators or agents of non-scheduled, commercial and non-commercial flights are strongly advised to limit their ground time to no more than 48 hours from the arrival slot timing\\n2.5 For urgent non-scheduled, commercial and non-commercial flight operations that are less than 24 hours from the proposed date of operation, in addition to submitting the SCR/GCR, operators/agents must also inform the Airside Operations Section of CAG (Airside Management Centre) at +65 6603 4906 / +65 6541 2275 / +65 6541 2273\\n2.6 EXEMPT FLIGHTS  2.6.1 Notwithstanding paragraph 2.1, the following types of flights may operate to / from Singapore Changi Airport without obtaining slots from the Changi Slot Coordinator:  - Emergency landings. e.g. diversions or quick returns after takeoff, oil spill response operations - Flights operating under diplomatic cover - Flights operated by the military, including those carrying supplies but excluding those chartered on a commercial basis by the military - Humanitarian flights including those responding to medical emergencies where the safety of human life is concerned or involved in search and rescue operations - Technical flights including radar and NAVAID calibration / check flights  2.7 RESTRICTIONS ON OPERATION OF PROPELLER AIRCRAFT AT SINGAPORE CHANGI AIRPORT  2.7.1 Both scheduled and non-scheduled (commercial and non-commercial) propeller aircraft operations will not be allocated new slots at Singapore Changi Airport\\n3.2 For non-scheduled (commercial and non-commercial) flight operations, operators or agents shall submit details of their planned operations to seletar.airside@changiairport.com during the flights submission window, defined as no earlier than 7 calendar days but no later than 1400 UTC / 2200 LT on the day prior to the planned operations\\n3.3 For urgent non-scheduled (commercial and non-commercial) flight operations of which details were not submitted during the flights submission window, operators or agents must submit the details to seletar.airside@changiairport.com and call to inform the Airside Operations Section of Seletar Airport at +65 6481 5077\\n3.4 Operators or agents shall include the following details of the flight operations in their submission:  - Name of operator and appointed ground handling agent - Date and time of arrival and departure (in local time) - Aircraft type and seat capacity - Origin and destination - Aircraft registration number and - Purpose of flight (e.g. business aviation general aviation cargo maintenance, repair and operations (MRO) etc.)\\n3.5 For scheduled flight operations, operators shall submit applications for slots via a Slot Clearance Request (SCR) to csc@changiairport.com\\n3.6 All operators shall adhere to the IATA Worldwide Slot Guidelines (WSG). A copy of this document can be obtained from www.iata.org/wsg  3.7 EXEMPT FLIGHTS  3.7.1 Notwithstanding paragraph 3.1, the following types of flights may operate to / from Seletar Airport without submitting details of their flight operations to the Seletar Schedules Facilitator during the flights submission window as stipulated in paragraph 3.2:  - Emergency landings, e.g. diversions or quick returns after takeoff, oil spill response operations - Flights operating under diplomatic cover - Flights operated by the military, including those carrying supplies but excluding those chartered on a commercial basis by the military - Humanitarian flights including those responding to medical emergencies where the safety of human life is concerned or involved in search & rescue operations and - Technical flights including radar and NAVAID calibration /check flights\\n3.7.2 However, operators or agents of exempt flights shall call to inform the Airside Operations Section of Seletar Airport at +65 6481 5077 of their flight operations in advance\\n3.8 DESIGNATED HOURS FOR TRAINING FLIGHTS  3.8.1 To optimise the use of capacity, training and non-training flights will be segregated through designated hours for training flights. Non-training flights will not be permitted at Seletar Airport during the following periods from Tuesdays to Sundays:  - 0130 to 0230 UTC / 0930 to 1030 LT - 0400 to 0500 UTC / 1200 to 1300 LT - 0700 to 0800 UTC / 1500 to 1600 LT and - 0900 to 1000 UTC / 1700 to 1800 LT\\n3.8.2 All operators or agents and pilots are to plan their flight schedules with sufficient buffers to avoid the designated hours for training flights\\n4 CIVIL SCHEDULED FLIGHTS  4.1 GENERAL 4.1.1 Before a scheduled service is permitted to operate into the Republic of Singapore, it must be appropriately covered by either an air services agreement, a licence issued in accordance with the Air Navigation (Licensing of Air Services) Regulations or other aeronautical arrangements. All scheduled flights are subject to prior approval\\n4.2 APPLICATION FOR TRAFFIC LANDINGS AND UPLIFTS (SCHEDULED FLIGHTS) 4.2.1 Only the airline operator may apply for permission to operate scheduled flights\\n4.2.2 All airline operators are to submit their applications for scheduled flights for each IATA schedule season one month before the start of the season for approval by CAAS\\n4.2.3 In addition, airline operators are also required to apply for CAAS’ approval for any revisions to their schedule filings for the season, ad-hoc changes to flight schedules and flight cancellations. Such applications should be filed through the CAAS Air Transport Licensing and Administration System (ATLAS) at https://appserver1.caas.gov.sg/ATLAS 5 working days before flight changes take place\\n4.2.4 If insufficient notice as specified in paragraphs 3.2.2 and 3.2.3 is given, the application may not be considered\\n4.2.5 Airline operators are to ensure that a copy of the following documents, which are to remain valid during the period of operations, are lodged with CAAS:  a. Certificate(s) of Registration(s) for aircraft used b. Certificate(s) of Airworthiness for aircraft used and c. Air Operator’s Certificate  4.2.6 All applications and required documents listed in paragraph 3.2.5 should be submitted via ATLAS\\n4.3 DOCUMENTARY REQUIREMENTS FOR CLEARANCE OF AIRCRAFT 4.3.1 It is necessary that the undermentioned aircraft documents be submitted by airline operators for clearance on entry and departure of their aircraft to and from Singapore. All documents listed below must follow the ICAO standard format as set forth in the relevant appendices to ICAO Annex 9. They are acceptable in English only and must be completed in legible handwriting. No visas are required in connection with such documents\\n4.3.2 Aircraft Documents Requirements (arrival/departure) a. One copy of the General Declaration is endorsed and returned by Customs, signifying clearance\\nb. If no passengers are embarking (disembarking) and no articles are laden (unladen), no aircraft documents except copies of the General Declaration need be submitted to the above authorities\\n5 CIVIL NON-SCHEDULED FLIGHTS  5.1 PROCEDURES  5.1.1 Overflights 5.1.1.1 Prior notification is necessary. Subject to the observance of the terms of the Convention on International Civil Aviation, Singapore facilitates overflights by civil aircraft registered in any ICAO Contracting States with which Singapore has diplomatic relations provided adequate advance notification shall have been given\\n5.1.1.2 Notification by flight plan addressed to the Singapore Air Traffic Control Centre (WSJCZQZX) if received at least 2 hours in advance of the aircraft’s arrival into the Singapore Flight Information Region will normally be accepted as advance notification in this respect\\n5.1.1.3 In all other cases, prior permission must be sought and obtained through diplomatic means from the Ministry of Foreign Affairs, Republic of Singapore\\n5.1.2.2 Notification by flight plan addressed to the Singapore Air Traffic Control Centre (WSJCZQZX) if received at least 2 hours in advance of the aircraft’s arrival at Singapore Changi Airport or Seletar Aerodrome or 2 hours prior to entering the Singapore Flight Information Region whichever is the earlier will normally be accepted as advance notification in this respect\\n5.1.2.3 All business aviation aircraft shall park in a nose-in position and be pushed back with the aid of an aircraft tow-bar and tow-tractor. Reverse thrust or variable pitch propellers shall not be used. The aircraft must carry its own tow-bar. The aircraft operator may make arrangements with the ground handling agent to provide the tow-bar. The aircraft shall be required to be towed to another aircraft stand should the need arise\\n5.1.2.4 All passengers of the business aviation flight will have to clear CIQ via the Commercially-Important- Persons facility located at Terminal 2\\n5.1.2.5 All business aviation flights must engage a ground handling agent at Singapore Changi Airport\\n5.1.2.6 In all other cases, prior permission must be sought and obtained through diplomatic means from the Ministry of Foreign Affairs, Republic of Singapore\\n5.1.2.7 All non-traffic aircraft are to submit a copy of the Certificate of Airworthiness to CAAS, after each landing, by facsimile at 6545 6519 or by email to CAAS_FS_FOS@caas.gov.sg ← 5.1.3 Application for Traffic Landings and Uplifts (Non-Scheduled Flights) 5.1.3.1 All non-scheduled flights are subject to prior approval\\n5.1.3.2 Only the operator may apply for permission to operate a non-scheduled flight. The following information should be submitted together with the application:  a. Name, address and nationality of operator b. Name, address and business of charterer c. Type, registration mark and carrying capacity of aircraft d. Aircraft documents listed in para 3.2.5 e. Nature of flight including details of whether the flight is to carry passengers or cargo or both  i. for passenger flights: points of origin and destination of passengers, purpose of flight e.g. special event charter, inclusive tours and own-use charter and the names of passengers\\nii. for cargo flights: the origin, destination, description, quantities and dimensions of cargo outbound/inbound or transhipment, as well as whether any item is perishable or classified as dangerous, explosive or munitions of war. (Please see regulations concerning importation, transhipment and exportation of cargo in subsection GEN 1.4)\\nf. Details of route, points of landing and final destination g. Date and time of arrival at, and departure from Singapore (Please see para 4.1.3.4 below) h. Name, address and telephone number of operator's local agent and ground handling agent i. Name and address of consignees and consignors, where applicable j. Any other information that may be relevant to the proposed operations\\n5.1.3.3 All applications must be submitted via https://appserver1.caas.gov.sg/ATLAS  The complete application and its supporting documents must reach the Civil Aviation Authority of Singapore Air Transport Division via the weblink provided at least 3 working days prior to the aircraft’s arrival or departure into/from Singapore to be considered for a “normal permit”. Operators who wish to obtain a permit under 3 working days may submit their applications. Such applications must reach the Air Transport Division at least 24 hours before the proposed flight to be considered for an “express permit”. Applicants for express permits should alert the Air Transport Duty Officer at +65 98331775. Applications will not be considered if insufficient notice is given (not applicable for emergency flights e.g. flights on humanitarian grounds)\\n5.1.3.4 Operators, other than operators of business aviation aircraft as stated in para 4.1.3.5, should schedule their arrivals and departures at Singapore Changi Airport outside the hours 0001 to 0200 UTC (0801-1000 LT) and 0900 to 1559 UTC (1700-2359 LT). Subject to approval (depending on aircraft stand availability), aircraft may be permitted to remain on the ground during the above times on condition that the aircraft vacates the aircraft stand if the need arises. (Please see GEN 4.1 para 1.5 b) regarding off-peak discount of 40% on landing charges)\\n5.1.3.6 All business aviation aircraft shall park in a nose-in position and be pushed back with the aid of an aircraft tow-bar and tow-tractor. Reverse thrust or variable pitch propellers shall not be used when parking or pushing back aircraft. The aircraft operator must ensure that an appropriate tow-bar for the aircraft type is available to facilitate push back operations from the aircraft stand. The aircraft operators may use their own tow-bar or approach ground handling agents in either Seletar or Singapore Changi Airport to secure the appropriate tow-bar\\n5.1.3.7 All passengers of the business aviation flight will have to clear CIQ via the Commercially-Important-Persons facility located beside Terminal 2\\n5.1.3.8 Requests to handle executive jet charter or charter flights via the main terminals are to be sent via email to csc@changiairport.com for exceptional consideration at all times\\n5.1.3.9 All business aviation flights must engage aground handling agent at Singapore Changi Airport\\n5.1.3.10 The appropriate legislation dealing with non-scheduled flights for hire or reward is contained in PART III - Permits For Journeys Other Than Scheduled Journeys of the Air Navigation (Licensing of Air Services) Regulations. Any person who uses any aircraft in contravention of the provisions of Regulation 15 of the legislation shall be guilty of an offence and shall be liable on conviction to a fine not exceeding S$2,500 or to imprisonment for a term not exceeding 3 months or to both and in the case of a second or subsequent offence, to a fine not exceeding S$20,000 or to imprisonment for a term not exceeding 2 years or to both\\n5.1.3.11 Permit Fees  (a) Normal Permits  The following fees shall be paid to the Authority [in accordance with Regulation 18 of the Air Navigation (Licensing of Air Services) Regulations] to obtain a permit which must be applied at least 3 whole working days before the first flight:  i. S$84 for a single one-way or return flight ii. S$162 for 2 or more one-way or return flights but not more than 5 such flights iii. S$326 for 5 one-way or return flights but not more than 10 such flights or iv. S$810 for more than 10 one-way or return flights\\n(b) Express Permits  Operators who wish to obtain a permit under 3 working days, but at least 24 hours before the flight, should contact the Duty Officer at +65 98331775 and submit a complete application via this weblink: https://appserver1.caas.gov.sg/ATLAS. The following fee shall be paid:  i. S$252 for a single one-way or return flight\\nNote 1: “Working Day” means:  i. a period that begins at 8.30am and ends at 6pm on any Monday to Thursday that CAAS is open for business and ii. a period that begins at 8.30am and ends at 5.30pm on any Friday that CAAS is open for business\\nNote 2: Any application that is made after the close of business shall be deemed to have been made on the next working day\\nDefinitions:  Non-scheduled flight - a flight for the carriage of passengers, mail or cargo by air for hire and reward on journeys other than scheduled\\nBusiness aviation flight - a flight that is owned and operated privately by a business corporation or chartered privately by business or corporate executives for non-revenue purposes\\nCharterer - a person, company or corporate body who charters the aircraft and whose name and address appear in the Aircraft Charter Agreement\\nOperator- in relation to an aircraft, the person for the time being having the business management of that aircraft\\n5.2 DOCUMENTARY REQUIREMENTS FOR CLEARANCE OF AIRCRAFT 5.2.1 Same requirements as for SCHEDULED FLIGHTS\\n5.4 APPLICATION FOR DIPLOMATIC CLEARANCE FOR FOREIGN STATE AIRCRAFT  5.4.1 Procedures for Applying Diplomatic Clearance for Landing and Overflight for Foreign State Aircraft in Singapore 5.4.1.1 Except where otherwise agreed, all Foreign State aircraft intending to land at or overfly Singapore are to obtain diplomatic clearance for such landing or overflight from the Ministry of Foreign Affairs, giving information as in para 4.4.2\\n5.4.1.2 The application is to be made giving at least 14 days’ notice\\n5.4.2 Information to be provided when applying for Diplomatic Clearance 5.4.2.1 All applications for diplomatic clearance should contain the following information:  a. Name of Mission/Organisation b. Liaison Officer c. Telephone Number d. Number and Type of Aircraft e. Callsign f. Aircraft Registration g. Full flight itinerary h. Route after entering and before leaving Singapore FIR i. Date of Arrival j. Time of Arrival k. Date of Departure l. Time of Departure m. Arrival from n. Departing to o. Airfield requested p. Name of Pilot q. Number of Crew r. Number of Passengers s. If VIP flight, Name of VIP and number of other officials t. Purpose u. Photograph and sensory equipment if any v. Nature of freight or cargoes carried if any w. Dangerous cargoes, if any (e.g. arms, ammunition, explosives, toxic chemicals) x. Types of services required (e.g. type of fuel, APU/GPU, ground handling etc.) y. Additional/Special request  Note: Aircraft used in military, customs or police services are deemed to be State aircraft\\n6 APPLICATION FOR TEST FLIGHTS 6.1 All applications for test flights are subject to prior approval\\n6.2 All applications are to be made at least 2 working days but not more than 2 weeks in advance. If notice is not complied with, the application may not be considered\\n6.3 Applicants should provide details as listed in items a. to e. below and ensure that the documents as listed in items f. to h. of the aircraft undergoing test flights remain valid during the period of operation:  a. Aircraft Registration b. Aircraft Callsign c. Aircraft Type d. Date / Time / Duration of flight e. Point of Departure and Arrival f. Certificate of Registration g. Certificate of Airworthiness h. A Permit to Fly, issued by CAAS, in the absence of a valid Certificate of Airworthiness\\n7 AIRCRAFT BANNED FROM OPERATIONS AT SINGAPORE AERODROMES 7.1 The Antonov-12 aircraft is banned from all operations to/from Singapore aerodromes due to concerns over its continuing airworthiness\\n1.2 Dutiable Goods. All dutiable goods brought into Singapore are subject to customs duty and/or excise duty and GST. There are 4 categories of dutiable goods: Intoxicating liquors tobacco products motor vehicles and motor fuel. Please refer to the Singapore Customs’ website for the latest list of dutiable goods and their respective duty rates. There is no customs duty on goods exported from Singapore\\n1.3 Duty-Free Allowance. Travellers are entitled to duty-free concession for liquors if they meet all the following conditions:  - Is 18 years of age and above - Have spent 48 hours or more outside Singapore immediately before arrival - Not arriving from Malaysia - The liquor is for personal consumption and - The liquor is not prohibited from import into Singapore\\nBona-fide crew members are granted duty-free concession on 0.25 litre of spirits and 1 litre of wine or 1 litre of beer\\n1.4 GST Taxable Goods. All goods brought into Singapore are subject to GST, at the prevailing rate of 7 percent\\nGST is levied on the value of goods, which may include the cost, insurance and freight (CIF) plus other chargeable costs and the duty payable (if applicable)\\n1.5 GST Import Relief. Travellers (excluding crew members and holders of a work permit, employment pass, student pass, dependent pass or long-term pass issued by the Singapore Government), are granted GST import relief on new articles, souvenirs, gifts and food preparations brought into Singapore. These goods must be intended for traveller's personal use or consumption and not for sale. The GST import relief amount is based on the number of hours the traveller has spent outside Singapore  There is no GST import relief and duty-free concession on intoxicating liquor and tobacco products, as well as goods imported for commercial purposes\\nFor more information on duty-free concession and GST import relief, please visit Singapore Customs’ website\\n1.6 Declaration and Payment of Duty and/or GST. Arriving travellers are required to declare and pay the duty and GST to bring in dutiable and taxable goods exceeding their duty-free concession and GST import relief\\nFor convenience, you are encouraged to make an advance declaration and payment of duties and GST prior to your arrival through our Customs@SG mobile app or web portal. Once tax payment is successful, the app will create an e-receipt in your mobile device and you may exit the Arrival Hall via the Green Channel. If you are stopped for checks, you can show the e-receipt stored in your mobile device as proof of payment to the officers\\nAlternatively, you may proceed directly to the Customs Tax Payment Office or the Red Channel upon arrival to declare your goods. Please present supporting documents such as invoices or receipts indicating the value of your goods to facilitate declaration and payment (if necessary)\\n1.7 Goods Requiring a Customs Import Permit. A valid Customs import permit is required for clearance if travellers are carrying (but not limited to): More than 0.4 kilogrammes of cigarettes or other tobacco products, more than 10 litres of liquor products, more than 0.5 kilogrammes of investment precious metals for personal use, more than 10 litres of motor fuel, goods for trade or commercial use the GST on which exceeds S$300 or goods clearly marked as trade samples (excluding liquors and tobacco products) the value of which exceeds S$400  1.8 Prohibited Goods. The following items are NOT allowed to be imported into Singapore. Some examples of prohibited goods include (but not limited to):  - Chewing gum (except approved oral dental and medicated gum by Singapore's Health Sciences Authority) - Chewing tobacco and imitation tobacco products (e.g. electronic cigarettes, etc) - Nasal snuff - Oral snuff (including snus and dipping tobacco) - Gutkha, Khaini and Zarda - Shisha - Smokeless cigars, smokeless cigarillos or smokeless cigarettes - Dissolvable tobacco or nicotine. Any product containing nicotine or tobacco that may be used topically for application, by implant or injected into any parts of the body - Any solution or substance, of which tobacco or nicotine is a constituent, that is intended to be used with an electronic nicotine delivery system or vaporizers - Cigarette lighters of pistol or revolver shape - Controlled drugs and psychotropic substances - Endangered species of wildlife and their by-products - Firecrackers - Obscene articles, publications, video tapes/discs and software - Reproduction of copyright publications, video tapes, video compact discs, laser discs, records or cassettes - Seditious and treasonable materials  It is an offence to attempt to bring prohibited goods into Singapore\\n1.9 Controlled Goods. You are required to obtain an import permit or authorisation form from the relevant Competent Authorities before you can bring controlled goods into Singapore. Please produce the goods and the import permit or authorisation form to the checking officer at the Red Channel on your arrival. Some examples of controlled goods include (but not limited to):  - Animals, birds, fish and their products - CDs, DVDs, films and video games - Arms and explosives - Medicines and pharmaceutical products - Telecommunication and radio communication equipment  Please visit Customs website for more information on controlled and prohibited goods\\n2 IMMIGRATION REQUIREMENTS 2.1 All passengers are required to present themselves with their travel documents for examination, and endorsements (if necessary). Every passenger must fill in a Disembarkation/Embarkation form (including one for each child) except Singaporeans, Permanent Residents and long term pass holders\\n2.2 Any person entering Singapore from a place outside Singapore, or is leaving Singapore for a place outside Singapore (including aircrew entering or leaving Singapore on test flights) shall present to an immigration officer at an authorised airport, a valid passport or a valid travel document recognised by the Government of Singapore (in the case of an alien, a visa for Singapore where such a visa is required) with the exception of the following persons:  a. A member of the Singapore Armed Forces travelling on duty b. A member of such Visiting Forces as the Minister may determine c. Any child or person who is included in the passport or other travel document of a parent of the child, or of a spouse or other relative of the person and is accompanying that parent, spouse or relative (as the case may be) when travelling to and leaving from Singapore\\nHolders of diplomatic, official and service passports do not need a visa for entry\\nHolders of diplomatic, public affairs and service passports do not need a visa for entry\\nHolders of diplomatic and official passports do not need a visa for entry  ∼ Holders of diplomatic passports do not need a visa for entry  These travel documents are subjected to assessment of recognition for entry into Singapore  Nationals of Commonwealth of Independent States (Armenia, Azerbaijan, Belarus, Kazakhstan, Kyrgyzstan, Moldova, Russia, Tajikistan, and Uzbekistan), Georgia, Turkmenistan, and Ukraine may qualify for the 96-hour visa free transit facility (VFTF) provided that:  a. the person is in transit to a third country b. the person holds a valid passport, confirmed onward air-ticket, entry facilities (including visa) to the third country and have sufficient funds for the period of stay in Singapore c. the person continues his journey to the third country within 96 hours visa free period granted and d. the person satisfies Singapore's entry requirements\\n2.4 Visitors must satisfy the following basic entry requirements before they are allowed to enter Singapore:  a. They are in possession of valid passports with at least 6 months’ validity with assurance of their re-entry into their countries of residence or origin b. They have sufficient funds to last for the intended period of stay in Singapore c. They hold confirmed onward/return tickets and entry facilities (including visas) to their onward destinations and d. They have a Yellow Fever Vaccination Certificate, if applicable\\nThe granting of social visit passes to all visitors is determined by the Immigration & Checkpoints Authority (ICA) officers at the point of entry\\n3 PUBLIC HEALTH REQUIREMENTS 3.1 Strict compliance with the provisions of the International Health Regulations, 2005, of the World Health Organisation, and Singapore's Infectious Diseases Act is required\\n3.2 The pilot-in-command of an aircraft landing at Airports in Singapore shall furnish the Airport Health Officer with one copy of the General Declaration form (see ICAO Annex 9 Appendix 1) and one copy of the Passenger Manifest (see ICAO Annex 9 Appendix 2) signed by the pilot-in-command\\n3.3 Vaccination Certificate Requirements for entry into Singapore are as follows:  A valid International Certificate of Vaccination for yellow fever is required from travellers above one year of age who have been in or have passed through any country with risk of yellow fever transmission in the six days before arriving in Singapore. The certificate is valid for life, beginning from 10 days after the date of vaccination (this applies to existing and new certificates). An exemption letter, signed by a medical practitioner, is required for individuals who are exempted from being vaccinated before entry into Singapore. Please refer to Singapore's Immigration & Checkpoints Authority website for the updated list of countries with risk of yellow fever transmission\\n(This requirement will not be applicable for the conversion of a foreign licence to a Singapore PPL.)  b. The pilot’s foreign licence and its associated ratings must be valid from the time of application to the time of issue of a Singapore licence and its associated ratings\\nc. The pilot must fulfil all conversion terms as specified by CAAS within a period of 6 months preceding the issue of a Singapore licence and its associated ratings\\n4.2.2 Further details on the conversion of a foreign licence can be obtained from:  Safety Policy and Planning Division Personnel Licensing Section Civil Aviation Authority of Singapore Singapore Changi Airport Terminal 2 South Finger Pier Level 3 Unit No. 038-039 Singapore 819643  TEL: (65) 65412482 FAX: (65) 65434941  4.3 PILOTS WHO HAVE ATTAINED THE AGE OF 65 4.3.1 Any pilot who has attained his 65th birthday shall not be permitted to act as pilot-in-command or co-pilot of an aircraft engaged in scheduled or non-scheduled international commercial air transport operations within Singapore airspace\\nGEN 1.4 ENTRY, TRANSIT AND DEPARTURE OF CARGO  1 CUSTOMS REQUIREMENTS CONCERNING CARGO AND OTHER ARTICLES 1.1 The following supporting documents: Airway Bill, Invoice, Packing List together with Customs Permits [for all goods including controlled goods, dutiable goods and goods subject to Goods and Services Tax (GST)] are to be produced if they are required for checks by Immigration and Checkpoints Authority officers at the checkpoint\\n1.2 The following are applicable to the Free Trade Zone (FTZ):  a. Transhipment within the same FTZ (In Through Airway Bill cases), no Customs documentation is required if the items are not controlled by the Competent Authorities (CAs) b. Transhipment of controlled goods within the same FTZ (In Through Airway Bill cases), a transshipment (Through transshipment within the same FTZ) permit is required and c. Import for re-export within the same FTZ (In Non-Through Airway Bill cases), an import permit is required for the importation of goods into the FTZ and an export permit is required for the exportation of goods from the same FTZ\\n1.3 Under the Strategic Goods (Control) Act (SGCA), goods in transhipment or transit are subject to controls under the full control list. No clearance documents are required for strategic goods in transhipment or transit which are taken into a FTZ immediately after they have been brought into Singapore and stay in the FTZ for not more than 45-days (for sea) / 21-days (for air) except for certain categories of goods. For transhipment and transit of certain sensitive strategic goods (listed under the Fourth and Fifth Schedule of the SGCR) and goods that are intended or likely to be used for nuclear, chemical or biological weapon purposes, or missiles capable of delivering such weapons (i.e. catch-all for WMD purposes), a strategic good permit is still required. Depending on the conditions stated in the permits, these goods may be required to be presented for Customs clearance at the checkpoint  1.4 For the exportation of dutiable goods from a Licensed Warehouse, or non-dutiable goods from a Zero-GST Warehouse, Customs outward permits are to be presented for checkpoint inspection and clearance\\n1.5 For the importation and exportation of controlled goods, depending on the Competent Authorities’(CA) requirements, these goods may be required to be presented for Customs clearance at the checkpoint. For more information on the list of Controlled and Prohibited Goods for the importation and exportation of goods, please visit the respective pages on the Singapore Customs website. You may also refer to the Strategic Goods and the United Nations Security Council Sanctions webpages for more information on the relevant topics\\n2 VETERINARY, ANIMALS, BIRDS, MEAT, FISH AND PLANT QUARANTINE REQUIREMENTS 2.1 Prior permission of the Agri-Food and Veterinary Authority (AVA) is required for import, export or transshipment of:  a. Animals, birds, eggs, meat and meat products(including canned or processed meat), animal products, veterinary biological, fertilizers containing animal products  b. Fish (for human consumption as well as for aquaria), fisheries products (in all forms), aquatic animals (alive or dead)\\nc. Plants and propagatable plant parts including cuttings, seeds and bulbs with or without potting medium, organic fertilisers of plant origin, live insects and microorganisms. Plant produce including cutflowers, fruits and vegetables from the American Tropics (between Lat 23 1 / 2 degrees N and 23 1 / 2  degrees S)\\n2.2 In the case of live animals, prior permission is also required for animals in transit. No prior permission required for transshipment of plants and plant products\\n2.3 Prior permission of the Agri-Food and Veterinary Authority (AVA) is required for the import and export of all species of wild animals and plants and their parts or derivatives protected under the Convention on International Trade in Endangered Species of Wild Fauna and Flora (CITES)\\n4 REQUIREMENTS FOR THE CARRIAGE OF DANGEROUS GOODS AND MUNITIONS OF WAR (INCLUDING ARMS AND EXPLOSIVES) IN AIRCRAFT  4.1 DANGEROUS GOODS 4.1.1 Paragraph 50D of the Air Navigation Order state that dangerous goods shall not be carried or have loaded in an aircraft unless the operator of the aircraft has been granted with a dangerous goods permit granted by the Director-General of Civil Aviation and in accordance with any conditions which may be imposed. This provision applies to all aircraft flying to, from or over the Republic of Singapore, and to Singapore registered aircraft wherever they may be. Where an operator of an aircraft has diplomatic clearance from the Ministry of Foreign Affairs to land the aircraft in Singapore, the operator is not required, for the period of time that the diplomatic clearance is valid, to obtain a dangerous goods permit\\n4.1.2 A dangerous goods permit, if granted, is subject to compliance with Annex 18 to the Convention on International Civil Aviation and the latest edition of the ICAO Technical Instructions relating to the Safe Transport of Dangerous Goods by Air\\n4.1.3 Operators who wish to carry dangerous goods should submit their applications to the address below, in the prescribed form, giving full details of the consignment:  Flight Standards Division Civil Aviation Authority of Singapore Singapore Changi Airport P.O.Box 1, Singapore 918141 FAX: (65) 65456519 TEL: (65) 65413487  Each application must be supported by a shipper's declaration form, airway bill and commercial invoice. All airline operators planning to carry dangerous goods to, from or through Singapore may request for the application forms from Flight Standards Division, CAAS (email: CAAS_dangerousgoods@caas.gov.sg). These applications should be submitted at least 7 working days before the intended date of carriage\\n4.2 MUNITIONS OF WAR 4.2.1 Paragraph 50C of the Air Navigation Order states that munitions of war shall not be carried or have loaded in an aircraft unless the operator of the aircraft has been granted with a munitions of war permit granted by the Director-General of Civil Aviation and in accordance with any conditions which may be imposed. This provision applies to all aircraft flying to, from or over the Republic of Singapore, and to Singapore registered aircraft wherever they may be. Where an operator of an aircraft has diplomatic clearance from the Ministry of Foreign Affairs to land the aircraft in Singapore, the operator is not required, for the period of time that the diplomatic clearance is valid, to obtain a munitions of war permit\"}]"
            ]
          },
          "metadata": {
            "tags": []
          },
          "execution_count": 12
        }
      ]
    },
    {
      "cell_type": "code",
      "metadata": {
        "id": "4PQbP6Yy8eMV",
        "colab_type": "code",
        "colab": {
          "base_uri": "https://localhost:8080/",
          "height": 70
        },
        "outputId": "8ca7339a-8ec3-446b-ed91-f408f4ee833b"
      },
      "source": [
        "file1 = open(\"/drive/My Drive/data/summary.txt\",\"r+\") \n",
        "string = file1.read()\n",
        "paragraphs =string.split('.\\n')\n",
        "list_par=[]\n",
        "for p in range(len(paragraphs)):\n",
        "  #Remove headers and footers\n",
        "  #if ('©' in paragraphs[p]) or ('AIP SingaporeGEN' in paragraphs[p]):\n",
        "    #continue\n",
        "  #turn lists into sentences by replacing - with ,\n",
        "  paragraphs[p] = paragraphs[p].replace(';\\n -',',')\n",
        "  #first element of list does not require a comma\n",
        "  paragraphs[p]= paragraphs[p].replace('\\n -','')\n",
        "  paragraphs[p]=paragraphs[p].replace(';','')\n",
        "  result = paragraphs[p].split('\\n')\n",
        "  for r in range(len(result)):\n",
        "    #Remove whitespace between lines\n",
        "    result[r] = result[r].strip()\n",
        "    #Remove whitespace between words\n",
        "    words = result[r].split(' ')\n",
        "    s = ' '\n",
        "    result[r] = s.join([word for word in words if word != ''])\n",
        "  paragraphs[p] = s.join(result)\n",
        "  paragraphs[p]=paragraphs[p].replace('\\n','')\n",
        "  paragraphs[p] = paragraphs[p].replace('°',' degrees ')\n",
        "  list_par.append(paragraphs[p].strip())\n",
        "sep = '\\n '\n",
        "passage = sep.join(list_par)\n",
        "dict1= [{'meta':{'name':'summary.txt'},'text':passage}]\n",
        "dict1"
      ],
      "execution_count": 36,
      "outputs": [
        {
          "output_type": "execute_result",
          "data": {
            "text/plain": [
              "[{'meta': {'name': 'summary.txt'},\n",
              "  'text': \"1 INTRODUCTION 1.1 International flights into, from or over Singapore territory shall be subject to the current Singapore regulations relating to civil aviation. These regulations correspond in all essentials to the Standards and Recommended Practices contained in Annex 9 to the Convention on International Civil Aviation\\n 1.2 Aircraft flying into or departing from Singapore territory shall make their first landing at, or final departure from an international aerodrome (see AIP Singapore page AD 1.3-1 and section AD 2)\\n 1.3 Notwithstanding the regulations relating to civil aviation over Singapore territory, aircraft operators should consult the respective AIPs for other documentary and / or permit requirements for flights intending to enter, depart, and / or overfly the sovereign airspaces of States along the planned flight routes\\n 2 APPLICATION FOR SLOTS AT SINGAPORE CHANGI AIRPORT 2.1 Singapore Changi Airport is a slot coordinated airport, with Changi Airport Group (CAG) as the Slot Coordinator\\n To ensure efficiency of aircraft operations and optimisation of airport resources, all operators of scheduled and non-scheduled (commercial and non-commercial) flights must obtain slots from the Changi Slot Coordinator prior to the operation of such flights\\n 2.2 To apply for slots for access to Singapore Changi Airport, all operators or agents of non-scheduled, commercial and non-commercial flights shall submit applications for slots via either a Slot Clearance Request (SCR) to the Changi Slot Coordinator, or for operators without a 2-letter IATA airline code, a General (Aviation) Clearance Request (GCR) through the Online Coordination System (OCS) (at www.online-coordination.com)\\n Changi Slot Coordinator c/o Changi Airport Group (Singapore) Pte Ltd Singapore Changi Airport P.O. Box 168 Singapore 918146 Email: csc@changiairport.com Tel: +65 6541 2378 or +65 6541 3064  2.3 Operators or agents of non-scheduled, commercial and non-commercial flights shall submit their slot requests to the Changi Slot Coordinator no earlier than 7 calendar days and but no later than 24 hours prior to the operation of the flight, for which the slot will be utilized\\n 2.4 To facilitate the optimisation of aircraft parking resources at Singapore Changi Airport, operators or agents of non-scheduled, commercial and non-commercial flights are strongly advised to limit their ground time to no more than 48 hours from the arrival slot timing\\n 2.5 For urgent non-scheduled, commercial and non-commercial flight operations that are less than 24 hours from the proposed date of operation, in addition to submitting the SCR/GCR, operators/agents must also inform the Airside Operations Section of CAG (Airside Management Centre) at +65 6603 4906 / +65 6541 2275 / +65 6541 2273\\n 2.6 EXEMPT FLIGHTS  2.6.1 Notwithstanding paragraph 2.1, the following types of flights may operate to / from Singapore Changi Airport without obtaining slots from the Changi Slot Coordinator: Emergency landings. e.g. diversions or quick returns after takeoff, oil spill response operations Flights operating under diplomatic cover Flights operated by the military, including those carrying supplies but excluding those chartered on a commercial basis by the military Humanitarian flights including those responding to medical emergencies where the safety of human life is concerned or involved in search and rescue operations Technical flights including radar and NAVAID calibration / check flights  2.7 RESTRICTIONS ON OPERATION OF PROPELLER AIRCRAFT AT SINGAPORE CHANGI AIRPORT  2.7.1 Both scheduled and non-scheduled (commercial and non-commercial) propeller aircraft operations will not be allocated new slots at Singapore Changi Airport\\n 3 SUBMISSION OF FLIGHT DETAILS AND APPLICATION FOR SLOTS AT SELETAR AIRPORT 3.1 Seletar Airport is a schedules facilitated airport, with Changi Airport Group (CAG) as the Seletar Schedules Facilitator. To ensure efficiency of aircraft operations and optimisation of airport resources, all operators of non-scheduled (commercial and non-commercial) flights must submit details of their planned operations to the Seletar Schedules Facilitator prior to these operations. Operators shall also be prepared to make adjustments to their schedules when necessary as advised by the Seletar Schedules Facilitator to ensure that airport capacity parameters are not exceeded. In addition, all operators of scheduled flights must obtain slots from the Seletar Schedules Facilitator prior to the operation of such flights. No operation will be permitted without the approval of the Seletar Schedules Facilitator\\n 3.2 For non-scheduled (commercial and non-commercial) flight operations, operators or agents shall submit details of their planned operations to seletar.airside@changiairport.com during the flights submission window, defined as no earlier than 7 calendar days but no later than 1400 UTC / 2200 LT on the day prior to the planned operations\\n 3.3 For urgent non-scheduled (commercial and non-commercial) flight operations of which details were not submitted during the flights submission window, operators or agents must submit the details to seletar.airside@changiairport.com and call to inform the Airside Operations Section of Seletar Airport at +65 6481 5077\\n 3.4 Operators or agents shall include the following details of the flight operations in their submission: Name of operator and appointed ground handling agent, Date and time of arrival and departure (in local time), Aircraft type and seat capacity, Origin and destination, Aircraft registration number and Purpose of flight (e.g. business aviation general aviation cargo maintenance, repair and operations (MRO) etc.)\\n 3.5 For scheduled flight operations, operators shall submit applications for slots via a Slot Clearance Request (SCR) to csc@changiairport.com\\n 3.6 All operators shall adhere to the IATA Worldwide Slot Guidelines (WSG). A copy of this document can be obtained from www.iata.org/wsg  3.7 EXEMPT FLIGHTS  3.7.1 Notwithstanding paragraph 3.1, the following types of flights may operate to / from Seletar Airport without submitting details of their flight operations to the Seletar Schedules Facilitator during the flights submission window as stipulated in paragraph 3.2: Emergency landings, e.g. diversions or quick returns after takeoff, oil spill response operations, Flights operating under diplomatic cover, Flights operated by the military, including those carrying supplies but excluding those chartered on a commercial basis by the military, Humanitarian flights including those responding to medical emergencies where the safety of human life is concerned or involved in search & rescue operations and Technical flights including radar and NAVAID calibration /check flights\\n 3.7.2 However, operators or agents of exempt flights shall call to inform the Airside Operations Section of Seletar Airport at +65 6481 5077 of their flight operations in advance\\n 3.8 DESIGNATED HOURS FOR TRAINING FLIGHTS  3.8.1 To optimise the use of capacity, training and non-training flights will be segregated through designated hours for training flights. Non-training flights will not be permitted at Seletar Airport during the following periods from Tuesdays to Sundays: 0130 to 0230 UTC / 0930 to 1030 LT, 0400 to 0500 UTC / 1200 to 1300 LT, 0700 to 0800 UTC / 1500 to 1600 LT and 0900 to 1000 UTC / 1700 to 1800 LT\\n 3.8.2 All operators or agents and pilots are to plan their flight schedules with sufficient buffers to avoid the designated hours for training flights\\n 3.8.3 Notwithstanding paragraph 3.8.1, the following types of flights may be permitted during the designated hours for training flights: Emergency landings, e.g. diversions or quick returns after takeoff, oil spill response operations, Flights operating under diplomatic cover and Humanitarian flights including those responding to medical emergencies where the safety of human life is concerned or involved in search & rescue operations\\n 4 CIVIL SCHEDULED FLIGHTS  4.1 GENERAL 4.1.1 Before a scheduled service is permitted to operate into the Republic of Singapore, it must be appropriately covered by either an air services agreement, a licence issued in accordance with the Air Navigation (Licensing of Air Services) Regulations or other aeronautical arrangements. All scheduled flights are subject to prior approval\\n 4.2 APPLICATION FOR TRAFFIC LANDINGS AND UPLIFTS (SCHEDULED FLIGHTS) 4.2.1 Only the airline operator may apply for permission to operate scheduled flights\\n 4.2.2 All airline operators are to submit their applications for scheduled flights for each IATA schedule season one month before the start of the season for approval by CAAS\\n 4.2.3 In addition, airline operators are also required to apply for CAAS’ approval for any revisions to their schedule filings for the season, ad-hoc changes to flight schedules and flight cancellations. Such applications should be filed through the CAAS Air Transport Licensing and Administration System (ATLAS) at https://appserver1.caas.gov.sg/ATLAS 5 working days before flight changes take place\\n 4.2.4 If insufficient notice as specified in paragraphs 3.2.2 and 3.2.3 is given, the application may not be considered\\n 4.2.5 Airline operators are to ensure that a copy of the following documents, which are to remain valid during the period of operations, are lodged with CAAS:  a. Certificate(s) of Registration(s) for aircraft used b. Certificate(s) of Airworthiness for aircraft used and c. Air Operator’s Certificate  4.2.6 All applications and required documents listed in paragraph 3.2.5 should be submitted via ATLAS\\n 4.3 DOCUMENTARY REQUIREMENTS FOR CLEARANCE OF AIRCRAFT 4.3.1 It is necessary that the undermentioned aircraft documents be submitted by airline operators for clearance on entry and departure of their aircraft to and from Singapore. All documents listed below must follow the ICAO standard format as set forth in the relevant appendices to ICAO Annex 9. They are acceptable in English only and must be completed in legible handwriting. No visas are required in connection with such documents\\n 4.3.2 Aircraft Documents Requirements (arrival/departure) a. One copy of the General Declaration is endorsed and returned by Customs, signifying clearance\\n b. If no passengers are embarking (disembarking) and no articles are laden (unladen), no aircraft documents except copies of the General Declaration need be submitted to the above authorities\\n 5 CIVIL NON-SCHEDULED FLIGHTS  5.1 PROCEDURES  5.1.1 Overflights 5.1.1.1 Prior notification is necessary. Subject to the observance of the terms of the Convention on International Civil Aviation, Singapore facilitates overflights by civil aircraft registered in any ICAO Contracting States with which Singapore has diplomatic relations provided adequate advance notification shall have been given\\n 5.1.1.2 Notification by flight plan addressed to the Singapore Air Traffic Control Centre (WSJCZQZX) if received at least 2 hours in advance of the aircraft’s arrival into the Singapore Flight Information Region will normally be accepted as advance notification in this respect\\n 5.1.1.3 In all other cases, prior permission must be sought and obtained through diplomatic means from the Ministry of Foreign Affairs, Republic of Singapore\\n 5.1.2 Non-Traffic or Technical Landings 5.1.2.1 Prior notification is necessary. Subject to the observance of the terms of the Convention on International Civil Aviation, Singapore facilitates such non-traffic or technical landings by civil aircraft registered in any ICAO Contracting States with which Singapore has diplomatic relations provided adequate advance notification shall have been given\\n 5.1.2.2 Notification by flight plan addressed to the Singapore Air Traffic Control Centre (WSJCZQZX) if received at least 2 hours in advance of the aircraft’s arrival at Singapore Changi Airport or Seletar Aerodrome or 2 hours prior to entering the Singapore Flight Information Region whichever is the earlier will normally be accepted as advance notification in this respect\\n 5.1.2.3 All business aviation aircraft shall park in a nose-in position and be pushed back with the aid of an aircraft tow-bar and tow-tractor. Reverse thrust or variable pitch propellers shall not be used. The aircraft must carry its own tow-bar. The aircraft operator may make arrangements with the ground handling agent to provide the tow-bar. The aircraft shall be required to be towed to another aircraft stand should the need arise\\n 5.1.2.4 All passengers of the business aviation flight will have to clear CIQ via the Commercially-Important- Persons facility located at Terminal 2\\n 5.1.2.5 All business aviation flights must engage a ground handling agent at Singapore Changi Airport\\n 5.1.2.6 In all other cases, prior permission must be sought and obtained through diplomatic means from the Ministry of Foreign Affairs, Republic of Singapore\\n 5.1.2.7 All non-traffic aircraft are to submit a copy of the Certificate of Airworthiness to CAAS, after each landing, by facsimile at 6545 6519 or by email to CAAS_FS_FOS@caas.gov.sg  5.1.3 Application for Traffic Landings and Uplifts (Non-Scheduled Flights) 5.1.3.1 All non-scheduled flights are subject to prior approval\\n 5.1.3.2 Only the operator may apply for permission to operate a non-scheduled flight. The following information should be submitted together with the application: a. Name, address and nationality of operator b. Name, address and business of charterer c. Type, registration mark and carrying capacity of aircraft d. Aircraft documents listed in para 3.2.5 e. Nature of flight including details of whether the flight is to carry passengers or cargo or both  i. for passenger flights: points of origin and destination of passengers, purpose of flight e.g. special event charter, inclusive tours and own-use charter and the names of passengers\\n ii. for cargo flights: the origin, destination, description, quantities and dimensions of cargo outbound/inbound or transhipment, as well as whether any item is perishable or classified as dangerous, explosive or munitions of war. (Please see regulations concerning importation, transhipment and exportation of cargo in subsection GEN 1.4)\\n f. Details of route, points of landing and final destination g. Date and time of arrival at, and departure from Singapore (Please see para 4.1.3.4 below) h. Name, address and telephone number of operator's local agent and ground handling agent i. Name and address of consignees and consignors, where applicable j. Any other information that may be relevant to the proposed operations\\n 5.1.3.3 All applications must be submitted via https://appserver1.caas.gov.sg/ATLAS  The complete application and its supporting documents must reach the Civil Aviation Authority of Singapore Air Transport Division via the weblink provided at least 3 working days prior to the aircraft’s arrival or departure into/from Singapore to be considered for a “normal permit”. Operators who wish to obtain a permit under 3 working days may submit their applications. Such applications must reach the Air Transport Division at least 24 hours before the proposed flight to be considered for an “express permit”. Applicants for express permits should alert the Air Transport Duty Officer at +65 98331775. Applications will not be considered if insufficient notice is given (not applicable for emergency flights e.g. flights on humanitarian grounds)\\n 5.1.3.4 Operators, other than operators of business aviation aircraft as stated in para 4.1.3.5, should schedule their arrivals and departures at Singapore Changi Airport outside the hours 0001 to 0200 UTC (0801-1000 LT) and 0900 to 1559 UTC (1700-2359 LT). Subject to approval (depending on aircraft stand availability), aircraft may be permitted to remain on the ground during the above times on condition that the aircraft vacates the aircraft stand if the need arises. (Please see GEN 4.1 para 1.5 b) regarding off-peak discount of 40% on landing charges)\\n All business aviation aircraft operating as executive jet charter may be permitted to remain on the ground or layover at Singapore Changi Airport\\n All business aviation aircraft shall park in a nose-in position and be pushed back with the aid of an aircraft tow-bar and tow-tractor. Reverse thrust or variable pitch propellers shall not be used when parking or pushing back aircraft. The aircraft operator must ensure that an appropriate tow-bar for the aircraft type is available to facilitate push back operations from the aircraft stand. The aircraft operators may use their own tow-bar or approach ground handling agents in either Seletar or Singapore Changi Airport to secure the appropriate tow-bar\\n All passengers of the business aviation flight will have to clear CIQ via the Commercially-Important-Persons facility located beside Terminal 2\\n Requests to handle executive jet charter or charter flights via the main terminals are to be sent via email to csc@changiairport.com for exceptional consideration at all times\\n All business aviation flights must engage aground handling agent at Singapore Changi Airport\\n The appropriate legislation dealing with non-scheduled flights for hire or reward is contained in PART III - Permits For Journeys Other Than Scheduled Journeys of the Air Navigation (Licensing of Air Services) Regulations. Any person who uses any aircraft in contravention of the provisions of Regulation 15 of the legislation shall be guilty of an offence and shall be liable on conviction to a fine not exceeding S$2,500 or to imprisonment for a term not exceeding 3 months or to both and in the case of a second or subsequent offence, to a fine not exceeding S$20,000 or to imprisonment for a term not exceeding 2 years or to both\\n Permit Fees (a) Normal Permits: The following fees shall be paid to the Authority [in accordance with Regulation 18 of the Air Navigation (Licensing of Air Services) Regulations] to obtain a permit which must be applied at least 3 whole working days before the first flight: i. S$84 for a single one-way or return flight ii. S$162 for 2 or more one-way or return flights but not more than 5 such flights iii. S$326 for 5 one-way or return flights but not more than 10 such flights or iv. S$810 for more than 10 one-way or return flights\\n (b) Express Permits:  Operators who wish to obtain a permit under 3 working days, but at least 24 hours before the flight, should contact the Duty Officer at +65 98331775 and submit a complete application via this weblink: https://appserver1.caas.gov.sg/ATLAS. The following fee shall be paid: i. S$252 for a single one-way or return flight\\n Note 1: “Working Day” means: i. a period that begins at 8.30am and ends at 6pm on any Monday to Thursday that CAAS is open for business and ii. a period that begins at 8.30am and ends at 5.30pm on any Friday that CAAS is open for business\\n Note 2: Any application that is made after the close of business shall be deemed to have been made on the next working day\\n Definitions:  Non-scheduled flight - a flight for the carriage of passengers, mail or cargo by air for hire and reward on journeys other than scheduled\\n Business aviation flight - a flight that is owned and operated privately by a business corporation or chartered privately by business or corporate executives for non-revenue purposes\\n Charterer - a person, company or corporate body who charters the aircraft and whose name and address appear in the Aircraft Charter Agreement\\n Operator- in relation to an aircraft, the person for the time being having the business management of that aircraft\\n DOCUMENTARY REQUIREMENTS FOR CLEARANCE OF AIRCRAFT Same requirements as for SCHEDULED FLIGHTS\\n 5.3 PERMIT CONDITIONS 5.3.1 The Director-General of Civil Aviation may attach such conditions to a permit as he considers necessary\\n 5.4 APPLICATION FOR DIPLOMATIC CLEARANCE FOR FOREIGN STATE AIRCRAFT  5.4.1 Procedures for Applying Diplomatic Clearance for Landing and Overflight for Foreign State Aircraft in Singapore 5.4.1.1 Except where otherwise agreed, all Foreign State aircraft intending to land at or overfly Singapore are to obtain diplomatic clearance for such landing or overflight from the Ministry of Foreign Affairs, giving information as in para 4.4.2\\n 5.4.1.2 The application is to be made giving at least 14 days’ notice\\n 5.4.2 Information to be provided when applying for Diplomatic Clearance 5.4.2.1 All applications for diplomatic clearance should contain the following information: a. Name of Mission/Organisation b. Liaison Officer c. Telephone Number d. Number and Type of Aircraft e. Callsign f. Aircraft Registration g. Full flight itinerary h. Route after entering and before leaving Singapore FIR i. Date of Arrival j. Time of Arrival k. Date of Departure l. Time of Departure m. Arrival from n. Departing to o. Airfield requested p. Name of Pilot q. Number of Crew r. Number of Passengers s. If VIP flight, Name of VIP and number of other officials t. Purpose u. Photograph and sensory equipment if any v. Nature of freight or cargoes carried if any w. Dangerous cargoes, if any (e.g. arms, ammunition, explosives, toxic chemicals) x. Types of services required (e.g. type of fuel, APU/GPU, ground handling etc.) y. Additional/Special request  Note: Aircraft used in military, customs or police services are deemed to be State aircraft\\n 6 APPLICATION FOR TEST FLIGHTS 6.1 All applications for test flights are subject to prior approval\\n 6.2 All applications are to be made at least 2 working days but not more than 2 weeks in advance. If notice is not complied with, the application may not be considered\\n 6.3 Applicants should provide details as listed in items a. to e. below and ensure that the documents as listed in items f. to h. of the aircraft undergoing test flights remain valid during the period of operation: a. Aircraft Registration b. Aircraft Callsign c. Aircraft Type d. Date / Time / Duration of flight e. Point of Departure and Arrival f. Certificate of Registration g. Certificate of Airworthiness h. A Permit to Fly, issued by CAAS, in the absence of a valid Certificate of Airworthiness\\n 6.4 All applications should be submitted to: Post: Duty Manager, Singapore Air Traffic Control Centre Civil Aviation Authority of Singapore 60 Biggin Hill Road, Singapore 509950 Email: caas_atsops@caas.gov.sg Fax: 65457526  6.5 Details on flight planning for test flights are listed at ENR 1.10 FLIGHT PLANNING\\n 7 AIRCRAFT BANNED FROM OPERATIONS AT SINGAPORE AERODROMES 7.1 The Antonov-12 aircraft is banned from all operations to/from Singapore aerodromes due to concerns over its continuing airworthiness\\n GEN 1.3 ENTRY, TRANSIT AND DEPARTURE OF PASSENGERS AND CREW  1 CUSTOMS REQUIREMENTS 1.1 The Red and Green Channel system is operated at the Airport to expedite customs clearance of arriving air passengers. All arriving passengers shall present themselves personally with their baggage and make oral declarations at the Red Channel if they have any prohibited or controlled goods or goods exceeding their duty-free concession and Goods and Services Tax (GST) import relief. If they do not have any of such goods, they may leave the Arrival Hall through the Green Channel. However, selective checks may be conducted on passengers going through the Green Channel. All crew members shall produce their baggage for clearance at the Red Channel only. Departing passengers are not subject to Customs formalities unless required to do so. Baggage may be examined in such manner as deemed necessary and it shall be the duty of the person in charge of the baggage to produce, open, unpack and repack such baggage\\n 1.2 Dutiable Goods. All dutiable goods brought into Singapore are subject to customs duty and/or excise duty and GST. There are 4 categories of dutiable goods: Intoxicating liquors tobacco products motor vehicles and motor fuel. Please refer to the Singapore Customs’ website for the latest list of dutiable goods and their respective duty rates. There is no customs duty on goods exported from Singapore\\n 1.3 Duty-Free Allowance. Travellers are entitled to duty-free concession for liquors if they meet all the following conditions: Is 18 years of age and above, Have spent 48 hours or more outside Singapore immediately before arrival, Not arriving from Malaysia, The liquor is for personal consumption and The liquor is not prohibited from import into Singapore\\n Bona-fide crew members are granted duty-free concession on 0.25 litre of spirits and 1 litre of wine or 1 litre of beer\\n 1.4 GST Taxable Goods. All goods brought into Singapore are subject to GST, at the prevailing rate of 7 percent\\n GST is levied on the value of goods, which may include the cost, insurance and freight (CIF) plus other chargeable costs and the duty payable (if applicable)\\n 1.5 GST Import Relief. Travellers (excluding crew members and holders of a work permit, employment pass, student pass, dependent pass or long-term pass issued by the Singapore Government), are granted GST import relief on new articles, souvenirs, gifts and food preparations brought into Singapore. These goods must be intended for traveller's personal use or consumption and not for sale. The GST import relief amount is based on the number of hours the traveller has spent outside Singapore  There is no GST import relief and duty-free concession on intoxicating liquor and tobacco products, as well as goods imported for commercial purposes\\n For more information on duty-free concession and GST import relief, please visit Singapore Customs’ website\\n 1.6 Declaration and Payment of Duty and/or GST. Arriving travellers are required to declare and pay the duty and GST to bring in dutiable and taxable goods exceeding their duty-free concession and GST import relief\\n For convenience, you are encouraged to make an advance declaration and payment of duties and GST prior to your arrival through our Customs@SG mobile app or web portal. Once tax payment is successful, the app will create an e-receipt in your mobile device and you may exit the Arrival Hall via the Green Channel. If you are stopped for checks, you can show the e-receipt stored in your mobile device as proof of payment to the officers\\n Please visit Singapore Customs’ website for more information on the Customs@SG mobile app and web portal\\n Alternatively, you may proceed directly to the Customs Tax Payment Office or the Red Channel upon arrival to declare your goods. Please present supporting documents such as invoices or receipts indicating the value of your goods to facilitate declaration and payment (if necessary)\\n 1.7 Goods Requiring a Customs Import Permit. A valid Customs import permit is required for clearance if travellers are carrying (but not limited to): More than 0.4 kilogrammes of cigarettes or other tobacco products, More than 10 litres of liquor products, More than 0.5 kilogrammes of investment precious metals for personal use, More than 10 litres of motor fuel, Goods for trade or commercial use the GST on which exceeds S$300 or Goods clearly marked as trade samples (excluding liquors and tobacco products) the value of which exceeds S$400  1.8 Prohibited Goods. The following items are NOT allowed to be imported into Singapore. Some examples of prohibited goods include (but not limited to): Chewing gum (except approved oral dental and medicated gum by Singapore's Health Sciences Authority) Chewing tobacco and imitation tobacco products (e.g. electronic cigarettes, etc) Nasal snuff Oral snuff (including snus and dipping tobacco) Gutkha, Khaini and Zarda Shisha Smokeless cigars, smokeless cigarillos or smokeless cigarettes Dissolvable tobacco or nicotine. Any product containing nicotine or tobacco that may be used topically for application, by implant or injected into any parts of the body Any solution or substance, of which tobacco or nicotine is a constituent, that is intended to be used with an electronic nicotine delivery system or vaporizers Cigarette lighters of pistol or revolver shape Controlled drugs and psychotropic substances Endangered species of wildlife and their by-products Firecrackers Obscene articles, publications, video tapes/discs and software Reproduction of copyright publications, video tapes, video compact discs, laser discs, records or cassettes Seditious and treasonable materials  It is an offence to attempt to bring prohibited goods into Singapore\\n 1.9 Controlled Goods. You are required to obtain an import permit or authorisation form from the relevant Competent Authorities before you can bring controlled goods into Singapore. Please produce the goods and the import permit or authorisation form to the checking officer at the Red Channel on your arrival. Some examples of controlled goods include (but not limited to): Animals, birds, fish and their products CDs, DVDs, films and video games Arms and explosives Medicines and pharmaceutical products Telecommunication and radio communication equipment  Please visit Customs website for more information on controlled and prohibited goods\\n 2 IMMIGRATION REQUIREMENTS 2.1 All passengers are required to present themselves with their travel documents for examination, and endorsements (if necessary). Every passenger must fill in a Disembarkation/Embarkation form (including one for each child) except Singaporeans, Permanent Residents and long term pass holders\\n 2.2 Any person entering Singapore from a place outside Singapore, or is leaving Singapore for a place outside Singapore (including aircrew entering or leaving Singapore on test flights) shall present to an immigration officer at an authorised airport, a valid passport or a valid travel document recognised by the Government of Singapore (in the case of an alien, a visa for Singapore where such a visa is required) with the exception of the following persons:  a. A member of the Singapore Armed Forces travelling on duty b. A member of such Visiting Forces as the Minister may determine c. Any child or person who is included in the passport or other travel document of a parent of the child, or of a spouse or other relative of the person and is accompanying that parent, spouse or relative (as the case may be) when travelling to and leaving from Singapore\\n AIP AMDT 03/2019 © 2019 Civil Aviation Authority Singapore AIP Singapore GEN 1.3-3 25 APR 2019  2.3 Nationals of the following countries require visas for the purpose of social visits in Singapore (with exception of an aircrew who is an airline crew member that, in the course of a journey on duty from a place outside Singapore to Singapore, or from a place outside Singapore to a place outside Singapore, calls at an authorised airport): Afghanistan Algeria Bangladesh Commonwealth of Independent States i.e. Armenia, Azerbaijan, Belarus, Kazakhstan, Kyrgyzstan, Moldova, Russia, Tajikistan, and Uzbekistan Democratic People's Republic of Korea Egypt Georgia India Iran Iraq Jordan Kosovo Lebanon Libya Mali Morocco Nigeria People's Republic of China Pakistan Saudi Arabia Somalia Sudan Syria Tunisia Turkmenistan Ukraine Yemen  Visitors holding Hong Kong Document of Identity, Macao Special Administrative Region (MSAR) Travel Permit, Palestinian Authority Passport, Refugee Travel Document issued by the Middle-East countries and Temporary Passport issued by United Arab Emirates will also require a visa to enter Singapore\\n Holders of diplomatic, official and service passports do not need a visa for entry\\n Holders of diplomatic, public affairs and service passports do not need a visa for entry\\n Holders of diplomatic and official passports do not need a visa for entry  Holders of diplomatic passports do not need a visa for entry  These travel documents are subjected to assessment of recognition for entry into Singapore  Nationals of Commonwealth of Independent States (Armenia, Azerbaijan, Belarus, Kazakhstan, Kyrgyzstan, Moldova, Russia, Tajikistan, and Uzbekistan), Georgia, Turkmenistan, and Ukraine may qualify for the 96-hour visa free transit facility (VFTF) provided that:  a. the person is in transit to a third country b. the person holds a valid passport, confirmed onward air-ticket, entry facilities (including visa) to the third country and have sufficient funds for the period of stay in Singapore c. the person continues his journey to the third country within 96 hours visa free period granted and d. the person satisfies Singapore's entry requirements\\n © 2019 Civil Aviation Authority Singapore AIP AMDT 03/2019 GEN 1.3-4 AIP Singapore 25 APR 2019  Nationals of India and the PRC may qualify for the 96-hour VFTF provided that:  a. the person is in transit to or from a third country via Singapore by any mode of transport and will depart via air or sea  b. the person holds a valid passport and confirmed onward air/ferry/cruise ticket for departure from Singapore within 96 hours  c. the person has a valid visa/long-term pass (with a validity of at least 1 month from the date of entry into Singapore under the VFTF) issued by any of the following countries: Australia Canada Germany Japan New Zealand Switzerland United Kingdom United States of America   A visa is considered valid so long as it is good for entry into one of the eight countries listed above. Travellers with Single Journey Visas (SJV) may still be granted VFTF on the return leg of their journey (i.e. after the SJV is used and no longer valid), but: the person must travel directly from the country that issued the SJV, en route through Singapore, back to their home country the person must not have returned to their home country since they last used the SJV\\n 2.4 Visitors must satisfy the following basic entry requirements before they are allowed to enter Singapore:  a. They are in possession of valid passports with at least 6 months’ validity with assurance of their re-entry into their countries of residence or origin b. They have sufficient funds to last for the intended period of stay in Singapore c. They hold confirmed onward/return tickets and entry facilities (including visas) to their onward destinations and d. They have a Yellow Fever Vaccination Certificate, if applicable\\n The granting of social visit passes to all visitors is determined by the Immigration & Checkpoints Authority (ICA) officers at the point of entry\\n 3 PUBLIC HEALTH REQUIREMENTS 3.1 Strict compliance with the provisions of the International Health Regulations, 2005, of the World Health Organisation, and Singapore's Infectious Diseases Act is required\\n 3.2 The pilot-in-command of an aircraft landing at Airports in Singapore shall furnish the Airport Health Officer with one copy of the General Declaration form (see ICAO Annex 9 Appendix 1) and one copy of the Passenger Manifest (see ICAO Annex 9 Appendix 2) signed by the pilot-in-command\\n 3.3 Vaccination Certificate Requirements for entry into Singapore are as follows:  A valid International Certificate of Vaccination for yellow fever is required from travellers above one year of age who have been in or have passed through any country with risk of yellow fever transmission in the six days before arriving in Singapore. The certificate is valid for life, beginning from 10 days after the date of vaccination (this applies to existing and new certificates). An exemption letter, signed by a medical practitioner, is required for individuals who are exempted from being vaccinated before entry into Singapore. Please refer to Singapore's Immigration & Checkpoints Authority website for the updated list of countries with risk of yellow fever transmission\\n AIP AMDT 03/2019 © 2019 Civil Aviation Authority Singapore AIP Singapore GEN 1.3-5 25 APR 2019  4 FLYING LICENCES AND RATINGS  4.1 VISITING PILOTS - HOLDERS OF NON-SINGAPORE PILOT LICENCES 4.1.1 When a holder of a non-Singapore pilot’s licence wishes to fly on a Singapore registered aircraft in a private capacity in Singapore, he will be required to apply for a Certificate of Validation for his foreign licence. The Certificate of Validation, if approved, will be issued for this purpose only and for a limited period. The applicant would also be required to fulfil certain conditions. Pilots who wish to apply for a Certificate of Validation should contact the Personnel Licensing Section of the Civil Aviation Authority of Singapore (see address in paragraph 4.2.2 below)  4.2 CONVERSION OF FOREIGN LICENCE TO SINGAPORE LICENCE 4.2.1 Pilots holding valid licences, including an instrument rating and/or flying instructor’s rating issued by ICAO Contracting States, may be considered for the conversion of their licences under the following conditions:  a. The pilot must demonstrate formal prospective employment by a Singapore air operator, approved training organisation or flying club to operate on Singapore registered aircraft\\n (This requirement will not be applicable for the conversion of a foreign licence to a Singapore PPL.)  b. The pilot’s foreign licence and its associated ratings must be valid from the time of application to the time of issue of a Singapore licence and its associated ratings\\n c. The pilot must fulfil all conversion terms as specified by CAAS within a period of 6 months preceding the issue of a Singapore licence and its associated ratings\\n 4.2.2 Further details on the conversion of a foreign licence can be obtained from:  Safety Policy and Planning Division Personnel Licensing Section Civil Aviation Authority of Singapore Singapore Changi Airport Terminal 2 South Finger Pier Level 3 Unit No. 038-039 Singapore 819643  TEL: (65) 65412482 FAX: (65) 65434941  4.3 PILOTS WHO HAVE ATTAINED THE AGE OF 65 4.3.1 Any pilot who has attained his 65th birthday shall not be permitted to act as pilot-in-command or co-pilot of an aircraft engaged in scheduled or non-scheduled international commercial air transport operations within Singapore airspace\\n GEN 1.4 ENTRY, TRANSIT AND DEPARTURE OF CARGO  1 CUSTOMS REQUIREMENTS CONCERNING CARGO AND OTHER ARTICLES 1.1 The following supporting documents: Airway Bill, Invoice, Packing List together with Customs Permits [for all goods including controlled goods, dutiable goods and goods subject to Goods and Services Tax (GST)] are to be produced if they are required for checks by Immigration and Checkpoints Authority officers at the checkpoint\\n 1.2 The following are applicable to the Free Trade Zone (FTZ):  a. Transhipment within the same FTZ (In Through Airway Bill cases), no Customs documentation is required if the items are not controlled by the Competent Authorities (CAs) b. Transhipment of controlled goods within the same FTZ (In Through Airway Bill cases), a transshipment (Through transshipment within the same FTZ) permit is required and c. Import for re-export within the same FTZ (In Non-Through Airway Bill cases), an import permit is required for the importation of goods into the FTZ and an export permit is required for the exportation of goods from the same FTZ\\n 1.3 Under the Strategic Goods (Control) Act (SGCA), goods in transhipment or transit are subject to controls under the full control list. No clearance documents are required for strategic goods in transhipment or transit which are taken into a FTZ immediately after they have been brought into Singapore and stay in the FTZ for not more than 45-days (for sea) / 21-days (for air) except for certain categories of goods. For transhipment and transit of certain sensitive strategic goods (listed under the Fourth and Fifth Schedule of the SGCR) and goods that are intended or likely to be used for nuclear, chemical or biological weapon purposes, or missiles capable of delivering such weapons (i.e. catch-all for WMD purposes), a strategic good permit is still required. Depending on the conditions stated in the permits, these goods may be required to be presented for Customs clearance at the checkpoint  1.4 For the exportation of dutiable goods from a Licensed Warehouse, or non-dutiable goods from a Zero-GST Warehouse, Customs outward permits are to be presented for checkpoint inspection and clearance\\n 1.5 For the importation and exportation of controlled goods, depending on the Competent Authorities’(CA) requirements, these goods may be required to be presented for Customs clearance at the checkpoint. For more information on the list of Controlled and Prohibited Goods for the importation and exportation of goods, please visit the respective pages on the Singapore Customs website. You may also refer to the Strategic Goods and the United Nations Security Council Sanctions webpages for more information on the relevant topics\\n 2 VETERINARY, ANIMALS, BIRDS, MEAT, FISH AND PLANT QUARANTINE REQUIREMENTS 2.1 Prior permission of the Agri-Food and Veterinary Authority (AVA) is required for import, export or transshipment of:  a. Animals, birds, eggs, meat and meat products(including canned or processed meat), animal products, veterinary biological, fertilizers containing animal products  b. Fish (for human consumption as well as for aquaria), fisheries products (in all forms), aquatic animals (alive or dead)\\n c. Plants and propagatable plant parts including cuttings, seeds and bulbs with or without potting medium, organic fertilisers of plant origin, live insects and microorganisms. Plant produce including cutflowers, fruits and vegetables from the American Tropics (between Lat 23 1 / 2 degrees N and 23 1 / 2  degrees S)\\n 2.2 In the case of live animals, prior permission is also required for animals in transit. No prior permission required for transshipment of plants and plant products\\n 2.3 Prior permission of the Agri-Food and Veterinary Authority (AVA) is required for the import and export of all species of wild animals and plants and their parts or derivatives protected under the Convention on International Trade in Endangered Species of Wild Fauna and Flora (CITES)\\n © 2019 Civil Aviation Authority Singapore AIP AMDT 04/2019 GEN 1.4-2 AIP Singapore 15 AUG 2019  3 REQUIREMENTS RELATING TO ARMS AND EXPLOSIVES 3.1 The import, export and transhipment of all arms, explosives, component parts, munitions and weapons including swords, sword-sticks, kukris, parangs, daggers, spears, spear-heads, toy pistols, airguns, etc. are strictly controlled. Permits must be obtained and applications should be made to the Arms and Explosives Branch, Commissioner of Singapore Police, Block J, Kinloss Complex, No 3 Ladyhill Road, Singapore 258672 (Fax: 65-67340531) at least 2 weeks before the intended date of air carriage. Severe penalties are provided for non-compliance of requirements\\n 4 REQUIREMENTS FOR THE CARRIAGE OF DANGEROUS GOODS AND MUNITIONS OF WAR (INCLUDING ARMS AND EXPLOSIVES) IN AIRCRAFT  4.1 DANGEROUS GOODS 4.1.1 Paragraph 50D of the Air Navigation Order state that dangerous goods shall not be carried or have loaded in an aircraft unless the operator of the aircraft has been granted with a dangerous goods permit granted by the Director-General of Civil Aviation and in accordance with any conditions which may be imposed. This provision applies to all aircraft flying to, from or over the Republic of Singapore, and to Singapore registered aircraft wherever they may be. Where an operator of an aircraft has diplomatic clearance from the Ministry of Foreign Affairs to land the aircraft in Singapore, the operator is not required, for the period of time that the diplomatic clearance is valid, to obtain a dangerous goods permit\\n 4.1.2 A dangerous goods permit, if granted, is subject to compliance with Annex 18 to the Convention on International Civil Aviation and the latest edition of the ICAO Technical Instructions relating to the Safe Transport of Dangerous Goods by Air\\n 4.1.3 Operators who wish to carry dangerous goods should submit their applications to the address below, in the prescribed form, giving full details of the consignment:  Flight Standards Division Civil Aviation Authority of Singapore Singapore Changi Airport P.O.Box 1, Singapore 918141 FAX: (65) 65456519 TEL: (65) 65413487  Each application must be supported by a shipper's declaration form, airway bill and commercial invoice. All airline operators planning to carry dangerous goods to, from or through Singapore may request for the application forms from Flight Standards Division, CAAS (email: CAAS_dangerousgoods@caas.gov.sg). These applications should be submitted at least 7 working days before the intended date of carriage.\"}]"
            ]
          },
          "metadata": {
            "tags": []
          },
          "execution_count": 36
        }
      ]
    },
    {
      "cell_type": "code",
      "metadata": {
        "id": "7YAyApONkCri",
        "colab_type": "code",
        "colab": {
          "base_uri": "https://localhost:8080/",
          "height": 33
        },
        "outputId": "fc22c6c3-1f93-472e-eb27-03cd2dc81666"
      },
      "source": [
        "document_store.write_documents(dict1)\n",
        "#paragraphs\n",
        "#dict1"
      ],
      "execution_count": 39,
      "outputs": [
        {
          "output_type": "stream",
          "text": [
            "07/26/2020 09:15:12 - INFO - elasticsearch -   POST http://localhost:9200/_bulk [status:200 request:0.068s]\n"
          ],
          "name": "stderr"
        }
      ]
    },
    {
      "cell_type": "code",
      "metadata": {
        "id": "fQ1Hy_iMkVxp",
        "colab_type": "code",
        "colab": {
          "base_uri": "https://localhost:8080/",
          "height": 187
        },
        "outputId": "db5edffd-a985-4f99-b87f-8cef10aa5ee6"
      },
      "source": [
        "from haystack.retriever.dense import DensePassageRetriever\n",
        "retriever = DensePassageRetriever(document_store=document_store, embedding_model=\"dpr-bert-base-nq\",\n",
        "                                  do_lower_case=True, use_gpu=True)\n",
        "\n",
        "# Important: \n",
        "# Now that after we have the DPR initialized, we need to call update_embeddings() to iterate over all\n",
        "# previously indexed documents and update their embedding representation. \n",
        "# While this can be a time consuming operation (depending on corpus size), it only needs to be done once. \n",
        "# At query time, we only need to embed the query and compare it the existing doc embeddings which is very fast.\n",
        "document_store.update_embeddings(retriever)"
      ],
      "execution_count": 40,
      "outputs": [
        {
          "output_type": "stream",
          "text": [
            "07/26/2020 09:15:27 - INFO - haystack.retriever.dpr_utils -   Loading saved model from models/dpr/checkpoint/retriever/single/nq/bert-base-encoder.cp\n",
            "07/26/2020 09:15:51 - INFO - haystack.retriever.dense -   Loaded encoder params:  {'do_lower_case': True, 'pretrained_model_cfg': 'bert-base-uncased', 'encoder_model_type': 'hf_bert', 'pretrained_file': None, 'projection_dim': 0, 'sequence_length': 256}\n",
            "07/26/2020 09:16:11 - INFO - haystack.retriever.dense -   Loading saved model state ...\n",
            "07/26/2020 09:16:12 - INFO - haystack.retriever.dense -   Loading saved model state ...\n",
            "07/26/2020 09:16:13 - INFO - elasticsearch -   POST http://localhost:9200/document/_search?scroll=5m&size=1000 [status:200 request:0.983s]\n",
            "07/26/2020 09:16:13 - INFO - elasticsearch -   POST http://localhost:9200/_search/scroll [status:200 request:0.008s]\n",
            "07/26/2020 09:16:13 - INFO - elasticsearch -   DELETE http://localhost:9200/_search/scroll [status:200 request:0.002s]\n",
            "07/26/2020 09:16:13 - INFO - haystack.database.elasticsearch -   Updating embeddings for 2 docs ...\n",
            "07/26/2020 09:16:14 - INFO - elasticsearch -   POST http://localhost:9200/_bulk [status:200 request:0.060s]\n"
          ],
          "name": "stderr"
        }
      ]
    },
    {
      "cell_type": "code",
      "metadata": {
        "id": "FapjEd6CkWn6",
        "colab_type": "code",
        "colab": {
          "base_uri": "https://localhost:8080/",
          "height": 730,
          "referenced_widgets": [
            "7b1b9ba2ce33468a9f0f514a919175a9",
            "6e06e5291a764c08ae1c97aa3b5eef50",
            "d5a3670e649f45979f16e4983e126b53",
            "ce723f5353434543b469545c6f4b9f53",
            "1c93732fe760403ca3a43abc3af6777f",
            "d3174f0bf16546dba319fb44b4b8da62",
            "e8bc7195cbca497fb90b0dc15a177741",
            "99ced49a590b43cb8052f7b4d9fe89f4",
            "ab8517e53c074e809c7d6bfd36ab312e",
            "0054b44057404bca9f85bc5f9fb6ad69",
            "cd74bc9c5e2d4ed7b6cd01beb74d600f",
            "09c659ad94874ef387011614a2bc7f82",
            "c4238803e5394364931b59e186301b4c",
            "83a5aaf29b2942248c354851215ade98",
            "2799d5a6193549e9b6a2277e5d7aea73",
            "3e148684a65d4d10a7702ca32ecfc842",
            "af2250406f864f28a9866104a52fa3e0",
            "512579279d3f4ddda311499dcc652d40",
            "651f59b4bb744d48af974fa5e5b5cd67",
            "4101bc1c71be4a6c8f04080c7a23d7b0",
            "70d6d34e78bf44aa9e97ade2cfaaa79c",
            "4991fb71e52b43ffa8696d66b479d820",
            "bc5428db5e404c84b1fc31ba76eb5dcf",
            "3d67971bf919481daf6c7e8654b385ad",
            "245d61a09523414f9cc5e34807b80a19",
            "f6f83945b4e34982b121c4d0daf5fb3f",
            "c3660b7c1e92487aa5042edb27a4ac02",
            "80449910de0b47489b30cdddce194e4c",
            "93ba688bc2cb4cbb8b133f8a27120968",
            "be982f1fccab44a3b18cdb5f7d937ea5",
            "e1654463c94d4671a18446095cac3174",
            "85133b7e7e2d41948268fb2c1c2912c8",
            "9c74c96867d1450cb432ac6673f900e1",
            "af0618faa47a40d0a15eaae049608c72",
            "b29ce6f900044c17a5c5d25485d14ffa",
            "a7e6f6d4b58e4c4781865ebca76e2dac",
            "0f163af2002e4015bc307f952e239b3e",
            "f9184938711f4f87be8902b635261013",
            "d4004c224b614724afde1f350b677fed",
            "6a73cf113c4246c581c0bb3f92d57b14",
            "dc077f1d8a0a4c28a646305e6119663a",
            "08fe721cfe08421aa667c567813f2064",
            "bde5847025c942fbbd882a104b75696a",
            "7d7f125fc13943448b79072ccf77a96d",
            "e98d2e6d68864467b019b17fcbb40bd3",
            "ac5415adfed74739883d9a452536ccae",
            "027b772402714ff5b32cd8de1b846d89",
            "4d844adc7e014bdb8b109f2b563ab8eb"
          ]
        },
        "outputId": "370ab69a-fcd7-4c61-be16-ec2051c47d19"
      },
      "source": [
        "# Load a  local model or any of the QA models on\n",
        "# Hugging Face's model hub (https://huggingface.co/models)\n",
        "\n",
        "reader = FARMReader(model_name_or_path=\"deepset/bert-large-uncased-whole-word-masking-squad2\", use_gpu=True)"
      ],
      "execution_count": 9,
      "outputs": [
        {
          "output_type": "stream",
          "text": [
            "07/26/2020 08:44:09 - INFO - farm.utils -   device: cuda n_gpu: 1, distributed training: False, automatic mixed precision training: None\n",
            "07/26/2020 08:44:09 - INFO - farm.infer -   Could not find `deepset/bert-large-uncased-whole-word-masking-squad2` locally. Try to download from model hub ...\n",
            "07/26/2020 08:44:10 - INFO - filelock -   Lock 139668043148872 acquired on /root/.cache/torch/transformers/096f66c5a6e2e4fb4ed910fbd3a41a8206f44edb0c9733d3eb62269cd45ad38f.2bcd58a3e601d95c0636a5bc716b70e64e819abb894ef808d4fc209572800dc2.lock\n"
          ],
          "name": "stderr"
        },
        {
          "output_type": "display_data",
          "data": {
            "application/vnd.jupyter.widget-view+json": {
              "model_id": "7b1b9ba2ce33468a9f0f514a919175a9",
              "version_minor": 0,
              "version_major": 2
            },
            "text/plain": [
              "HBox(children=(FloatProgress(value=0.0, description='Downloading', max=540.0, style=ProgressStyle(description_…"
            ]
          },
          "metadata": {
            "tags": []
          }
        },
        {
          "output_type": "stream",
          "text": [
            "07/26/2020 08:44:10 - INFO - filelock -   Lock 139668043148872 released on /root/.cache/torch/transformers/096f66c5a6e2e4fb4ed910fbd3a41a8206f44edb0c9733d3eb62269cd45ad38f.2bcd58a3e601d95c0636a5bc716b70e64e819abb894ef808d4fc209572800dc2.lock\n"
          ],
          "name": "stderr"
        },
        {
          "output_type": "stream",
          "text": [
            "\n"
          ],
          "name": "stdout"
        },
        {
          "output_type": "stream",
          "text": [
            "07/26/2020 08:44:10 - INFO - filelock -   Lock 139667751629992 acquired on /root/.cache/torch/transformers/7fd93eb96e5abd383bbdc176f634bd8c724fbac421d6b365c3669bb53d5f4879.742352a3b720b1222c541027ae88b416e5eb7d9f4323b38a6d7368b5598b14ef.lock\n"
          ],
          "name": "stderr"
        },
        {
          "output_type": "display_data",
          "data": {
            "application/vnd.jupyter.widget-view+json": {
              "model_id": "ab8517e53c074e809c7d6bfd36ab312e",
              "version_minor": 0,
              "version_major": 2
            },
            "text/plain": [
              "HBox(children=(FloatProgress(value=0.0, description='Downloading', max=1340669807.0, style=ProgressStyle(descr…"
            ]
          },
          "metadata": {
            "tags": []
          }
        },
        {
          "output_type": "stream",
          "text": [
            "07/26/2020 08:44:45 - INFO - filelock -   Lock 139667751629992 released on /root/.cache/torch/transformers/7fd93eb96e5abd383bbdc176f634bd8c724fbac421d6b365c3669bb53d5f4879.742352a3b720b1222c541027ae88b416e5eb7d9f4323b38a6d7368b5598b14ef.lock\n"
          ],
          "name": "stderr"
        },
        {
          "output_type": "stream",
          "text": [
            "\n"
          ],
          "name": "stdout"
        },
        {
          "output_type": "stream",
          "text": [
            "07/26/2020 08:44:53 - WARNING - farm.modeling.language_model -   Could not automatically detect from language model name what language it is. \n",
            "\t We guess it's an *ENGLISH* model ... \n",
            "\t If not: Init the language model by supplying the 'language' param.\n",
            "07/26/2020 08:45:17 - WARNING - farm.modeling.prediction_head -   Some unused parameters are passed to the QuestionAnsweringHead. Might not be a problem. Params: {\"loss_ignore_index\": -1}\n",
            "07/26/2020 08:45:20 - INFO - filelock -   Lock 139667749749536 acquired on /root/.cache/torch/transformers/1a2ae6d1bcb99ae1ff81986f23c8ce7735cd271a2b5cf46eaa461439f648b0e2.542ce4285a40d23a559526243235df47c5f75c197f04f37d1a0c124c32c9a084.lock\n"
          ],
          "name": "stderr"
        },
        {
          "output_type": "display_data",
          "data": {
            "application/vnd.jupyter.widget-view+json": {
              "model_id": "af2250406f864f28a9866104a52fa3e0",
              "version_minor": 0,
              "version_major": 2
            },
            "text/plain": [
              "HBox(children=(FloatProgress(value=0.0, description='Downloading', max=231508.0, style=ProgressStyle(descripti…"
            ]
          },
          "metadata": {
            "tags": []
          }
        },
        {
          "output_type": "stream",
          "text": [
            "07/26/2020 08:45:21 - INFO - filelock -   Lock 139667749749536 released on /root/.cache/torch/transformers/1a2ae6d1bcb99ae1ff81986f23c8ce7735cd271a2b5cf46eaa461439f648b0e2.542ce4285a40d23a559526243235df47c5f75c197f04f37d1a0c124c32c9a084.lock\n",
            "07/26/2020 08:45:21 - INFO - filelock -   Lock 139668041627240 acquired on /root/.cache/torch/transformers/76839de60d3432118c9701e0c084d5ef20d84044bfc08d04f3a0f1ecd4fe59ec.3889713104075cfee9e96090bcdd0dc753733b3db9da20d1dd8b2cd1030536a2.lock\n"
          ],
          "name": "stderr"
        },
        {
          "output_type": "stream",
          "text": [
            "\n"
          ],
          "name": "stdout"
        },
        {
          "output_type": "display_data",
          "data": {
            "application/vnd.jupyter.widget-view+json": {
              "model_id": "245d61a09523414f9cc5e34807b80a19",
              "version_minor": 0,
              "version_major": 2
            },
            "text/plain": [
              "HBox(children=(FloatProgress(value=0.0, description='Downloading', max=2.0, style=ProgressStyle(description_wi…"
            ]
          },
          "metadata": {
            "tags": []
          }
        },
        {
          "output_type": "stream",
          "text": [
            "07/26/2020 08:45:21 - INFO - filelock -   Lock 139668041627240 released on /root/.cache/torch/transformers/76839de60d3432118c9701e0c084d5ef20d84044bfc08d04f3a0f1ecd4fe59ec.3889713104075cfee9e96090bcdd0dc753733b3db9da20d1dd8b2cd1030536a2.lock\n",
            "07/26/2020 08:45:21 - INFO - filelock -   Lock 139668041627856 acquired on /root/.cache/torch/transformers/ec852705de244031a7f6052b4567bb1db19a525413d70ffc421854df218b32ca.275045728fbf41c11d3dae08b8742c054377e18d92cc7b72b6351152a99b64e4.lock\n"
          ],
          "name": "stderr"
        },
        {
          "output_type": "stream",
          "text": [
            "\n"
          ],
          "name": "stdout"
        },
        {
          "output_type": "display_data",
          "data": {
            "application/vnd.jupyter.widget-view+json": {
              "model_id": "9c74c96867d1450cb432ac6673f900e1",
              "version_minor": 0,
              "version_major": 2
            },
            "text/plain": [
              "HBox(children=(FloatProgress(value=0.0, description='Downloading', max=112.0, style=ProgressStyle(description_…"
            ]
          },
          "metadata": {
            "tags": []
          }
        },
        {
          "output_type": "stream",
          "text": [
            "07/26/2020 08:45:21 - INFO - filelock -   Lock 139668041627856 released on /root/.cache/torch/transformers/ec852705de244031a7f6052b4567bb1db19a525413d70ffc421854df218b32ca.275045728fbf41c11d3dae08b8742c054377e18d92cc7b72b6351152a99b64e4.lock\n",
            "07/26/2020 08:45:22 - INFO - filelock -   Lock 139668041627912 acquired on /root/.cache/torch/transformers/d321263458c964122ba0d7c0294bdd2f40d6f812aaaded8b893fa3c0c1068ae7.1ade4e0ac224a06d83f2cb9821a6656b6b59974d6552e8c728f2657e4ba445d9.lock\n"
          ],
          "name": "stderr"
        },
        {
          "output_type": "stream",
          "text": [
            "\n"
          ],
          "name": "stdout"
        },
        {
          "output_type": "display_data",
          "data": {
            "application/vnd.jupyter.widget-view+json": {
              "model_id": "dc077f1d8a0a4c28a646305e6119663a",
              "version_minor": 0,
              "version_major": 2
            },
            "text/plain": [
              "HBox(children=(FloatProgress(value=0.0, description='Downloading', max=19.0, style=ProgressStyle(description_w…"
            ]
          },
          "metadata": {
            "tags": []
          }
        },
        {
          "output_type": "stream",
          "text": [
            "07/26/2020 08:45:22 - INFO - filelock -   Lock 139668041627912 released on /root/.cache/torch/transformers/d321263458c964122ba0d7c0294bdd2f40d6f812aaaded8b893fa3c0c1068ae7.1ade4e0ac224a06d83f2cb9821a6656b6b59974d6552e8c728f2657e4ba445d9.lock\n"
          ],
          "name": "stderr"
        },
        {
          "output_type": "stream",
          "text": [
            "\n"
          ],
          "name": "stdout"
        },
        {
          "output_type": "stream",
          "text": [
            "07/26/2020 08:45:22 - INFO - farm.utils -   device: cuda n_gpu: 1, distributed training: False, automatic mixed precision training: None\n",
            "07/26/2020 08:45:22 - INFO - farm.infer -   Got ya 1 parallel workers to do inference ...\n",
            "07/26/2020 08:45:22 - INFO - farm.infer -    0 \n",
            "07/26/2020 08:45:22 - INFO - farm.infer -   /w\\\n",
            "07/26/2020 08:45:22 - INFO - farm.infer -   /'\\\n",
            "07/26/2020 08:45:22 - INFO - farm.infer -   \n"
          ],
          "name": "stderr"
        }
      ]
    },
    {
      "cell_type": "code",
      "metadata": {
        "id": "RwYO5uTSlvbc",
        "colab_type": "code",
        "colab": {}
      },
      "source": [
        "finder = Finder(reader, retriever)"
      ],
      "execution_count": 41,
      "outputs": []
    },
    {
      "cell_type": "code",
      "metadata": {
        "id": "4cngBDQgUW8-",
        "colab_type": "code",
        "colab": {
          "base_uri": "https://localhost:8080/",
          "height": 204
        },
        "outputId": "c89fe9cf-02ae-4329-eed3-233d1607be6e"
      },
      "source": [
        "#individual qn\n",
        "qn = \"What details of flight operations do operators need to include in their submission?\"\n",
        "prediction = finder.get_answers(question=qn, top_k_retriever=10, top_k_reader=1)\n",
        "print('Question: ' + qn)\n",
        "print('Predicted: ' + prediction['answers'][0]['answer'])\n",
        "print('context: ' + prediction['answers'][0]['context'])"
      ],
      "execution_count": 32,
      "outputs": [
        {
          "output_type": "stream",
          "text": [
            "/usr/local/lib/python3.6/dist-packages/elasticsearch/connection/base.py:177: ElasticsearchDeprecationWarning: The vector functions of the form function(query, doc['field']) are deprecated, and the form function(query, 'field') should be used instead. For example, cosineSimilarity(query, doc['field']) is replaced by cosineSimilarity(query, 'field').\n",
            "  warnings.warn(message, category=ElasticsearchDeprecationWarning)\n",
            "07/26/2020 09:09:15 - INFO - elasticsearch -   POST http://localhost:9200/document/_search [status:200 request:0.009s]\n",
            "07/26/2020 09:09:15 - INFO - haystack.finder -   Reader is looking for detailed answer in 44584 chars ...\n",
            "Inferencing Samples: 100%|██████████| 2/2 [00:06<00:00,  3.29s/ Batches]"
          ],
          "name": "stderr"
        },
        {
          "output_type": "stream",
          "text": [
            "Question: What details of flight operations do operators need to include in their submission?\n",
            "Predicted: DOCUMENTARY REQUIREMENTS FOR CLEARANCE OF AIRCRAFT\n",
            "context:  having the business management of that aircraft\n",
            " DOCUMENTARY REQUIREMENTS FOR CLEARANCE OF AIRCRAFT Same requirements as for SCHEDULED FLIGHTS\n",
            " 5.3 P\n"
          ],
          "name": "stdout"
        },
        {
          "output_type": "stream",
          "text": [
            "\n"
          ],
          "name": "stderr"
        }
      ]
    },
    {
      "cell_type": "code",
      "metadata": {
        "id": "8sjaH781l-N-",
        "colab_type": "code",
        "colab": {
          "base_uri": "https://localhost:8080/",
          "height": 1000
        },
        "outputId": "1a743005-343f-4975-81d9-b60cfe4988ff"
      },
      "source": [
        "\n",
        "import pandas as pd\n",
        "# You can configure how many candidates the reader and retriever shall return\n",
        "# The higher top_k_retriever, the better (but also the slower) your answers. \n",
        "#prediction = finder.get_answers(question=\"Which documents need to be lodged with CAAS?\", top_k_retriever=50, top_k_reader=10)\n",
        "\n",
        "#read queries\n",
        "queries = pd.read_csv('/drive/My Drive/data/qns.csv') \n",
        "queries['PageNum'] = pd.Series(queries['PageNum']).fillna(method='ffill')\n",
        "queries['Context'] = pd.Series(queries['Context']).fillna(method='ffill')\n",
        "for index in range(len(queries['Question'])):\n",
        "  qn = queries['Question'][index]\n",
        "  prediction = finder.get_answers(question=qn, top_k_retriever=30, top_k_reader=1)\n",
        "  print('Question: ' + qn)\n",
        "  print('Predicted: ' + prediction['answers'][0]['answer'])\n",
        "  print('Actual: ' + queries['Answer'][index])\n",
        "  print('context: ' + prediction['answers'][0]['context'])\n",
        "\n"
      ],
      "execution_count": 42,
      "outputs": [
        {
          "output_type": "stream",
          "text": [
            "/usr/local/lib/python3.6/dist-packages/elasticsearch/connection/base.py:177: ElasticsearchDeprecationWarning: The vector functions of the form function(query, doc['field']) are deprecated, and the form function(query, 'field') should be used instead. For example, cosineSimilarity(query, doc['field']) is replaced by cosineSimilarity(query, 'field').\n",
            "  warnings.warn(message, category=ElasticsearchDeprecationWarning)\n",
            "07/26/2020 09:16:32 - INFO - elasticsearch -   POST http://localhost:9200/document/_search [status:200 request:0.009s]\n",
            "07/26/2020 09:16:32 - INFO - haystack.finder -   Reader is looking for detailed answer in 88992 chars ...\n",
            "Inferencing Samples: 100%|██████████| 2/2 [00:06<00:00,  3.23s/ Batches]\n",
            "Inferencing Samples: 100%|██████████| 2/2 [00:06<00:00,  3.16s/ Batches]\n",
            "07/26/2020 09:16:46 - INFO - elasticsearch -   POST http://localhost:9200/document/_search [status:200 request:0.020s]\n",
            "07/26/2020 09:16:46 - INFO - haystack.finder -   Reader is looking for detailed answer in 88992 chars ...\n"
          ],
          "name": "stderr"
        },
        {
          "output_type": "stream",
          "text": [
            "Question: When is the earliest date for operators of non-commercial flights to submit their slot requests?\n",
            "Predicted: 7 calendar days\n",
            "Actual: no earlier than 7 calendar days prior to operation\n",
            "context:  their slot requests to the Changi Slot Coordinator no earlier than 7 calendar days and but no later than 24 hours prior to the operation of the fligh\n"
          ],
          "name": "stdout"
        },
        {
          "output_type": "stream",
          "text": [
            "Inferencing Samples: 100%|██████████| 2/2 [00:06<00:00,  3.18s/ Batches]\n",
            "Inferencing Samples: 100%|██████████| 2/2 [00:06<00:00,  3.19s/ Batches]\n",
            "07/26/2020 09:17:00 - INFO - elasticsearch -   POST http://localhost:9200/document/_search [status:200 request:0.008s]\n",
            "07/26/2020 09:17:00 - INFO - haystack.finder -   Reader is looking for detailed answer in 88992 chars ...\n"
          ],
          "name": "stderr"
        },
        {
          "output_type": "stream",
          "text": [
            "Question: Who should operators or agents of non-commercial flights submit their slot requests to?\n",
            "Predicted: the Changi Slot Coordinator\n",
            "Actual: The Changi Slot Coordinator\n",
            "context: nd non-commercial flights shall submit their slot requests to the Changi Slot Coordinator no earlier than 7 calendar days and but no later than 24 hou\n"
          ],
          "name": "stdout"
        },
        {
          "output_type": "stream",
          "text": [
            "Inferencing Samples: 100%|██████████| 2/2 [00:06<00:00,  3.20s/ Batches]\n",
            "Inferencing Samples: 100%|██████████| 2/2 [00:06<00:00,  3.21s/ Batches]\n",
            "07/26/2020 09:17:14 - INFO - elasticsearch -   POST http://localhost:9200/document/_search [status:200 request:0.009s]\n",
            "07/26/2020 09:17:14 - INFO - haystack.finder -   Reader is looking for detailed answer in 88992 chars ...\n"
          ],
          "name": "stderr"
        },
        {
          "output_type": "stream",
          "text": [
            "Question: What should operators do for urgent flight operations that are less than 24 hours from the proposed date of operation?\n",
            "Predicted: contact the Duty Officer\n",
            "Actual: in addition to submitting the SCR/GCR, operators/agents must also inform the Airside Operations Section of CAG (Airside Management Centre)\n",
            "context:  working days, but at least 24 hours before the flight, should contact the Duty Officer at +65 98331775 and submit a complete application via this web\n"
          ],
          "name": "stdout"
        },
        {
          "output_type": "stream",
          "text": [
            "Inferencing Samples: 100%|██████████| 2/2 [00:06<00:00,  3.22s/ Batches]\n",
            "Inferencing Samples: 100%|██████████| 2/2 [00:06<00:00,  3.21s/ Batches]\n",
            "07/26/2020 09:17:28 - INFO - elasticsearch -   POST http://localhost:9200/document/_search [status:200 request:0.010s]\n",
            "07/26/2020 09:17:28 - INFO - haystack.finder -   Reader is looking for detailed answer in 88992 chars ...\n"
          ],
          "name": "stderr"
        },
        {
          "output_type": "stream",
          "text": [
            "Question: What are the contact numbers for the Airside Operations Section of CAG?\n",
            "Predicted: +65 6603 4906 / +65 6541 2275 / +65 6541 2273\n",
            "Actual: +65 6603 4906 / +65 6541 2275 / 65 6541 2273\n",
            "context: ations Section of CAG (Airside Management Centre) at +65 6603 4906 / +65 6541 2275 / +65 6541 2273\n",
            " 2.6 EXEMPT FLIGHTS  2.6.1 Notwithstanding paragrap\n"
          ],
          "name": "stdout"
        },
        {
          "output_type": "stream",
          "text": [
            "Inferencing Samples: 100%|██████████| 2/2 [00:06<00:00,  3.21s/ Batches]\n",
            "Inferencing Samples: 100%|██████████| 2/2 [00:06<00:00,  3.18s/ Batches]\n",
            "07/26/2020 09:17:42 - INFO - elasticsearch -   POST http://localhost:9200/document/_search [status:200 request:0.010s]\n",
            "07/26/2020 09:17:42 - INFO - haystack.finder -   Reader is looking for detailed answer in 88992 chars ...\n"
          ],
          "name": "stderr"
        },
        {
          "output_type": "stream",
          "text": [
            "Question: Who is the Seletar Schedules Facilitator?\n",
            "Predicted: Changi Airport Group\n",
            "Actual: Changi Airport Group \n",
            "context: ORT 3.1 Seletar Airport is a schedules facilitated airport, with Changi Airport Group (CAG) as the Seletar Schedules Facilitator. To ensure efficiency\n"
          ],
          "name": "stdout"
        },
        {
          "output_type": "stream",
          "text": [
            "Inferencing Samples: 100%|██████████| 2/2 [00:06<00:00,  3.20s/ Batches]\n",
            "Inferencing Samples: 100%|██████████| 2/2 [00:06<00:00,  3.21s/ Batches]\n",
            "07/26/2020 09:17:55 - INFO - elasticsearch -   POST http://localhost:9200/document/_search [status:200 request:0.009s]\n",
            "07/26/2020 09:17:55 - INFO - haystack.finder -   Reader is looking for detailed answer in 88992 chars ...\n"
          ],
          "name": "stderr"
        },
        {
          "output_type": "stream",
          "text": [
            "Question: Are any operations permitted without the approval of the Seletar Schedules Facilitator?\n",
            "Predicted: No operation will be permitted\n",
            "Actual: No operation will be permitted without the approval of the Seletar Schedules Facilitator\n",
            "context: hedules Facilitator prior to the operation of such flights. No operation will be permitted without the approval of the Seletar Schedules Facilitator\n",
            " \n"
          ],
          "name": "stdout"
        },
        {
          "output_type": "stream",
          "text": [
            "Inferencing Samples: 100%|██████████| 2/2 [00:06<00:00,  3.22s/ Batches]\n",
            "Inferencing Samples: 100%|██████████| 2/2 [00:06<00:00,  3.21s/ Batches]\n",
            "07/26/2020 09:18:10 - INFO - elasticsearch -   POST http://localhost:9200/document/_search [status:200 request:0.006s]\n",
            "07/26/2020 09:18:10 - INFO - haystack.finder -   Reader is looking for detailed answer in 88992 chars ...\n"
          ],
          "name": "stderr"
        },
        {
          "output_type": "stream",
          "text": [
            "Question: Why would operators need to make adjustments to their schedules?\n",
            "Predicted: to ensure that airport capacity parameters are not exceeded\n",
            "Actual: to ensure that airport capacity parameters are not exceeded\n",
            "context:  advised by the Seletar Schedules Facilitator to ensure that airport capacity parameters are not exceeded. In addition, all operators of scheduled fli\n"
          ],
          "name": "stdout"
        },
        {
          "output_type": "stream",
          "text": [
            "Inferencing Samples: 100%|██████████| 2/2 [00:06<00:00,  3.23s/ Batches]\n",
            "Inferencing Samples: 100%|██████████| 2/2 [00:06<00:00,  3.23s/ Batches]\n",
            "07/26/2020 09:18:24 - INFO - elasticsearch -   POST http://localhost:9200/document/_search [status:200 request:0.009s]\n",
            "07/26/2020 09:18:24 - INFO - haystack.finder -   Reader is looking for detailed answer in 88992 chars ...\n"
          ],
          "name": "stderr"
        },
        {
          "output_type": "stream",
          "text": [
            "Question: What details need to be submitted for slots application at Seletar Airport?\n",
            "Predicted: a valid passport or a valid travel document recognised by the Government of Singapore\n",
            "Actual: Name of operator and appointed ground handling agent; Date and time of arrival and departure (in local time); Aircraft type and seat capacity; Origin and destination; Aircraft registration number; and Purpose of flight (e.g. business aviation; general aviation; cargo; maintenance, repair and operations (MRO); etc.)\n",
            "context: fficer at an authorised airport, a valid passport or a valid travel document recognised by the Government of Singapore (in the case of an alien, a vis\n"
          ],
          "name": "stdout"
        },
        {
          "output_type": "stream",
          "text": [
            "Inferencing Samples: 100%|██████████| 2/2 [00:06<00:00,  3.22s/ Batches]\n",
            "Inferencing Samples: 100%|██████████| 2/2 [00:06<00:00,  3.22s/ Batches]\n",
            "07/26/2020 09:18:38 - INFO - elasticsearch -   POST http://localhost:9200/document/_search [status:200 request:0.010s]\n",
            "07/26/2020 09:18:38 - INFO - haystack.finder -   Reader is looking for detailed answer in 88992 chars ...\n"
          ],
          "name": "stderr"
        },
        {
          "output_type": "stream",
          "text": [
            "Question: When will non-training flights be restricted at Seletar Airport?\n",
            "Predicted: Tuesdays to Sundays\n",
            "Actual: Tuesdays to Sundays: 0130 to 0230 UTC / 0930 to 1030 LT; 0400 to 0500 UTC / 1200 to 1300 LT; 0700 to 0800 UTC / 1500 to 1600 LT; and 0900 to 1000 UTC / 1700 to 1800 LT.\n",
            "context: be permitted at Seletar Airport during the following periods from Tuesdays to Sundays:  - 0130 to 0230 UTC / 0930 to 1030 LT - 0400 to 0500 UTC / 1200\n"
          ],
          "name": "stdout"
        },
        {
          "output_type": "stream",
          "text": [
            "Inferencing Samples: 100%|██████████| 2/2 [00:06<00:00,  3.24s/ Batches]\n",
            "Inferencing Samples: 100%|██████████| 2/2 [00:06<00:00,  3.21s/ Batches]\n",
            "07/26/2020 09:18:52 - INFO - elasticsearch -   POST http://localhost:9200/document/_search [status:200 request:0.018s]\n",
            "07/26/2020 09:18:52 - INFO - haystack.finder -   Reader is looking for detailed answer in 88992 chars ...\n"
          ],
          "name": "stderr"
        },
        {
          "output_type": "stream",
          "text": [
            "Question: Which documents need to be lodged with CAAS to apply for scheduled flights?\n",
            "Predicted: Certificate(s) of Registration(s) for aircraft used b. Certificate(s) of Airworthiness for aircraft used and c. Air Operator’s Certificate\n",
            "Actual: a. Certificate(s) of Registration(s) for aircraft used; b. Certificate(s) of Airworthiness for aircraft used; and c. Air Operator’s Certificate\n",
            "context: :  a. Certificate(s) of Registration(s) for aircraft used b. Certificate(s) of Airworthiness for aircraft used and c. Air Operator’s Certificate  4.2.\n"
          ],
          "name": "stdout"
        },
        {
          "output_type": "stream",
          "text": [
            "Inferencing Samples: 100%|██████████| 2/2 [00:06<00:00,  3.22s/ Batches]\n",
            "Inferencing Samples: 100%|██████████| 2/2 [00:06<00:00,  3.21s/ Batches]\n",
            "07/26/2020 09:19:06 - INFO - elasticsearch -   POST http://localhost:9200/document/_search [status:200 request:0.008s]\n",
            "07/26/2020 09:19:06 - INFO - haystack.finder -   Reader is looking for detailed answer in 88992 chars ...\n"
          ],
          "name": "stderr"
        },
        {
          "output_type": "stream",
          "text": [
            "Question: Where should an application for traffic landings and non-scheduled flights be submitted?\n",
            "Predicted: caas.gov.sg\n",
            "Actual: All applications must be submitted via https://appserver1.caas.gov.sg/ATLAS\n",
            "context: er each landing, by facsimile at 6545 6519 or by email to CAAS_FS_FOS@caas.gov.sg  5.1.3 Application for Traffic Landings and Uplifts (Non-Scheduled F\n"
          ],
          "name": "stdout"
        },
        {
          "output_type": "stream",
          "text": [
            "Inferencing Samples: 100%|██████████| 2/2 [00:06<00:00,  3.21s/ Batches]\n",
            "Inferencing Samples: 100%|██████████| 2/2 [00:06<00:00,  3.20s/ Batches]\n",
            "07/26/2020 09:19:20 - INFO - elasticsearch -   POST http://localhost:9200/document/_search [status:200 request:0.008s]\n",
            "07/26/2020 09:19:20 - INFO - haystack.finder -   Reader is looking for detailed answer in 88992 chars ...\n"
          ],
          "name": "stderr"
        },
        {
          "output_type": "stream",
          "text": [
            "Question: When is the complete application required to reach the Civil Aviation Authority of Singapore Air Transport Division by?\n",
            "Predicted: at least 3 whole working days before the first flight\n",
            "Actual: at least 3 working days prior to the aircraft’s arrival or departure into/from Singapore\n",
            "context: ations] to obtain a permit which must be applied at least 3 whole working days before the first flight: i. S$84 for a single one-way or return flight \n"
          ],
          "name": "stdout"
        },
        {
          "output_type": "stream",
          "text": [
            "Inferencing Samples: 100%|██████████| 2/2 [00:06<00:00,  3.20s/ Batches]\n",
            "Inferencing Samples: 100%|██████████| 2/2 [00:06<00:00,  3.21s/ Batches]\n",
            "07/26/2020 09:19:34 - INFO - elasticsearch -   POST http://localhost:9200/document/_search [status:200 request:0.009s]\n",
            "07/26/2020 09:19:34 - INFO - haystack.finder -   Reader is looking for detailed answer in 88992 chars ...\n"
          ],
          "name": "stderr"
        },
        {
          "output_type": "stream",
          "text": [
            "Question: During which hours should operators schedule their arrivals and departures at Singapore Changi Airport?\n",
            "Predicted: 48\n",
            "Actual: outside the hours 0001 to 0200 UTC (0801-1000 LT) and 0900 to 1559 UTC (1700-2359 LT)\n",
            "context: l flights are strongly advised to limit their ground time to no more than 48 hours from the arrival slot timing\n",
            " 2.5 For urgent non-scheduled, commerc\n"
          ],
          "name": "stdout"
        },
        {
          "output_type": "stream",
          "text": [
            "Inferencing Samples: 100%|██████████| 2/2 [00:06<00:00,  3.21s/ Batches]\n",
            "Inferencing Samples: 100%|██████████| 2/2 [00:06<00:00,  3.20s/ Batches]\n",
            "07/26/2020 09:19:48 - INFO - elasticsearch -   POST http://localhost:9200/document/_search [status:200 request:0.007s]\n",
            "07/26/2020 09:19:48 - INFO - haystack.finder -   Reader is looking for detailed answer in 88992 chars ...\n"
          ],
          "name": "stderr"
        },
        {
          "output_type": "stream",
          "text": [
            "Question: What kind of aircraft is permitted to remain on the ground or layover at Changi Airport?\n",
            "Predicted: executive jet charter\n",
            "Actual: business aviation aircraft operating as executive jet charter\n",
            "context: on landing charges)\n",
            " All business aviation aircraft operating as executive jet charter may be permitted to remain on the ground or layover at Singapor\n"
          ],
          "name": "stdout"
        },
        {
          "output_type": "stream",
          "text": [
            "Inferencing Samples: 100%|██████████| 2/2 [00:06<00:00,  3.21s/ Batches]\n",
            "Inferencing Samples: 100%|██████████| 2/2 [00:06<00:00,  3.15s/ Batches]\n",
            "07/26/2020 09:20:02 - INFO - elasticsearch -   POST http://localhost:9200/document/_search [status:200 request:0.008s]\n",
            "07/26/2020 09:20:02 - INFO - haystack.finder -   Reader is looking for detailed answer in 88992 chars ...\n"
          ],
          "name": "stderr"
        },
        {
          "output_type": "stream",
          "text": [
            "Question: How should business aviation aircraft park in Changi Airport?\n",
            "Predicted: in a nose-in position\n",
            "Actual: in a nose-in position and be pushed back with the aid of an aircraft tow-bar and tow-tractor. \n",
            "context: gapore Changi Airport\n",
            " All business aviation aircraft shall park in a nose-in position and be pushed back with the aid of an aircraft tow-bar and tow-\n"
          ],
          "name": "stdout"
        },
        {
          "output_type": "stream",
          "text": [
            "Inferencing Samples: 100%|██████████| 2/2 [00:06<00:00,  3.20s/ Batches]\n",
            "Inferencing Samples: 100%|██████████| 2/2 [00:06<00:00,  3.21s/ Batches]\n",
            "07/26/2020 09:20:16 - INFO - elasticsearch -   POST http://localhost:9200/document/_search [status:200 request:0.009s]\n",
            "07/26/2020 09:20:16 - INFO - haystack.finder -   Reader is looking for detailed answer in 88992 chars ...\n"
          ],
          "name": "stderr"
        },
        {
          "output_type": "stream",
          "text": [
            "Question: What are the penalties for contravening the legislation dealing with non-scheduled flights?\n",
            "Predicted: flight cancellations\n",
            "Actual: a fine not exceeding S$2,500 or to imprisonment for a term not exceeding 3 months or to both and in the case of a second or subsequent offence, to a fine not exceeding S$20,000 or to imprisonment for a term not exceeding 2 years or to both\n",
            "context: e filings for the season, ad-hoc changes to flight schedules and flight cancellations. Such applications should be filed through the CAAS Air Transpor\n"
          ],
          "name": "stdout"
        },
        {
          "output_type": "stream",
          "text": [
            "Inferencing Samples: 100%|██████████| 2/2 [00:06<00:00,  3.20s/ Batches]\n",
            "Inferencing Samples: 100%|██████████| 2/2 [00:06<00:00,  3.21s/ Batches]\n",
            "07/26/2020 09:20:30 - INFO - elasticsearch -   POST http://localhost:9200/document/_search [status:200 request:0.013s]\n",
            "07/26/2020 09:20:30 - INFO - haystack.finder -   Reader is looking for detailed answer in 88992 chars ...\n"
          ],
          "name": "stderr"
        },
        {
          "output_type": "stream",
          "text": [
            "Question: Which agent should be engaged by business aviation flights at Changi Airport?\n",
            "Predicted: ground handling agent\n",
            "Actual: aground handling agent\n",
            "context:  Terminal 2\n",
            " 5.1.2.5 All business aviation flights must engage a ground handling agent at Singapore Changi Airport\n",
            " 5.1.2.6 In all other cases, prior \n"
          ],
          "name": "stdout"
        },
        {
          "output_type": "stream",
          "text": [
            "Inferencing Samples: 100%|██████████| 2/2 [00:06<00:00,  3.20s/ Batches]\n",
            "Inferencing Samples: 100%|██████████| 2/2 [00:06<00:00,  3.20s/ Batches]\n",
            "07/26/2020 09:20:44 - INFO - elasticsearch -   POST http://localhost:9200/document/_search [status:200 request:0.006s]\n",
            "07/26/2020 09:20:44 - INFO - haystack.finder -   Reader is looking for detailed answer in 88992 chars ...\n"
          ],
          "name": "stderr"
        },
        {
          "output_type": "stream",
          "text": [
            "Question: What is the normal permit fee for 2 one-way flights?\n",
            "Predicted: S$162\n",
            "Actual: S$162\n",
            "context: fore the first flight: i. S$84 for a single one-way or return flight ii. S$162 for 2 or more one-way or return flights but not more than 5 such flight\n"
          ],
          "name": "stdout"
        },
        {
          "output_type": "stream",
          "text": [
            "Inferencing Samples: 100%|██████████| 2/2 [00:06<00:00,  3.20s/ Batches]\n",
            "Inferencing Samples: 100%|██████████| 2/2 [00:06<00:00,  3.15s/ Batches]\n",
            "07/26/2020 09:20:58 - INFO - elasticsearch -   POST http://localhost:9200/document/_search [status:200 request:0.008s]\n",
            "07/26/2020 09:20:58 - INFO - haystack.finder -   Reader is looking for detailed answer in 88992 chars ...\n"
          ],
          "name": "stderr"
        },
        {
          "output_type": "stream",
          "text": [
            "Question: When is the application deadline for a normal permit?\n",
            "Predicted: 3 working days prior to the aircraft’s arrival or departure into/from Singapore\n",
            "Actual: at least 3 whole working days before the first flight\n",
            "context: n via the weblink provided at least 3 working days prior to the aircraft’s arrival or departure into/from Singapore to be considered for a “normal per\n"
          ],
          "name": "stdout"
        },
        {
          "output_type": "stream",
          "text": [
            "Inferencing Samples: 100%|██████████| 2/2 [00:06<00:00,  3.21s/ Batches]\n",
            "Inferencing Samples: 100%|██████████| 2/2 [00:06<00:00,  3.21s/ Batches]\n",
            "07/26/2020 09:21:12 - INFO - elasticsearch -   POST http://localhost:9200/document/_search [status:200 request:0.014s]\n",
            "07/26/2020 09:21:12 - INFO - haystack.finder -   Reader is looking for detailed answer in 88992 chars ...\n"
          ],
          "name": "stderr"
        },
        {
          "output_type": "stream",
          "text": [
            "Question: Whose duty is it to open and repack baggage during customs checks?\n",
            "Predicted: the person in charge of the baggage\n",
            "Actual: person in charge of the baggage\n",
            "context: ch manner as deemed necessary and it shall be the duty of the person in charge of the baggage to produce, open, unpack and repack such baggage\n",
            " 1.2 Du\n"
          ],
          "name": "stdout"
        },
        {
          "output_type": "stream",
          "text": [
            "Inferencing Samples: 100%|██████████| 2/2 [00:06<00:00,  3.20s/ Batches]\n",
            "Inferencing Samples: 100%|██████████| 2/2 [00:06<00:00,  3.17s/ Batches]\n",
            "07/26/2020 09:21:26 - INFO - elasticsearch -   POST http://localhost:9200/document/_search [status:200 request:0.009s]\n",
            "07/26/2020 09:21:26 - INFO - haystack.finder -   Reader is looking for detailed answer in 88992 chars ...\n"
          ],
          "name": "stderr"
        },
        {
          "output_type": "stream",
          "text": [
            "Question: What are the different types of dutiable goods?\n",
            "Predicted: Intoxicating liquors tobacco products motor vehicles and motor fuel\n",
            "Actual: Intoxicating liquors; tobacco products; motor vehicles; and motor fuel\n",
            "context: There are 4 categories of dutiable goods: Intoxicating liquors tobacco products motor vehicles and motor fuel. Please refer to the Singapore Customs’ \n"
          ],
          "name": "stdout"
        },
        {
          "output_type": "stream",
          "text": [
            "Inferencing Samples: 100%|██████████| 2/2 [00:06<00:00,  3.21s/ Batches]\n",
            "Inferencing Samples: 100%|██████████| 2/2 [00:06<00:00,  3.17s/ Batches]\n",
            "07/26/2020 09:21:40 - INFO - elasticsearch -   POST http://localhost:9200/document/_search [status:200 request:0.013s]\n",
            "07/26/2020 09:21:40 - INFO - haystack.finder -   Reader is looking for detailed answer in 88992 chars ...\n"
          ],
          "name": "stderr"
        },
        {
          "output_type": "stream",
          "text": [
            "Question: What are the conditions for duty-free liquor concession?\n",
            "Predicted: Is 18 years of age and above, Have spent 48 hours or more outside Singapore immediately before arrival, Not arriving from Malaysia, The liquor is for personal consumption and The liquor is not prohibited from import into Singapore\n",
            "Actual: Is 18 years of age and above; Have spent 48 hours or more outside Singapore immediately before arrival; Not arriving from Malaysia; The liquor is for personal consumption; and The liquor is not prohibited from import into Singapore\n",
            "context: Is 18 years of age and above, Have spent 48 hours or more outside Singapore immediately before arrival, Not arriving from Malaysia, The liquor is for personal consumption and The liquor is not prohibited from import into Singapore\n"
          ],
          "name": "stdout"
        },
        {
          "output_type": "stream",
          "text": [
            "Inferencing Samples: 100%|██████████| 2/2 [00:06<00:00,  3.20s/ Batches]\n",
            "Inferencing Samples: 100%|██████████| 2/2 [00:06<00:00,  3.21s/ Batches]\n",
            "07/26/2020 09:21:54 - INFO - elasticsearch -   POST http://localhost:9200/document/_search [status:200 request:0.015s]\n",
            "07/26/2020 09:21:54 - INFO - haystack.finder -   Reader is looking for detailed answer in 88992 chars ...\n"
          ],
          "name": "stderr"
        },
        {
          "output_type": "stream",
          "text": [
            "Question: Which nationalities require visas for the purpose of social visits in Singapore?\n",
            "Predicted: Singaporeans\n",
            "Actual: Armenia, Azerbaijan, Belarus, Kazakhstan, Kyrgyzstan, Moldova, Russia, Tajikistan, and Uzbekistan, Democratic People's Republic of Korea, Egypt, Georgia, India, Iran, Iraq, Jordan, Kosovo, Lebanon, Libya, Mali, Morocco, Nigeria, People's Republic of China, Pakistan, Saudi Arabia, Somalia, Sudan, Syria, Tunisia, Turkmenistan, Ukraine, Yemen\n",
            "context: isembarkation/Embarkation form (including one for each child) except Singaporeans, Permanent Residents and long term pass holders\n",
            " 2.2 Any person ente\n"
          ],
          "name": "stdout"
        },
        {
          "output_type": "stream",
          "text": [
            "Inferencing Samples: 100%|██████████| 2/2 [00:06<00:00,  3.21s/ Batches]\n",
            "Inferencing Samples: 100%|██████████| 2/2 [00:06<00:00,  3.22s/ Batches]\n",
            "07/26/2020 09:22:08 - INFO - elasticsearch -   POST http://localhost:9200/document/_search [status:200 request:0.009s]\n",
            "07/26/2020 09:22:08 - INFO - haystack.finder -   Reader is looking for detailed answer in 88992 chars ...\n"
          ],
          "name": "stderr"
        },
        {
          "output_type": "stream",
          "text": [
            "Question: What documents are required for unvaccinated individuals who wish to enter Singapore?\n",
            "Predicted: Certificate of Airworthiness\n",
            "Actual: A valid International Certificate of Vaccination for yellow fever\n",
            "context: 5.1.2.7 All non-traffic aircraft are to submit a copy of the Certificate of Airworthiness to CAAS, after each landing, by facsimile at 6545 6519 or by\n"
          ],
          "name": "stdout"
        },
        {
          "output_type": "stream",
          "text": [
            "Inferencing Samples: 100%|██████████| 2/2 [00:06<00:00,  3.23s/ Batches]\n",
            "Inferencing Samples: 100%|██████████| 2/2 [00:06<00:00,  3.21s/ Batches]\n",
            "07/26/2020 09:22:22 - INFO - elasticsearch -   POST http://localhost:9200/document/_search [status:200 request:0.012s]\n",
            "07/26/2020 09:22:22 - INFO - haystack.finder -   Reader is looking for detailed answer in 88992 chars ...\n"
          ],
          "name": "stderr"
        },
        {
          "output_type": "stream",
          "text": [
            "Question: How long is an International Certificate of Vaccination valid for?\n",
            "Predicted: life\n",
            "Actual: The certificate is valid for life, beginning from 10 days after the date of vaccination\n",
            "context:  the six days before arriving in Singapore. The certificate is valid for life, beginning from 10 days after the date of vaccination (this applies to e\n"
          ],
          "name": "stdout"
        },
        {
          "output_type": "stream",
          "text": [
            "Inferencing Samples: 100%|██████████| 2/2 [00:06<00:00,  3.22s/ Batches]\n",
            "Inferencing Samples: 100%|██████████| 2/2 [00:06<00:00,  3.20s/ Batches]\n",
            "07/26/2020 09:22:36 - INFO - elasticsearch -   POST http://localhost:9200/document/_search [status:200 request:0.009s]\n",
            "07/26/2020 09:22:36 - INFO - haystack.finder -   Reader is looking for detailed answer in 88992 chars ...\n"
          ],
          "name": "stderr"
        },
        {
          "output_type": "stream",
          "text": [
            "Question: Which travellers are required to obtain a valid International Certificate of Vaccination?\n",
            "Predicted: travellers above one year of age\n",
            "Actual: travellers above one year of age who have been in or have passed through any country with risk of yellow fever transmission in the six days before arriving in Singapore\n",
            "context: rtificate of Vaccination for yellow fever is required from travellers above one year of age who have been in or have passed through any country with r\n"
          ],
          "name": "stdout"
        },
        {
          "output_type": "stream",
          "text": [
            "Inferencing Samples: 100%|██████████| 2/2 [00:06<00:00,  3.21s/ Batches]\n",
            "Inferencing Samples: 100%|██████████| 2/2 [00:06<00:00,  3.22s/ Batches]\n",
            "07/26/2020 09:22:50 - INFO - elasticsearch -   POST http://localhost:9200/document/_search [status:200 request:0.008s]\n",
            "07/26/2020 09:22:50 - INFO - haystack.finder -   Reader is looking for detailed answer in 88992 chars ...\n"
          ],
          "name": "stderr"
        },
        {
          "output_type": "stream",
          "text": [
            "Question: Which aircrafts does paragraph 50D of the Air Navigation Order apply to?\n",
            "Predicted: all aircraft flying to, from or over the Republic of Singapore\n",
            "Actual: all aircraft flying to, from or over the Republic of Singapore, and to Singapore registered aircraft wherever they may be\n",
            "context: h may be imposed. This provision applies to all aircraft flying to, from or over the Republic of Singapore, and to Singapore registered aircraft where\n"
          ],
          "name": "stdout"
        },
        {
          "output_type": "stream",
          "text": [
            "Inferencing Samples: 100%|██████████| 2/2 [00:06<00:00,  3.23s/ Batches]\n",
            "Inferencing Samples: 100%|██████████| 2/2 [00:06<00:00,  3.16s/ Batches]\n",
            "07/26/2020 09:23:04 - INFO - elasticsearch -   POST http://localhost:9200/document/_search [status:200 request:0.007s]\n",
            "07/26/2020 09:23:04 - INFO - haystack.finder -   Reader is looking for detailed answer in 88992 chars ...\n"
          ],
          "name": "stderr"
        },
        {
          "output_type": "stream",
          "text": [
            "Question: What documents are required to carry dangerous goods in an aircraft?\n",
            "Predicted: a dangerous goods permit\n",
            "Actual: dangerous goods permit granted by the Director-General of Civil Aviation\n",
            "context: raft unless the operator of the aircraft has been granted with a dangerous goods permit granted by the Director-General of Civil Aviation and in accor\n"
          ],
          "name": "stdout"
        },
        {
          "output_type": "stream",
          "text": [
            "Inferencing Samples: 100%|██████████| 2/2 [00:06<00:00,  3.21s/ Batches]\n",
            "Inferencing Samples: 100%|██████████| 2/2 [00:06<00:00,  3.21s/ Batches]"
          ],
          "name": "stderr"
        },
        {
          "output_type": "stream",
          "text": [
            "Question: Where should operators who wish to carry dangerous goods submit their applications to?\n",
            "Predicted: Arms and Explosives Branch, Commissioner of Singapore Police\n",
            "Actual: Flight Standards Division; Civil Aviation Authority of Singapore Singapore Changi Airport; P.O.Box 1, Singapore 918141; FAX: (65) 65456519; TEL: (65) 65413487\n",
            "context: ained and applications should be made to the Arms and Explosives Branch, Commissioner of Singapore Police, Block J, Kinloss Complex, No 3 Ladyhill Roa\n"
          ],
          "name": "stdout"
        },
        {
          "output_type": "stream",
          "text": [
            "\n"
          ],
          "name": "stderr"
        }
      ]
    },
    {
      "cell_type": "code",
      "metadata": {
        "id": "R0YvtKQEdEMb",
        "colab_type": "code",
        "colab": {}
      },
      "source": [
        "#Evaluation\n",
        "from collections import Counter\n",
        "import string\n",
        "import re\n",
        "\n",
        "def normalize_answer(s):\n",
        "    \"\"\"Lower text and remove punctuation, articles and extra whitespace.\"\"\"\n",
        "    def remove_articles(text):\n",
        "        return re.sub(r\"\\b(a|an|the)\\b\", \" \", text)\n",
        "    def white_space_fix(text):\n",
        "        return \" \".join(text.split())\n",
        "    def remove_punc(text):\n",
        "        exclude = set(string.punctuation)\n",
        "        return \"\".join(ch for ch in text if ch not in exclude)\n",
        "    def lower(text):\n",
        "        return text.lower()\n",
        "    return white_space_fix(remove_articles(remove_punc(lower(s))))\n",
        "\n",
        "def f1_score(prediction, ground_truth):\n",
        "    prediction_tokens = normalize_answer(prediction).split()\n",
        "    ground_truth_tokens = normalize_answer(ground_truth).split()\n",
        "    common = Counter(prediction_tokens) & Counter(ground_truth_tokens)\n",
        "    num_same = sum(common.values())\n",
        "    if num_same == 0:\n",
        "        return 0\n",
        "    precision = 1.0 * num_same / len(prediction_tokens)\n",
        "    recall = 1.0 * num_same / len(ground_truth_tokens)\n",
        "    f1 = (2 * precision * recall) / (precision + recall)\n",
        "    return f1"
      ],
      "execution_count": 43,
      "outputs": []
    },
    {
      "cell_type": "code",
      "metadata": {
        "id": "PXLBeTb0caMu",
        "colab_type": "code",
        "colab": {
          "base_uri": "https://localhost:8080/",
          "height": 1000
        },
        "outputId": "46c92184-7bc6-4279-d2c6-12c140cf8a0c"
      },
      "source": [
        "scores = {}\n",
        "for index in range(len(queries['Question'])):\n",
        "  qn = queries['Question'][index]\n",
        "  prediction = finder.get_answers(question=qn, top_k_retriever=30, top_k_reader=1)\n",
        "  task = queries['TaskType'][index]\n",
        "  if task not in scores:\n",
        "    scores[task] = []\n",
        "  predicted = prediction['answers'][0]['answer']\n",
        "  actual = queries['Answer'][index]\n",
        "  scores[task].append(f1_score(predicted,actual))\n",
        "print(scores)"
      ],
      "execution_count": 56,
      "outputs": [
        {
          "output_type": "stream",
          "text": [
            "/usr/local/lib/python3.6/dist-packages/elasticsearch/connection/base.py:177: ElasticsearchDeprecationWarning: The vector functions of the form function(query, doc['field']) are deprecated, and the form function(query, 'field') should be used instead. For example, cosineSimilarity(query, doc['field']) is replaced by cosineSimilarity(query, 'field').\n",
            "  warnings.warn(message, category=ElasticsearchDeprecationWarning)\n",
            "07/26/2020 09:47:46 - INFO - elasticsearch -   POST http://localhost:9200/document/_search [status:200 request:0.015s]\n",
            "07/26/2020 09:47:46 - INFO - haystack.finder -   Reader is looking for detailed answer in 88992 chars ...\n",
            "Inferencing Samples: 100%|██████████| 2/2 [00:06<00:00,  3.27s/ Batches]\n",
            "Inferencing Samples: 100%|██████████| 2/2 [00:06<00:00,  3.20s/ Batches]\n",
            "07/26/2020 09:48:00 - INFO - elasticsearch -   POST http://localhost:9200/document/_search [status:200 request:0.012s]\n",
            "07/26/2020 09:48:00 - INFO - haystack.finder -   Reader is looking for detailed answer in 88992 chars ...\n",
            "Inferencing Samples: 100%|██████████| 2/2 [00:06<00:00,  3.18s/ Batches]\n",
            "Inferencing Samples: 100%|██████████| 2/2 [00:06<00:00,  3.19s/ Batches]\n",
            "07/26/2020 09:48:14 - INFO - elasticsearch -   POST http://localhost:9200/document/_search [status:200 request:0.008s]\n",
            "07/26/2020 09:48:14 - INFO - haystack.finder -   Reader is looking for detailed answer in 88992 chars ...\n",
            "Inferencing Samples: 100%|██████████| 2/2 [00:06<00:00,  3.20s/ Batches]\n",
            "Inferencing Samples: 100%|██████████| 2/2 [00:06<00:00,  3.20s/ Batches]\n",
            "07/26/2020 09:48:28 - INFO - elasticsearch -   POST http://localhost:9200/document/_search [status:200 request:0.007s]\n",
            "07/26/2020 09:48:28 - INFO - haystack.finder -   Reader is looking for detailed answer in 88992 chars ...\n",
            "Inferencing Samples: 100%|██████████| 2/2 [00:06<00:00,  3.22s/ Batches]\n",
            "Inferencing Samples: 100%|██████████| 2/2 [00:06<00:00,  3.19s/ Batches]\n",
            "07/26/2020 09:48:42 - INFO - elasticsearch -   POST http://localhost:9200/document/_search [status:200 request:0.006s]\n",
            "07/26/2020 09:48:42 - INFO - haystack.finder -   Reader is looking for detailed answer in 88992 chars ...\n",
            "Inferencing Samples: 100%|██████████| 2/2 [00:06<00:00,  3.20s/ Batches]\n",
            "Inferencing Samples: 100%|██████████| 2/2 [00:06<00:00,  3.17s/ Batches]\n",
            "07/26/2020 09:48:56 - INFO - elasticsearch -   POST http://localhost:9200/document/_search [status:200 request:0.008s]\n",
            "07/26/2020 09:48:56 - INFO - haystack.finder -   Reader is looking for detailed answer in 88992 chars ...\n",
            "Inferencing Samples: 100%|██████████| 2/2 [00:06<00:00,  3.22s/ Batches]\n",
            "Inferencing Samples: 100%|██████████| 2/2 [00:06<00:00,  3.21s/ Batches]\n",
            "07/26/2020 09:49:10 - INFO - elasticsearch -   POST http://localhost:9200/document/_search [status:200 request:0.009s]\n",
            "07/26/2020 09:49:10 - INFO - haystack.finder -   Reader is looking for detailed answer in 88992 chars ...\n",
            "Inferencing Samples: 100%|██████████| 2/2 [00:06<00:00,  3.21s/ Batches]\n",
            "Inferencing Samples: 100%|██████████| 2/2 [00:06<00:00,  3.16s/ Batches]\n",
            "07/26/2020 09:49:24 - INFO - elasticsearch -   POST http://localhost:9200/document/_search [status:200 request:0.007s]\n",
            "07/26/2020 09:49:24 - INFO - haystack.finder -   Reader is looking for detailed answer in 88992 chars ...\n",
            "Inferencing Samples: 100%|██████████| 2/2 [00:06<00:00,  3.20s/ Batches]\n",
            "Inferencing Samples: 100%|██████████| 2/2 [00:06<00:00,  3.21s/ Batches]\n",
            "07/26/2020 09:49:38 - INFO - elasticsearch -   POST http://localhost:9200/document/_search [status:200 request:0.005s]\n",
            "07/26/2020 09:49:38 - INFO - haystack.finder -   Reader is looking for detailed answer in 88992 chars ...\n",
            "Inferencing Samples: 100%|██████████| 2/2 [00:06<00:00,  3.20s/ Batches]\n",
            "Inferencing Samples: 100%|██████████| 2/2 [00:06<00:00,  3.19s/ Batches]\n",
            "07/26/2020 09:49:52 - INFO - elasticsearch -   POST http://localhost:9200/document/_search [status:200 request:0.008s]\n",
            "07/26/2020 09:49:52 - INFO - haystack.finder -   Reader is looking for detailed answer in 88992 chars ...\n",
            "Inferencing Samples: 100%|██████████| 2/2 [00:06<00:00,  3.20s/ Batches]\n",
            "Inferencing Samples: 100%|██████████| 2/2 [00:06<00:00,  3.19s/ Batches]\n",
            "07/26/2020 09:50:06 - INFO - elasticsearch -   POST http://localhost:9200/document/_search [status:200 request:0.006s]\n",
            "07/26/2020 09:50:06 - INFO - haystack.finder -   Reader is looking for detailed answer in 88992 chars ...\n",
            "Inferencing Samples: 100%|██████████| 2/2 [00:06<00:00,  3.20s/ Batches]\n",
            "Inferencing Samples: 100%|██████████| 2/2 [00:06<00:00,  3.20s/ Batches]\n",
            "07/26/2020 09:50:19 - INFO - elasticsearch -   POST http://localhost:9200/document/_search [status:200 request:0.009s]\n",
            "07/26/2020 09:50:19 - INFO - haystack.finder -   Reader is looking for detailed answer in 88992 chars ...\n",
            "Inferencing Samples: 100%|██████████| 2/2 [00:06<00:00,  3.21s/ Batches]\n",
            "Inferencing Samples: 100%|██████████| 2/2 [00:06<00:00,  3.21s/ Batches]\n",
            "07/26/2020 09:50:33 - INFO - elasticsearch -   POST http://localhost:9200/document/_search [status:200 request:0.007s]\n",
            "07/26/2020 09:50:33 - INFO - haystack.finder -   Reader is looking for detailed answer in 88992 chars ...\n",
            "Inferencing Samples: 100%|██████████| 2/2 [00:06<00:00,  3.20s/ Batches]\n",
            "Inferencing Samples: 100%|██████████| 2/2 [00:06<00:00,  3.20s/ Batches]\n",
            "07/26/2020 09:50:47 - INFO - elasticsearch -   POST http://localhost:9200/document/_search [status:200 request:0.012s]\n",
            "07/26/2020 09:50:47 - INFO - haystack.finder -   Reader is looking for detailed answer in 88992 chars ...\n",
            "Inferencing Samples: 100%|██████████| 2/2 [00:06<00:00,  3.20s/ Batches]\n",
            "Inferencing Samples: 100%|██████████| 2/2 [00:06<00:00,  3.20s/ Batches]\n",
            "07/26/2020 09:51:01 - INFO - elasticsearch -   POST http://localhost:9200/document/_search [status:200 request:0.008s]\n",
            "07/26/2020 09:51:01 - INFO - haystack.finder -   Reader is looking for detailed answer in 88992 chars ...\n",
            "Inferencing Samples: 100%|██████████| 2/2 [00:06<00:00,  3.21s/ Batches]\n",
            "Inferencing Samples: 100%|██████████| 2/2 [00:06<00:00,  3.16s/ Batches]\n",
            "07/26/2020 09:51:15 - INFO - elasticsearch -   POST http://localhost:9200/document/_search [status:200 request:0.008s]\n",
            "07/26/2020 09:51:15 - INFO - haystack.finder -   Reader is looking for detailed answer in 88992 chars ...\n",
            "Inferencing Samples: 100%|██████████| 2/2 [00:06<00:00,  3.20s/ Batches]\n",
            "Inferencing Samples: 100%|██████████| 2/2 [00:06<00:00,  3.20s/ Batches]\n",
            "07/26/2020 09:51:29 - INFO - elasticsearch -   POST http://localhost:9200/document/_search [status:200 request:0.008s]\n",
            "07/26/2020 09:51:29 - INFO - haystack.finder -   Reader is looking for detailed answer in 88992 chars ...\n",
            "Inferencing Samples: 100%|██████████| 2/2 [00:06<00:00,  3.21s/ Batches]\n",
            "Inferencing Samples: 100%|██████████| 2/2 [00:06<00:00,  3.21s/ Batches]\n",
            "07/26/2020 09:51:43 - INFO - elasticsearch -   POST http://localhost:9200/document/_search [status:200 request:0.020s]\n",
            "07/26/2020 09:51:43 - INFO - haystack.finder -   Reader is looking for detailed answer in 88992 chars ...\n",
            "Inferencing Samples: 100%|██████████| 2/2 [00:06<00:00,  3.20s/ Batches]\n",
            "Inferencing Samples: 100%|██████████| 2/2 [00:06<00:00,  3.21s/ Batches]\n",
            "07/26/2020 09:51:57 - INFO - elasticsearch -   POST http://localhost:9200/document/_search [status:200 request:0.009s]\n",
            "07/26/2020 09:51:57 - INFO - haystack.finder -   Reader is looking for detailed answer in 88992 chars ...\n",
            "Inferencing Samples: 100%|██████████| 2/2 [00:06<00:00,  3.20s/ Batches]\n",
            "Inferencing Samples: 100%|██████████| 2/2 [00:06<00:00,  3.16s/ Batches]\n",
            "07/26/2020 09:52:11 - INFO - elasticsearch -   POST http://localhost:9200/document/_search [status:200 request:0.011s]\n",
            "07/26/2020 09:52:11 - INFO - haystack.finder -   Reader is looking for detailed answer in 88992 chars ...\n",
            "Inferencing Samples: 100%|██████████| 2/2 [00:06<00:00,  3.21s/ Batches]\n",
            "Inferencing Samples: 100%|██████████| 2/2 [00:06<00:00,  3.20s/ Batches]\n",
            "07/26/2020 09:52:25 - INFO - elasticsearch -   POST http://localhost:9200/document/_search [status:200 request:0.008s]\n",
            "07/26/2020 09:52:25 - INFO - haystack.finder -   Reader is looking for detailed answer in 88992 chars ...\n",
            "Inferencing Samples: 100%|██████████| 2/2 [00:06<00:00,  3.20s/ Batches]\n",
            "Inferencing Samples: 100%|██████████| 2/2 [00:06<00:00,  3.18s/ Batches]\n",
            "07/26/2020 09:52:39 - INFO - elasticsearch -   POST http://localhost:9200/document/_search [status:200 request:0.013s]\n",
            "07/26/2020 09:52:39 - INFO - haystack.finder -   Reader is looking for detailed answer in 88992 chars ...\n",
            "Inferencing Samples: 100%|██████████| 2/2 [00:06<00:00,  3.21s/ Batches]\n",
            "Inferencing Samples: 100%|██████████| 2/2 [00:06<00:00,  3.17s/ Batches]\n",
            "07/26/2020 09:52:53 - INFO - elasticsearch -   POST http://localhost:9200/document/_search [status:200 request:0.012s]\n",
            "07/26/2020 09:52:53 - INFO - haystack.finder -   Reader is looking for detailed answer in 88992 chars ...\n",
            "Inferencing Samples: 100%|██████████| 2/2 [00:06<00:00,  3.18s/ Batches]\n",
            "Inferencing Samples: 100%|██████████| 2/2 [00:06<00:00,  3.15s/ Batches]\n",
            "07/26/2020 09:53:07 - INFO - elasticsearch -   POST http://localhost:9200/document/_search [status:200 request:0.006s]\n",
            "07/26/2020 09:53:07 - INFO - haystack.finder -   Reader is looking for detailed answer in 88992 chars ...\n",
            "Inferencing Samples: 100%|██████████| 2/2 [00:06<00:00,  3.16s/ Batches]\n",
            "Inferencing Samples: 100%|██████████| 2/2 [00:06<00:00,  3.17s/ Batches]\n",
            "07/26/2020 09:53:21 - INFO - elasticsearch -   POST http://localhost:9200/document/_search [status:200 request:0.006s]\n",
            "07/26/2020 09:53:21 - INFO - haystack.finder -   Reader is looking for detailed answer in 88992 chars ...\n",
            "Inferencing Samples: 100%|██████████| 2/2 [00:06<00:00,  3.19s/ Batches]\n",
            "Inferencing Samples: 100%|██████████| 2/2 [00:06<00:00,  3.17s/ Batches]\n",
            "07/26/2020 09:53:35 - INFO - elasticsearch -   POST http://localhost:9200/document/_search [status:200 request:0.006s]\n",
            "07/26/2020 09:53:35 - INFO - haystack.finder -   Reader is looking for detailed answer in 88992 chars ...\n",
            "Inferencing Samples: 100%|██████████| 2/2 [00:06<00:00,  3.18s/ Batches]\n",
            "Inferencing Samples: 100%|██████████| 2/2 [00:06<00:00,  3.19s/ Batches]\n",
            "07/26/2020 09:53:49 - INFO - elasticsearch -   POST http://localhost:9200/document/_search [status:200 request:0.007s]\n",
            "07/26/2020 09:53:49 - INFO - haystack.finder -   Reader is looking for detailed answer in 88992 chars ...\n",
            "Inferencing Samples: 100%|██████████| 2/2 [00:06<00:00,  3.19s/ Batches]\n",
            "Inferencing Samples: 100%|██████████| 2/2 [00:06<00:00,  3.19s/ Batches]\n",
            "07/26/2020 09:54:03 - INFO - elasticsearch -   POST http://localhost:9200/document/_search [status:200 request:0.006s]\n",
            "07/26/2020 09:54:03 - INFO - haystack.finder -   Reader is looking for detailed answer in 88992 chars ...\n",
            "Inferencing Samples: 100%|██████████| 2/2 [00:06<00:00,  3.18s/ Batches]\n",
            "Inferencing Samples: 100%|██████████| 2/2 [00:06<00:00,  3.15s/ Batches]\n",
            "07/26/2020 09:54:16 - INFO - elasticsearch -   POST http://localhost:9200/document/_search [status:200 request:0.006s]\n",
            "07/26/2020 09:54:16 - INFO - haystack.finder -   Reader is looking for detailed answer in 88992 chars ...\n",
            "Inferencing Samples: 100%|██████████| 2/2 [00:06<00:00,  3.19s/ Batches]\n",
            "Inferencing Samples: 100%|██████████| 2/2 [00:06<00:00,  3.19s/ Batches]"
          ],
          "name": "stderr"
        },
        {
          "output_type": "stream",
          "text": [
            "{1: [0.5, 1.0, 1.0, 1.0, 1.0, 0, 0.4545454545454546, 0, 0.5454545454545454, 0.35294117647058826, 0.6666666666666666, 1.0, 0.3, 1.0, 0.36363636363636365, 0.14285714285714288, 0.34285714285714286, 0.6896551724137931, 0.5, 0.13793103448275862], 9: [0, 0.625, 0], 8: [0.03571428571428571, 0.15384615384615385, 1.0, 1.0, 1.0, 0]}\n"
          ],
          "name": "stdout"
        },
        {
          "output_type": "stream",
          "text": [
            "\n"
          ],
          "name": "stderr"
        }
      ]
    },
    {
      "cell_type": "code",
      "metadata": {
        "id": "B8a8kB0vkXvX",
        "colab_type": "code",
        "colab": {
          "base_uri": "https://localhost:8080/",
          "height": 184
        },
        "outputId": "475a038a-06e8-4ab6-daad-f19bbcd7b1d5"
      },
      "source": [
        "# from google.colab import files\n",
        "# sep = ' '\n",
        "# text = sep.join(list_par)\n",
        "\n",
        "# with open('example.txt', 'w') as f:\n",
        "#   f.write(text)\n",
        "\n",
        "# files.download('example.txt')\n",
        "#document_store.write_documents(string)\n",
        "# b = '3'\n",
        "# a = {}\n",
        "# if b not in a:\n",
        "#   a[b] = []\n",
        "# a[b].append(4)\n",
        "# a\n",
        "from __future__ import print_function\n",
        "import numpy as np\n",
        "total_len = total_score = 0\n",
        "for k in scores.keys():\n",
        "  total_len += len(scores[k])\n",
        "  total_score += sum(scores[k])\n",
        "  print(k)\n",
        "  print(np.mean(scores[k]))\n",
        "  s = \"F1 score for Task {0} is {1}\".format(k, np.mean(scores[k]))\n",
        "  print(s)\n",
        "print(\"Overall F1 score : \" + str(total_score/total_len))"
      ],
      "execution_count": 78,
      "outputs": [
        {
          "output_type": "stream",
          "text": [
            "1\n",
            "0.5498272349692228\n",
            "F1 score for Task 1 is 0.5498272349692228\n",
            "9\n",
            "0.20833333333333334\n",
            "F1 score for Task 9 is 0.20833333333333334\n",
            "8\n",
            "0.5315934065934066\n",
            "F1 score for Task 8 is 0.5315934065934066\n",
            "Overall F1 score : 0.510727763411893\n"
          ],
          "name": "stdout"
        }
      ]
    }
  ]
}