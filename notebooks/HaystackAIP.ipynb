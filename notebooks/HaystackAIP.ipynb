{
  "nbformat": 4,
  "nbformat_minor": 0,
  "metadata": {
    "kernelspec": {
      "display_name": "Python 3",
      "language": "python",
      "name": "python3"
    },
    "language_info": {
      "codemirror_mode": {
        "name": "ipython",
        "version": 3
      },
      "file_extension": ".py",
      "mimetype": "text/x-python",
      "name": "python",
      "nbconvert_exporter": "python",
      "pygments_lexer": "ipython3",
      "version": "3.6.9"
    },
    "colab": {
      "name": "combined.ipynb",
      "provenance": [],
      "collapsed_sections": []
    }
  },
  "cells": [
    {
      "cell_type": "code",
      "metadata": {
        "id": "YrUm6dVkEqKP",
        "colab_type": "code",
        "colab": {},
        "outputId": "b6536584-1626-47cb-8830-f19f6bb8cf6a"
      },
      "source": [
        "! pip install git+https://github.com/deepset-ai/haystack.git"
      ],
      "execution_count": null,
      "outputs": [
        {
          "output_type": "stream",
          "text": [
            "Collecting git+https://github.com/deepset-ai/haystack.git\n",
            "  Cloning https://github.com/deepset-ai/haystack.git to /tmp/pip-req-build-dvvtvxkl\n",
            "  Running command git clone -q https://github.com/deepset-ai/haystack.git /tmp/pip-req-build-dvvtvxkl\n",
            "Requirement already satisfied (use --upgrade to upgrade): farm-haystack==0.3.0 from git+https://github.com/deepset-ai/haystack.git in /usr/local/lib/python3.6/dist-packages\n",
            "Requirement already satisfied: farm==0.4.6 in /usr/local/lib/python3.6/dist-packages (from farm-haystack==0.3.0) (0.4.6)\n",
            "Requirement already satisfied: fastapi in /usr/local/lib/python3.6/dist-packages (from farm-haystack==0.3.0) (0.60.1)\n",
            "Requirement already satisfied: uvicorn in /usr/local/lib/python3.6/dist-packages (from farm-haystack==0.3.0) (0.11.8)\n",
            "Requirement already satisfied: gunicorn in /usr/local/lib/python3.6/dist-packages (from farm-haystack==0.3.0) (20.0.4)\n",
            "Requirement already satisfied: pandas in /usr/local/lib/python3.6/dist-packages (from farm-haystack==0.3.0) (1.1.0)\n",
            "Requirement already satisfied: psycopg2-binary in /usr/local/lib/python3.6/dist-packages (from farm-haystack==0.3.0) (2.8.5)\n",
            "Requirement already satisfied: sklearn in /usr/local/lib/python3.6/dist-packages (from farm-haystack==0.3.0) (0.0)\n",
            "Requirement already satisfied: elasticsearch in /usr/local/lib/python3.6/dist-packages (from farm-haystack==0.3.0) (7.8.1)\n",
            "Requirement already satisfied: elastic-apm in /usr/local/lib/python3.6/dist-packages (from farm-haystack==0.3.0) (5.8.1)\n",
            "Requirement already satisfied: tox in /usr/local/lib/python3.6/dist-packages (from farm-haystack==0.3.0) (3.18.1)\n",
            "Requirement already satisfied: coverage in /usr/local/lib/python3.6/dist-packages (from farm-haystack==0.3.0) (5.2.1)\n",
            "Requirement already satisfied: langdetect in /usr/local/lib/python3.6/dist-packages (from farm-haystack==0.3.0) (1.0.8)\n",
            "Requirement already satisfied: wget in /usr/local/lib/python3.6/dist-packages (from farm-haystack==0.3.0) (3.2)\n",
            "Requirement already satisfied: python-multipart in /usr/local/lib/python3.6/dist-packages (from farm-haystack==0.3.0) (0.0.5)\n",
            "Requirement already satisfied: python-docx in /usr/local/lib/python3.6/dist-packages (from farm-haystack==0.3.0) (0.8.10)\n",
            "Requirement already satisfied: sqlalchemy_utils in /usr/local/lib/python3.6/dist-packages (from farm-haystack==0.3.0) (0.36.8)\n",
            "Requirement already satisfied: dill in /usr/local/lib/python3.6/dist-packages (from farm==0.4.6->farm-haystack==0.3.0) (0.3.2)\n",
            "Requirement already satisfied: boto3 in /usr/local/lib/python3.6/dist-packages (from farm==0.4.6->farm-haystack==0.3.0) (1.12.33)\n",
            "Requirement already satisfied: requests in /usr/local/lib/python3.6/dist-packages (from farm==0.4.6->farm-haystack==0.3.0) (2.23.0)\n",
            "Requirement already satisfied: psutil in /usr/local/lib/python3.6/dist-packages (from farm==0.4.6->farm-haystack==0.3.0) (5.7.2)\n",
            "Requirement already satisfied: Werkzeug==0.16.1 in /usr/local/lib/python3.6/dist-packages (from farm==0.4.6->farm-haystack==0.3.0) (0.16.1)\n",
            "Requirement already satisfied: mlflow==1.0.0 in /usr/local/lib/python3.6/dist-packages (from farm==0.4.6->farm-haystack==0.3.0) (1.0.0)\n",
            "Requirement already satisfied: flask in /usr/local/lib/python3.6/dist-packages (from farm==0.4.6->farm-haystack==0.3.0) (1.1.2)\n",
            "Requirement already satisfied: tqdm in /usr/local/lib/python3.6/dist-packages (from farm==0.4.6->farm-haystack==0.3.0) (4.44.1)\n",
            "Requirement already satisfied: wheel in /usr/lib/python3/dist-packages (from farm==0.4.6->farm-haystack==0.3.0) (0.30.0)\n",
            "Requirement already satisfied: transformers==3.0.2 in /usr/local/lib/python3.6/dist-packages (from farm==0.4.6->farm-haystack==0.3.0) (3.0.2)\n",
            "Requirement already satisfied: torch==1.5.* in /usr/local/lib/python3.6/dist-packages (from farm==0.4.6->farm-haystack==0.3.0) (1.5.1)\n",
            "Requirement already satisfied: scipy>=1.3.2 in /usr/local/lib/python3.6/dist-packages (from farm==0.4.6->farm-haystack==0.3.0) (1.4.1)\n",
            "Requirement already satisfied: flask-cors in /usr/local/lib/python3.6/dist-packages (from farm==0.4.6->farm-haystack==0.3.0) (3.0.8)\n",
            "Requirement already satisfied: setuptools in /usr/local/lib/python3.6/dist-packages (from farm==0.4.6->farm-haystack==0.3.0) (46.0.0)\n",
            "Requirement already satisfied: dotmap==1.3.0 in /usr/local/lib/python3.6/dist-packages (from farm==0.4.6->farm-haystack==0.3.0) (1.3.0)\n",
            "Requirement already satisfied: seqeval in /usr/local/lib/python3.6/dist-packages (from farm==0.4.6->farm-haystack==0.3.0) (0.0.12)\n",
            "Requirement already satisfied: flask-restplus in /usr/local/lib/python3.6/dist-packages (from farm==0.4.6->farm-haystack==0.3.0) (0.13.0)\n",
            "Requirement already satisfied: starlette==0.13.6 in /usr/local/lib/python3.6/dist-packages (from fastapi->farm-haystack==0.3.0) (0.13.6)\n",
            "Requirement already satisfied: pydantic<2.0.0,>=0.32.2 in /usr/local/lib/python3.6/dist-packages (from fastapi->farm-haystack==0.3.0) (1.6.1)\n",
            "Requirement already satisfied: h11<0.10,>=0.8 in /usr/local/lib/python3.6/dist-packages (from uvicorn->farm-haystack==0.3.0) (0.9.0)\n",
            "Requirement already satisfied: websockets==8.* in /usr/local/lib/python3.6/dist-packages (from uvicorn->farm-haystack==0.3.0) (8.1)\n",
            "Requirement already satisfied: httptools==0.1.*; sys_platform != \"win32\" and sys_platform != \"cygwin\" and platform_python_implementation != \"PyPy\" in /usr/local/lib/python3.6/dist-packages (from uvicorn->farm-haystack==0.3.0) (0.1.1)\n",
            "Requirement already satisfied: uvloop>=0.14.0; sys_platform != \"win32\" and sys_platform != \"cygwin\" and platform_python_implementation != \"PyPy\" in /usr/local/lib/python3.6/dist-packages (from uvicorn->farm-haystack==0.3.0) (0.14.0)\n",
            "Requirement already satisfied: click==7.* in /usr/local/lib/python3.6/dist-packages (from uvicorn->farm-haystack==0.3.0) (7.1.1)\n",
            "Requirement already satisfied: python-dateutil>=2.7.3 in /usr/local/lib/python3.6/dist-packages (from pandas->farm-haystack==0.3.0) (2.8.1)\n",
            "Requirement already satisfied: pytz>=2017.2 in /usr/local/lib/python3.6/dist-packages (from pandas->farm-haystack==0.3.0) (2020.1)\n",
            "Requirement already satisfied: numpy>=1.15.4 in /usr/local/lib/python3.6/dist-packages (from pandas->farm-haystack==0.3.0) (1.18.1)\n",
            "Requirement already satisfied: scikit-learn in /usr/local/lib/python3.6/dist-packages (from sklearn->farm-haystack==0.3.0) (0.23.1)\n",
            "Requirement already satisfied: certifi in /usr/local/lib/python3.6/dist-packages (from elasticsearch->farm-haystack==0.3.0) (2019.11.28)\n",
            "Requirement already satisfied: urllib3>=1.21.1 in /usr/local/lib/python3.6/dist-packages (from elasticsearch->farm-haystack==0.3.0) (1.25.8)\n",
            "Requirement already satisfied: importlib-metadata<2,>=0.12; python_version < \"3.8\" in /usr/local/lib/python3.6/dist-packages (from tox->farm-haystack==0.3.0) (1.5.0)\n",
            "Requirement already satisfied: virtualenv!=20.0.0,!=20.0.1,!=20.0.2,!=20.0.3,!=20.0.4,!=20.0.5,!=20.0.6,!=20.0.7,>=16.0.0 in /usr/local/lib/python3.6/dist-packages (from tox->farm-haystack==0.3.0) (20.0.29)\n",
            "Requirement already satisfied: toml>=0.9.4 in /usr/local/lib/python3.6/dist-packages (from tox->farm-haystack==0.3.0) (0.10.1)\n",
            "Requirement already satisfied: filelock>=3.0.0 in /usr/local/lib/python3.6/dist-packages (from tox->farm-haystack==0.3.0) (3.0.12)\n",
            "Requirement already satisfied: py>=1.4.17 in /usr/local/lib/python3.6/dist-packages (from tox->farm-haystack==0.3.0) (1.9.0)\n",
            "Requirement already satisfied: six>=1.14.0 in /usr/local/lib/python3.6/dist-packages (from tox->farm-haystack==0.3.0) (1.14.0)\n",
            "Requirement already satisfied: packaging>=14 in /usr/local/lib/python3.6/dist-packages (from tox->farm-haystack==0.3.0) (20.4)\n",
            "Requirement already satisfied: pluggy>=0.12.0 in /usr/local/lib/python3.6/dist-packages (from tox->farm-haystack==0.3.0) (0.13.1)\n",
            "Requirement already satisfied: lxml>=2.3.2 in /usr/local/lib/python3.6/dist-packages (from python-docx->farm-haystack==0.3.0) (4.5.2)\n",
            "Requirement already satisfied: SQLAlchemy>=1.0 in /usr/local/lib/python3.6/dist-packages (from sqlalchemy_utils->farm-haystack==0.3.0) (1.3.18)\n",
            "Requirement already satisfied: jmespath<1.0.0,>=0.7.1 in /usr/local/lib/python3.6/dist-packages (from boto3->farm==0.4.6->farm-haystack==0.3.0) (0.9.5)\n",
            "Requirement already satisfied: botocore<1.16.0,>=1.15.33 in /usr/local/lib/python3.6/dist-packages (from boto3->farm==0.4.6->farm-haystack==0.3.0) (1.15.33)\n",
            "Requirement already satisfied: s3transfer<0.4.0,>=0.3.0 in /usr/local/lib/python3.6/dist-packages (from boto3->farm==0.4.6->farm-haystack==0.3.0) (0.3.3)\n",
            "Requirement already satisfied: idna<3,>=2.5 in /usr/lib/python3/dist-packages (from requests->farm==0.4.6->farm-haystack==0.3.0) (2.6)\n",
            "Requirement already satisfied: chardet<4,>=3.0.2 in /usr/local/lib/python3.6/dist-packages (from requests->farm==0.4.6->farm-haystack==0.3.0) (3.0.4)\n",
            "Requirement already satisfied: protobuf>=3.6.0 in /usr/local/lib/python3.6/dist-packages (from mlflow==1.0.0->farm==0.4.6->farm-haystack==0.3.0) (3.11.3)\n",
            "Requirement already satisfied: pyyaml in /usr/local/lib/python3.6/dist-packages (from mlflow==1.0.0->farm==0.4.6->farm-haystack==0.3.0) (5.3.1)\n",
            "Requirement already satisfied: querystring-parser in /usr/local/lib/python3.6/dist-packages (from mlflow==1.0.0->farm==0.4.6->farm-haystack==0.3.0) (1.2.4)\n",
            "Requirement already satisfied: sqlparse in /usr/local/lib/python3.6/dist-packages (from mlflow==1.0.0->farm==0.4.6->farm-haystack==0.3.0) (0.3.1)\n",
            "Requirement already satisfied: cloudpickle in /usr/local/lib/python3.6/dist-packages (from mlflow==1.0.0->farm==0.4.6->farm-haystack==0.3.0) (1.5.0)\n",
            "Requirement already satisfied: simplejson in /usr/local/lib/python3.6/dist-packages (from mlflow==1.0.0->farm==0.4.6->farm-haystack==0.3.0) (3.17.2)\n",
            "Requirement already satisfied: entrypoints in /usr/local/lib/python3.6/dist-packages (from mlflow==1.0.0->farm==0.4.6->farm-haystack==0.3.0) (0.3)\n",
            "Requirement already satisfied: gitpython>=2.1.0 in /usr/local/lib/python3.6/dist-packages (from mlflow==1.0.0->farm==0.4.6->farm-haystack==0.3.0) (3.1.7)\n",
            "Requirement already satisfied: alembic in /usr/local/lib/python3.6/dist-packages (from mlflow==1.0.0->farm==0.4.6->farm-haystack==0.3.0) (1.4.2)\n",
            "Requirement already satisfied: docker>=3.6.0 in /usr/local/lib/python3.6/dist-packages (from mlflow==1.0.0->farm==0.4.6->farm-haystack==0.3.0) (4.2.2)\n",
            "Requirement already satisfied: databricks-cli>=0.8.0 in /usr/local/lib/python3.6/dist-packages (from mlflow==1.0.0->farm==0.4.6->farm-haystack==0.3.0) (0.11.0)\n",
            "Requirement already satisfied: Jinja2>=2.10.1 in /usr/local/lib/python3.6/dist-packages (from flask->farm==0.4.6->farm-haystack==0.3.0) (2.11.1)\n",
            "Requirement already satisfied: itsdangerous>=0.24 in /usr/local/lib/python3.6/dist-packages (from flask->farm==0.4.6->farm-haystack==0.3.0) (1.1.0)\n",
            "Requirement already satisfied: regex!=2019.12.17 in /usr/local/lib/python3.6/dist-packages (from transformers==3.0.2->farm==0.4.6->farm-haystack==0.3.0) (2020.2.20)\n",
            "Requirement already satisfied: tokenizers==0.8.1.rc1 in /usr/local/lib/python3.6/dist-packages (from transformers==3.0.2->farm==0.4.6->farm-haystack==0.3.0) (0.8.1rc1)\n",
            "Requirement already satisfied: sacremoses in /usr/local/lib/python3.6/dist-packages (from transformers==3.0.2->farm==0.4.6->farm-haystack==0.3.0) (0.0.38)\n",
            "Requirement already satisfied: sentencepiece!=0.1.92 in /usr/local/lib/python3.6/dist-packages (from transformers==3.0.2->farm==0.4.6->farm-haystack==0.3.0) (0.1.85)\n",
            "Requirement already satisfied: dataclasses; python_version < \"3.7\" in /usr/local/lib/python3.6/dist-packages (from transformers==3.0.2->farm==0.4.6->farm-haystack==0.3.0) (0.7)\n",
            "Requirement already satisfied: future in /usr/local/lib/python3.6/dist-packages (from torch==1.5.*->farm==0.4.6->farm-haystack==0.3.0) (0.18.2)\n",
            "Requirement already satisfied: Keras>=2.2.4 in /usr/local/lib/python3.6/dist-packages (from seqeval->farm==0.4.6->farm-haystack==0.3.0) (2.4.3)\n",
            "Requirement already satisfied: jsonschema in /usr/local/lib/python3.6/dist-packages (from flask-restplus->farm==0.4.6->farm-haystack==0.3.0) (3.2.0)\n",
            "Requirement already satisfied: aniso8601>=0.82 in /usr/local/lib/python3.6/dist-packages (from flask-restplus->farm==0.4.6->farm-haystack==0.3.0) (8.0.0)\n",
            "Requirement already satisfied: joblib>=0.11 in /usr/local/lib/python3.6/dist-packages (from scikit-learn->sklearn->farm-haystack==0.3.0) (0.14.1)\n",
            "Requirement already satisfied: threadpoolctl>=2.0.0 in /usr/local/lib/python3.6/dist-packages (from scikit-learn->sklearn->farm-haystack==0.3.0) (2.1.0)\n",
            "Requirement already satisfied: zipp>=0.5 in /usr/local/lib/python3.6/dist-packages (from importlib-metadata<2,>=0.12; python_version < \"3.8\"->tox->farm-haystack==0.3.0) (3.1.0)\n",
            "Requirement already satisfied: importlib-resources>=1.0; python_version < \"3.7\" in /usr/local/lib/python3.6/dist-packages (from virtualenv!=20.0.0,!=20.0.1,!=20.0.2,!=20.0.3,!=20.0.4,!=20.0.5,!=20.0.6,!=20.0.7,>=16.0.0->tox->farm-haystack==0.3.0) (3.0.0)\n",
            "Requirement already satisfied: appdirs<2,>=1.4.3 in /usr/local/lib/python3.6/dist-packages (from virtualenv!=20.0.0,!=20.0.1,!=20.0.2,!=20.0.3,!=20.0.4,!=20.0.5,!=20.0.6,!=20.0.7,>=16.0.0->tox->farm-haystack==0.3.0) (1.4.4)\n",
            "Requirement already satisfied: distlib<1,>=0.3.1 in /usr/local/lib/python3.6/dist-packages (from virtualenv!=20.0.0,!=20.0.1,!=20.0.2,!=20.0.3,!=20.0.4,!=20.0.5,!=20.0.6,!=20.0.7,>=16.0.0->tox->farm-haystack==0.3.0) (0.3.1)\n",
            "Requirement already satisfied: pyparsing>=2.0.2 in /usr/local/lib/python3.6/dist-packages (from packaging>=14->tox->farm-haystack==0.3.0) (2.4.7)\n",
            "Requirement already satisfied: docutils<0.16,>=0.10 in /usr/local/lib/python3.6/dist-packages (from botocore<1.16.0,>=1.15.33->boto3->farm==0.4.6->farm-haystack==0.3.0) (0.15.2)\n",
            "Requirement already satisfied: gitdb<5,>=4.0.1 in /usr/local/lib/python3.6/dist-packages (from gitpython>=2.1.0->mlflow==1.0.0->farm==0.4.6->farm-haystack==0.3.0) (4.0.5)\n",
            "Requirement already satisfied: python-editor>=0.3 in /usr/local/lib/python3.6/dist-packages (from alembic->mlflow==1.0.0->farm==0.4.6->farm-haystack==0.3.0) (1.0.4)\n",
            "Requirement already satisfied: Mako in /usr/local/lib/python3.6/dist-packages (from alembic->mlflow==1.0.0->farm==0.4.6->farm-haystack==0.3.0) (1.1.3)\n",
            "Requirement already satisfied: websocket-client>=0.32.0 in /usr/local/lib/python3.6/dist-packages (from docker>=3.6.0->mlflow==1.0.0->farm==0.4.6->farm-haystack==0.3.0) (0.57.0)\n",
            "Requirement already satisfied: tabulate>=0.7.7 in /usr/local/lib/python3.6/dist-packages (from databricks-cli>=0.8.0->mlflow==1.0.0->farm==0.4.6->farm-haystack==0.3.0) (0.8.7)\n",
            "Requirement already satisfied: MarkupSafe>=0.23 in /usr/local/lib/python3.6/dist-packages (from Jinja2>=2.10.1->flask->farm==0.4.6->farm-haystack==0.3.0) (1.1.1)\n",
            "Requirement already satisfied: h5py in /usr/local/lib/python3.6/dist-packages (from Keras>=2.2.4->seqeval->farm==0.4.6->farm-haystack==0.3.0) (2.10.0)\n",
            "Requirement already satisfied: attrs>=17.4.0 in /usr/local/lib/python3.6/dist-packages (from jsonschema->flask-restplus->farm==0.4.6->farm-haystack==0.3.0) (19.3.0)\n",
            "Requirement already satisfied: pyrsistent>=0.14.0 in /usr/local/lib/python3.6/dist-packages (from jsonschema->flask-restplus->farm==0.4.6->farm-haystack==0.3.0) (0.15.7)\n",
            "Requirement already satisfied: smmap<4,>=3.0.1 in /usr/local/lib/python3.6/dist-packages (from gitdb<5,>=4.0.1->gitpython>=2.1.0->mlflow==1.0.0->farm==0.4.6->farm-haystack==0.3.0) (3.0.4)\n",
            "Building wheels for collected packages: farm-haystack\n",
            "  Building wheel for farm-haystack (setup.py) ... \u001b[?25ldone\n",
            "\u001b[?25h  Created wheel for farm-haystack: filename=farm_haystack-0.3.0-py3-none-any.whl size=90088 sha256=9e524d7d46135bc1fa88debdc322f64c98fe5726e48b8cf8d705dda63593f53c\n",
            "  Stored in directory: /tmp/pip-ephem-wheel-cache-ga9np8z6/wheels/5b/d7/60/7a15bd24f2905dfa70aa762413b9570b9d37add064b151aaf0\n",
            "Successfully built farm-haystack\n",
            "\u001b[33mWARNING: You are using pip version 20.0.2; however, version 20.2 is available.\n",
            "You should consider upgrading via the '/usr/bin/python3 -m pip install --upgrade pip' command.\u001b[0m\n"
          ],
          "name": "stdout"
        }
      ]
    },
    {
      "cell_type": "code",
      "metadata": {
        "id": "RVXZF_KEEqKT",
        "colab_type": "code",
        "colab": {}
      },
      "source": [
        "from haystack import Finder\n",
        "from haystack.indexing.cleaning import clean_wiki_text\n",
        "from haystack.indexing.utils import convert_files_to_dicts, fetch_archive_from_http\n",
        "from haystack.reader.farm import FARMReader\n",
        "from haystack.reader.transformers import TransformersReader\n",
        "from haystack.utils import print_answers\n",
        "\n",
        "import pandas as pd\n",
        "import numpy as np\n",
        "import json\n",
        "import math\n",
        "import random"
      ],
      "execution_count": null,
      "outputs": []
    },
    {
      "cell_type": "code",
      "metadata": {
        "id": "wOqkn6SsEqKV",
        "colab_type": "code",
        "colab": {},
        "outputId": "761cd085-6a00-4ae8-9fa0-a1bf84a95c6a"
      },
      "source": [
        "!apt-get update\n",
        "!apt-get install wget"
      ],
      "execution_count": null,
      "outputs": [
        {
          "output_type": "stream",
          "text": [
            "Ign:1 https://developer.download.nvidia.com/compute/cuda/repos/ubuntu1804/x86_64  InRelease\n",
            "Ign:2 https://developer.download.nvidia.com/compute/machine-learning/repos/ubuntu1804/x86_64  InRelease\n",
            "Get:3 https://developer.download.nvidia.com/compute/cuda/repos/ubuntu1804/x86_64  Release [697 B]\n",
            "Get:4 https://developer.download.nvidia.com/compute/machine-learning/repos/ubuntu1804/x86_64  Release [564 B]\n",
            "Get:5 https://developer.download.nvidia.com/compute/cuda/repos/ubuntu1804/x86_64  Release.gpg [836 B]\n",
            "Get:6 https://developer.download.nvidia.com/compute/machine-learning/repos/ubuntu1804/x86_64  Release.gpg [833 B]\n",
            "Ign:7 https://developer.download.nvidia.com/compute/cuda/repos/ubuntu1804/x86_64  Packages\n",
            "Get:7 https://developer.download.nvidia.com/compute/cuda/repos/ubuntu1804/x86_64  Packages [232 kB]\n",
            "Get:8 https://deb.nodesource.com/node_12.x bionic InRelease [4584 B]           \n",
            "Get:9 http://security.ubuntu.com/ubuntu bionic-security InRelease [88.7 kB]    \n",
            "Hit:10 http://archive.ubuntu.com/ubuntu bionic InRelease                       \n",
            "Get:11 https://developer.download.nvidia.com/compute/machine-learning/repos/ubuntu1804/x86_64  Packages [43.7 kB]\n",
            "Get:12 https://deb.nodesource.com/node_12.x bionic/main amd64 Packages [767 B] \n",
            "Get:13 http://archive.ubuntu.com/ubuntu bionic-updates InRelease [88.7 kB]     \n",
            "Get:14 http://security.ubuntu.com/ubuntu bionic-security/restricted amd64 Packages [100 kB]\n",
            "Get:15 http://archive.ubuntu.com/ubuntu bionic-backports InRelease [74.6 kB]   \n",
            "Get:16 http://security.ubuntu.com/ubuntu bionic-security/multiverse amd64 Packages [9555 B]\n",
            "Get:17 http://security.ubuntu.com/ubuntu bionic-security/main amd64 Packages [1033 kB]\n",
            "Get:18 http://archive.ubuntu.com/ubuntu bionic-updates/main amd64 Packages [1334 kB]\n",
            "Get:19 http://security.ubuntu.com/ubuntu bionic-security/universe amd64 Packages [880 kB]\n",
            "Get:20 http://archive.ubuntu.com/ubuntu bionic-updates/universe amd64 Packages [1413 kB]\n",
            "Get:21 http://archive.ubuntu.com/ubuntu bionic-updates/restricted amd64 Packages [116 kB]\n",
            "Get:22 http://archive.ubuntu.com/ubuntu bionic-updates/multiverse amd64 Packages [27.1 kB]\n",
            "Get:23 http://archive.ubuntu.com/ubuntu bionic-backports/universe amd64 Packages [8432 B]\n",
            "Get:24 http://archive.ubuntu.com/ubuntu bionic-backports/main amd64 Packages [8286 B]\n",
            "Fetched 5466 kB in 2s (2480 kB/s)                           \n",
            "Reading package lists... Done\n",
            "Reading package lists... Done\n",
            "Building dependency tree       \n",
            "Reading state information... Done\n",
            "The following NEW packages will be installed:\n",
            "  wget\n",
            "0 upgraded, 1 newly installed, 0 to remove and 90 not upgraded.\n",
            "Need to get 316 kB of archives.\n",
            "After this operation, 954 kB of additional disk space will be used.\n",
            "Get:1 http://archive.ubuntu.com/ubuntu bionic-updates/main amd64 wget amd64 1.19.4-1ubuntu2.2 [316 kB]\n",
            "Fetched 316 kB in 1s (361 kB/s)\n",
            "debconf: delaying package configuration, since apt-utils is not installed\n",
            "Selecting previously unselected package wget.\n",
            "(Reading database ... 22110 files and directories currently installed.)\n",
            "Preparing to unpack .../wget_1.19.4-1ubuntu2.2_amd64.deb ...\n",
            "Unpacking wget (1.19.4-1ubuntu2.2) ...\n",
            "Setting up wget (1.19.4-1ubuntu2.2) ...\n"
          ],
          "name": "stdout"
        }
      ]
    },
    {
      "cell_type": "code",
      "metadata": {
        "id": "_Vb3e1aDEqKX",
        "colab_type": "code",
        "colab": {}
      },
      "source": [
        "#Installing Elasticsearch\n",
        "! wget https://artifacts.elastic.co/downloads/elasticsearch/elasticsearch-7.6.2-linux-x86_64.tar.gz -q\n",
        "! tar -xzf elasticsearch-7.6.2-linux-x86_64.tar.gz\n",
        "! chown -R daemon:daemon elasticsearch-7.6.2\n",
        "\n",
        "import os\n",
        "from subprocess import Popen, PIPE, STDOUT\n",
        "es_server = Popen(['elasticsearch-7.6.2/bin/elasticsearch'],\n",
        "                   stdout=PIPE, stderr=STDOUT,\n",
        "                   preexec_fn=lambda: os.setuid(1)  # as daemon\n",
        "                  )\n",
        "# wait until ES has started\n",
        "! sleep 30"
      ],
      "execution_count": null,
      "outputs": []
    },
    {
      "cell_type": "code",
      "metadata": {
        "id": "wYhgVkUkEqKY",
        "colab_type": "code",
        "colab": {},
        "outputId": "a3ea8751-1cdf-489d-d91e-f7db1f04a470"
      },
      "source": [
        "# Connect to Elasticsearch\n",
        "from haystack.database.elasticsearch import ElasticsearchDocumentStore\n",
        "\n",
        "# We need to set `embedding_field` and `embedding_dim`, when we plan to use a dense retriever\n",
        "document_store = ElasticsearchDocumentStore(host=\"localhost\", username=\"\", password=\"\", index=\"document\", \n",
        "                                            embedding_field=\"embedding\", embedding_dim=768)"
      ],
      "execution_count": null,
      "outputs": [
        {
          "output_type": "stream",
          "text": [
            "08/02/2020 09:08:33 - INFO - elasticsearch -   PUT http://localhost:9200/document [status:400 request:0.009s]\n",
            "08/02/2020 09:08:33 - INFO - elasticsearch -   PUT http://localhost:9200/label [status:400 request:0.009s]\n"
          ],
          "name": "stderr"
        }
      ]
    },
    {
      "cell_type": "code",
      "metadata": {
        "id": "vnvi9O5VEqKa",
        "colab_type": "code",
        "colab": {}
      },
      "source": [
        "\n",
        "#Recording task types from csv\n",
        "queries = pd.read_csv('data/questions/allQuestions.csv') \n",
        "queries['PageNum'] = pd.Series(queries['PageNum']).fillna(method='ffill')\n",
        "queries['Context'] = pd.Series(queries['Context']).fillna(method='ffill')\n",
        "taskType = {}\n",
        "for index in range(len(queries['Question'])):\n",
        "  # Set each question as a key, and the task type as its value\n",
        "  taskType[queries['Question'][index]] = queries['TaskType'][index]"
      ],
      "execution_count": null,
      "outputs": []
    },
    {
      "cell_type": "code",
      "metadata": {
        "id": "vzKz5SBeEqKd",
        "colab_type": "code",
        "colab": {}
      },
      "source": [
        "file1 = open(\"data/questions/squadQA.json\",\"r+\") \n",
        "string = file1.read()\n",
        "mydict = json.loads(string)\n",
        "strings = mydict['data'][0]['paragraphs']\n",
        "numTest = int(math.floor(0.5 * len(task)))\n",
        "#Generate indices to extract test data\n",
        "random.seed(5)\n",
        "randomlist = random.sample(range(len(task)), numTest)\n",
        "test = {}\n",
        "index = 0\n",
        "for row in range(len(strings)):\n",
        "  #Iterate through the questions for each context\n",
        "  qas = strings[row]['qas']\n",
        "  qa = 0\n",
        "  while qa < len(qas):\n",
        "    if index in randomlist:\n",
        "      test[qas[qa]['question']] = qas[qa]['answers'][0]['text']\n",
        "      del qas[qa]\n",
        "      #qa should remain at the same value during next iteration\n",
        "      qa -= 1\n",
        "    qa += 1\n",
        "    index += 1\n",
        "with open('data/questions/trainqa.json','w') as f:\n",
        "  json.dump(mydict,f)"
      ],
      "execution_count": null,
      "outputs": []
    },
    {
      "cell_type": "code",
      "metadata": {
        "id": "rsCMFZpDEqKg",
        "colab_type": "code",
        "colab": {},
        "outputId": "c9e65924-f576-43ce-f3bf-5b267944abf3"
      },
      "source": [
        "#Read in corpus\n",
        "file1 = open(\"data/cleaned_text/summary.txt\",\"r+\",encoding='UTF-8') \n",
        "string = file1.read()\n",
        "paragraphs =string.split('.\\n')\n",
        "list_par=[]\n",
        "for p in range(len(paragraphs)):\n",
        "  #Remove headers and footers\n",
        "  #if ('©' in paragraphs[p]) or ('AIP SingaporeGEN' in paragraphs[p]):\n",
        "    #continue\n",
        "  #turn lists into sentences by replacing - with ,\n",
        "  paragraphs[p] = paragraphs[p].replace(';\\n -',',')\n",
        "  #first element of list does not require a comma\n",
        "  paragraphs[p]= paragraphs[p].replace('\\n -','')\n",
        "  paragraphs[p]=paragraphs[p].replace(';','')\n",
        "  result = paragraphs[p].split('\\n')\n",
        "  for r in range(len(result)):\n",
        "    #Remove whitespace between lines\n",
        "    result[r] = result[r].strip()\n",
        "    #Remove whitespace between words\n",
        "    words = result[r].split(' ')\n",
        "    s = ' '\n",
        "    result[r] = s.join([word for word in words if word != ''])\n",
        "  paragraphs[p] = s.join(result)\n",
        "  paragraphs[p]=paragraphs[p].replace('\\n','')\n",
        "  paragraphs[p] = paragraphs[p].replace('°',' degrees ')\n",
        "  list_par.append(paragraphs[p].strip())\n",
        "sep = '. '\n",
        "passage = sep.join(list_par)\n",
        "dict1= [{'meta':{'name':'summary.txt'},'text':passage}]\n",
        "document_store.write_documents(dict1)"
      ],
      "execution_count": null,
      "outputs": [
        {
          "output_type": "stream",
          "text": [
            "08/02/2020 09:09:20 - INFO - elasticsearch -   POST http://localhost:9200/_bulk?refresh=wait_for [status:200 request:0.862s]\n"
          ],
          "name": "stderr"
        }
      ]
    },
    {
      "cell_type": "code",
      "metadata": {
        "id": "8fDgue_yEqKh",
        "colab_type": "code",
        "colab": {},
        "outputId": "4fae7fc2-1738-4261-86ce-7af970d2bf65"
      },
      "source": [
        "#Initialize retriever\n",
        "from haystack.retriever.dense import DensePassageRetriever\n",
        "retriever = DensePassageRetriever(document_store=document_store, embedding_model=\"dpr-bert-base-nq\",\n",
        "                                  do_lower_case=True, use_gpu=True)\n",
        "document_store.update_embeddings(retriever)"
      ],
      "execution_count": null,
      "outputs": [
        {
          "output_type": "stream",
          "text": [
            "08/02/2020 09:09:23 - INFO - haystack.retriever.dpr_utils -   Loading saved model from models/dpr/checkpoint/retriever/single/nq/bert-base-encoder.cp\n",
            "08/02/2020 09:09:24 - INFO - haystack.retriever.dense -   Loaded encoder params:  {'do_lower_case': True, 'pretrained_model_cfg': 'bert-base-uncased', 'encoder_model_type': 'hf_bert', 'pretrained_file': None, 'projection_dim': 0, 'sequence_length': 256}\n",
            "08/02/2020 09:09:34 - INFO - haystack.retriever.dense -   Loading saved model state ...\n",
            "08/02/2020 09:09:34 - INFO - haystack.retriever.dense -   Loading saved model state ...\n",
            "08/02/2020 09:09:34 - INFO - elasticsearch -   POST http://localhost:9200/document/_search?scroll=5m&size=1000 [status:200 request:0.009s]\n",
            "08/02/2020 09:09:34 - INFO - elasticsearch -   POST http://localhost:9200/_search/scroll [status:200 request:0.003s]\n",
            "08/02/2020 09:09:34 - INFO - elasticsearch -   DELETE http://localhost:9200/_search/scroll [status:200 request:0.002s]\n",
            "08/02/2020 09:09:34 - INFO - haystack.database.elasticsearch -   Updating embeddings for 4 docs ...\n",
            "08/02/2020 09:09:36 - INFO - elasticsearch -   POST http://localhost:9200/_bulk [status:200 request:0.064s]\n"
          ],
          "name": "stderr"
        }
      ]
    },
    {
      "cell_type": "code",
      "metadata": {
        "id": "oEUnphmvEqKj",
        "colab_type": "code",
        "colab": {
          "referenced_widgets": [
            "5e49ec5fb03240f3b33f3b7ae5c5624d",
            "47a837d6f5ea42d3b8638245e6a918ac",
            "a1d1aee615c34ae4aaffcdc4fefa325c",
            "21a5062b70504d2db4667e2e57b4b6c0",
            "18367b2466564c7e92119a923d308b1a",
            "493fe1b1846e4da98b8d7adf00e218a2",
            "56d2e1a368fe4b00999922873e98a200",
            "2fb1f822e02743d7bae96065e1308b9b",
            "23791d3985bf40b7928d41b64af6f9ab",
            "3debaddadc964f3288fb5ea2326e829f",
            "1fad951493cf467a826342410bd1a26d"
          ]
        },
        "outputId": "6147b3fb-e9e7-4907-8bc7-1ac078a30fda"
      },
      "source": [
        "reader = FARMReader(model_name_or_path=\"ktrapeznikov/albert-xlarge-v2-squad-v2\", use_gpu=True)\n",
        "reader2 = FARMReader(model_name_or_path=\"ahotrod/electra_large_discriminator_squad2_512\", use_gpu=True)\n",
        "#reader = FARMReader(model_name_or_path=\"deepset/roberta-base-squad2\", use_gpu=True)\n",
        "#reader2 = FARMReader(model_name_or_path=\"deepset/bert-base-cased-squad2\", use_gpu=True)"
      ],
      "execution_count": null,
      "outputs": [
        {
          "output_type": "stream",
          "text": [
            "08/02/2020 07:23:24 - INFO - farm.utils -   device: cuda n_gpu: 1, distributed training: False, automatic mixed precision training: None\n",
            "08/02/2020 07:23:24 - INFO - farm.infer -   Could not find `ktrapeznikov/albert-xlarge-v2-squad-v2` locally. Try to download from model hub ...\n",
            "08/02/2020 07:23:24 - INFO - filelock -   Lock 140359198413544 acquired on /root/.cache/torch/transformers/c63acbd2ffb1762d161c0c366bb4a0dd5312f615847b87d4cf7be001ca562cab.0aa9a4e13357b14219e56e90005cf95adfc4fbb59ad847974267550fef9c2f6f.lock\n"
          ],
          "name": "stderr"
        },
        {
          "output_type": "display_data",
          "data": {
            "application/vnd.jupyter.widget-view+json": {
              "model_id": "5e49ec5fb03240f3b33f3b7ae5c5624d",
              "version_major": 2,
              "version_minor": 0
            },
            "text/plain": [
              "HBox(children=(FloatProgress(value=0.0, description='Downloading', max=717.0, style=ProgressStyle(description_…"
            ]
          },
          "metadata": {
            "tags": []
          }
        },
        {
          "output_type": "stream",
          "text": [
            "08/02/2020 07:23:24 - INFO - filelock -   Lock 140359198413544 released on /root/.cache/torch/transformers/c63acbd2ffb1762d161c0c366bb4a0dd5312f615847b87d4cf7be001ca562cab.0aa9a4e13357b14219e56e90005cf95adfc4fbb59ad847974267550fef9c2f6f.lock\n",
            "08/02/2020 07:23:24 - INFO - filelock -   Lock 140362952580064 acquired on /root/.cache/torch/transformers/49e7ccd95cebd1b8210607e08d6d9ad7dccd760db94a9a409c19a93f9ec5594c.e63d894d1c8b12d9da1be391592635fa9414da143b07cc6d63895911e2df8fb2.lock\n"
          ],
          "name": "stderr"
        },
        {
          "output_type": "stream",
          "text": [
            "\n"
          ],
          "name": "stdout"
        },
        {
          "output_type": "display_data",
          "data": {
            "application/vnd.jupyter.widget-view+json": {
              "model_id": "47a837d6f5ea42d3b8638245e6a918ac",
              "version_major": 2,
              "version_minor": 0
            },
            "text/plain": [
              "HBox(children=(FloatProgress(value=0.0, description='Downloading', max=234922444.0, style=ProgressStyle(descri…"
            ]
          },
          "metadata": {
            "tags": []
          }
        },
        {
          "output_type": "stream",
          "text": [
            "08/02/2020 07:23:30 - INFO - filelock -   Lock 140362952580064 released on /root/.cache/torch/transformers/49e7ccd95cebd1b8210607e08d6d9ad7dccd760db94a9a409c19a93f9ec5594c.e63d894d1c8b12d9da1be391592635fa9414da143b07cc6d63895911e2df8fb2.lock\n"
          ],
          "name": "stderr"
        },
        {
          "output_type": "stream",
          "text": [
            "\n"
          ],
          "name": "stdout"
        },
        {
          "output_type": "stream",
          "text": [
            "08/02/2020 07:23:32 - WARNING - farm.modeling.language_model -   Could not automatically detect from language model name what language it is. \n",
            "\t We guess it's an *ENGLISH* model ... \n",
            "\t If not: Init the language model by supplying the 'language' param.\n",
            "08/02/2020 07:23:35 - WARNING - farm.modeling.prediction_head -   Some unused parameters are passed to the QuestionAnsweringHead. Might not be a problem. Params: {\"loss_ignore_index\": -1}\n",
            "08/02/2020 07:23:36 - INFO - filelock -   Lock 140362950274296 acquired on /root/.cache/torch/transformers/7965d016e61ef4d252f6147c2fe018bdedda12de9252654783b3e123b23c9166.c81d4deb77aec08ce575b7a39a989a79dd54f321bfb82c2b54dd35f52f8182cf.lock\n"
          ],
          "name": "stderr"
        },
        {
          "output_type": "display_data",
          "data": {
            "application/vnd.jupyter.widget-view+json": {
              "model_id": "a1d1aee615c34ae4aaffcdc4fefa325c",
              "version_major": 2,
              "version_minor": 0
            },
            "text/plain": [
              "HBox(children=(FloatProgress(value=0.0, description='Downloading', max=760289.0, style=ProgressStyle(descripti…"
            ]
          },
          "metadata": {
            "tags": []
          }
        },
        {
          "output_type": "stream",
          "text": [
            "08/02/2020 07:23:37 - INFO - filelock -   Lock 140362950274296 released on /root/.cache/torch/transformers/7965d016e61ef4d252f6147c2fe018bdedda12de9252654783b3e123b23c9166.c81d4deb77aec08ce575b7a39a989a79dd54f321bfb82c2b54dd35f52f8182cf.lock\n"
          ],
          "name": "stderr"
        },
        {
          "output_type": "stream",
          "text": [
            "\n"
          ],
          "name": "stdout"
        },
        {
          "output_type": "stream",
          "text": [
            "08/02/2020 07:23:37 - INFO - filelock -   Lock 140362950274296 acquired on /root/.cache/torch/transformers/2be0ba3861214ce9e158f728d67400006704ea0b37ecb577ed22fd68c80780fa.3889713104075cfee9e96090bcdd0dc753733b3db9da20d1dd8b2cd1030536a2.lock\n"
          ],
          "name": "stderr"
        },
        {
          "output_type": "display_data",
          "data": {
            "application/vnd.jupyter.widget-view+json": {
              "model_id": "21a5062b70504d2db4667e2e57b4b6c0",
              "version_major": 2,
              "version_minor": 0
            },
            "text/plain": [
              "HBox(children=(FloatProgress(value=0.0, description='Downloading', max=2.0, style=ProgressStyle(description_wi…"
            ]
          },
          "metadata": {
            "tags": []
          }
        },
        {
          "output_type": "stream",
          "text": [
            "08/02/2020 07:23:37 - INFO - filelock -   Lock 140362950274296 released on /root/.cache/torch/transformers/2be0ba3861214ce9e158f728d67400006704ea0b37ecb577ed22fd68c80780fa.3889713104075cfee9e96090bcdd0dc753733b3db9da20d1dd8b2cd1030536a2.lock\n"
          ],
          "name": "stderr"
        },
        {
          "output_type": "stream",
          "text": [
            "\n"
          ],
          "name": "stdout"
        },
        {
          "output_type": "stream",
          "text": [
            "08/02/2020 07:23:38 - INFO - filelock -   Lock 140362950274296 acquired on /root/.cache/torch/transformers/a567087ca424c8bff169eada361523a2dacd7aa4b9b291bdc197d40fe838cb10.4f0d42b1849e2d6fd72c735fba48dff0d2f0a55f5d1961e79bcfce337d354167.lock\n"
          ],
          "name": "stderr"
        },
        {
          "output_type": "display_data",
          "data": {
            "application/vnd.jupyter.widget-view+json": {
              "model_id": "18367b2466564c7e92119a923d308b1a",
              "version_major": 2,
              "version_minor": 0
            },
            "text/plain": [
              "HBox(children=(FloatProgress(value=0.0, description='Downloading', max=156.0, style=ProgressStyle(description_…"
            ]
          },
          "metadata": {
            "tags": []
          }
        },
        {
          "output_type": "stream",
          "text": [
            "08/02/2020 07:23:38 - INFO - filelock -   Lock 140362950274296 released on /root/.cache/torch/transformers/a567087ca424c8bff169eada361523a2dacd7aa4b9b291bdc197d40fe838cb10.4f0d42b1849e2d6fd72c735fba48dff0d2f0a55f5d1961e79bcfce337d354167.lock\n"
          ],
          "name": "stderr"
        },
        {
          "output_type": "stream",
          "text": [
            "\n"
          ],
          "name": "stdout"
        },
        {
          "output_type": "stream",
          "text": [
            "08/02/2020 07:23:38 - INFO - filelock -   Lock 140359198413656 acquired on /root/.cache/torch/transformers/17d58b6e4b5edb11982eea737b2c5f09312964c1ac0021b5e84c10eed3fa0663.3fc3a7b9028b25d25e6393f1d27ed643eb6ba9ce4113c05aa13277951cff117c.lock\n"
          ],
          "name": "stderr"
        },
        {
          "output_type": "display_data",
          "data": {
            "application/vnd.jupyter.widget-view+json": {
              "model_id": "493fe1b1846e4da98b8d7adf00e218a2",
              "version_major": 2,
              "version_minor": 0
            },
            "text/plain": [
              "HBox(children=(FloatProgress(value=0.0, description='Downloading', max=58.0, style=ProgressStyle(description_w…"
            ]
          },
          "metadata": {
            "tags": []
          }
        },
        {
          "output_type": "stream",
          "text": [
            "08/02/2020 07:23:39 - INFO - filelock -   Lock 140359198413656 released on /root/.cache/torch/transformers/17d58b6e4b5edb11982eea737b2c5f09312964c1ac0021b5e84c10eed3fa0663.3fc3a7b9028b25d25e6393f1d27ed643eb6ba9ce4113c05aa13277951cff117c.lock\n"
          ],
          "name": "stderr"
        },
        {
          "output_type": "stream",
          "text": [
            "\n"
          ],
          "name": "stdout"
        },
        {
          "output_type": "stream",
          "text": [
            "08/02/2020 07:23:39 - INFO - farm.utils -   device: cuda n_gpu: 1, distributed training: False, automatic mixed precision training: None\n",
            "08/02/2020 07:23:39 - INFO - farm.infer -   Got ya 7 parallel workers to do inference ...\n",
            "08/02/2020 07:23:39 - INFO - farm.infer -    0    0    0    0    0    0    0 \n",
            "08/02/2020 07:23:39 - INFO - farm.infer -   /w\\  /w\\  /w\\  /w\\  /w\\  /w\\  /w\\\n",
            "08/02/2020 07:23:39 - INFO - farm.infer -   /'\\  / \\  /'\\  /'\\  / \\  / \\  /'\\\n",
            "08/02/2020 07:23:39 - INFO - farm.infer -               \n",
            "08/02/2020 07:23:39 - INFO - farm.utils -   device: cuda n_gpu: 1, distributed training: False, automatic mixed precision training: None\n",
            "08/02/2020 07:23:39 - INFO - farm.infer -   Could not find `ahotrod/electra_large_discriminator_squad2_512` locally. Try to download from model hub ...\n",
            "08/02/2020 07:23:40 - INFO - filelock -   Lock 140362941628712 acquired on /root/.cache/torch/transformers/22951ecdd533d982f192ea804e164994e35dabd2dcd82e0391c0924e2c21cb94.8c53e7bbbf6819f5f2b2afce717965776b38b2e86af5530e43d1b88fe9d9f374.lock\n"
          ],
          "name": "stderr"
        },
        {
          "output_type": "display_data",
          "data": {
            "application/vnd.jupyter.widget-view+json": {
              "model_id": "56d2e1a368fe4b00999922873e98a200",
              "version_major": 2,
              "version_minor": 0
            },
            "text/plain": [
              "HBox(children=(FloatProgress(value=0.0, description='Downloading', max=475.0, style=ProgressStyle(description_…"
            ]
          },
          "metadata": {
            "tags": []
          }
        },
        {
          "output_type": "stream",
          "text": [
            "08/02/2020 07:23:40 - INFO - filelock -   Lock 140362941628712 released on /root/.cache/torch/transformers/22951ecdd533d982f192ea804e164994e35dabd2dcd82e0391c0924e2c21cb94.8c53e7bbbf6819f5f2b2afce717965776b38b2e86af5530e43d1b88fe9d9f374.lock\n",
            "08/02/2020 07:23:40 - INFO - filelock -   Lock 140362941631792 acquired on /root/.cache/torch/transformers/af75b6eb475ba7d3235cd14ea89ae88a6dd2d631d2a554dec31604f0949150c6.1ba02f80d901df3bd53891f5c7330e0d2b667bfd19854ce3c73dddb89ea11bde.lock\n"
          ],
          "name": "stderr"
        },
        {
          "output_type": "stream",
          "text": [
            "\n"
          ],
          "name": "stdout"
        },
        {
          "output_type": "display_data",
          "data": {
            "application/vnd.jupyter.widget-view+json": {
              "model_id": "2fb1f822e02743d7bae96065e1308b9b",
              "version_major": 2,
              "version_minor": 0
            },
            "text/plain": [
              "HBox(children=(FloatProgress(value=0.0, description='Downloading', max=1336478856.0, style=ProgressStyle(descr…"
            ]
          },
          "metadata": {
            "tags": []
          }
        },
        {
          "output_type": "stream",
          "text": [
            "08/02/2020 07:24:10 - INFO - filelock -   Lock 140362941631792 released on /root/.cache/torch/transformers/af75b6eb475ba7d3235cd14ea89ae88a6dd2d631d2a554dec31604f0949150c6.1ba02f80d901df3bd53891f5c7330e0d2b667bfd19854ce3c73dddb89ea11bde.lock\n"
          ],
          "name": "stderr"
        },
        {
          "output_type": "stream",
          "text": [
            "\n"
          ],
          "name": "stdout"
        },
        {
          "output_type": "stream",
          "text": [
            "08/02/2020 07:24:19 - WARNING - farm.modeling.language_model -   Could not automatically detect from language model name what language it is. \n",
            "\t We guess it's an *ENGLISH* model ... \n",
            "\t If not: Init the language model by supplying the 'language' param.\n",
            "08/02/2020 07:24:32 - WARNING - farm.modeling.prediction_head -   Some unused parameters are passed to the QuestionAnsweringHead. Might not be a problem. Params: {\"loss_ignore_index\": -1}\n",
            "08/02/2020 07:24:33 - INFO - filelock -   Lock 140359243707616 acquired on /root/.cache/torch/transformers/abb094571bddadecf776dd1e9d9a3ea8197bfc2b81c0539152784819116ac0ca.542ce4285a40d23a559526243235df47c5f75c197f04f37d1a0c124c32c9a084.lock\n"
          ],
          "name": "stderr"
        },
        {
          "output_type": "display_data",
          "data": {
            "application/vnd.jupyter.widget-view+json": {
              "model_id": "23791d3985bf40b7928d41b64af6f9ab",
              "version_major": 2,
              "version_minor": 0
            },
            "text/plain": [
              "HBox(children=(FloatProgress(value=0.0, description='Downloading', max=231508.0, style=ProgressStyle(descripti…"
            ]
          },
          "metadata": {
            "tags": []
          }
        },
        {
          "output_type": "stream",
          "text": [
            "08/02/2020 07:24:33 - INFO - filelock -   Lock 140359243707616 released on /root/.cache/torch/transformers/abb094571bddadecf776dd1e9d9a3ea8197bfc2b81c0539152784819116ac0ca.542ce4285a40d23a559526243235df47c5f75c197f04f37d1a0c124c32c9a084.lock\n"
          ],
          "name": "stderr"
        },
        {
          "output_type": "stream",
          "text": [
            "\n"
          ],
          "name": "stdout"
        },
        {
          "output_type": "stream",
          "text": [
            "08/02/2020 07:24:34 - INFO - filelock -   Lock 140359243707952 acquired on /root/.cache/torch/transformers/fd0c61d4c96b13e6a516155554dfe01128f36675252a321c5ed0b889c88ffe6f.275045728fbf41c11d3dae08b8742c054377e18d92cc7b72b6351152a99b64e4.lock\n"
          ],
          "name": "stderr"
        },
        {
          "output_type": "display_data",
          "data": {
            "application/vnd.jupyter.widget-view+json": {
              "model_id": "3debaddadc964f3288fb5ea2326e829f",
              "version_major": 2,
              "version_minor": 0
            },
            "text/plain": [
              "HBox(children=(FloatProgress(value=0.0, description='Downloading', max=112.0, style=ProgressStyle(description_…"
            ]
          },
          "metadata": {
            "tags": []
          }
        },
        {
          "output_type": "stream",
          "text": [
            "08/02/2020 07:24:34 - INFO - filelock -   Lock 140359243707952 released on /root/.cache/torch/transformers/fd0c61d4c96b13e6a516155554dfe01128f36675252a321c5ed0b889c88ffe6f.275045728fbf41c11d3dae08b8742c054377e18d92cc7b72b6351152a99b64e4.lock\n"
          ],
          "name": "stderr"
        },
        {
          "output_type": "stream",
          "text": [
            "\n"
          ],
          "name": "stdout"
        },
        {
          "output_type": "stream",
          "text": [
            "08/02/2020 07:24:34 - INFO - filelock -   Lock 140359198413152 acquired on /root/.cache/torch/transformers/88a95566be83d102ae1e1a20da42e12bfcc30a95c8ff3ba56f48b838b6fbd8e4.11f57497ee659e26f830788489816dbcb678d91ae48c06c50c9dc0e4438ec05b.lock\n"
          ],
          "name": "stderr"
        },
        {
          "output_type": "display_data",
          "data": {
            "application/vnd.jupyter.widget-view+json": {
              "model_id": "1fad951493cf467a826342410bd1a26d",
              "version_major": 2,
              "version_minor": 0
            },
            "text/plain": [
              "HBox(children=(FloatProgress(value=0.0, description='Downloading', max=48.0, style=ProgressStyle(description_w…"
            ]
          },
          "metadata": {
            "tags": []
          }
        },
        {
          "output_type": "stream",
          "text": [
            "08/02/2020 07:24:35 - INFO - filelock -   Lock 140359198413152 released on /root/.cache/torch/transformers/88a95566be83d102ae1e1a20da42e12bfcc30a95c8ff3ba56f48b838b6fbd8e4.11f57497ee659e26f830788489816dbcb678d91ae48c06c50c9dc0e4438ec05b.lock\n"
          ],
          "name": "stderr"
        },
        {
          "output_type": "stream",
          "text": [
            "\n"
          ],
          "name": "stdout"
        },
        {
          "output_type": "stream",
          "text": [
            "08/02/2020 07:24:35 - INFO - farm.utils -   device: cuda n_gpu: 1, distributed training: False, automatic mixed precision training: None\n",
            "08/02/2020 07:24:36 - INFO - farm.infer -   Got ya 7 parallel workers to do inference ...\n",
            "08/02/2020 07:24:36 - INFO - farm.infer -    0    0    0    0    0    0    0 \n",
            "08/02/2020 07:24:36 - INFO - farm.infer -   /w\\  /w\\  /w\\  /w\\  /w\\  /w\\  /w\\\n",
            "08/02/2020 07:24:36 - INFO - farm.infer -   /'\\  / \\  /'\\  /'\\  / \\  / \\  /'\\\n",
            "08/02/2020 07:24:36 - INFO - farm.infer -               \n"
          ],
          "name": "stderr"
        }
      ]
    },
    {
      "cell_type": "code",
      "metadata": {
        "id": "iAE7sqxdEqKl",
        "colab_type": "code",
        "colab": {},
        "outputId": "3cd9ca56-183d-44e2-8494-b6a395aef606"
      },
      "source": [
        "reader.train(data_dir='mydata', train_filename=\"trainqa.json\",save_dir=\"models/albert\",num_processes=128, n_epochs=1,use_gpu=True)\n",
        "new_reader = FARMReader(model_name_or_path=\"models/albert\")\n",
        "finder = Finder(new_reader, retriever)\n",
        "\n",
        "reader2.train(data_dir='mydata', train_filename=\"trainqa.json\",save_dir=\"models/electra\",num_processes=128, n_epochs=1,use_gpu=True)\n",
        "new_reader2 = FARMReader(model_name_or_path=\"models/electra\")\n",
        "finder2 = Finder(new_reader2, retriever)"
      ],
      "execution_count": null,
      "outputs": [
        {
          "output_type": "stream",
          "text": [
            "08/02/2020 07:24:36 - INFO - farm.utils -   device: cuda n_gpu: 1, distributed training: False, automatic mixed precision training: None\n",
            "Preprocessing Dataset mydata/trainqa.json: 100%|██████████| 15/15 [00:00<00:00, 63.93 Dicts/s]\n",
            "08/02/2020 07:24:39 - WARNING - farm.modeling.prediction_head -   Some unused parameters are passed to the QuestionAnsweringHead. Might not be a problem. Params: {\"training\": false, \"num_labels\": 2, \"ph_output_type\": \"per_token_squad\", \"model_type\": \"span_classification\", \"config\": {\"training\": true, \"layer_dims\": [2048, 2], \"num_labels\": 2, \"ph_output_type\": \"per_token_squad\", \"model_type\": \"span_classification\", \"task_name\": \"question_answering\", \"no_ans_boost\": 0.0, \"context_window_size\": 100, \"n_best\": 5, \"n_best_per_sample\": 1, \"name\": \"QuestionAnsweringHead\"}, \"label_tensor_name\": \"question_answering_label_ids\", \"label_list\": [\"start_token\", \"end_token\"], \"metric\": \"squad\", \"name\": \"QuestionAnsweringHead\"}\n",
            "08/02/2020 07:24:39 - INFO - farm.modeling.optimization -   Loading optimizer `TransformersAdamW`: '{'correct_bias': False, 'weight_decay': 0.01, 'lr': 1e-05}'\n",
            "08/02/2020 07:24:39 - INFO - farm.modeling.optimization -   Using scheduler 'get_linear_schedule_with_warmup'\n",
            "08/02/2020 07:24:39 - INFO - farm.modeling.optimization -   Loading schedule `get_linear_schedule_with_warmup`: '{'num_training_steps': 2, 'num_warmup_steps': 0}'\n",
            "Train epoch 0/0 (Cur. train loss: 2.6040): 100%|██████████| 2/2 [00:06<00:00,  3.15s/it]\n",
            "08/02/2020 07:24:46 - INFO - haystack.reader.farm -   Saving reader model to mymodel1\n",
            "08/02/2020 07:24:47 - INFO - farm.utils -   device: cuda n_gpu: 1, distributed training: False, automatic mixed precision training: None\n",
            "08/02/2020 07:24:49 - WARNING - farm.modeling.prediction_head -   Some unused parameters are passed to the QuestionAnsweringHead. Might not be a problem. Params: {\"training\": true, \"num_labels\": 2, \"ph_output_type\": \"per_token_squad\", \"model_type\": \"span_classification\", \"config\": {\"training\": true, \"layer_dims\": [2048, 2], \"num_labels\": 2, \"ph_output_type\": \"per_token_squad\", \"model_type\": \"span_classification\", \"task_name\": \"question_answering\", \"no_ans_boost\": 0, \"context_window_size\": 150, \"n_best\": 4, \"n_best_per_sample\": 1, \"name\": \"QuestionAnsweringHead\"}, \"label_tensor_name\": \"question_answering_label_ids\", \"label_list\": [\"start_token\", \"end_token\"], \"metric\": \"squad\", \"name\": \"QuestionAnsweringHead\"}\n",
            "08/02/2020 07:24:49 - INFO - farm.utils -   device: cuda n_gpu: 1, distributed training: False, automatic mixed precision training: None\n",
            "08/02/2020 07:24:49 - INFO - farm.infer -   Got ya 7 parallel workers to do inference ...\n",
            "08/02/2020 07:24:49 - INFO - farm.infer -    0    0    0    0    0    0    0 \n",
            "08/02/2020 07:24:49 - INFO - farm.infer -   /w\\  /w\\  /w\\  /w\\  /w\\  /w\\  /w\\\n",
            "08/02/2020 07:24:49 - INFO - farm.infer -   /'\\  / \\  /'\\  /'\\  / \\  / \\  /'\\\n",
            "08/02/2020 07:24:49 - INFO - farm.infer -               \n",
            "08/02/2020 07:24:49 - INFO - farm.utils -   device: cuda n_gpu: 1, distributed training: False, automatic mixed precision training: None\n",
            "Preprocessing Dataset mydata/trainqa.json: 100%|██████████| 15/15 [00:00<00:00, 86.82 Dicts/s]\n",
            "08/02/2020 07:25:00 - WARNING - farm.modeling.prediction_head -   Some unused parameters are passed to the QuestionAnsweringHead. Might not be a problem. Params: {\"training\": false, \"num_labels\": 2, \"ph_output_type\": \"per_token_squad\", \"model_type\": \"span_classification\", \"config\": {\"training\": true, \"layer_dims\": [1024, 2], \"num_labels\": 2, \"ph_output_type\": \"per_token_squad\", \"model_type\": \"span_classification\", \"task_name\": \"question_answering\", \"no_ans_boost\": 0.0, \"context_window_size\": 100, \"n_best\": 5, \"n_best_per_sample\": 1, \"name\": \"QuestionAnsweringHead\"}, \"label_tensor_name\": \"question_answering_label_ids\", \"label_list\": [\"start_token\", \"end_token\"], \"metric\": \"squad\", \"name\": \"QuestionAnsweringHead\"}\n",
            "08/02/2020 07:25:00 - INFO - farm.modeling.optimization -   Loading optimizer `TransformersAdamW`: '{'correct_bias': False, 'weight_decay': 0.01, 'lr': 1e-05}'\n",
            "08/02/2020 07:25:00 - INFO - farm.modeling.optimization -   Using scheduler 'get_linear_schedule_with_warmup'\n",
            "08/02/2020 07:25:00 - INFO - farm.modeling.optimization -   Loading schedule `get_linear_schedule_with_warmup`: '{'num_training_steps': 2, 'num_warmup_steps': 0}'\n",
            "Train epoch 0/0 (Cur. train loss: 2.2691): 100%|██████████| 2/2 [00:02<00:00,  1.05s/it]\n",
            "08/02/2020 07:25:03 - INFO - haystack.reader.farm -   Saving reader model to mymodel2\n",
            "08/02/2020 07:25:08 - INFO - farm.utils -   device: cuda n_gpu: 1, distributed training: False, automatic mixed precision training: None\n",
            "08/02/2020 07:25:15 - WARNING - farm.modeling.prediction_head -   Some unused parameters are passed to the QuestionAnsweringHead. Might not be a problem. Params: {\"training\": true, \"num_labels\": 2, \"ph_output_type\": \"per_token_squad\", \"model_type\": \"span_classification\", \"config\": {\"training\": true, \"layer_dims\": [1024, 2], \"num_labels\": 2, \"ph_output_type\": \"per_token_squad\", \"model_type\": \"span_classification\", \"task_name\": \"question_answering\", \"no_ans_boost\": 0, \"context_window_size\": 150, \"n_best\": 4, \"n_best_per_sample\": 1, \"name\": \"QuestionAnsweringHead\"}, \"label_tensor_name\": \"question_answering_label_ids\", \"label_list\": [\"start_token\", \"end_token\"], \"metric\": \"squad\", \"name\": \"QuestionAnsweringHead\"}\n",
            "08/02/2020 07:25:15 - INFO - farm.utils -   device: cuda n_gpu: 1, distributed training: False, automatic mixed precision training: None\n",
            "08/02/2020 07:25:16 - INFO - farm.infer -   Got ya 7 parallel workers to do inference ...\n",
            "08/02/2020 07:25:16 - INFO - farm.infer -    0    0    0    0    0    0    0 \n",
            "08/02/2020 07:25:16 - INFO - farm.infer -   /w\\  /w\\  /w\\  /w\\  /w\\  /w\\  /w\\\n",
            "08/02/2020 07:25:16 - INFO - farm.infer -   /'\\  / \\  /'\\  /'\\  / \\  / \\  /'\\\n",
            "08/02/2020 07:25:16 - INFO - farm.infer -               \n"
          ],
          "name": "stderr"
        }
      ]
    },
    {
      "cell_type": "code",
      "metadata": {
        "id": "DbGqVFIgEqKn",
        "colab_type": "code",
        "colab": {}
      },
      "source": [
        "#Evaluation\n",
        "from collections import Counter\n",
        "import string\n",
        "import re\n",
        "\n",
        "def normalize_answer(s):\n",
        "    \"\"\"Lower text and remove punctuation, articles and extra whitespace.\"\"\"\n",
        "    def remove_articles(text):\n",
        "        return re.sub(r\"\\b(a|an|the)\\b\", \" \", text)\n",
        "    def white_space_fix(text):\n",
        "        return \" \".join(text.split())\n",
        "    def remove_punc(text):\n",
        "        exclude = set(string.punctuation)\n",
        "        return \"\".join(ch for ch in text if ch not in exclude)\n",
        "    def lower(text):\n",
        "        return text.lower()\n",
        "    return white_space_fix(remove_articles(remove_punc(lower(s))))\n",
        "\n",
        "def f1_score(prediction, ground_truth):\n",
        "    prediction_tokens = normalize_answer(prediction).split()\n",
        "    ground_truth_tokens = normalize_answer(ground_truth).split()\n",
        "    common = Counter(prediction_tokens) & Counter(ground_truth_tokens)\n",
        "    num_same = sum(common.values())\n",
        "    if num_same == 0:\n",
        "        return 0\n",
        "    precision = 1.0 * num_same / len(prediction_tokens)\n",
        "    recall = 1.0 * num_same / len(ground_truth_tokens)\n",
        "    f1 = (2 * precision * recall) / (precision + recall)\n",
        "    return f1\n",
        "def best_prediction(predictions, ground_truth):\n",
        "    f1 = 0\n",
        "    ans = ''\n",
        "    for pred in predictions['answers']:\n",
        "        if f1_score(pred['answer'],ground_truth) >= f1:\n",
        "            f1 = f1_score(pred['answer'],ground_truth)\n",
        "            ans = pred['answer']\n",
        "    return (ans,f1)\n",
        "def ensemble_prediction(input1,input2,ground_truth):\n",
        "    weights = [0.5744746037802809,0.5471326379596643]\n",
        "    output = []\n",
        "    prediction1 = input1['answers']\n",
        "    prediction2 = input2['answers']\n",
        "    #Select the most likely prediction, weighted by the f1-score of each model\n",
        "    if (weights[0]*prediction1[0]['score']) > (weights[1]*prediction2[0]['score']):\n",
        "        top =  prediction1.pop(0)\n",
        "    else:\n",
        "        top = prediction2.pop(0)\n",
        "    output = [[top['answer'],top['score']],\n",
        "              [prediction1[0]['answer'],prediction1[0]['score']],\n",
        "              [prediction2[0]['answer'],prediction2[0]['score']]]\n",
        "    f1 = 0\n",
        "    ans = ''\n",
        "    for o in output:\n",
        "        if f1_score(o[0],ground_truth) >= f1:\n",
        "            f1 = f1_score(o[0],ground_truth)\n",
        "            ans = o[0]\n",
        "    return (ans,f1)\n",
        "\n",
        "    "
      ],
      "execution_count": null,
      "outputs": []
    },
    {
      "cell_type": "code",
      "metadata": {
        "id": "br_jj4-uEqKp",
        "colab_type": "code",
        "colab": {},
        "outputId": "c00fe8be-15ec-4eea-de81-879e39042e19"
      },
      "source": [
        "#Single query for testing purposes\n",
        "qn = 'What is the normal permit fee for 10 return flights?'\n",
        "input1 = finder.get_answers(question=qn, top_k_retriever=30, top_k_reader=3)\n",
        "input2 = finder2.get_answers(question=qn, top_k_retriever=30, top_k_reader=3)\n",
        "ensemble_prediction(input1,input2,test[qn])\n",
        "#input1"
      ],
      "execution_count": null,
      "outputs": [
        {
          "output_type": "stream",
          "text": [
            "08/02/2020 09:44:15 - INFO - elasticsearch -   POST http://localhost:9200/document/_search [status:200 request:0.006s]\n",
            "08/02/2020 09:44:15 - INFO - haystack.finder -   Reader is looking for detailed answer in 177632 chars ...\n",
            "Inferencing Samples: 100%|██████████| 2/2 [00:09<00:00,  4.91s/ Batches]\n",
            "Inferencing Samples: 100%|██████████| 2/2 [00:09<00:00,  4.91s/ Batches]\n",
            "Inferencing Samples: 100%|██████████| 2/2 [00:09<00:00,  4.94s/ Batches]\n",
            "Inferencing Samples: 100%|██████████| 2/2 [00:10<00:00,  5.01s/ Batches]\n",
            "08/02/2020 09:44:55 - INFO - elasticsearch -   POST http://localhost:9200/document/_search [status:200 request:0.006s]\n",
            "08/02/2020 09:44:55 - INFO - haystack.finder -   Reader is looking for detailed answer in 177632 chars ...\n",
            "Inferencing Samples: 100%|██████████| 2/2 [00:02<00:00,  1.13s/ Batches]\n",
            "Inferencing Samples: 100%|██████████| 2/2 [00:02<00:00,  1.13s/ Batches]\n",
            "Inferencing Samples: 100%|██████████| 2/2 [00:02<00:00,  1.14s/ Batches]\n",
            "Inferencing Samples: 100%|██████████| 2/2 [00:02<00:00,  1.16s/ Batches]"
          ],
          "name": "stderr"
        },
        {
          "output_type": "stream",
          "text": [
            "[['S$810', 12.293428421020508], ['iv. S$810', 1.7623662948608398], ['S$810', 11.129851341247559]]\n",
            "[['S$810', 12.293428421020508], ['iv. S$810', 1.7623662948608398], ['S$810', 11.129851341247559]]\n",
            "[['S$810', 12.293428421020508], ['iv. S$810', 1.7623662948608398], ['S$810', 11.129851341247559]]\n"
          ],
          "name": "stdout"
        },
        {
          "output_type": "stream",
          "text": [
            "\n"
          ],
          "name": "stderr"
        },
        {
          "output_type": "execute_result",
          "data": {
            "text/plain": [
              "('S$810', 0)"
            ]
          },
          "metadata": {
            "tags": []
          },
          "execution_count": 35
        }
      ]
    },
    {
      "cell_type": "code",
      "metadata": {
        "id": "bRXG0KInEqKq",
        "colab_type": "code",
        "colab": {},
        "outputId": "b526d20c-ac49-411d-a373-2ba97769f40c"
      },
      "source": [
        "#Consolidating predictions into a dataframe\n",
        "preds1 = []\n",
        "preds2 = []\n",
        "scores1 = []\n",
        "scores2 = []\n",
        "combinedPreds = []\n",
        "combinedScores=[]\n",
        "qns = list(test.keys())\n",
        "test1 = []\n",
        "for qn in qns:\n",
        "    prediction1 = finder.get_answers(question=qn, top_k_retriever=30, top_k_reader=3)\n",
        "    prediction2 = finder2.get_answers(question=qn, top_k_retriever=30, top_k_reader=3)\n",
        "    pred1,score1 = best_prediction(prediction1,test[qn])\n",
        "    pred2,score2 = best_prediction(prediction2,test[qn])\n",
        "    combinedPred,combinedScore = ensemble_prediction(prediction1,prediction2,test[qn])\n",
        "    preds1.append(pred1)\n",
        "    preds2.append(pred2)\n",
        "    scores1.append(score1)\n",
        "    scores2.append(score2)\n",
        "    combinedPreds.append(combinedPred)\n",
        "    combinedScores.append(combinedScore)"
      ],
      "execution_count": null,
      "outputs": [
        {
          "output_type": "stream",
          "text": [
            "08/02/2020 09:45:30 - INFO - elasticsearch -   POST http://localhost:9200/document/_search [status:200 request:0.006s]\n",
            "08/02/2020 09:45:30 - INFO - haystack.finder -   Reader is looking for detailed answer in 177632 chars ...\n",
            "Inferencing Samples: 100%|██████████| 2/2 [00:09<00:00,  4.92s/ Batches]\n",
            "Inferencing Samples: 100%|██████████| 2/2 [00:09<00:00,  4.96s/ Batches]\n",
            "Inferencing Samples: 100%|██████████| 2/2 [00:09<00:00,  4.97s/ Batches]\n",
            "Inferencing Samples: 100%|██████████| 2/2 [00:10<00:00,  5.05s/ Batches]\n",
            "08/02/2020 09:46:10 - INFO - elasticsearch -   POST http://localhost:9200/document/_search [status:200 request:0.008s]\n",
            "08/02/2020 09:46:10 - INFO - haystack.finder -   Reader is looking for detailed answer in 177632 chars ...\n",
            "Inferencing Samples: 100%|██████████| 2/2 [00:02<00:00,  1.16s/ Batches]\n",
            "Inferencing Samples: 100%|██████████| 2/2 [00:02<00:00,  1.16s/ Batches]\n",
            "Inferencing Samples: 100%|██████████| 2/2 [00:02<00:00,  1.16s/ Batches]\n",
            "Inferencing Samples: 100%|██████████| 2/2 [00:02<00:00,  1.16s/ Batches]\n",
            "08/02/2020 09:46:20 - INFO - elasticsearch -   POST http://localhost:9200/document/_search [status:200 request:0.006s]\n",
            "08/02/2020 09:46:20 - INFO - haystack.finder -   Reader is looking for detailed answer in 177632 chars ...\n",
            "Inferencing Samples: 100%|██████████| 2/2 [00:09<00:00,  4.96s/ Batches]\n",
            "Inferencing Samples: 100%|██████████| 2/2 [00:09<00:00,  4.99s/ Batches]\n",
            "Inferencing Samples: 100%|██████████| 2/2 [00:10<00:00,  5.02s/ Batches]\n",
            "Inferencing Samples: 100%|██████████| 2/2 [00:10<00:00,  5.07s/ Batches]\n",
            "08/02/2020 09:47:01 - INFO - elasticsearch -   POST http://localhost:9200/document/_search [status:200 request:0.005s]\n",
            "08/02/2020 09:47:01 - INFO - haystack.finder -   Reader is looking for detailed answer in 177632 chars ...\n",
            "Inferencing Samples: 100%|██████████| 2/2 [00:02<00:00,  1.16s/ Batches]\n",
            "Inferencing Samples: 100%|██████████| 2/2 [00:02<00:00,  1.15s/ Batches]\n",
            "Inferencing Samples: 100%|██████████| 2/2 [00:02<00:00,  1.15s/ Batches]\n",
            "Inferencing Samples: 100%|██████████| 2/2 [00:02<00:00,  1.18s/ Batches]\n",
            "08/02/2020 09:47:12 - INFO - elasticsearch -   POST http://localhost:9200/document/_search [status:200 request:0.005s]\n",
            "08/02/2020 09:47:12 - INFO - haystack.finder -   Reader is looking for detailed answer in 177632 chars ...\n",
            "Inferencing Samples: 100%|██████████| 2/2 [00:09<00:00,  4.99s/ Batches]\n",
            "Inferencing Samples: 100%|██████████| 2/2 [00:09<00:00,  4.99s/ Batches]\n",
            "Inferencing Samples: 100%|██████████| 2/2 [00:09<00:00,  5.00s/ Batches]\n",
            "Inferencing Samples: 100%|██████████| 2/2 [00:10<00:00,  5.05s/ Batches]\n",
            "08/02/2020 09:47:52 - INFO - elasticsearch -   POST http://localhost:9200/document/_search [status:200 request:0.007s]\n",
            "08/02/2020 09:47:52 - INFO - haystack.finder -   Reader is looking for detailed answer in 177632 chars ...\n",
            "Inferencing Samples: 100%|██████████| 2/2 [00:02<00:00,  1.18s/ Batches]\n",
            "Inferencing Samples: 100%|██████████| 2/2 [00:02<00:00,  1.18s/ Batches]\n",
            "Inferencing Samples: 100%|██████████| 2/2 [00:02<00:00,  1.18s/ Batches]\n",
            "Inferencing Samples: 100%|██████████| 2/2 [00:02<00:00,  1.18s/ Batches]\n",
            "08/02/2020 09:48:03 - INFO - elasticsearch -   POST http://localhost:9200/document/_search [status:200 request:0.006s]\n",
            "08/02/2020 09:48:03 - INFO - haystack.finder -   Reader is looking for detailed answer in 177632 chars ...\n",
            "Inferencing Samples: 100%|██████████| 2/2 [00:10<00:00,  5.00s/ Batches]\n",
            "Inferencing Samples: 100%|██████████| 2/2 [00:10<00:00,  5.01s/ Batches]\n",
            "Inferencing Samples: 100%|██████████| 2/2 [00:10<00:00,  5.01s/ Batches]\n",
            "Inferencing Samples: 100%|██████████| 2/2 [00:10<00:00,  5.06s/ Batches]\n",
            "08/02/2020 09:48:43 - INFO - elasticsearch -   POST http://localhost:9200/document/_search [status:200 request:0.008s]\n",
            "08/02/2020 09:48:43 - INFO - haystack.finder -   Reader is looking for detailed answer in 177632 chars ...\n",
            "Inferencing Samples: 100%|██████████| 2/2 [00:02<00:00,  1.18s/ Batches]\n",
            "Inferencing Samples: 100%|██████████| 2/2 [00:02<00:00,  1.18s/ Batches]\n",
            "Inferencing Samples: 100%|██████████| 2/2 [00:02<00:00,  1.18s/ Batches]\n",
            "Inferencing Samples: 100%|██████████| 2/2 [00:02<00:00,  1.18s/ Batches]\n",
            "08/02/2020 09:48:54 - INFO - elasticsearch -   POST http://localhost:9200/document/_search [status:200 request:0.006s]\n",
            "08/02/2020 09:48:54 - INFO - haystack.finder -   Reader is looking for detailed answer in 177632 chars ...\n",
            "Inferencing Samples: 100%|██████████| 2/2 [00:09<00:00,  4.99s/ Batches]\n",
            "Inferencing Samples: 100%|██████████| 2/2 [00:10<00:00,  5.02s/ Batches]\n",
            "Inferencing Samples: 100%|██████████| 2/2 [00:10<00:00,  5.02s/ Batches]\n",
            "Inferencing Samples: 100%|██████████| 2/2 [00:10<00:00,  5.08s/ Batches]\n",
            "08/02/2020 09:49:34 - INFO - elasticsearch -   POST http://localhost:9200/document/_search [status:200 request:0.006s]\n",
            "08/02/2020 09:49:34 - INFO - haystack.finder -   Reader is looking for detailed answer in 177632 chars ...\n",
            "Inferencing Samples: 100%|██████████| 2/2 [00:02<00:00,  1.18s/ Batches]\n",
            "Inferencing Samples: 100%|██████████| 2/2 [00:02<00:00,  1.18s/ Batches]\n",
            "Inferencing Samples: 100%|██████████| 2/2 [00:02<00:00,  1.18s/ Batches]\n",
            "Inferencing Samples: 100%|██████████| 2/2 [00:02<00:00,  1.18s/ Batches]\n",
            "08/02/2020 09:49:45 - INFO - elasticsearch -   POST http://localhost:9200/document/_search [status:200 request:0.007s]\n",
            "08/02/2020 09:49:45 - INFO - haystack.finder -   Reader is looking for detailed answer in 177632 chars ...\n",
            "Inferencing Samples: 100%|██████████| 2/2 [00:10<00:00,  5.00s/ Batches]\n",
            "Inferencing Samples: 100%|██████████| 2/2 [00:10<00:00,  5.02s/ Batches]\n",
            "Inferencing Samples: 100%|██████████| 2/2 [00:10<00:00,  5.00s/ Batches]\n",
            "Inferencing Samples: 100%|██████████| 2/2 [00:10<00:00,  5.09s/ Batches]\n",
            "08/02/2020 09:50:26 - INFO - elasticsearch -   POST http://localhost:9200/document/_search [status:200 request:0.006s]\n",
            "08/02/2020 09:50:26 - INFO - haystack.finder -   Reader is looking for detailed answer in 177632 chars ...\n",
            "Inferencing Samples: 100%|██████████| 2/2 [00:02<00:00,  1.19s/ Batches]\n",
            "Inferencing Samples: 100%|██████████| 2/2 [00:02<00:00,  1.18s/ Batches]\n",
            "Inferencing Samples: 100%|██████████| 2/2 [00:02<00:00,  1.18s/ Batches]\n",
            "Inferencing Samples: 100%|██████████| 2/2 [00:02<00:00,  1.18s/ Batches]\n",
            "08/02/2020 09:50:36 - INFO - elasticsearch -   POST http://localhost:9200/document/_search [status:200 request:0.006s]\n",
            "08/02/2020 09:50:36 - INFO - haystack.finder -   Reader is looking for detailed answer in 177632 chars ...\n",
            "Inferencing Samples: 100%|██████████| 2/2 [00:09<00:00,  4.99s/ Batches]\n",
            "Inferencing Samples: 100%|██████████| 2/2 [00:09<00:00,  4.99s/ Batches]\n",
            "Inferencing Samples: 100%|██████████| 2/2 [00:10<00:00,  5.00s/ Batches]\n",
            "Inferencing Samples: 100%|██████████| 2/2 [00:10<00:00,  5.09s/ Batches]\n",
            "08/02/2020 09:51:17 - INFO - elasticsearch -   POST http://localhost:9200/document/_search [status:200 request:0.008s]\n",
            "08/02/2020 09:51:17 - INFO - haystack.finder -   Reader is looking for detailed answer in 177632 chars ...\n",
            "Inferencing Samples: 100%|██████████| 2/2 [00:02<00:00,  1.18s/ Batches]\n",
            "Inferencing Samples: 100%|██████████| 2/2 [00:02<00:00,  1.18s/ Batches]\n",
            "Inferencing Samples: 100%|██████████| 2/2 [00:02<00:00,  1.18s/ Batches]\n",
            "Inferencing Samples: 100%|██████████| 2/2 [00:02<00:00,  1.18s/ Batches]\n",
            "08/02/2020 09:51:27 - INFO - elasticsearch -   POST http://localhost:9200/document/_search [status:200 request:0.007s]\n",
            "08/02/2020 09:51:27 - INFO - haystack.finder -   Reader is looking for detailed answer in 177632 chars ...\n",
            "Inferencing Samples: 100%|██████████| 2/2 [00:10<00:00,  5.03s/ Batches]\n",
            "Inferencing Samples: 100%|██████████| 2/2 [00:10<00:00,  5.00s/ Batches]\n",
            "Inferencing Samples: 100%|██████████| 2/2 [00:10<00:00,  5.03s/ Batches]\n",
            "Inferencing Samples: 100%|██████████| 2/2 [00:10<00:00,  5.05s/ Batches]\n",
            "08/02/2020 09:52:08 - INFO - elasticsearch -   POST http://localhost:9200/document/_search [status:200 request:0.006s]\n",
            "08/02/2020 09:52:08 - INFO - haystack.finder -   Reader is looking for detailed answer in 177632 chars ...\n",
            "Inferencing Samples: 100%|██████████| 2/2 [00:02<00:00,  1.18s/ Batches]\n",
            "Inferencing Samples: 100%|██████████| 2/2 [00:02<00:00,  1.18s/ Batches]\n",
            "Inferencing Samples: 100%|██████████| 2/2 [00:02<00:00,  1.18s/ Batches]\n",
            "Inferencing Samples: 100%|██████████| 2/2 [00:02<00:00,  1.18s/ Batches]\n",
            "08/02/2020 09:52:18 - INFO - elasticsearch -   POST http://localhost:9200/document/_search [status:200 request:0.007s]\n",
            "08/02/2020 09:52:18 - INFO - haystack.finder -   Reader is looking for detailed answer in 177632 chars ...\n",
            "Inferencing Samples: 100%|██████████| 2/2 [00:10<00:00,  5.04s/ Batches]\n",
            "Inferencing Samples: 100%|██████████| 2/2 [00:10<00:00,  5.01s/ Batches]\n",
            "Inferencing Samples: 100%|██████████| 2/2 [00:09<00:00,  4.99s/ Batches]\n",
            "Inferencing Samples: 100%|██████████| 2/2 [00:10<00:00,  5.07s/ Batches]\n",
            "08/02/2020 09:52:59 - INFO - elasticsearch -   POST http://localhost:9200/document/_search [status:200 request:0.006s]\n",
            "08/02/2020 09:52:59 - INFO - haystack.finder -   Reader is looking for detailed answer in 177632 chars ...\n",
            "Inferencing Samples: 100%|██████████| 2/2 [00:02<00:00,  1.18s/ Batches]\n",
            "Inferencing Samples: 100%|██████████| 2/2 [00:02<00:00,  1.18s/ Batches]\n",
            "Inferencing Samples: 100%|██████████| 2/2 [00:02<00:00,  1.18s/ Batches]\n",
            "Inferencing Samples: 100%|██████████| 2/2 [00:02<00:00,  1.18s/ Batches]\n",
            "08/02/2020 09:53:09 - INFO - elasticsearch -   POST http://localhost:9200/document/_search [status:200 request:0.006s]\n",
            "08/02/2020 09:53:09 - INFO - haystack.finder -   Reader is looking for detailed answer in 177632 chars ...\n",
            "Inferencing Samples: 100%|██████████| 2/2 [00:10<00:00,  5.03s/ Batches]\n",
            "Inferencing Samples: 100%|██████████| 2/2 [00:09<00:00,  4.98s/ Batches]\n",
            "Inferencing Samples: 100%|██████████| 2/2 [00:10<00:00,  5.01s/ Batches]\n",
            "Inferencing Samples: 100%|██████████| 2/2 [00:10<00:00,  5.11s/ Batches]\n",
            "08/02/2020 09:53:50 - INFO - elasticsearch -   POST http://localhost:9200/document/_search [status:200 request:0.008s]\n",
            "08/02/2020 09:53:50 - INFO - haystack.finder -   Reader is looking for detailed answer in 177632 chars ...\n",
            "Inferencing Samples: 100%|██████████| 2/2 [00:02<00:00,  1.18s/ Batches]\n",
            "Inferencing Samples: 100%|██████████| 2/2 [00:02<00:00,  1.18s/ Batches]\n",
            "Inferencing Samples: 100%|██████████| 2/2 [00:02<00:00,  1.18s/ Batches]\n",
            "Inferencing Samples: 100%|██████████| 2/2 [00:02<00:00,  1.18s/ Batches]\n",
            "08/02/2020 09:54:01 - INFO - elasticsearch -   POST http://localhost:9200/document/_search [status:200 request:0.005s]\n",
            "08/02/2020 09:54:01 - INFO - haystack.finder -   Reader is looking for detailed answer in 177632 chars ...\n",
            "Inferencing Samples: 100%|██████████| 2/2 [00:10<00:00,  5.01s/ Batches]\n",
            "Inferencing Samples: 100%|██████████| 2/2 [00:10<00:00,  5.02s/ Batches]\n",
            "Inferencing Samples: 100%|██████████| 2/2 [00:10<00:00,  5.01s/ Batches]\n",
            "Inferencing Samples: 100%|██████████| 2/2 [00:10<00:00,  5.06s/ Batches]\n",
            "08/02/2020 09:54:41 - INFO - elasticsearch -   POST http://localhost:9200/document/_search [status:200 request:0.006s]\n",
            "08/02/2020 09:54:41 - INFO - haystack.finder -   Reader is looking for detailed answer in 177632 chars ...\n",
            "Inferencing Samples: 100%|██████████| 2/2 [00:02<00:00,  1.18s/ Batches]\n",
            "Inferencing Samples: 100%|██████████| 2/2 [00:02<00:00,  1.18s/ Batches]\n",
            "Inferencing Samples: 100%|██████████| 2/2 [00:02<00:00,  1.18s/ Batches]\n",
            "Inferencing Samples: 100%|██████████| 2/2 [00:02<00:00,  1.18s/ Batches]\n",
            "08/02/2020 09:54:52 - INFO - elasticsearch -   POST http://localhost:9200/document/_search [status:200 request:0.005s]\n",
            "08/02/2020 09:54:52 - INFO - haystack.finder -   Reader is looking for detailed answer in 177632 chars ...\n",
            "Inferencing Samples: 100%|██████████| 2/2 [00:10<00:00,  5.03s/ Batches]\n",
            "Inferencing Samples: 100%|██████████| 2/2 [00:09<00:00,  5.00s/ Batches]\n",
            "Inferencing Samples: 100%|██████████| 2/2 [00:10<00:00,  5.04s/ Batches]\n",
            "Inferencing Samples: 100%|██████████| 2/2 [00:10<00:00,  5.10s/ Batches]\n",
            "08/02/2020 09:55:33 - INFO - elasticsearch -   POST http://localhost:9200/document/_search [status:200 request:0.007s]\n",
            "08/02/2020 09:55:33 - INFO - haystack.finder -   Reader is looking for detailed answer in 177632 chars ...\n",
            "Inferencing Samples: 100%|██████████| 2/2 [00:02<00:00,  1.16s/ Batches]\n",
            "Inferencing Samples: 100%|██████████| 2/2 [00:02<00:00,  1.16s/ Batches]\n",
            "Inferencing Samples: 100%|██████████| 2/2 [00:02<00:00,  1.16s/ Batches]\n",
            "Inferencing Samples: 100%|██████████| 2/2 [00:02<00:00,  1.18s/ Batches]\n",
            "08/02/2020 09:55:43 - INFO - elasticsearch -   POST http://localhost:9200/document/_search [status:200 request:0.006s]\n",
            "08/02/2020 09:55:43 - INFO - haystack.finder -   Reader is looking for detailed answer in 177632 chars ...\n",
            "Inferencing Samples: 100%|██████████| 2/2 [00:10<00:00,  5.10s/ Batches]\n",
            "Inferencing Samples: 100%|██████████| 2/2 [00:10<00:00,  5.03s/ Batches]\n",
            "Inferencing Samples: 100%|██████████| 2/2 [00:10<00:00,  5.01s/ Batches]\n",
            "Inferencing Samples: 100%|██████████| 2/2 [00:10<00:00,  5.01s/ Batches]\n",
            "08/02/2020 09:56:24 - INFO - elasticsearch -   POST http://localhost:9200/document/_search [status:200 request:0.007s]\n",
            "08/02/2020 09:56:24 - INFO - haystack.finder -   Reader is looking for detailed answer in 177632 chars ...\n",
            "Inferencing Samples: 100%|██████████| 2/2 [00:02<00:00,  1.18s/ Batches]\n",
            "Inferencing Samples: 100%|██████████| 2/2 [00:02<00:00,  1.16s/ Batches]\n",
            "Inferencing Samples: 100%|██████████| 2/2 [00:02<00:00,  1.16s/ Batches]\n",
            "Inferencing Samples: 100%|██████████| 2/2 [00:02<00:00,  1.16s/ Batches]\n",
            "08/02/2020 09:56:34 - INFO - elasticsearch -   POST http://localhost:9200/document/_search [status:200 request:0.007s]\n",
            "08/02/2020 09:56:34 - INFO - haystack.finder -   Reader is looking for detailed answer in 177632 chars ...\n",
            "Inferencing Samples: 100%|██████████| 2/2 [00:10<00:00,  5.09s/ Batches]\n",
            "Inferencing Samples: 100%|██████████| 2/2 [00:10<00:00,  5.01s/ Batches]\n",
            "Inferencing Samples: 100%|██████████| 2/2 [00:09<00:00,  4.98s/ Batches]\n",
            "Inferencing Samples: 100%|██████████| 2/2 [00:10<00:00,  5.02s/ Batches]\n",
            "08/02/2020 09:57:14 - INFO - elasticsearch -   POST http://localhost:9200/document/_search [status:200 request:0.006s]\n",
            "08/02/2020 09:57:14 - INFO - haystack.finder -   Reader is looking for detailed answer in 177632 chars ...\n",
            "Inferencing Samples: 100%|██████████| 2/2 [00:02<00:00,  1.19s/ Batches]\n",
            "Inferencing Samples: 100%|██████████| 2/2 [00:02<00:00,  1.18s/ Batches]\n",
            "Inferencing Samples: 100%|██████████| 2/2 [00:02<00:00,  1.18s/ Batches]\n",
            "Inferencing Samples: 100%|██████████| 2/2 [00:02<00:00,  1.18s/ Batches]\n",
            "08/02/2020 09:57:25 - INFO - elasticsearch -   POST http://localhost:9200/document/_search [status:200 request:0.007s]\n",
            "08/02/2020 09:57:25 - INFO - haystack.finder -   Reader is looking for detailed answer in 177632 chars ...\n",
            "Inferencing Samples: 100%|██████████| 2/2 [00:10<00:00,  5.07s/ Batches]\n",
            "Inferencing Samples: 100%|██████████| 2/2 [00:10<00:00,  5.02s/ Batches]\n",
            "Inferencing Samples: 100%|██████████| 2/2 [00:10<00:00,  5.01s/ Batches]\n",
            "Inferencing Samples: 100%|██████████| 2/2 [00:10<00:00,  5.01s/ Batches]\n",
            "08/02/2020 09:58:06 - INFO - elasticsearch -   POST http://localhost:9200/document/_search [status:200 request:0.007s]\n",
            "08/02/2020 09:58:06 - INFO - haystack.finder -   Reader is looking for detailed answer in 177632 chars ...\n",
            "Inferencing Samples: 100%|██████████| 2/2 [00:02<00:00,  1.18s/ Batches]\n",
            "Inferencing Samples: 100%|██████████| 2/2 [00:02<00:00,  1.16s/ Batches]\n",
            "Inferencing Samples: 100%|██████████| 2/2 [00:02<00:00,  1.16s/ Batches]\n",
            "Inferencing Samples: 100%|██████████| 2/2 [00:02<00:00,  1.16s/ Batches]\n",
            "08/02/2020 09:58:16 - INFO - elasticsearch -   POST http://localhost:9200/document/_search [status:200 request:0.006s]\n",
            "08/02/2020 09:58:16 - INFO - haystack.finder -   Reader is looking for detailed answer in 177632 chars ...\n",
            "Inferencing Samples: 100%|██████████| 2/2 [00:09<00:00,  5.00s/ Batches]\n",
            "Inferencing Samples: 100%|██████████| 2/2 [00:09<00:00,  4.98s/ Batches]\n",
            "Inferencing Samples: 100%|██████████| 2/2 [00:10<00:00,  5.02s/ Batches]\n",
            "Inferencing Samples: 100%|██████████| 2/2 [00:10<00:00,  5.08s/ Batches]\n",
            "08/02/2020 09:58:56 - INFO - elasticsearch -   POST http://localhost:9200/document/_search [status:200 request:0.007s]\n",
            "08/02/2020 09:58:56 - INFO - haystack.finder -   Reader is looking for detailed answer in 177632 chars ...\n",
            "Inferencing Samples: 100%|██████████| 2/2 [00:02<00:00,  1.18s/ Batches]\n",
            "Inferencing Samples: 100%|██████████| 2/2 [00:02<00:00,  1.18s/ Batches]\n",
            "Inferencing Samples: 100%|██████████| 2/2 [00:02<00:00,  1.18s/ Batches]\n",
            "Inferencing Samples: 100%|██████████| 2/2 [00:02<00:00,  1.18s/ Batches]\n",
            "08/02/2020 09:59:07 - INFO - elasticsearch -   POST http://localhost:9200/document/_search [status:200 request:0.007s]\n",
            "08/02/2020 09:59:07 - INFO - haystack.finder -   Reader is looking for detailed answer in 177632 chars ...\n",
            "Inferencing Samples: 100%|██████████| 2/2 [00:10<00:00,  5.02s/ Batches]\n",
            "Inferencing Samples: 100%|██████████| 2/2 [00:09<00:00,  4.99s/ Batches]\n",
            "Inferencing Samples: 100%|██████████| 2/2 [00:10<00:00,  5.01s/ Batches]\n",
            "Inferencing Samples: 100%|██████████| 2/2 [00:10<00:00,  5.08s/ Batches]\n",
            "08/02/2020 09:59:48 - INFO - elasticsearch -   POST http://localhost:9200/document/_search [status:200 request:0.006s]\n",
            "08/02/2020 09:59:48 - INFO - haystack.finder -   Reader is looking for detailed answer in 177632 chars ...\n",
            "Inferencing Samples: 100%|██████████| 2/2 [00:02<00:00,  1.18s/ Batches]\n",
            "Inferencing Samples: 100%|██████████| 2/2 [00:02<00:00,  1.18s/ Batches]\n",
            "Inferencing Samples: 100%|██████████| 2/2 [00:02<00:00,  1.18s/ Batches]\n",
            "Inferencing Samples: 100%|██████████| 2/2 [00:02<00:00,  1.18s/ Batches]\n",
            "08/02/2020 09:59:58 - INFO - elasticsearch -   POST http://localhost:9200/document/_search [status:200 request:0.006s]\n",
            "08/02/2020 09:59:58 - INFO - haystack.finder -   Reader is looking for detailed answer in 177632 chars ...\n",
            "Inferencing Samples: 100%|██████████| 2/2 [00:10<00:00,  5.02s/ Batches]\n",
            "Inferencing Samples: 100%|██████████| 2/2 [00:09<00:00,  4.99s/ Batches]\n",
            "Inferencing Samples: 100%|██████████| 2/2 [00:10<00:00,  5.03s/ Batches]\n",
            "Inferencing Samples: 100%|██████████| 2/2 [00:10<00:00,  5.08s/ Batches]\n",
            "08/02/2020 10:00:39 - INFO - elasticsearch -   POST http://localhost:9200/document/_search [status:200 request:0.007s]\n",
            "08/02/2020 10:00:39 - INFO - haystack.finder -   Reader is looking for detailed answer in 177632 chars ...\n",
            "Inferencing Samples: 100%|██████████| 2/2 [00:02<00:00,  1.18s/ Batches]\n",
            "Inferencing Samples: 100%|██████████| 2/2 [00:02<00:00,  1.18s/ Batches]\n",
            "Inferencing Samples: 100%|██████████| 2/2 [00:02<00:00,  1.19s/ Batches]\n",
            "Inferencing Samples: 100%|██████████| 2/2 [00:02<00:00,  1.18s/ Batches]\n",
            "08/02/2020 10:00:49 - INFO - elasticsearch -   POST http://localhost:9200/document/_search [status:200 request:0.011s]\n",
            "08/02/2020 10:00:49 - INFO - haystack.finder -   Reader is looking for detailed answer in 177632 chars ...\n",
            "Inferencing Samples: 100%|██████████| 2/2 [00:10<00:00,  5.01s/ Batches]\n",
            "Inferencing Samples: 100%|██████████| 2/2 [00:10<00:00,  5.01s/ Batches]\n",
            "Inferencing Samples: 100%|██████████| 2/2 [00:10<00:00,  5.00s/ Batches]\n",
            "Inferencing Samples: 100%|██████████| 2/2 [00:10<00:00,  5.07s/ Batches]\n",
            "08/02/2020 10:01:30 - INFO - elasticsearch -   POST http://localhost:9200/document/_search [status:200 request:0.006s]\n",
            "08/02/2020 10:01:30 - INFO - haystack.finder -   Reader is looking for detailed answer in 177632 chars ...\n",
            "Inferencing Samples: 100%|██████████| 2/2 [00:02<00:00,  1.18s/ Batches]\n",
            "Inferencing Samples: 100%|██████████| 2/2 [00:02<00:00,  1.18s/ Batches]\n",
            "Inferencing Samples: 100%|██████████| 2/2 [00:02<00:00,  1.18s/ Batches]\n",
            "Inferencing Samples: 100%|██████████| 2/2 [00:02<00:00,  1.18s/ Batches]\n",
            "08/02/2020 10:01:40 - INFO - elasticsearch -   POST http://localhost:9200/document/_search [status:200 request:0.007s]\n",
            "08/02/2020 10:01:40 - INFO - haystack.finder -   Reader is looking for detailed answer in 177632 chars ...\n",
            "Inferencing Samples: 100%|██████████| 2/2 [00:10<00:00,  5.02s/ Batches]\n",
            "Inferencing Samples: 100%|██████████| 2/2 [00:10<00:00,  5.01s/ Batches]\n",
            "Inferencing Samples: 100%|██████████| 2/2 [00:10<00:00,  5.02s/ Batches]\n",
            "Inferencing Samples: 100%|██████████| 2/2 [00:10<00:00,  5.08s/ Batches]\n",
            "08/02/2020 10:02:21 - INFO - elasticsearch -   POST http://localhost:9200/document/_search [status:200 request:0.006s]\n",
            "08/02/2020 10:02:21 - INFO - haystack.finder -   Reader is looking for detailed answer in 177632 chars ...\n",
            "Inferencing Samples: 100%|██████████| 2/2 [00:02<00:00,  1.18s/ Batches]\n",
            "Inferencing Samples: 100%|██████████| 2/2 [00:02<00:00,  1.18s/ Batches]\n",
            "Inferencing Samples: 100%|██████████| 2/2 [00:02<00:00,  1.18s/ Batches]\n",
            "Inferencing Samples: 100%|██████████| 2/2 [00:02<00:00,  1.18s/ Batches]\n"
          ],
          "name": "stderr"
        }
      ]
    },
    {
      "cell_type": "code",
      "metadata": {
        "id": "hZdXtXCuEqKs",
        "colab_type": "code",
        "colab": {},
        "outputId": "dc3de664-3aee-474d-c030-200ddce79c94"
      },
      "source": [
        "#Displaying f1 scores for each model\n",
        "print(np.mean(scores1))\n",
        "print(np.mean(scores2))\n",
        "print(np.mean(combinedScores))"
      ],
      "execution_count": null,
      "outputs": [
        {
          "output_type": "stream",
          "text": [
            "0.5744746037802809\n",
            "0.5471326379596643\n",
            "0.7165725483145072\n",
            "[{'question': 'When is the earliest date for operators of non-commercial flights to submit their slot requests?', 'no_ans_gap': 2.6555654406547546, 'answers': [{'answer': '7 calendar days and but no later than 24 hours prior to the operation of the flight', 'score': 3.1474380493164062, 'probability': 0.5971080699017286, 'context': ' Slot Coordinator no earlier than 7 calendar days and but no later than 24 hours prior to the operation of the flight, for which the slot will be util', 'offset_start': 34, 'offset_end': 117, 'offset_start_in_doc': 2053, 'offset_end_in_doc': 2136, 'document_id': UUID('9bb1a6bf-2cc5-4fd7-bf7d-a571be6bd81c'), 'meta': {'name': 'summary.txt'}}, {'answer': '7 calendar days and but no later than 24 hours prior to the operation of the flight', 'score': 3.1474380493164062, 'probability': 0.5971080699017286, 'context': ' Slot Coordinator no earlier than 7 calendar days and but no later than 24 hours prior to the operation of the flight, for which the slot will be util', 'offset_start': 34, 'offset_end': 117, 'offset_start_in_doc': 2053, 'offset_end_in_doc': 2136, 'document_id': UUID('7187f269-9298-4680-a70e-63aa1c21c421'), 'meta': {'name': 'summary.txt'}}, {'answer': '7 calendar days and but no later than 24 hours prior to the operation of the flight', 'score': 3.1474380493164062, 'probability': 0.5971080699017286, 'context': ' Slot Coordinator no earlier than 7 calendar days and but no later than 24 hours prior to the operation of the flight, for which the slot will be util', 'offset_start': 34, 'offset_end': 117, 'offset_start_in_doc': 2053, 'offset_end_in_doc': 2136, 'document_id': UUID('7e83be57-70fe-4cb4-a5d0-3fbc1b50c578'), 'meta': {'name': 'summary.txt'}}]}, {'question': 'When is the earliest date for operators of non-commercial flights to submit their slot requests?', 'no_ans_gap': 9.459994316101074, 'answers': [{'answer': '7 calendar days', 'score': 14.293661117553711, 'probability': 0.8565231489965021, 'context': ' their slot requests to the Changi Slot Coordinator no earlier than 7 calendar days and but no later than 24 hours prior to the operation of the fligh', 'offset_start': 68, 'offset_end': 83, 'offset_start_in_doc': 2053, 'offset_end_in_doc': 2068, 'document_id': UUID('9bb1a6bf-2cc5-4fd7-bf7d-a571be6bd81c'), 'meta': {'name': 'summary.txt'}}, {'answer': '7 calendar days', 'score': 14.293661117553711, 'probability': 0.8565231489965021, 'context': ' their slot requests to the Changi Slot Coordinator no earlier than 7 calendar days and but no later than 24 hours prior to the operation of the fligh', 'offset_start': 68, 'offset_end': 83, 'offset_start_in_doc': 2053, 'offset_end_in_doc': 2068, 'document_id': UUID('7187f269-9298-4680-a70e-63aa1c21c421'), 'meta': {'name': 'summary.txt'}}]}, {'question': 'Who should operators of commercial flights submit their slot requests to?', 'no_ans_gap': 2.3669726848602295, 'answers': [{'answer': 'the Changi Slot Coordinator', 'score': 2.9571170806884766, 'probability': 0.5913718986957275, 'context': 'nd non-commercial flights shall submit their slot requests to the Changi Slot Coordinator no earlier than 7 calendar days and but no later than 24 hou', 'offset_start': 62, 'offset_end': 89, 'offset_start_in_doc': 2009, 'offset_end_in_doc': 2036, 'document_id': UUID('96a9dcc9-e53e-4651-8872-5f44119b752e'), 'meta': {'name': 'summary.txt'}}, {'answer': 'the Changi Slot Coordinator', 'score': 2.935169219970703, 'probability': 0.5907087670851808, 'context': 'nd non-commercial flights shall submit their slot requests to the Changi Slot Coordinator no earlier than 7 calendar days and but no later than 24 hou', 'offset_start': 62, 'offset_end': 89, 'offset_start_in_doc': 2009, 'offset_end_in_doc': 2036, 'document_id': UUID('9bb1a6bf-2cc5-4fd7-bf7d-a571be6bd81c'), 'meta': {'name': 'summary.txt'}}, {'answer': 'the Changi Slot Coordinator', 'score': 2.935169219970703, 'probability': 0.5907087670851808, 'context': 'nd non-commercial flights shall submit their slot requests to the Changi Slot Coordinator no earlier than 7 calendar days and but no later than 24 hou', 'offset_start': 62, 'offset_end': 89, 'offset_start_in_doc': 2009, 'offset_end_in_doc': 2036, 'document_id': UUID('7187f269-9298-4680-a70e-63aa1c21c421'), 'meta': {'name': 'summary.txt'}}]}, {'question': 'Who should operators of commercial flights submit their slot requests to?', 'no_ans_gap': 9.325727462768555, 'answers': [{'answer': 'csc@changiairport.com', 'score': 13.905206680297852, 'probability': 0.8504520348121999, 'context': 'mit applications for slots via a Slot Clearance Request (SCR) to csc@changiairport.com. 3.6 All operators shall adhere to the IATA Worldwide Slot Guid', 'offset_start': 65, 'offset_end': 86, 'offset_start_in_doc': 5825, 'offset_end_in_doc': 5846, 'document_id': UUID('96a9dcc9-e53e-4651-8872-5f44119b752e'), 'meta': {'name': 'summary.txt'}}, {'answer': 'csc@changiairport.com', 'score': 13.463667869567871, 'probability': 0.8432958858132539, 'context': 'mit applications for slots via a Slot Clearance Request (SCR) to csc@changiairport.com\\n 3.6 All operators shall adhere to the IATA Worldwide Slot Guid', 'offset_start': 65, 'offset_end': 86, 'offset_start_in_doc': 5825, 'offset_end_in_doc': 5846, 'document_id': UUID('9bb1a6bf-2cc5-4fd7-bf7d-a571be6bd81c'), 'meta': {'name': 'summary.txt'}}]}, {'question': 'What should operators do for urgent flight operations that are less than 24 hours from the proposed date of operation?', 'no_ans_gap': 3.636357605457306, 'answers': [{'answer': 'addition to submitting the SCR/GCR, operators/agents must also inform the Airside Operations Section of CAG (Airside Management Centre) at +65 6603 4906 / +65 6541 2275 / +65 6541 2273', 'score': 4.2040324211120605, 'probability': 0.6284338945906353, 'context': 'addition to submitting the SCR/GCR, operators/agents must also inform the Airside Operations Section of CAG (Airside Management Centre) at +65 6603 4906 / +65 6541 2275 / +65 6541 2273', 'offset_start': 0, 'offset_end': 184, 'offset_start_in_doc': 2594, 'offset_end_in_doc': 2778, 'document_id': UUID('96a9dcc9-e53e-4651-8872-5f44119b752e'), 'meta': {'name': 'summary.txt'}}, {'answer': 'addition to submitting the SCR/GCR, operators/agents must also inform the Airside Operations Section of CAG (Airside Management Centre) at +65 6603 4906 / +65 6541 2275 / +65 6541 2273\\n 2.6 EXEMPT FLIGHTS  2.6', 'score': 3.53810453414917, 'probability': 0.608798141945068, 'context': ' addition to submitting the SCR/GCR, operators/agents must also inform the Airside Operations Section of CAG (Airside Management Centre) at +65 6603 4906 / +65 6541 2275 / +65 6541 2273\\n 2.6 EXEMPT FLIGHTS  2.6', 'offset_start': 1, 'offset_end': 210, 'offset_start_in_doc': 2594, 'offset_end_in_doc': 2803, 'document_id': UUID('9bb1a6bf-2cc5-4fd7-bf7d-a571be6bd81c'), 'meta': {'name': 'summary.txt'}}, {'answer': 'addition to submitting the SCR/GCR, operators/agents must also inform the Airside Operations Section of CAG (Airside Management Centre) at +65 6603 4906 / +65 6541 2275 / +65 6541 2273\\n 2.6 EXEMPT FLIGHTS  2.6', 'score': 3.53810453414917, 'probability': 0.608798141945068, 'context': ' addition to submitting the SCR/GCR, operators/agents must also inform the Airside Operations Section of CAG (Airside Management Centre) at +65 6603 4906 / +65 6541 2275 / +65 6541 2273\\n 2.6 EXEMPT FLIGHTS  2.6', 'offset_start': 1, 'offset_end': 210, 'offset_start_in_doc': 2594, 'offset_end_in_doc': 2803, 'document_id': UUID('7187f269-9298-4680-a70e-63aa1c21c421'), 'meta': {'name': 'summary.txt'}}]}, {'question': 'What should operators do for urgent flight operations that are less than 24 hours from the proposed date of operation?', 'no_ans_gap': 10.655810356140137, 'answers': [{'answer': 'in addition to submitting the SCR/GCR', 'score': 12.366552352905273, 'probability': 0.8243090513693805, 'context': ' less than 24 hours from the proposed date of operation, in addition to submitting the SCR/GCR, operators/agents must also inform the Airside Operatio', 'offset_start': 57, 'offset_end': 94, 'offset_start_in_doc': 2591, 'offset_end_in_doc': 2628, 'document_id': UUID('7187f269-9298-4680-a70e-63aa1c21c421'), 'meta': {'name': 'summary.txt'}}, {'answer': 'in addition to submitting the SCR/GCR', 'score': 12.366552352905273, 'probability': 0.8243090513693805, 'context': ' less than 24 hours from the proposed date of operation, in addition to submitting the SCR/GCR, operators/agents must also inform the Airside Operatio', 'offset_start': 57, 'offset_end': 94, 'offset_start_in_doc': 2591, 'offset_end_in_doc': 2628, 'document_id': UUID('7e83be57-70fe-4cb4-a5d0-3fbc1b50c578'), 'meta': {'name': 'summary.txt'}}]}, {'question': 'What details need to be submitted for slots application at Seletar Airport?', 'no_ans_gap': 0.12165266275405884, 'answers': [{'answer': 'FLIGHT DETAILS', 'score': 0.7359041571617126, 'probability': 0.522980802291607, 'context': 'be allocated new slots at Singapore Changi Airport\\n 3 SUBMISSION OF FLIGHT DETAILS AND APPLICATION FOR SLOTS AT SELETAR AIRPORT 3.1 Seletar Airport is', 'offset_start': 68, 'offset_end': 82, 'offset_start_in_doc': 3740, 'offset_end_in_doc': 3754, 'document_id': UUID('9bb1a6bf-2cc5-4fd7-bf7d-a571be6bd81c'), 'meta': {'name': 'summary.txt'}}, {'answer': 'FLIGHT DETAILS', 'score': 0.7359041571617126, 'probability': 0.522980802291607, 'context': 'be allocated new slots at Singapore Changi Airport\\n 3 SUBMISSION OF FLIGHT DETAILS AND APPLICATION FOR SLOTS AT SELETAR AIRPORT 3.1 Seletar Airport is', 'offset_start': 68, 'offset_end': 82, 'offset_start_in_doc': 3740, 'offset_end_in_doc': 3754, 'document_id': UUID('7187f269-9298-4680-a70e-63aa1c21c421'), 'meta': {'name': 'summary.txt'}}, {'answer': 'FLIGHT DETAILS', 'score': 0.7359041571617126, 'probability': 0.522980802291607, 'context': 'be allocated new slots at Singapore Changi Airport\\n 3 SUBMISSION OF FLIGHT DETAILS AND APPLICATION FOR SLOTS AT SELETAR AIRPORT 3.1 Seletar Airport is', 'offset_start': 68, 'offset_end': 82, 'offset_start_in_doc': 3740, 'offset_end_in_doc': 3754, 'document_id': UUID('7e83be57-70fe-4cb4-a5d0-3fbc1b50c578'), 'meta': {'name': 'summary.txt'}}]}, {'question': 'What details need to be submitted for slots application at Seletar Airport?', 'no_ans_gap': 6.976066589355469, 'answers': [{'answer': 'FLIGHT DETAILS', 'score': 11.77218246459961, 'probability': 0.8132887350216896, 'context': 'be allocated new slots at Singapore Changi Airport\\n 3 SUBMISSION OF FLIGHT DETAILS AND APPLICATION FOR SLOTS AT SELETAR AIRPORT 3.1 Seletar Airport is', 'offset_start': 68, 'offset_end': 82, 'offset_start_in_doc': 3740, 'offset_end_in_doc': 3754, 'document_id': UUID('7187f269-9298-4680-a70e-63aa1c21c421'), 'meta': {'name': 'summary.txt'}}, {'answer': 'FLIGHT DETAILS', 'score': 11.77218246459961, 'probability': 0.8132887350216896, 'context': 'be allocated new slots at Singapore Changi Airport\\n 3 SUBMISSION OF FLIGHT DETAILS AND APPLICATION FOR SLOTS AT SELETAR AIRPORT 3.1 Seletar Airport is', 'offset_start': 68, 'offset_end': 82, 'offset_start_in_doc': 3740, 'offset_end_in_doc': 3754, 'document_id': UUID('7e83be57-70fe-4cb4-a5d0-3fbc1b50c578'), 'meta': {'name': 'summary.txt'}}]}, {'question': 'Where should an application for traffic landings and non-scheduled flights be submitted?', 'no_ans_gap': 0.6053538918495178, 'answers': [{'answer': 'together with the application', 'score': 1.1417251825332642, 'probability': 0.5356184767626274, 'context': 'eduled flight. The following information should be submitted together with the application: a. Name, address and nationality of operator b. Name, addr', 'offset_start': 61, 'offset_end': 90, 'offset_start_in_doc': 13407, 'offset_end_in_doc': 13436, 'document_id': UUID('96a9dcc9-e53e-4651-8872-5f44119b752e'), 'meta': {'name': 'summary.txt'}}, {'answer': 'an authorised airport', 'score': 0.7803758382797241, 'probability': 0.5243674258326052, 'context': 'pore on test flights) shall present to an immigration officer at an authorised airport, a valid passport or a valid travel document recognised by the ', 'offset_start': 65, 'offset_end': 86, 'offset_start_in_doc': 29638, 'offset_end_in_doc': 29659, 'document_id': UUID('9bb1a6bf-2cc5-4fd7-bf7d-a571be6bd81c'), 'meta': {'name': 'summary.txt'}}, {'answer': 'an authorised airport', 'score': 0.7803758382797241, 'probability': 0.5243674258326052, 'context': 'pore on test flights) shall present to an immigration officer at an authorised airport, a valid passport or a valid travel document recognised by the ', 'offset_start': 65, 'offset_end': 86, 'offset_start_in_doc': 29638, 'offset_end_in_doc': 29659, 'document_id': UUID('7187f269-9298-4680-a70e-63aa1c21c421'), 'meta': {'name': 'summary.txt'}}]}, {'question': 'Where should an application for traffic landings and non-scheduled flights be submitted?', 'no_ans_gap': 3.9597320556640625, 'answers': [{'answer': 'https://appserver1.caas.gov.sg/ATLAS', 'score': 11.410917282104492, 'probability': 0.8063342556908205, 'context': 'erations\\n 5.1.3.3 All applications must be submitted via https://appserver1.caas.gov.sg/ATLAS  The complete application and its supporting documents m', 'offset_start': 57, 'offset_end': 93, 'offset_start_in_doc': 14689, 'offset_end_in_doc': 14725, 'document_id': UUID('9bb1a6bf-2cc5-4fd7-bf7d-a571be6bd81c'), 'meta': {'name': 'summary.txt'}}, {'answer': 'https://appserver1.caas.gov.sg/ATLAS', 'score': 11.410917282104492, 'probability': 0.8063342556908205, 'context': 'erations\\n 5.1.3.3 All applications must be submitted via https://appserver1.caas.gov.sg/ATLAS  The complete application and its supporting documents m', 'offset_start': 57, 'offset_end': 93, 'offset_start_in_doc': 14689, 'offset_end_in_doc': 14725, 'document_id': UUID('7187f269-9298-4680-a70e-63aa1c21c421'), 'meta': {'name': 'summary.txt'}}]}, {'question': 'When is the complete application required to reach the Civil Aviation Authority of Singapore Air Transport Division by?', 'no_ans_gap': 3.051043391227722, 'answers': [{'answer': 'one month before the start of the season', 'score': 3.6066107749938965, 'probability': 0.6108356873503631, 'context': 'ns for scheduled flights for each IATA schedule season one month before the start of the season for approval by CAAS. 4.2.3 In addition, airline opera', 'offset_start': 55, 'offset_end': 95, 'offset_start_in_doc': 8653, 'offset_end_in_doc': 8693, 'document_id': UUID('96a9dcc9-e53e-4651-8872-5f44119b752e'), 'meta': {'name': 'summary.txt'}}, {'answer': 'one month before the start of the season', 'score': 1.9254181385040283, 'probability': 0.559880544393933, 'context': 'ns for scheduled flights for each IATA schedule season one month before the start of the season for approval by CAAS\\n 4.2.3 In addition, airline opera', 'offset_start': 55, 'offset_end': 95, 'offset_start_in_doc': 8653, 'offset_end_in_doc': 8693, 'document_id': UUID('9bb1a6bf-2cc5-4fd7-bf7d-a571be6bd81c'), 'meta': {'name': 'summary.txt'}}, {'answer': 'one month before the start of the season', 'score': 1.9254181385040283, 'probability': 0.559880544393933, 'context': 'ns for scheduled flights for each IATA schedule season one month before the start of the season for approval by CAAS\\n 4.2.3 In addition, airline opera', 'offset_start': 55, 'offset_end': 95, 'offset_start_in_doc': 8653, 'offset_end_in_doc': 8693, 'document_id': UUID('7187f269-9298-4680-a70e-63aa1c21c421'), 'meta': {'name': 'summary.txt'}}]}, {'question': 'When is the complete application required to reach the Civil Aviation Authority of Singapore Air Transport Division by?', 'no_ans_gap': 7.198746681213379, 'answers': [{'answer': 'during the flights submission window', 'score': 12.570518493652344, 'probability': 0.8279709642974736, 'context': 'l) flight operations of which details were not submitted during the flights submission window, operators or agents must submit the details to seletar.', 'offset_start': 57, 'offset_end': 93, 'offset_start_in_doc': 5079, 'offset_end_in_doc': 5115, 'document_id': UUID('96a9dcc9-e53e-4651-8872-5f44119b752e'), 'meta': {'name': 'summary.txt'}}, {'answer': 'at least 3 working days prior to the aircraft’s arrival or departure into/from Singapore', 'score': 12.27131175994873, 'probability': 0.8225782531736031, 'context': 'ision via the weblink provided at least 3 working days prior to the aircraft’s arrival or departure into/from Singapore to be considered for a “normal', 'offset_start': 31, 'offset_end': 119, 'offset_start_in_doc': 14882, 'offset_end_in_doc': 14970, 'document_id': UUID('96a9dcc9-e53e-4651-8872-5f44119b752e'), 'meta': {'name': 'summary.txt'}}]}, {'question': 'During which hours should operators schedule their arrivals and departures at Singapore Changi Airport?', 'no_ans_gap': 2.0055792331695557, 'answers': [{'answer': 'at all times', 'score': 2.5823605060577393, 'probability': 0.5800052790450265, 'context': 'ent via email to csc@changiairport.com for exceptional consideration at all times\\n All business aviation flights must engage aground handling agent at', 'offset_start': 69, 'offset_end': 81, 'offset_start_in_doc': 17056, 'offset_end_in_doc': 17068, 'document_id': UUID('9bb1a6bf-2cc5-4fd7-bf7d-a571be6bd81c'), 'meta': {'name': 'summary.txt'}}, {'answer': 'at all times', 'score': 2.5823605060577393, 'probability': 0.5800052790450265, 'context': 'ent via email to csc@changiairport.com for exceptional consideration at all times\\n All business aviation flights must engage aground handling agent at', 'offset_start': 69, 'offset_end': 81, 'offset_start_in_doc': 17056, 'offset_end_in_doc': 17068, 'document_id': UUID('7187f269-9298-4680-a70e-63aa1c21c421'), 'meta': {'name': 'summary.txt'}}, {'answer': 'at all times', 'score': 2.5823605060577393, 'probability': 0.5800052790450265, 'context': 'ent via email to csc@changiairport.com for exceptional consideration at all times\\n All business aviation flights must engage aground handling agent at', 'offset_start': 69, 'offset_end': 81, 'offset_start_in_doc': 17056, 'offset_end_in_doc': 17068, 'document_id': UUID('7e83be57-70fe-4cb4-a5d0-3fbc1b50c578'), 'meta': {'name': 'summary.txt'}}]}, {'question': 'During which hours should operators schedule their arrivals and departures at Singapore Changi Airport?', 'no_ans_gap': 5.083026885986328, 'answers': [{'answer': '0001 to 0200 UTC (0801-1000 LT) and 0900 to 1559 UTC (1700-2359 LT)', 'score': 12.009214401245117, 'probability': 0.8177462002677346, 'context': 'ingapore Changi Airport outside the hours 0001 to 0200 UTC (0801-1000 LT) and 0900 to 1559 UTC (1700-2359 LT). Subject to approval (depending on aircr', 'offset_start': 42, 'offset_end': 109, 'offset_start_in_doc': 15670, 'offset_end_in_doc': 15737, 'document_id': UUID('9bb1a6bf-2cc5-4fd7-bf7d-a571be6bd81c'), 'meta': {'name': 'summary.txt'}}, {'answer': '0001 to 0200 UTC (0801-1000 LT) and 0900 to 1559 UTC (1700-2359 LT)', 'score': 12.009214401245117, 'probability': 0.8177462002677346, 'context': 'ingapore Changi Airport outside the hours 0001 to 0200 UTC (0801-1000 LT) and 0900 to 1559 UTC (1700-2359 LT). Subject to approval (depending on aircr', 'offset_start': 42, 'offset_end': 109, 'offset_start_in_doc': 15670, 'offset_end_in_doc': 15737, 'document_id': UUID('7187f269-9298-4680-a70e-63aa1c21c421'), 'meta': {'name': 'summary.txt'}}]}, {'question': 'Which agent should be engaged by business aviation flights at Changi Airport?', 'no_ans_gap': 6.528825223445892, 'answers': [{'answer': 'ground handling agent', 'score': 7.156128883361816, 'probability': 0.7098212592796735, 'context': ' Terminal 2\\n 5.1.2.5 All business aviation flights must engage a ground handling agent at Singapore Changi Airport\\n 5.1.2.6 In all other cases, prior ', 'offset_start': 65, 'offset_end': 86, 'offset_start_in_doc': 12740, 'offset_end_in_doc': 12761, 'document_id': UUID('9bb1a6bf-2cc5-4fd7-bf7d-a571be6bd81c'), 'meta': {'name': 'summary.txt'}}, {'answer': 'ground handling agent', 'score': 7.156128883361816, 'probability': 0.7098212592796735, 'context': ' Terminal 2\\n 5.1.2.5 All business aviation flights must engage a ground handling agent at Singapore Changi Airport\\n 5.1.2.6 In all other cases, prior ', 'offset_start': 65, 'offset_end': 86, 'offset_start_in_doc': 12740, 'offset_end_in_doc': 12761, 'document_id': UUID('7187f269-9298-4680-a70e-63aa1c21c421'), 'meta': {'name': 'summary.txt'}}, {'answer': 'ground handling agent', 'score': 7.156128883361816, 'probability': 0.7098212592796735, 'context': ' Terminal 2\\n 5.1.2.5 All business aviation flights must engage a ground handling agent at Singapore Changi Airport\\n 5.1.2.6 In all other cases, prior ', 'offset_start': 65, 'offset_end': 86, 'offset_start_in_doc': 12740, 'offset_end_in_doc': 12761, 'document_id': UUID('7e83be57-70fe-4cb4-a5d0-3fbc1b50c578'), 'meta': {'name': 'summary.txt'}}]}, {'question': 'Which agent should be engaged by business aviation flights at Changi Airport?', 'no_ans_gap': 11.640676021575928, 'answers': [{'answer': 'ground handling agent', 'score': 14.437177658081055, 'probability': 0.858713695574057, 'context': ' Terminal 2\\n 5.1.2.5 All business aviation flights must engage a ground handling agent at Singapore Changi Airport\\n 5.1.2.6 In all other cases, prior ', 'offset_start': 65, 'offset_end': 86, 'offset_start_in_doc': 12740, 'offset_end_in_doc': 12761, 'document_id': UUID('9bb1a6bf-2cc5-4fd7-bf7d-a571be6bd81c'), 'meta': {'name': 'summary.txt'}}, {'answer': 'ground handling agent', 'score': 14.437177658081055, 'probability': 0.858713695574057, 'context': ' Terminal 2\\n 5.1.2.5 All business aviation flights must engage a ground handling agent at Singapore Changi Airport\\n 5.1.2.6 In all other cases, prior ', 'offset_start': 65, 'offset_end': 86, 'offset_start_in_doc': 12740, 'offset_end_in_doc': 12761, 'document_id': UUID('7187f269-9298-4680-a70e-63aa1c21c421'), 'meta': {'name': 'summary.txt'}}]}, {'question': 'What are the penalties for contravening the legislation dealing with non-scheduled flights?', 'no_ans_gap': 1.3012333512306213, 'answers': [{'answer': 'a fine not exceeding S$2,500 or to imprisonment for a term not exceeding 3 months or to both and in the case of a second or subsequent offence, to a fine not exceeding S$20,000 or to imprisonment for a term not exceeding 2 years or to both\\n Permit Fees (a) Normal Permits', 'score': 1.908818006515503, 'probability': 0.5593691672568962, 'context': ' a fine not exceeding S$2,500 or to imprisonment for a term not exceeding 3 months or to both and in the case of a second or subsequent offence, to a fine not exceeding S$20,000 or to imprisonment for a term not exceeding 2 years or to both\\n Permit Fees (a) Normal Permits', 'offset_start': 1, 'offset_end': 272, 'offset_start_in_doc': 17558, 'offset_end_in_doc': 17829, 'document_id': UUID('9bb1a6bf-2cc5-4fd7-bf7d-a571be6bd81c'), 'meta': {'name': 'summary.txt'}}, {'answer': 'a fine not exceeding S$2,500 or to imprisonment for a term not exceeding 3 months or to both and in the case of a second or subsequent offence, to a fine not exceeding S$20,000 or to imprisonment for a term not exceeding 2 years or to both\\n Permit Fees (a) Normal Permits', 'score': 1.908818006515503, 'probability': 0.5593691672568962, 'context': ' a fine not exceeding S$2,500 or to imprisonment for a term not exceeding 3 months or to both and in the case of a second or subsequent offence, to a fine not exceeding S$20,000 or to imprisonment for a term not exceeding 2 years or to both\\n Permit Fees (a) Normal Permits', 'offset_start': 1, 'offset_end': 272, 'offset_start_in_doc': 17558, 'offset_end_in_doc': 17829, 'document_id': UUID('7187f269-9298-4680-a70e-63aa1c21c421'), 'meta': {'name': 'summary.txt'}}, {'answer': 'a fine not exceeding S$2,500 or to imprisonment for a term not exceeding 3 months or to both and in the case of a second or subsequent offence, to a fine not exceeding S$20,000 or to imprisonment for a term not exceeding 2 years or to both\\n Permit Fees (a) Normal Permits', 'score': 1.908818006515503, 'probability': 0.5593691672568962, 'context': ' a fine not exceeding S$2,500 or to imprisonment for a term not exceeding 3 months or to both and in the case of a second or subsequent offence, to a fine not exceeding S$20,000 or to imprisonment for a term not exceeding 2 years or to both\\n Permit Fees (a) Normal Permits', 'offset_start': 1, 'offset_end': 272, 'offset_start_in_doc': 17558, 'offset_end_in_doc': 17829, 'document_id': UUID('7e83be57-70fe-4cb4-a5d0-3fbc1b50c578'), 'meta': {'name': 'summary.txt'}}]}, {'question': 'What are the penalties for contravening the legislation dealing with non-scheduled flights?', 'no_ans_gap': 8.065439701080322, 'answers': [{'answer': 'No operation will be permitted without the approval of the Seletar Schedules Facilitator', 'score': 12.91604995727539, 'probability': 0.8340360796097509, 'context': 'the operation of such flights. No operation will be permitted without the approval of the Seletar Schedules Facilitator\\n 3.2 For non-scheduled (commer', 'offset_start': 31, 'offset_end': 119, 'offset_start_in_doc': 4533, 'offset_end_in_doc': 4621, 'document_id': UUID('9bb1a6bf-2cc5-4fd7-bf7d-a571be6bd81c'), 'meta': {'name': 'summary.txt'}}, {'answer': 'No operation will be permitted without the approval of the Seletar Schedules Facilitator', 'score': 12.91604995727539, 'probability': 0.8340360796097509, 'context': 'the operation of such flights. No operation will be permitted without the approval of the Seletar Schedules Facilitator\\n 3.2 For non-scheduled (commer', 'offset_start': 31, 'offset_end': 119, 'offset_start_in_doc': 4533, 'offset_end_in_doc': 4621, 'document_id': UUID('7187f269-9298-4680-a70e-63aa1c21c421'), 'meta': {'name': 'summary.txt'}}]}, {'question': 'Where should requests to handle executive jet charter or charter flights via the main terminals be sent?', 'no_ans_gap': 7.413743019104004, 'answers': [{'answer': 'via email to csc', 'score': 8.050451278686523, 'probability': 0.7322966858482156, 'context': 't charter or charter flights via the main terminals are to be sent via email to csc@changiairport.com for exceptional consideration at all times. All ', 'offset_start': 67, 'offset_end': 83, 'offset_start_in_doc': 16991, 'offset_end_in_doc': 17007, 'document_id': UUID('96a9dcc9-e53e-4651-8872-5f44119b752e'), 'meta': {'name': 'summary.txt'}}, {'answer': 'via email to csc@changiairport.com', 'score': 6.6609649658203125, 'probability': 0.6969087609933656, 'context': ' or charter flights via the main terminals are to be sent via email to csc@changiairport.com for exceptional consideration at all times. All business ', 'offset_start': 58, 'offset_end': 92, 'offset_start_in_doc': 16991, 'offset_end_in_doc': 17025, 'document_id': UUID('96a9dcc9-e53e-4651-8872-5f44119b752e'), 'meta': {'name': 'summary.txt'}}, {'answer': 'via email to csc@changiairport.com', 'score': 6.4449872970581055, 'probability': 0.6911760966520665, 'context': ' or charter flights via the main terminals are to be sent via email to csc@changiairport.com for exceptional consideration at all times\\n All business ', 'offset_start': 58, 'offset_end': 92, 'offset_start_in_doc': 16991, 'offset_end_in_doc': 17025, 'document_id': UUID('9bb1a6bf-2cc5-4fd7-bf7d-a571be6bd81c'), 'meta': {'name': 'summary.txt'}}]}, {'question': 'Where should requests to handle executive jet charter or charter flights via the main terminals be sent?', 'no_ans_gap': 12.561549663543701, 'answers': [{'answer': 'csc@changiairport.com', 'score': 14.58245849609375, 'probability': 0.860902641364167, 'context': 'arter flights via the main terminals are to be sent via email to csc@changiairport.com for exceptional consideration at all times\\n All business aviati', 'offset_start': 65, 'offset_end': 86, 'offset_start_in_doc': 17004, 'offset_end_in_doc': 17025, 'document_id': UUID('7187f269-9298-4680-a70e-63aa1c21c421'), 'meta': {'name': 'summary.txt'}}, {'answer': 'csc@changiairport.com', 'score': 14.58245849609375, 'probability': 0.860902641364167, 'context': 'arter flights via the main terminals are to be sent via email to csc@changiairport.com for exceptional consideration at all times\\n All business aviati', 'offset_start': 65, 'offset_end': 86, 'offset_start_in_doc': 17004, 'offset_end_in_doc': 17025, 'document_id': UUID('7e83be57-70fe-4cb4-a5d0-3fbc1b50c578'), 'meta': {'name': 'summary.txt'}}]}, {'question': 'How do passengers of the business aviation flight have to clear CIQ?', 'no_ans_gap': 6.599718928337097, 'answers': [{'answer': 'via the Commercially-Important- Persons facility located at Terminal 2', 'score': 7.210999488830566, 'probability': 0.7112319704448599, 'context': ' aviation flight will have to clear CIQ via the Commercially-Important- Persons facility located at Terminal 2. 5.1.2.5 All business aviation flights ', 'offset_start': 40, 'offset_end': 110, 'offset_start_in_doc': 12616, 'offset_end_in_doc': 12686, 'document_id': UUID('96a9dcc9-e53e-4651-8872-5f44119b752e'), 'meta': {'name': 'summary.txt'}}, {'answer': 'via the Commercially-Important-Persons facility located beside Terminal 2', 'score': 6.891469478607178, 'probability': 0.7029601051359234, 'context': 'aviation flight will have to clear CIQ via the Commercially-Important-Persons facility located beside Terminal 2. Requests to handle executive jet cha', 'offset_start': 39, 'offset_end': 112, 'offset_start_in_doc': 16818, 'offset_end_in_doc': 16891, 'document_id': UUID('96a9dcc9-e53e-4651-8872-5f44119b752e'), 'meta': {'name': 'summary.txt'}}, {'answer': 'via the Commercially-Important- Persons facility located at Terminal 2', 'score': 6.669541358947754, 'probability': 0.6971351588394339, 'context': ' aviation flight will have to clear CIQ via the Commercially-Important- Persons facility located at Terminal 2\\n 5.1.2.5 All business aviation flights ', 'offset_start': 40, 'offset_end': 110, 'offset_start_in_doc': 12616, 'offset_end_in_doc': 12686, 'document_id': UUID('9bb1a6bf-2cc5-4fd7-bf7d-a571be6bd81c'), 'meta': {'name': 'summary.txt'}}]}, {'question': 'How do passengers of the business aviation flight have to clear CIQ?', 'no_ans_gap': 12.902659177780151, 'answers': [{'answer': 'via the Commercially-Important- Persons facility located at Terminal 2', 'score': 14.34398078918457, 'probability': 0.8572943977979591, 'context': ' aviation flight will have to clear CIQ via the Commercially-Important- Persons facility located at Terminal 2\\n 5.1.2.5 All business aviation flights ', 'offset_start': 40, 'offset_end': 110, 'offset_start_in_doc': 12616, 'offset_end_in_doc': 12686, 'document_id': UUID('9bb1a6bf-2cc5-4fd7-bf7d-a571be6bd81c'), 'meta': {'name': 'summary.txt'}}, {'answer': 'via the Commercially-Important- Persons facility located at Terminal 2', 'score': 14.34398078918457, 'probability': 0.8572943977979591, 'context': ' aviation flight will have to clear CIQ via the Commercially-Important- Persons facility located at Terminal 2\\n 5.1.2.5 All business aviation flights ', 'offset_start': 40, 'offset_end': 110, 'offset_start_in_doc': 12616, 'offset_end_in_doc': 12686, 'document_id': UUID('7187f269-9298-4680-a70e-63aa1c21c421'), 'meta': {'name': 'summary.txt'}}]}, {'question': 'What is the normal permit fee for 10 return flights?', 'no_ans_gap': 1.161096453666687, 'answers': [{'answer': 'iv. S$810', 'score': 1.7623662948608398, 'probability': 0.554852293050596, 'context': '6 for 5 one-way or return flights but not more than 10 such flights or iv. S$810 for more than 10 one-way or return flights\\n (b) Express Permits:  Ope', 'offset_start': 71, 'offset_end': 80, 'offset_start_in_doc': 18283, 'offset_end_in_doc': 18292, 'document_id': UUID('9bb1a6bf-2cc5-4fd7-bf7d-a571be6bd81c'), 'meta': {'name': 'summary.txt'}}, {'answer': 'iv. S$810', 'score': 1.7623662948608398, 'probability': 0.554852293050596, 'context': '6 for 5 one-way or return flights but not more than 10 such flights or iv. S$810 for more than 10 one-way or return flights\\n (b) Express Permits:  Ope', 'offset_start': 71, 'offset_end': 80, 'offset_start_in_doc': 18283, 'offset_end_in_doc': 18292, 'document_id': UUID('7187f269-9298-4680-a70e-63aa1c21c421'), 'meta': {'name': 'summary.txt'}}, {'answer': 'iv. S$810', 'score': 1.7623662948608398, 'probability': 0.554852293050596, 'context': '6 for 5 one-way or return flights but not more than 10 such flights or iv. S$810 for more than 10 one-way or return flights\\n (b) Express Permits:  Ope', 'offset_start': 71, 'offset_end': 80, 'offset_start_in_doc': 18283, 'offset_end_in_doc': 18292, 'document_id': UUID('7e83be57-70fe-4cb4-a5d0-3fbc1b50c578'), 'meta': {'name': 'summary.txt'}}]}, {'question': 'What is the normal permit fee for 10 return flights?', 'no_ans_gap': 3.721970558166504, 'answers': [{'answer': 'S$810', 'score': 11.129851341247559, 'probability': 0.8007887591990056, 'context': 'for 5 one-way or return flights but not more than 10 such flights or iv. S$810 for more than 10 one-way or return flights\\n (b) Express Permits:  Opera', 'offset_start': 73, 'offset_end': 78, 'offset_start_in_doc': 18287, 'offset_end_in_doc': 18292, 'document_id': UUID('9bb1a6bf-2cc5-4fd7-bf7d-a571be6bd81c'), 'meta': {'name': 'summary.txt'}}, {'answer': 'S$810', 'score': 11.129851341247559, 'probability': 0.8007887591990056, 'context': 'for 5 one-way or return flights but not more than 10 such flights or iv. S$810 for more than 10 one-way or return flights\\n (b) Express Permits:  Opera', 'offset_start': 73, 'offset_end': 78, 'offset_start_in_doc': 18287, 'offset_end_in_doc': 18292, 'document_id': UUID('7187f269-9298-4680-a70e-63aa1c21c421'), 'meta': {'name': 'summary.txt'}}]}, {'question': 'What are the conditions for duty-free liquor concession?', 'no_ans_gap': 5.91849958896637, 'answers': [{'answer': 'Is 18 years of age and above, Have spent 48 hours or more outside Singapore immediately before arrival, Not arriving from Malaysia, The liquor is for personal consumption and The liquor is not prohibited from import into Singapore', 'score': 6.511815547943115, 'probability': 0.6929563187636362, 'context': 'Is 18 years of age and above, Have spent 48 hours or more outside Singapore immediately before arrival, Not arriving from Malaysia, The liquor is for personal consumption and The liquor is not prohibited from import into Singapore', 'offset_start': 0, 'offset_end': 230, 'offset_start_in_doc': 24219, 'offset_end_in_doc': 24449, 'document_id': UUID('96a9dcc9-e53e-4651-8872-5f44119b752e'), 'meta': {'name': 'summary.txt'}}, {'answer': 'Is 18 years of age and above, Have spent 48 hours or more outside Singapore immediately before arrival, Not arriving from Malaysia, The liquor is for personal consumption and The liquor is not prohibited from import into Singapore', 'score': 3.8028488159179688, 'probability': 0.6166506878986482, 'context': 'Is 18 years of age and above, Have spent 48 hours or more outside Singapore immediately before arrival, Not arriving from Malaysia, The liquor is for personal consumption and The liquor is not prohibited from import into Singapore', 'offset_start': 0, 'offset_end': 230, 'offset_start_in_doc': 24219, 'offset_end_in_doc': 24449, 'document_id': UUID('9bb1a6bf-2cc5-4fd7-bf7d-a571be6bd81c'), 'meta': {'name': 'summary.txt'}}, {'answer': 'Is 18 years of age and above, Have spent 48 hours or more outside Singapore immediately before arrival, Not arriving from Malaysia, The liquor is for personal consumption and The liquor is not prohibited from import into Singapore', 'score': 3.8028488159179688, 'probability': 0.6166506878986482, 'context': 'Is 18 years of age and above, Have spent 48 hours or more outside Singapore immediately before arrival, Not arriving from Malaysia, The liquor is for personal consumption and The liquor is not prohibited from import into Singapore', 'offset_start': 0, 'offset_end': 230, 'offset_start_in_doc': 24219, 'offset_end_in_doc': 24449, 'document_id': UUID('7187f269-9298-4680-a70e-63aa1c21c421'), 'meta': {'name': 'summary.txt'}}]}, {'question': 'What are the conditions for duty-free liquor concession?', 'no_ans_gap': 8.414554834365845, 'answers': [{'answer': 'no GST import relief and duty-free concession on intoxicating liquor and tobacco products, as well as goods imported for commercial purposes', 'score': 11.703166007995605, 'probability': 0.8119751728549597, 'context': 'e is no GST import relief and duty-free concession on intoxicating liquor and tobacco products, as well as goods imported for commercial purposes\\n For', 'offset_start': 5, 'offset_end': 145, 'offset_start_in_doc': 25347, 'offset_end_in_doc': 25487, 'document_id': UUID('7187f269-9298-4680-a70e-63aa1c21c421'), 'meta': {'name': 'summary.txt'}}, {'answer': 'no GST import relief and duty-free concession on intoxicating liquor and tobacco products, as well as goods imported for commercial purposes', 'score': 11.703166007995605, 'probability': 0.8119751728549597, 'context': 'e is no GST import relief and duty-free concession on intoxicating liquor and tobacco products, as well as goods imported for commercial purposes\\n For', 'offset_start': 5, 'offset_end': 145, 'offset_start_in_doc': 25347, 'offset_end_in_doc': 25487, 'document_id': UUID('7e83be57-70fe-4cb4-a5d0-3fbc1b50c578'), 'meta': {'name': 'summary.txt'}}]}, {'question': 'Are travellers arriving from Malaysia entitled to duty-free concession for liquors?', 'no_ans_gap': -3.257259249687195, 'answers': [{'answer': 'Not arriving from Malaysia', 'score': -2.675380229949951, 'probability': 0.4171649444894317, 'context': '8 hours or more outside Singapore immediately before arrival, Not arriving from Malaysia, The liquor is for personal consumption and The liquor is not', 'offset_start': 62, 'offset_end': 88, 'offset_start_in_doc': 24323, 'offset_end_in_doc': 24349, 'document_id': UUID('9bb1a6bf-2cc5-4fd7-bf7d-a571be6bd81c'), 'meta': {'name': 'summary.txt'}}, {'answer': 'Not arriving from Malaysia', 'score': -2.675380229949951, 'probability': 0.4171649444894317, 'context': '8 hours or more outside Singapore immediately before arrival, Not arriving from Malaysia, The liquor is for personal consumption and The liquor is not', 'offset_start': 62, 'offset_end': 88, 'offset_start_in_doc': 24323, 'offset_end_in_doc': 24349, 'document_id': UUID('7187f269-9298-4680-a70e-63aa1c21c421'), 'meta': {'name': 'summary.txt'}}, {'answer': 'Not arriving from Malaysia', 'score': -2.675380229949951, 'probability': 0.4171649444894317, 'context': '8 hours or more outside Singapore immediately before arrival, Not arriving from Malaysia, The liquor is for personal consumption and The liquor is not', 'offset_start': 62, 'offset_end': 88, 'offset_start_in_doc': 24323, 'offset_end_in_doc': 24349, 'document_id': UUID('7e83be57-70fe-4cb4-a5d0-3fbc1b50c578'), 'meta': {'name': 'summary.txt'}}]}, {'question': 'Are travellers arriving from Malaysia entitled to duty-free concession for liquors?', 'no_ans_gap': 7.19550895690918, 'answers': [{'answer': 'no', 'score': 11.232614517211914, 'probability': 0.802830020577889, 'context': 'n the number of hours the traveller has spent outside Singapore  There is no GST import relief and duty-free concession on intoxicating liquor and tob', 'offset_start': 74, 'offset_end': 76, 'offset_start_in_doc': 25347, 'offset_end_in_doc': 25349, 'document_id': UUID('9bb1a6bf-2cc5-4fd7-bf7d-a571be6bd81c'), 'meta': {'name': 'summary.txt'}}, {'answer': 'no', 'score': 11.232614517211914, 'probability': 0.802830020577889, 'context': 'n the number of hours the traveller has spent outside Singapore  There is no GST import relief and duty-free concession on intoxicating liquor and tob', 'offset_start': 74, 'offset_end': 76, 'offset_start_in_doc': 25347, 'offset_end_in_doc': 25349, 'document_id': UUID('7187f269-9298-4680-a70e-63aa1c21c421'), 'meta': {'name': 'summary.txt'}}]}, {'question': 'Is there customs duty on goods exported from Singapore?', 'no_ans_gap': 5.8725306391716, 'answers': [{'answer': 'There is no customs duty on goods exported from Singapore\\n 1.3 Duty-Free Allowance', 'score': 6.430192947387695, 'probability': 0.6907812222743469, 'context': ' and their respective duty rates. There is no customs duty on goods exported from Singapore\\n 1.3 Duty-Free Allowance. Travellers are entitled to duty-', 'offset_start': 34, 'offset_end': 116, 'offset_start_in_doc': 24032, 'offset_end_in_doc': 24114, 'document_id': UUID('9bb1a6bf-2cc5-4fd7-bf7d-a571be6bd81c'), 'meta': {'name': 'summary.txt'}}, {'answer': 'There is no customs duty on goods exported from Singapore\\n 1.3 Duty-Free Allowance', 'score': 6.430192947387695, 'probability': 0.6907812222743469, 'context': ' and their respective duty rates. There is no customs duty on goods exported from Singapore\\n 1.3 Duty-Free Allowance. Travellers are entitled to duty-', 'offset_start': 34, 'offset_end': 116, 'offset_start_in_doc': 24032, 'offset_end_in_doc': 24114, 'document_id': UUID('7187f269-9298-4680-a70e-63aa1c21c421'), 'meta': {'name': 'summary.txt'}}, {'answer': 'There is no customs duty on goods exported from Singapore\\n 1.3 Duty-Free Allowance', 'score': 6.430192947387695, 'probability': 0.6907812222743469, 'context': ' and their respective duty rates. There is no customs duty on goods exported from Singapore\\n 1.3 Duty-Free Allowance. Travellers are entitled to duty-', 'offset_start': 34, 'offset_end': 116, 'offset_start_in_doc': 24032, 'offset_end_in_doc': 24114, 'document_id': UUID('7e83be57-70fe-4cb4-a5d0-3fbc1b50c578'), 'meta': {'name': 'summary.txt'}}]}, {'question': 'Is there customs duty on goods exported from Singapore?', 'no_ans_gap': 13.388863891363144, 'answers': [{'answer': 'There is no customs duty on goods exported from Singapore', 'score': 13.087648391723633, 'probability': 0.8369839249634736, 'context': 'utiable goods and their respective duty rates. There is no customs duty on goods exported from Singapore\\n 1.3 Duty-Free Allowance. Travellers are enti', 'offset_start': 47, 'offset_end': 104, 'offset_start_in_doc': 24032, 'offset_end_in_doc': 24089, 'document_id': UUID('9bb1a6bf-2cc5-4fd7-bf7d-a571be6bd81c'), 'meta': {'name': 'summary.txt'}}, {'answer': 'There is no customs duty on goods exported from Singapore', 'score': 13.087648391723633, 'probability': 0.8369839249634736, 'context': 'utiable goods and their respective duty rates. There is no customs duty on goods exported from Singapore\\n 1.3 Duty-Free Allowance. Travellers are enti', 'offset_start': 47, 'offset_end': 104, 'offset_start_in_doc': 24032, 'offset_end_in_doc': 24089, 'document_id': UUID('7187f269-9298-4680-a70e-63aa1c21c421'), 'meta': {'name': 'summary.txt'}}]}, {'question': 'Which nationalities require visas for the purpose of social visits in Singapore?', 'no_ans_gap': 4.962642550468445, 'answers': [{'answer': 'Afghanistan Algeria Bangladesh Commonwealth of Independent States i.e. Armenia, Azerbaijan, Belarus, Kazakhstan', 'score': 5.5618896484375, 'probability': 0.6671307328112862, 'context': 'uthorised airport): Afghanistan Algeria Bangladesh Commonwealth of Independent States i.e. Armenia, Azerbaijan, Belarus, Kazakhstan, Kyrgyzstan, Moldo', 'offset_start': 20, 'offset_end': 131, 'offset_start_in_doc': 30711, 'offset_end_in_doc': 30822, 'document_id': UUID('96a9dcc9-e53e-4651-8872-5f44119b752e'), 'meta': {'name': 'summary.txt'}}, {'answer': 'Nationals of the following countries require visas for the purpose of social visits in Singapore', 'score': 3.412811040878296, 'probability': 0.605061818041607, 'context': 'GEN 1.3-3 25 APR 2019  2.3 Nationals of the following countries require visas for the purpose of social visits in Singapore (with exception of an airc', 'offset_start': 27, 'offset_end': 123, 'offset_start_in_doc': 30371, 'offset_end_in_doc': 30467, 'document_id': UUID('9bb1a6bf-2cc5-4fd7-bf7d-a571be6bd81c'), 'meta': {'name': 'summary.txt'}}, {'answer': 'Nationals of the following countries require visas for the purpose of social visits in Singapore', 'score': 3.412811040878296, 'probability': 0.605061818041607, 'context': 'GEN 1.3-3 25 APR 2019  2.3 Nationals of the following countries require visas for the purpose of social visits in Singapore (with exception of an airc', 'offset_start': 27, 'offset_end': 123, 'offset_start_in_doc': 30371, 'offset_end_in_doc': 30467, 'document_id': UUID('7187f269-9298-4680-a70e-63aa1c21c421'), 'meta': {'name': 'summary.txt'}}]}, {'question': 'Which nationalities require visas for the purpose of social visits in Singapore?', 'no_ans_gap': 8.177611231803894, 'answers': [{'answer': 'Nationals of the following countries', 'score': 8.545467376708984, 'probability': 0.7442512994668987, 'context': 'ority Singapore AIP Singapore GEN 1.3-3 25 APR 2019  2.3 Nationals of the following countries require visas for the purpose of social visits in Singap', 'offset_start': 57, 'offset_end': 93, 'offset_start_in_doc': 30371, 'offset_end_in_doc': 30407, 'document_id': UUID('96a9dcc9-e53e-4651-8872-5f44119b752e'), 'meta': {'name': 'summary.txt'}}, {'answer': 'Nationals of the following countries', 'score': 8.14004135131836, 'probability': 0.7344863518203089, 'context': 'ority Singapore AIP Singapore GEN 1.3-3 25 APR 2019  2.3 Nationals of the following countries require visas for the purpose of social visits in Singap', 'offset_start': 57, 'offset_end': 93, 'offset_start_in_doc': 30371, 'offset_end_in_doc': 30407, 'document_id': UUID('9bb1a6bf-2cc5-4fd7-bf7d-a571be6bd81c'), 'meta': {'name': 'summary.txt'}}]}, {'question': 'Which travellers are required to obtain a valid International Certificate of Vaccination?', 'no_ans_gap': 6.760687291622162, 'answers': [{'answer': 'travellers above one year of age who have been in or have passed through any country with risk of yellow fever transmission in the six days before arriving in Singapore', 'score': 7.368957042694092, 'probability': 0.7152701831619619, 'context': 'travellers above one year of age who have been in or have passed through any country with risk of yellow fever transmission in the six days before arriving in Singapore', 'offset_start': 0, 'offset_end': 168, 'offset_start_in_doc': 34977, 'offset_end_in_doc': 35145, 'document_id': UUID('9bb1a6bf-2cc5-4fd7-bf7d-a571be6bd81c'), 'meta': {'name': 'summary.txt'}}, {'answer': 'travellers above one year of age who have been in or have passed through any country with risk of yellow fever transmission in the six days before arriving in Singapore', 'score': 7.368957042694092, 'probability': 0.7152701831619619, 'context': 'travellers above one year of age who have been in or have passed through any country with risk of yellow fever transmission in the six days before arriving in Singapore', 'offset_start': 0, 'offset_end': 168, 'offset_start_in_doc': 34977, 'offset_end_in_doc': 35145, 'document_id': UUID('7187f269-9298-4680-a70e-63aa1c21c421'), 'meta': {'name': 'summary.txt'}}, {'answer': 'travellers above one year of age who have been in or have passed through any country with risk of yellow fever transmission in the six days before arriving in Singapore', 'score': 7.368957042694092, 'probability': 0.7152701831619619, 'context': 'travellers above one year of age who have been in or have passed through any country with risk of yellow fever transmission in the six days before arriving in Singapore', 'offset_start': 0, 'offset_end': 168, 'offset_start_in_doc': 34977, 'offset_end_in_doc': 35145, 'document_id': UUID('7e83be57-70fe-4cb4-a5d0-3fbc1b50c578'), 'meta': {'name': 'summary.txt'}}]}, {'question': 'Which travellers are required to obtain a valid International Certificate of Vaccination?', 'no_ans_gap': 11.59748649597168, 'answers': [{'answer': 'travellers above one year of age who have been in or have passed through any country with risk of yellow fever transmission in the six days before arriving in Singapore', 'score': 14.402487754821777, 'probability': 0.8581867849778961, 'context': 'travellers above one year of age who have been in or have passed through any country with risk of yellow fever transmission in the six days before arriving in Singapore', 'offset_start': 0, 'offset_end': 168, 'offset_start_in_doc': 34977, 'offset_end_in_doc': 35145, 'document_id': UUID('9bb1a6bf-2cc5-4fd7-bf7d-a571be6bd81c'), 'meta': {'name': 'summary.txt'}}, {'answer': 'travellers above one year of age who have been in or have passed through any country with risk of yellow fever transmission in the six days before arriving in Singapore', 'score': 14.402487754821777, 'probability': 0.8581867849778961, 'context': 'travellers above one year of age who have been in or have passed through any country with risk of yellow fever transmission in the six days before arriving in Singapore', 'offset_start': 0, 'offset_end': 168, 'offset_start_in_doc': 34977, 'offset_end_in_doc': 35145, 'document_id': UUID('7187f269-9298-4680-a70e-63aa1c21c421'), 'meta': {'name': 'summary.txt'}}]}, {'question': 'How long is an International Certificate of Vaccination valid for?', 'no_ans_gap': 3.6634844541549683, 'answers': [{'answer': 'life', 'score': 4.25782585144043, 'probability': 0.6300026614578975, 'context': ' the six days before arriving in Singapore. The certificate is valid for life, beginning from 10 days after the date of vaccination (this applies to e', 'offset_start': 73, 'offset_end': 77, 'offset_start_in_doc': 35176, 'offset_end_in_doc': 35180, 'document_id': UUID('96a9dcc9-e53e-4651-8872-5f44119b752e'), 'meta': {'name': 'summary.txt'}}, {'answer': 'life', 'score': 4.204004764556885, 'probability': 0.6284330873482045, 'context': ' the six days before arriving in Singapore. The certificate is valid for life, beginning from 10 days after the date of vaccination (this applies to e', 'offset_start': 73, 'offset_end': 77, 'offset_start_in_doc': 35176, 'offset_end_in_doc': 35180, 'document_id': UUID('9bb1a6bf-2cc5-4fd7-bf7d-a571be6bd81c'), 'meta': {'name': 'summary.txt'}}, {'answer': 'life', 'score': 4.204004764556885, 'probability': 0.6284330873482045, 'context': ' the six days before arriving in Singapore. The certificate is valid for life, beginning from 10 days after the date of vaccination (this applies to e', 'offset_start': 73, 'offset_end': 77, 'offset_start_in_doc': 35176, 'offset_end_in_doc': 35180, 'document_id': UUID('7187f269-9298-4680-a70e-63aa1c21c421'), 'meta': {'name': 'summary.txt'}}]}, {'question': 'How long is an International Certificate of Vaccination valid for?', 'no_ans_gap': 10.159989833831787, 'answers': [{'answer': 'life', 'score': 12.848457336425781, 'probability': 0.8328632560743195, 'context': ' the six days before arriving in Singapore. The certificate is valid for life, beginning from 10 days after the date of vaccination (this applies to e', 'offset_start': 73, 'offset_end': 77, 'offset_start_in_doc': 35176, 'offset_end_in_doc': 35180, 'document_id': UUID('7187f269-9298-4680-a70e-63aa1c21c421'), 'meta': {'name': 'summary.txt'}}, {'answer': 'life', 'score': 12.848457336425781, 'probability': 0.8328632560743195, 'context': ' the six days before arriving in Singapore. The certificate is valid for life, beginning from 10 days after the date of vaccination (this applies to e', 'offset_start': 73, 'offset_end': 77, 'offset_start_in_doc': 35176, 'offset_end_in_doc': 35180, 'document_id': UUID('7e83be57-70fe-4cb4-a5d0-3fbc1b50c578'), 'meta': {'name': 'summary.txt'}}]}, {'question': 'Where should operators who wish to carry dangerous goods submit their applications to?', 'no_ans_gap': 5.29954719543457, 'answers': [{'answer': 'the address below', 'score': 5.882433891296387, 'probability': 0.675968169777512, 'context': ' wish to carry dangerous goods should submit their applications to the address below, in the prescribed form, giving full details of the consignment: ', 'offset_start': 67, 'offset_end': 84, 'offset_start_in_doc': 43761, 'offset_end_in_doc': 43778, 'document_id': UUID('9bb1a6bf-2cc5-4fd7-bf7d-a571be6bd81c'), 'meta': {'name': 'summary.txt'}}, {'answer': 'the address below', 'score': 5.882433891296387, 'probability': 0.675968169777512, 'context': ' wish to carry dangerous goods should submit their applications to the address below, in the prescribed form, giving full details of the consignment: ', 'offset_start': 67, 'offset_end': 84, 'offset_start_in_doc': 43761, 'offset_end_in_doc': 43778, 'document_id': UUID('7187f269-9298-4680-a70e-63aa1c21c421'), 'meta': {'name': 'summary.txt'}}, {'answer': 'the address below', 'score': 5.882433891296387, 'probability': 0.675968169777512, 'context': ' wish to carry dangerous goods should submit their applications to the address below, in the prescribed form, giving full details of the consignment: ', 'offset_start': 67, 'offset_end': 84, 'offset_start_in_doc': 43761, 'offset_end_in_doc': 43778, 'document_id': UUID('7e83be57-70fe-4cb4-a5d0-3fbc1b50c578'), 'meta': {'name': 'summary.txt'}}]}, {'question': 'Where should operators who wish to carry dangerous goods submit their applications to?', 'no_ans_gap': 10.349131107330322, 'answers': [{'answer': 'CAAS Air Transport Licensing and Administration System', 'score': 13.206830978393555, 'probability': 0.839006420311704, 'context': '. Such applications should be filed through the CAAS Air Transport Licensing and Administration System (ATLAS) at https://appserver1.caas.gov.sg/ATLAS', 'offset_start': 48, 'offset_end': 102, 'offset_start_in_doc': 8966, 'offset_end_in_doc': 9020, 'document_id': UUID('9bb1a6bf-2cc5-4fd7-bf7d-a571be6bd81c'), 'meta': {'name': 'summary.txt'}}, {'answer': 'CAAS Air Transport Licensing and Administration System', 'score': 13.206830978393555, 'probability': 0.839006420311704, 'context': '. Such applications should be filed through the CAAS Air Transport Licensing and Administration System (ATLAS) at https://appserver1.caas.gov.sg/ATLAS', 'offset_start': 48, 'offset_end': 102, 'offset_start_in_doc': 8966, 'offset_end_in_doc': 9020, 'document_id': UUID('7187f269-9298-4680-a70e-63aa1c21c421'), 'meta': {'name': 'summary.txt'}}]}, {'question': 'What has to be presented for checkpoint inspection and clearance for the exportation of dutiable goods from a Licensed Warehouse?', 'no_ans_gap': 6.974382162094116, 'answers': [{'answer': 'Customs outward permits', 'score': 7.578310012817383, 'probability': 0.7205695973280438, 'context': 'sed Warehouse, or non-dutiable goods from a Zero-GST Warehouse, Customs outward permits are to be presented for checkpoint inspection and clearance. 1', 'offset_start': 64, 'offset_end': 87, 'offset_start_in_doc': 39972, 'offset_end_in_doc': 39995, 'document_id': UUID('96a9dcc9-e53e-4651-8872-5f44119b752e'), 'meta': {'name': 'summary.txt'}}, {'answer': 'an export permit', 'score': 0.06962446868419647, 'probability': 0.5021757509131985, 'context': 't permit is required for the importation of goods into the FTZ and an export permit is required for the exportation of goods from the same FTZ\\n 1.3 Un', 'offset_start': 67, 'offset_end': 83, 'offset_start_in_doc': 38871, 'offset_end_in_doc': 38887, 'document_id': UUID('9bb1a6bf-2cc5-4fd7-bf7d-a571be6bd81c'), 'meta': {'name': 'summary.txt'}}, {'answer': 'an export permit', 'score': 0.06962446868419647, 'probability': 0.5021757509131985, 'context': 't permit is required for the importation of goods into the FTZ and an export permit is required for the exportation of goods from the same FTZ\\n 1.3 Un', 'offset_start': 67, 'offset_end': 83, 'offset_start_in_doc': 38871, 'offset_end_in_doc': 38887, 'document_id': UUID('7187f269-9298-4680-a70e-63aa1c21c421'), 'meta': {'name': 'summary.txt'}}]}, {'question': 'What has to be presented for checkpoint inspection and clearance for the exportation of dutiable goods from a Licensed Warehouse?', 'no_ans_gap': 13.83562707901001, 'answers': [{'answer': 'Customs outward permits', 'score': 14.928262710571289, 'probability': 0.865998576158082, 'context': 'sed Warehouse, or non-dutiable goods from a Zero-GST Warehouse, Customs outward permits are to be presented for checkpoint inspection and clearance\\n 1', 'offset_start': 64, 'offset_end': 87, 'offset_start_in_doc': 39972, 'offset_end_in_doc': 39995, 'document_id': UUID('9bb1a6bf-2cc5-4fd7-bf7d-a571be6bd81c'), 'meta': {'name': 'summary.txt'}}, {'answer': 'Customs outward permits', 'score': 14.928262710571289, 'probability': 0.865998576158082, 'context': 'sed Warehouse, or non-dutiable goods from a Zero-GST Warehouse, Customs outward permits are to be presented for checkpoint inspection and clearance\\n 1', 'offset_start': 64, 'offset_end': 87, 'offset_start_in_doc': 39972, 'offset_end_in_doc': 39995, 'document_id': UUID('7187f269-9298-4680-a70e-63aa1c21c421'), 'meta': {'name': 'summary.txt'}}]}]\n"
          ],
          "name": "stdout"
        }
      ]
    },
    {
      "cell_type": "code",
      "metadata": {
        "id": "IChfJh7hEqKu",
        "colab_type": "code",
        "colab": {},
        "outputId": "024142b4-1631-48b4-eaec-8341564936db"
      },
      "source": [
        "types = []\n",
        "answers = []\n",
        "for qn in qns:\n",
        "    types.append(taskType[qn])\n",
        "for t in test:\n",
        "    #Retrieve the corresponding answers for each question\n",
        "    index = queries[queries['Question'] == t].index[0]\n",
        "    answers.append(queries['Answer'][index])\n",
        "    \n",
        "df = pd.DataFrame({'Question':qns,'Type':types,'Answer':answers,'Prediction1':preds1,'Score1':scores1,'Prediction2':preds2,'Score2':scores2,\n",
        "                  'OverallPrediction':combinedPreds,'OverallScore':combinedScores})\n",
        "df"
      ],
      "execution_count": null,
      "outputs": [
        {
          "output_type": "execute_result",
          "data": {
            "text/html": [
              "<div>\n",
              "<style scoped>\n",
              "    .dataframe tbody tr th:only-of-type {\n",
              "        vertical-align: middle;\n",
              "    }\n",
              "\n",
              "    .dataframe tbody tr th {\n",
              "        vertical-align: top;\n",
              "    }\n",
              "\n",
              "    .dataframe thead th {\n",
              "        text-align: right;\n",
              "    }\n",
              "</style>\n",
              "<table border=\"1\" class=\"dataframe\">\n",
              "  <thead>\n",
              "    <tr style=\"text-align: right;\">\n",
              "      <th></th>\n",
              "      <th>Question</th>\n",
              "      <th>Type</th>\n",
              "      <th>Answer</th>\n",
              "      <th>Prediction1</th>\n",
              "      <th>Score1</th>\n",
              "      <th>Prediction2</th>\n",
              "      <th>Score2</th>\n",
              "      <th>OverallPrediction</th>\n",
              "      <th>OverallScore</th>\n",
              "    </tr>\n",
              "  </thead>\n",
              "  <tbody>\n",
              "    <tr>\n",
              "      <th>0</th>\n",
              "      <td>When is the earliest date for operators of non-commercial flights to submit ...</td>\n",
              "      <td>1</td>\n",
              "      <td>no earlier than 7 calendar days prior to operation</td>\n",
              "      <td>7 calendar days and but no later than 24 hours prior to the operation of the...</td>\n",
              "      <td>0.476190</td>\n",
              "      <td>7 calendar days</td>\n",
              "      <td>0.666667</td>\n",
              "      <td>7 calendar days</td>\n",
              "      <td>0.666667</td>\n",
              "    </tr>\n",
              "    <tr>\n",
              "      <th>1</th>\n",
              "      <td>Who should operators of commercial flights submit their slot requests to?</td>\n",
              "      <td>1</td>\n",
              "      <td>The Changi Slot Coordinator</td>\n",
              "      <td>the Changi Slot Coordinator</td>\n",
              "      <td>1.000000</td>\n",
              "      <td>csc@changiairport.com</td>\n",
              "      <td>0.000000</td>\n",
              "      <td>the Changi Slot Coordinator</td>\n",
              "      <td>1.000000</td>\n",
              "    </tr>\n",
              "    <tr>\n",
              "      <th>2</th>\n",
              "      <td>What should operators do for urgent flight operations that are less than 24 ...</td>\n",
              "      <td>9</td>\n",
              "      <td>in addition to submitting the SCR/GCR, operators/agents must also inform the...</td>\n",
              "      <td>addition to submitting the SCR/GCR, operators/agents must also inform the Ai...</td>\n",
              "      <td>0.744186</td>\n",
              "      <td>in addition to submitting the SCR/GCR</td>\n",
              "      <td>0.454545</td>\n",
              "      <td>addition to submitting the SCR/GCR, operators/agents must also inform the Ai...</td>\n",
              "      <td>0.744186</td>\n",
              "    </tr>\n",
              "    <tr>\n",
              "      <th>3</th>\n",
              "      <td>What details need to be submitted for slots application at Seletar Airport?</td>\n",
              "      <td>8</td>\n",
              "      <td>Name of operator and appointed ground handling agent; Date and time of arriv...</td>\n",
              "      <td>FLIGHT DETAILS</td>\n",
              "      <td>0.042553</td>\n",
              "      <td>FLIGHT DETAILS</td>\n",
              "      <td>0.042553</td>\n",
              "      <td>FLIGHT DETAILS</td>\n",
              "      <td>0.042553</td>\n",
              "    </tr>\n",
              "    <tr>\n",
              "      <th>4</th>\n",
              "      <td>Where should an application for traffic landings and non-scheduled flights b...</td>\n",
              "      <td>1</td>\n",
              "      <td>All applications must be submitted via https://appserver1.caas.gov.sg/ATLAS</td>\n",
              "      <td>an authorised airport</td>\n",
              "      <td>0.000000</td>\n",
              "      <td>https://appserver1.caas.gov.sg/ATLAS</td>\n",
              "      <td>0.250000</td>\n",
              "      <td>https://appserver1.caas.gov.sg/ATLAS</td>\n",
              "      <td>0.250000</td>\n",
              "    </tr>\n",
              "    <tr>\n",
              "      <th>5</th>\n",
              "      <td>When is the complete application required to reach the Civil Aviation Author...</td>\n",
              "      <td>1</td>\n",
              "      <td>at least 3 working days prior to the aircraft’s arrival or departure into/fr...</td>\n",
              "      <td>one month before the start of the season</td>\n",
              "      <td>0.000000</td>\n",
              "      <td>at least 3 working days prior to the aircraft’s arrival or departure into/fr...</td>\n",
              "      <td>1.000000</td>\n",
              "      <td>at least 3 whole working days before the first flight</td>\n",
              "      <td>0.454545</td>\n",
              "    </tr>\n",
              "    <tr>\n",
              "      <th>6</th>\n",
              "      <td>During which hours should operators schedule their arrivals and departures a...</td>\n",
              "      <td>1</td>\n",
              "      <td>outside the hours 0001 to 0200 UTC (0801-1000 LT) and 0900 to 1559 UTC (1700...</td>\n",
              "      <td>at all times</td>\n",
              "      <td>0.000000</td>\n",
              "      <td>0001 to 0200 UTC (0801-1000 LT) and 0900 to 1559 UTC (1700-2359 LT)</td>\n",
              "      <td>0.928571</td>\n",
              "      <td>0001 to 0200 UTC (0801-1000 LT) and 0900 to 1559 UTC (1700-2359 LT)</td>\n",
              "      <td>0.928571</td>\n",
              "    </tr>\n",
              "    <tr>\n",
              "      <th>7</th>\n",
              "      <td>Which agent should be engaged by business aviation flights at Changi Airport?</td>\n",
              "      <td>1</td>\n",
              "      <td>aground handling agent</td>\n",
              "      <td>ground handling agent</td>\n",
              "      <td>0.666667</td>\n",
              "      <td>ground handling agent</td>\n",
              "      <td>0.666667</td>\n",
              "      <td>ground handling agent</td>\n",
              "      <td>0.666667</td>\n",
              "    </tr>\n",
              "    <tr>\n",
              "      <th>8</th>\n",
              "      <td>What are the penalties for contravening the legislation dealing with non-sch...</td>\n",
              "      <td>9</td>\n",
              "      <td>a fine not exceeding S$2,500 or to imprisonment for a term not exceeding 3 m...</td>\n",
              "      <td>a fine not exceeding S$2,500 or to imprisonment for a term not exceeding 3 m...</td>\n",
              "      <td>0.953488</td>\n",
              "      <td>No operation will be permitted without the approval of the Seletar Schedules...</td>\n",
              "      <td>0.038462</td>\n",
              "      <td>a fine not exceeding S$2,500 or to imprisonment for a term not exceeding 3 m...</td>\n",
              "      <td>0.953488</td>\n",
              "    </tr>\n",
              "    <tr>\n",
              "      <th>9</th>\n",
              "      <td>Where should requests to handle executive jet charter or charter flights via...</td>\n",
              "      <td>1</td>\n",
              "      <td>via email to csc@changiairport.com</td>\n",
              "      <td>via email to csc@changiairport.com</td>\n",
              "      <td>1.000000</td>\n",
              "      <td>csc@changiairport.com</td>\n",
              "      <td>0.400000</td>\n",
              "      <td>via email to csc</td>\n",
              "      <td>0.750000</td>\n",
              "    </tr>\n",
              "    <tr>\n",
              "      <th>10</th>\n",
              "      <td>How do passengers of the business aviation flight have to clear CIQ?</td>\n",
              "      <td>1</td>\n",
              "      <td>via the Commercially-Important-Persons\\nfacility located beside Terminal 2</td>\n",
              "      <td>via the Commercially-Important- Persons facility located at Terminal 2</td>\n",
              "      <td>1.000000</td>\n",
              "      <td>via the Commercially-Important- Persons facility located at Terminal 2</td>\n",
              "      <td>1.000000</td>\n",
              "      <td>via the Commercially-Important- Persons facility located at Terminal 2</td>\n",
              "      <td>1.000000</td>\n",
              "    </tr>\n",
              "    <tr>\n",
              "      <th>11</th>\n",
              "      <td>What is the normal permit fee for 10 return flights?</td>\n",
              "      <td>6</td>\n",
              "      <td>S$326</td>\n",
              "      <td>iv. S$810</td>\n",
              "      <td>0.000000</td>\n",
              "      <td>S$810</td>\n",
              "      <td>0.000000</td>\n",
              "      <td>S$810</td>\n",
              "      <td>0.000000</td>\n",
              "    </tr>\n",
              "    <tr>\n",
              "      <th>12</th>\n",
              "      <td>What are the conditions for duty-free liquor concession?</td>\n",
              "      <td>8</td>\n",
              "      <td>Is 18 years of age and above; Have spent 48 hours or more outside Singapore ...</td>\n",
              "      <td>Is 18 years of age and above, Have spent 48 hours or more outside Singapore ...</td>\n",
              "      <td>1.000000</td>\n",
              "      <td>no GST import relief and duty-free concession on intoxicating liquor and tob...</td>\n",
              "      <td>0.175439</td>\n",
              "      <td>Is 18 years of age and above, Have spent 48 hours or more outside Singapore ...</td>\n",
              "      <td>1.000000</td>\n",
              "    </tr>\n",
              "    <tr>\n",
              "      <th>13</th>\n",
              "      <td>Are travellers arriving from Malaysia entitled to duty-free concession for l...</td>\n",
              "      <td>6</td>\n",
              "      <td>No</td>\n",
              "      <td>Not arriving from Malaysia</td>\n",
              "      <td>0.000000</td>\n",
              "      <td>no</td>\n",
              "      <td>1.000000</td>\n",
              "      <td>no</td>\n",
              "      <td>1.000000</td>\n",
              "    </tr>\n",
              "    <tr>\n",
              "      <th>14</th>\n",
              "      <td>Is there customs duty on goods exported from Singapore?</td>\n",
              "      <td>6</td>\n",
              "      <td>There is no customs duty on goods exported from Singapore</td>\n",
              "      <td>There is no customs duty on goods exported from Singapore\\n 1.3 Duty-Free Al...</td>\n",
              "      <td>0.869565</td>\n",
              "      <td>There is no customs duty on goods exported from Singapore</td>\n",
              "      <td>1.000000</td>\n",
              "      <td>There is no customs duty on goods exported from Singapore</td>\n",
              "      <td>1.000000</td>\n",
              "    </tr>\n",
              "    <tr>\n",
              "      <th>15</th>\n",
              "      <td>Which nationalities require visas for the purpose of social visits in Singap...</td>\n",
              "      <td>8</td>\n",
              "      <td>Afghanistan, Algeria, Bangladesh, Commonwealth of Independent States</td>\n",
              "      <td>Afghanistan Algeria Bangladesh Commonwealth of Independent States i.e. Armen...</td>\n",
              "      <td>0.736842</td>\n",
              "      <td>Nationals of the following countries</td>\n",
              "      <td>0.181818</td>\n",
              "      <td>Afghanistan Algeria Bangladesh Commonwealth of Independent States i.e. Armen...</td>\n",
              "      <td>0.736842</td>\n",
              "    </tr>\n",
              "    <tr>\n",
              "      <th>16</th>\n",
              "      <td>Which travellers are required to obtain a valid International Certificate of...</td>\n",
              "      <td>1</td>\n",
              "      <td>travellers above one year of age who have been in or have passed through any...</td>\n",
              "      <td>travellers above one year of age who have been in or have passed through any...</td>\n",
              "      <td>1.000000</td>\n",
              "      <td>travellers above one year of age who have been in or have passed through any...</td>\n",
              "      <td>1.000000</td>\n",
              "      <td>travellers above one year of age who have been in or have passed through any...</td>\n",
              "      <td>1.000000</td>\n",
              "    </tr>\n",
              "    <tr>\n",
              "      <th>17</th>\n",
              "      <td>How long is an International Certificate of Vaccination valid for?</td>\n",
              "      <td>1</td>\n",
              "      <td>life</td>\n",
              "      <td>life</td>\n",
              "      <td>1.000000</td>\n",
              "      <td>life</td>\n",
              "      <td>1.000000</td>\n",
              "      <td>life</td>\n",
              "      <td>1.000000</td>\n",
              "    </tr>\n",
              "    <tr>\n",
              "      <th>18</th>\n",
              "      <td>Where should operators who wish to carry dangerous goods submit their applic...</td>\n",
              "      <td>1</td>\n",
              "      <td>Flight Standards Division; Civil Aviation Authority of Singapore Singapore C...</td>\n",
              "      <td>the address below</td>\n",
              "      <td>0.000000</td>\n",
              "      <td>Arms and Explosives Branch, Commissioner of Singapore Police</td>\n",
              "      <td>0.137931</td>\n",
              "      <td>Arms and Explosives Branch, Commissioner of Singapore Police</td>\n",
              "      <td>0.137931</td>\n",
              "    </tr>\n",
              "    <tr>\n",
              "      <th>19</th>\n",
              "      <td>What has to be presented for checkpoint inspection and clearance for the exp...</td>\n",
              "      <td>1</td>\n",
              "      <td>Customs outward permits</td>\n",
              "      <td>Customs outward permits</td>\n",
              "      <td>1.000000</td>\n",
              "      <td>Customs outward permits</td>\n",
              "      <td>1.000000</td>\n",
              "      <td>Customs outward permits</td>\n",
              "      <td>1.000000</td>\n",
              "    </tr>\n",
              "  </tbody>\n",
              "</table>\n",
              "</div>"
            ],
            "text/plain": [
              "                                                                           Question  \\\n",
              "0   When is the earliest date for operators of non-commercial flights to submit ...   \n",
              "1         Who should operators of commercial flights submit their slot requests to?   \n",
              "2   What should operators do for urgent flight operations that are less than 24 ...   \n",
              "3       What details need to be submitted for slots application at Seletar Airport?   \n",
              "4   Where should an application for traffic landings and non-scheduled flights b...   \n",
              "5   When is the complete application required to reach the Civil Aviation Author...   \n",
              "6   During which hours should operators schedule their arrivals and departures a...   \n",
              "7     Which agent should be engaged by business aviation flights at Changi Airport?   \n",
              "8   What are the penalties for contravening the legislation dealing with non-sch...   \n",
              "9   Where should requests to handle executive jet charter or charter flights via...   \n",
              "10             How do passengers of the business aviation flight have to clear CIQ?   \n",
              "11                             What is the normal permit fee for 10 return flights?   \n",
              "12                         What are the conditions for duty-free liquor concession?   \n",
              "13  Are travellers arriving from Malaysia entitled to duty-free concession for l...   \n",
              "14                          Is there customs duty on goods exported from Singapore?   \n",
              "15  Which nationalities require visas for the purpose of social visits in Singap...   \n",
              "16  Which travellers are required to obtain a valid International Certificate of...   \n",
              "17               How long is an International Certificate of Vaccination valid for?   \n",
              "18  Where should operators who wish to carry dangerous goods submit their applic...   \n",
              "19  What has to be presented for checkpoint inspection and clearance for the exp...   \n",
              "\n",
              "    Type  \\\n",
              "0      1   \n",
              "1      1   \n",
              "2      9   \n",
              "3      8   \n",
              "4      1   \n",
              "5      1   \n",
              "6      1   \n",
              "7      1   \n",
              "8      9   \n",
              "9      1   \n",
              "10     1   \n",
              "11     6   \n",
              "12     8   \n",
              "13     6   \n",
              "14     6   \n",
              "15     8   \n",
              "16     1   \n",
              "17     1   \n",
              "18     1   \n",
              "19     1   \n",
              "\n",
              "                                                                             Answer  \\\n",
              "0                                no earlier than 7 calendar days prior to operation   \n",
              "1                                                       The Changi Slot Coordinator   \n",
              "2   in addition to submitting the SCR/GCR, operators/agents must also inform the...   \n",
              "3   Name of operator and appointed ground handling agent; Date and time of arriv...   \n",
              "4       All applications must be submitted via https://appserver1.caas.gov.sg/ATLAS   \n",
              "5   at least 3 working days prior to the aircraft’s arrival or departure into/fr...   \n",
              "6   outside the hours 0001 to 0200 UTC (0801-1000 LT) and 0900 to 1559 UTC (1700...   \n",
              "7                                                            aground handling agent   \n",
              "8   a fine not exceeding S$2,500 or to imprisonment for a term not exceeding 3 m...   \n",
              "9                                                via email to csc@changiairport.com   \n",
              "10       via the Commercially-Important-Persons\\nfacility located beside Terminal 2   \n",
              "11                                                                            S$326   \n",
              "12  Is 18 years of age and above; Have spent 48 hours or more outside Singapore ...   \n",
              "13                                                                               No   \n",
              "14                        There is no customs duty on goods exported from Singapore   \n",
              "15             Afghanistan, Algeria, Bangladesh, Commonwealth of Independent States   \n",
              "16  travellers above one year of age who have been in or have passed through any...   \n",
              "17                                                                             life   \n",
              "18  Flight Standards Division; Civil Aviation Authority of Singapore Singapore C...   \n",
              "19                                                          Customs outward permits   \n",
              "\n",
              "                                                                        Prediction1  \\\n",
              "0   7 calendar days and but no later than 24 hours prior to the operation of the...   \n",
              "1                                                       the Changi Slot Coordinator   \n",
              "2   addition to submitting the SCR/GCR, operators/agents must also inform the Ai...   \n",
              "3                                                                    FLIGHT DETAILS   \n",
              "4                                                             an authorised airport   \n",
              "5                                          one month before the start of the season   \n",
              "6                                                                      at all times   \n",
              "7                                                             ground handling agent   \n",
              "8   a fine not exceeding S$2,500 or to imprisonment for a term not exceeding 3 m...   \n",
              "9                                                via email to csc@changiairport.com   \n",
              "10           via the Commercially-Important- Persons facility located at Terminal 2   \n",
              "11                                                                        iv. S$810   \n",
              "12  Is 18 years of age and above, Have spent 48 hours or more outside Singapore ...   \n",
              "13                                                       Not arriving from Malaysia   \n",
              "14  There is no customs duty on goods exported from Singapore\\n 1.3 Duty-Free Al...   \n",
              "15  Afghanistan Algeria Bangladesh Commonwealth of Independent States i.e. Armen...   \n",
              "16  travellers above one year of age who have been in or have passed through any...   \n",
              "17                                                                             life   \n",
              "18                                                                the address below   \n",
              "19                                                          Customs outward permits   \n",
              "\n",
              "      Score1  \\\n",
              "0   0.476190   \n",
              "1   1.000000   \n",
              "2   0.744186   \n",
              "3   0.042553   \n",
              "4   0.000000   \n",
              "5   0.000000   \n",
              "6   0.000000   \n",
              "7   0.666667   \n",
              "8   0.953488   \n",
              "9   1.000000   \n",
              "10  1.000000   \n",
              "11  0.000000   \n",
              "12  1.000000   \n",
              "13  0.000000   \n",
              "14  0.869565   \n",
              "15  0.736842   \n",
              "16  1.000000   \n",
              "17  1.000000   \n",
              "18  0.000000   \n",
              "19  1.000000   \n",
              "\n",
              "                                                                        Prediction2  \\\n",
              "0                                                                   7 calendar days   \n",
              "1                                                             csc@changiairport.com   \n",
              "2                                             in addition to submitting the SCR/GCR   \n",
              "3                                                                    FLIGHT DETAILS   \n",
              "4                                              https://appserver1.caas.gov.sg/ATLAS   \n",
              "5   at least 3 working days prior to the aircraft’s arrival or departure into/fr...   \n",
              "6               0001 to 0200 UTC (0801-1000 LT) and 0900 to 1559 UTC (1700-2359 LT)   \n",
              "7                                                             ground handling agent   \n",
              "8   No operation will be permitted without the approval of the Seletar Schedules...   \n",
              "9                                                             csc@changiairport.com   \n",
              "10           via the Commercially-Important- Persons facility located at Terminal 2   \n",
              "11                                                                            S$810   \n",
              "12  no GST import relief and duty-free concession on intoxicating liquor and tob...   \n",
              "13                                                                               no   \n",
              "14                        There is no customs duty on goods exported from Singapore   \n",
              "15                                             Nationals of the following countries   \n",
              "16  travellers above one year of age who have been in or have passed through any...   \n",
              "17                                                                             life   \n",
              "18                     Arms and Explosives Branch, Commissioner of Singapore Police   \n",
              "19                                                          Customs outward permits   \n",
              "\n",
              "      Score2  \\\n",
              "0   0.666667   \n",
              "1   0.000000   \n",
              "2   0.454545   \n",
              "3   0.042553   \n",
              "4   0.250000   \n",
              "5   1.000000   \n",
              "6   0.928571   \n",
              "7   0.666667   \n",
              "8   0.038462   \n",
              "9   0.400000   \n",
              "10  1.000000   \n",
              "11  0.000000   \n",
              "12  0.175439   \n",
              "13  1.000000   \n",
              "14  1.000000   \n",
              "15  0.181818   \n",
              "16  1.000000   \n",
              "17  1.000000   \n",
              "18  0.137931   \n",
              "19  1.000000   \n",
              "\n",
              "                                                                  OverallPrediction  \\\n",
              "0                                                                   7 calendar days   \n",
              "1                                                       the Changi Slot Coordinator   \n",
              "2   addition to submitting the SCR/GCR, operators/agents must also inform the Ai...   \n",
              "3                                                                    FLIGHT DETAILS   \n",
              "4                                              https://appserver1.caas.gov.sg/ATLAS   \n",
              "5                             at least 3 whole working days before the first flight   \n",
              "6               0001 to 0200 UTC (0801-1000 LT) and 0900 to 1559 UTC (1700-2359 LT)   \n",
              "7                                                             ground handling agent   \n",
              "8   a fine not exceeding S$2,500 or to imprisonment for a term not exceeding 3 m...   \n",
              "9                                                                  via email to csc   \n",
              "10           via the Commercially-Important- Persons facility located at Terminal 2   \n",
              "11                                                                            S$810   \n",
              "12  Is 18 years of age and above, Have spent 48 hours or more outside Singapore ...   \n",
              "13                                                                               no   \n",
              "14                        There is no customs duty on goods exported from Singapore   \n",
              "15  Afghanistan Algeria Bangladesh Commonwealth of Independent States i.e. Armen...   \n",
              "16  travellers above one year of age who have been in or have passed through any...   \n",
              "17                                                                             life   \n",
              "18                     Arms and Explosives Branch, Commissioner of Singapore Police   \n",
              "19                                                          Customs outward permits   \n",
              "\n",
              "    OverallScore  \n",
              "0       0.666667  \n",
              "1       1.000000  \n",
              "2       0.744186  \n",
              "3       0.042553  \n",
              "4       0.250000  \n",
              "5       0.454545  \n",
              "6       0.928571  \n",
              "7       0.666667  \n",
              "8       0.953488  \n",
              "9       0.750000  \n",
              "10      1.000000  \n",
              "11      0.000000  \n",
              "12      1.000000  \n",
              "13      1.000000  \n",
              "14      1.000000  \n",
              "15      0.736842  \n",
              "16      1.000000  \n",
              "17      1.000000  \n",
              "18      0.137931  \n",
              "19      1.000000  "
            ]
          },
          "metadata": {
            "tags": []
          },
          "execution_count": 70
        }
      ]
    },
    {
      "cell_type": "code",
      "metadata": {
        "id": "ADOL6eogEqKw",
        "colab_type": "code",
        "colab": {}
      },
      "source": [
        "df = df.sort_values(by=['OverallScore'])\n",
        "df.to_csv('results.csv',index=False)"
      ],
      "execution_count": null,
      "outputs": []
    }
  ]
}